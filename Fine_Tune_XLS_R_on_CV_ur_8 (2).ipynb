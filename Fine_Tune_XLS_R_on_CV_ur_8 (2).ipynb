{
  "nbformat": 4,
  "nbformat_minor": 0,
  "metadata": {
    "accelerator": "GPU",
    "colab": {
      "provenance": [],
      "collapsed_sections": [],
      "toc_visible": true,
      "machine_shape": "hm"
    },
    "kernelspec": {
      "display_name": "Python 3",
      "name": "python3"
    },
    "widgets": {
      "application/vnd.jupyter.widget-state+json": {
        "97d42f2ebf7d43cb8eb6602ecc664387": {
          "model_module": "@jupyter-widgets/controls",
          "model_name": "VBoxModel",
          "model_module_version": "1.5.0",
          "state": {
            "_dom_classes": [],
            "_model_module": "@jupyter-widgets/controls",
            "_model_module_version": "1.5.0",
            "_model_name": "VBoxModel",
            "_view_count": null,
            "_view_module": "@jupyter-widgets/controls",
            "_view_module_version": "1.5.0",
            "_view_name": "VBoxView",
            "box_style": "",
            "children": [
              "IPY_MODEL_a59a6306983544139759e373753cefe6",
              "IPY_MODEL_cb1c0ef331864c8ca9c306a87f6ac531",
              "IPY_MODEL_2b56e17e473b42c086ee25af7b295d49",
              "IPY_MODEL_40fd4ff5769c4768acdfd05e568bb20a"
            ],
            "layout": "IPY_MODEL_0a71d36475554742bcfa9e1731758cf8"
          }
        },
        "a59a6306983544139759e373753cefe6": {
          "model_module": "@jupyter-widgets/controls",
          "model_name": "HTMLModel",
          "model_module_version": "1.5.0",
          "state": {
            "_dom_classes": [],
            "_model_module": "@jupyter-widgets/controls",
            "_model_module_version": "1.5.0",
            "_model_name": "HTMLModel",
            "_view_count": null,
            "_view_module": "@jupyter-widgets/controls",
            "_view_module_version": "1.5.0",
            "_view_name": "HTMLView",
            "description": "",
            "description_tooltip": null,
            "layout": "IPY_MODEL_0f48eba9e7c641c1a3ac60c74a0e651a",
            "placeholder": "​",
            "style": "IPY_MODEL_cf3e858e09e04277b558c2291efa28f0",
            "value": "<center> <img\nsrc=https://huggingface.co/front/assets/huggingface_logo-noborder.svg\nalt='Hugging Face'> <br> Copy a token from <a\nhref=\"https://huggingface.co/settings/tokens\" target=\"_blank\">your Hugging Face\ntokens page</a> and paste it below. <br> Immediately click login after copying\nyour token or it might be stored in plain text in this notebook file. </center>"
          }
        },
        "cb1c0ef331864c8ca9c306a87f6ac531": {
          "model_module": "@jupyter-widgets/controls",
          "model_name": "PasswordModel",
          "model_module_version": "1.5.0",
          "state": {
            "_dom_classes": [],
            "_model_module": "@jupyter-widgets/controls",
            "_model_module_version": "1.5.0",
            "_model_name": "PasswordModel",
            "_view_count": null,
            "_view_module": "@jupyter-widgets/controls",
            "_view_module_version": "1.5.0",
            "_view_name": "PasswordView",
            "continuous_update": true,
            "description": "Token:",
            "description_tooltip": null,
            "disabled": false,
            "layout": "IPY_MODEL_87cd7501fc804d0986018472732b118c",
            "placeholder": "​",
            "style": "IPY_MODEL_e548ff4693154d329f9d74eece6951ce",
            "value": ""
          }
        },
        "2b56e17e473b42c086ee25af7b295d49": {
          "model_module": "@jupyter-widgets/controls",
          "model_name": "ButtonModel",
          "model_module_version": "1.5.0",
          "state": {
            "_dom_classes": [],
            "_model_module": "@jupyter-widgets/controls",
            "_model_module_version": "1.5.0",
            "_model_name": "ButtonModel",
            "_view_count": null,
            "_view_module": "@jupyter-widgets/controls",
            "_view_module_version": "1.5.0",
            "_view_name": "ButtonView",
            "button_style": "",
            "description": "Login",
            "disabled": false,
            "icon": "",
            "layout": "IPY_MODEL_9da14d292c6b494e82e9387b12bc1436",
            "style": "IPY_MODEL_d48dc6c0da9e4ab3a007a957991236af",
            "tooltip": ""
          }
        },
        "40fd4ff5769c4768acdfd05e568bb20a": {
          "model_module": "@jupyter-widgets/controls",
          "model_name": "HTMLModel",
          "model_module_version": "1.5.0",
          "state": {
            "_dom_classes": [],
            "_model_module": "@jupyter-widgets/controls",
            "_model_module_version": "1.5.0",
            "_model_name": "HTMLModel",
            "_view_count": null,
            "_view_module": "@jupyter-widgets/controls",
            "_view_module_version": "1.5.0",
            "_view_name": "HTMLView",
            "description": "",
            "description_tooltip": null,
            "layout": "IPY_MODEL_868e74e46bc04080a54ff8b6699b9445",
            "placeholder": "​",
            "style": "IPY_MODEL_79df363aa48243dbb671f6aa8dfc0171",
            "value": "\n<b>Pro Tip:</b> If you don't already have one, you can create a dedicated\n'notebooks' token with 'write' access, that you can then easily reuse for all\nnotebooks. </center>"
          }
        },
        "0a71d36475554742bcfa9e1731758cf8": {
          "model_module": "@jupyter-widgets/base",
          "model_name": "LayoutModel",
          "model_module_version": "1.2.0",
          "state": {
            "_model_module": "@jupyter-widgets/base",
            "_model_module_version": "1.2.0",
            "_model_name": "LayoutModel",
            "_view_count": null,
            "_view_module": "@jupyter-widgets/base",
            "_view_module_version": "1.2.0",
            "_view_name": "LayoutView",
            "align_content": null,
            "align_items": "center",
            "align_self": null,
            "border": null,
            "bottom": null,
            "display": "flex",
            "flex": null,
            "flex_flow": "column",
            "grid_area": null,
            "grid_auto_columns": null,
            "grid_auto_flow": null,
            "grid_auto_rows": null,
            "grid_column": null,
            "grid_gap": null,
            "grid_row": null,
            "grid_template_areas": null,
            "grid_template_columns": null,
            "grid_template_rows": null,
            "height": null,
            "justify_content": null,
            "justify_items": null,
            "left": null,
            "margin": null,
            "max_height": null,
            "max_width": null,
            "min_height": null,
            "min_width": null,
            "object_fit": null,
            "object_position": null,
            "order": null,
            "overflow": null,
            "overflow_x": null,
            "overflow_y": null,
            "padding": null,
            "right": null,
            "top": null,
            "visibility": null,
            "width": "50%"
          }
        },
        "0f48eba9e7c641c1a3ac60c74a0e651a": {
          "model_module": "@jupyter-widgets/base",
          "model_name": "LayoutModel",
          "model_module_version": "1.2.0",
          "state": {
            "_model_module": "@jupyter-widgets/base",
            "_model_module_version": "1.2.0",
            "_model_name": "LayoutModel",
            "_view_count": null,
            "_view_module": "@jupyter-widgets/base",
            "_view_module_version": "1.2.0",
            "_view_name": "LayoutView",
            "align_content": null,
            "align_items": null,
            "align_self": null,
            "border": null,
            "bottom": null,
            "display": null,
            "flex": null,
            "flex_flow": null,
            "grid_area": null,
            "grid_auto_columns": null,
            "grid_auto_flow": null,
            "grid_auto_rows": null,
            "grid_column": null,
            "grid_gap": null,
            "grid_row": null,
            "grid_template_areas": null,
            "grid_template_columns": null,
            "grid_template_rows": null,
            "height": null,
            "justify_content": null,
            "justify_items": null,
            "left": null,
            "margin": null,
            "max_height": null,
            "max_width": null,
            "min_height": null,
            "min_width": null,
            "object_fit": null,
            "object_position": null,
            "order": null,
            "overflow": null,
            "overflow_x": null,
            "overflow_y": null,
            "padding": null,
            "right": null,
            "top": null,
            "visibility": null,
            "width": null
          }
        },
        "cf3e858e09e04277b558c2291efa28f0": {
          "model_module": "@jupyter-widgets/controls",
          "model_name": "DescriptionStyleModel",
          "model_module_version": "1.5.0",
          "state": {
            "_model_module": "@jupyter-widgets/controls",
            "_model_module_version": "1.5.0",
            "_model_name": "DescriptionStyleModel",
            "_view_count": null,
            "_view_module": "@jupyter-widgets/base",
            "_view_module_version": "1.2.0",
            "_view_name": "StyleView",
            "description_width": ""
          }
        },
        "87cd7501fc804d0986018472732b118c": {
          "model_module": "@jupyter-widgets/base",
          "model_name": "LayoutModel",
          "model_module_version": "1.2.0",
          "state": {
            "_model_module": "@jupyter-widgets/base",
            "_model_module_version": "1.2.0",
            "_model_name": "LayoutModel",
            "_view_count": null,
            "_view_module": "@jupyter-widgets/base",
            "_view_module_version": "1.2.0",
            "_view_name": "LayoutView",
            "align_content": null,
            "align_items": null,
            "align_self": null,
            "border": null,
            "bottom": null,
            "display": null,
            "flex": null,
            "flex_flow": null,
            "grid_area": null,
            "grid_auto_columns": null,
            "grid_auto_flow": null,
            "grid_auto_rows": null,
            "grid_column": null,
            "grid_gap": null,
            "grid_row": null,
            "grid_template_areas": null,
            "grid_template_columns": null,
            "grid_template_rows": null,
            "height": null,
            "justify_content": null,
            "justify_items": null,
            "left": null,
            "margin": null,
            "max_height": null,
            "max_width": null,
            "min_height": null,
            "min_width": null,
            "object_fit": null,
            "object_position": null,
            "order": null,
            "overflow": null,
            "overflow_x": null,
            "overflow_y": null,
            "padding": null,
            "right": null,
            "top": null,
            "visibility": null,
            "width": null
          }
        },
        "e548ff4693154d329f9d74eece6951ce": {
          "model_module": "@jupyter-widgets/controls",
          "model_name": "DescriptionStyleModel",
          "model_module_version": "1.5.0",
          "state": {
            "_model_module": "@jupyter-widgets/controls",
            "_model_module_version": "1.5.0",
            "_model_name": "DescriptionStyleModel",
            "_view_count": null,
            "_view_module": "@jupyter-widgets/base",
            "_view_module_version": "1.2.0",
            "_view_name": "StyleView",
            "description_width": ""
          }
        },
        "9da14d292c6b494e82e9387b12bc1436": {
          "model_module": "@jupyter-widgets/base",
          "model_name": "LayoutModel",
          "model_module_version": "1.2.0",
          "state": {
            "_model_module": "@jupyter-widgets/base",
            "_model_module_version": "1.2.0",
            "_model_name": "LayoutModel",
            "_view_count": null,
            "_view_module": "@jupyter-widgets/base",
            "_view_module_version": "1.2.0",
            "_view_name": "LayoutView",
            "align_content": null,
            "align_items": null,
            "align_self": null,
            "border": null,
            "bottom": null,
            "display": null,
            "flex": null,
            "flex_flow": null,
            "grid_area": null,
            "grid_auto_columns": null,
            "grid_auto_flow": null,
            "grid_auto_rows": null,
            "grid_column": null,
            "grid_gap": null,
            "grid_row": null,
            "grid_template_areas": null,
            "grid_template_columns": null,
            "grid_template_rows": null,
            "height": null,
            "justify_content": null,
            "justify_items": null,
            "left": null,
            "margin": null,
            "max_height": null,
            "max_width": null,
            "min_height": null,
            "min_width": null,
            "object_fit": null,
            "object_position": null,
            "order": null,
            "overflow": null,
            "overflow_x": null,
            "overflow_y": null,
            "padding": null,
            "right": null,
            "top": null,
            "visibility": null,
            "width": null
          }
        },
        "d48dc6c0da9e4ab3a007a957991236af": {
          "model_module": "@jupyter-widgets/controls",
          "model_name": "ButtonStyleModel",
          "model_module_version": "1.5.0",
          "state": {
            "_model_module": "@jupyter-widgets/controls",
            "_model_module_version": "1.5.0",
            "_model_name": "ButtonStyleModel",
            "_view_count": null,
            "_view_module": "@jupyter-widgets/base",
            "_view_module_version": "1.2.0",
            "_view_name": "StyleView",
            "button_color": null,
            "font_weight": ""
          }
        },
        "868e74e46bc04080a54ff8b6699b9445": {
          "model_module": "@jupyter-widgets/base",
          "model_name": "LayoutModel",
          "model_module_version": "1.2.0",
          "state": {
            "_model_module": "@jupyter-widgets/base",
            "_model_module_version": "1.2.0",
            "_model_name": "LayoutModel",
            "_view_count": null,
            "_view_module": "@jupyter-widgets/base",
            "_view_module_version": "1.2.0",
            "_view_name": "LayoutView",
            "align_content": null,
            "align_items": null,
            "align_self": null,
            "border": null,
            "bottom": null,
            "display": null,
            "flex": null,
            "flex_flow": null,
            "grid_area": null,
            "grid_auto_columns": null,
            "grid_auto_flow": null,
            "grid_auto_rows": null,
            "grid_column": null,
            "grid_gap": null,
            "grid_row": null,
            "grid_template_areas": null,
            "grid_template_columns": null,
            "grid_template_rows": null,
            "height": null,
            "justify_content": null,
            "justify_items": null,
            "left": null,
            "margin": null,
            "max_height": null,
            "max_width": null,
            "min_height": null,
            "min_width": null,
            "object_fit": null,
            "object_position": null,
            "order": null,
            "overflow": null,
            "overflow_x": null,
            "overflow_y": null,
            "padding": null,
            "right": null,
            "top": null,
            "visibility": null,
            "width": null
          }
        },
        "79df363aa48243dbb671f6aa8dfc0171": {
          "model_module": "@jupyter-widgets/controls",
          "model_name": "DescriptionStyleModel",
          "model_module_version": "1.5.0",
          "state": {
            "_model_module": "@jupyter-widgets/controls",
            "_model_module_version": "1.5.0",
            "_model_name": "DescriptionStyleModel",
            "_view_count": null,
            "_view_module": "@jupyter-widgets/base",
            "_view_module_version": "1.2.0",
            "_view_name": "StyleView",
            "description_width": ""
          }
        },
        "40f3c756080045b6842d09a66cf352e1": {
          "model_module": "@jupyter-widgets/controls",
          "model_name": "HBoxModel",
          "model_module_version": "1.5.0",
          "state": {
            "_dom_classes": [],
            "_model_module": "@jupyter-widgets/controls",
            "_model_module_version": "1.5.0",
            "_model_name": "HBoxModel",
            "_view_count": null,
            "_view_module": "@jupyter-widgets/controls",
            "_view_module_version": "1.5.0",
            "_view_name": "HBoxView",
            "box_style": "",
            "children": [
              "IPY_MODEL_d30c546c5d6f452491ac54c8b4fdd5c6",
              "IPY_MODEL_994b41cce8444819bf8c76e866f1e3cb",
              "IPY_MODEL_d659e9758ce14da9b316dcb3dcd15de5"
            ],
            "layout": "IPY_MODEL_9b6968bd5dda43ff92f8821bbc3e745f"
          }
        },
        "d30c546c5d6f452491ac54c8b4fdd5c6": {
          "model_module": "@jupyter-widgets/controls",
          "model_name": "HTMLModel",
          "model_module_version": "1.5.0",
          "state": {
            "_dom_classes": [],
            "_model_module": "@jupyter-widgets/controls",
            "_model_module_version": "1.5.0",
            "_model_name": "HTMLModel",
            "_view_count": null,
            "_view_module": "@jupyter-widgets/controls",
            "_view_module_version": "1.5.0",
            "_view_name": "HTMLView",
            "description": "",
            "description_tooltip": null,
            "layout": "IPY_MODEL_2da4baf9a6f641eb9cff943517646a7f",
            "placeholder": "​",
            "style": "IPY_MODEL_ea1967ee33e34028b13574d8a32f8eb1",
            "value": "100%"
          }
        },
        "994b41cce8444819bf8c76e866f1e3cb": {
          "model_module": "@jupyter-widgets/controls",
          "model_name": "FloatProgressModel",
          "model_module_version": "1.5.0",
          "state": {
            "_dom_classes": [],
            "_model_module": "@jupyter-widgets/controls",
            "_model_module_version": "1.5.0",
            "_model_name": "FloatProgressModel",
            "_view_count": null,
            "_view_module": "@jupyter-widgets/controls",
            "_view_module_version": "1.5.0",
            "_view_name": "ProgressView",
            "bar_style": "success",
            "description": "",
            "description_tooltip": null,
            "layout": "IPY_MODEL_db50118458894409baa330323c9425cf",
            "max": 2460,
            "min": 0,
            "orientation": "horizontal",
            "style": "IPY_MODEL_1a05f6f53df248beac01a81e1054d5f8",
            "value": 2460
          }
        },
        "d659e9758ce14da9b316dcb3dcd15de5": {
          "model_module": "@jupyter-widgets/controls",
          "model_name": "HTMLModel",
          "model_module_version": "1.5.0",
          "state": {
            "_dom_classes": [],
            "_model_module": "@jupyter-widgets/controls",
            "_model_module_version": "1.5.0",
            "_model_name": "HTMLModel",
            "_view_count": null,
            "_view_module": "@jupyter-widgets/controls",
            "_view_module_version": "1.5.0",
            "_view_name": "HTMLView",
            "description": "",
            "description_tooltip": null,
            "layout": "IPY_MODEL_3e2534c860584abeb57d983719f722d3",
            "placeholder": "​",
            "style": "IPY_MODEL_d1f1b470a5504deebe99bc8ab128425b",
            "value": " 2460/2460 [00:00&lt;00:00, 8349.86ex/s]"
          }
        },
        "9b6968bd5dda43ff92f8821bbc3e745f": {
          "model_module": "@jupyter-widgets/base",
          "model_name": "LayoutModel",
          "model_module_version": "1.2.0",
          "state": {
            "_model_module": "@jupyter-widgets/base",
            "_model_module_version": "1.2.0",
            "_model_name": "LayoutModel",
            "_view_count": null,
            "_view_module": "@jupyter-widgets/base",
            "_view_module_version": "1.2.0",
            "_view_name": "LayoutView",
            "align_content": null,
            "align_items": null,
            "align_self": null,
            "border": null,
            "bottom": null,
            "display": null,
            "flex": null,
            "flex_flow": null,
            "grid_area": null,
            "grid_auto_columns": null,
            "grid_auto_flow": null,
            "grid_auto_rows": null,
            "grid_column": null,
            "grid_gap": null,
            "grid_row": null,
            "grid_template_areas": null,
            "grid_template_columns": null,
            "grid_template_rows": null,
            "height": null,
            "justify_content": null,
            "justify_items": null,
            "left": null,
            "margin": null,
            "max_height": null,
            "max_width": null,
            "min_height": null,
            "min_width": null,
            "object_fit": null,
            "object_position": null,
            "order": null,
            "overflow": null,
            "overflow_x": null,
            "overflow_y": null,
            "padding": null,
            "right": null,
            "top": null,
            "visibility": null,
            "width": null
          }
        },
        "2da4baf9a6f641eb9cff943517646a7f": {
          "model_module": "@jupyter-widgets/base",
          "model_name": "LayoutModel",
          "model_module_version": "1.2.0",
          "state": {
            "_model_module": "@jupyter-widgets/base",
            "_model_module_version": "1.2.0",
            "_model_name": "LayoutModel",
            "_view_count": null,
            "_view_module": "@jupyter-widgets/base",
            "_view_module_version": "1.2.0",
            "_view_name": "LayoutView",
            "align_content": null,
            "align_items": null,
            "align_self": null,
            "border": null,
            "bottom": null,
            "display": null,
            "flex": null,
            "flex_flow": null,
            "grid_area": null,
            "grid_auto_columns": null,
            "grid_auto_flow": null,
            "grid_auto_rows": null,
            "grid_column": null,
            "grid_gap": null,
            "grid_row": null,
            "grid_template_areas": null,
            "grid_template_columns": null,
            "grid_template_rows": null,
            "height": null,
            "justify_content": null,
            "justify_items": null,
            "left": null,
            "margin": null,
            "max_height": null,
            "max_width": null,
            "min_height": null,
            "min_width": null,
            "object_fit": null,
            "object_position": null,
            "order": null,
            "overflow": null,
            "overflow_x": null,
            "overflow_y": null,
            "padding": null,
            "right": null,
            "top": null,
            "visibility": null,
            "width": null
          }
        },
        "ea1967ee33e34028b13574d8a32f8eb1": {
          "model_module": "@jupyter-widgets/controls",
          "model_name": "DescriptionStyleModel",
          "model_module_version": "1.5.0",
          "state": {
            "_model_module": "@jupyter-widgets/controls",
            "_model_module_version": "1.5.0",
            "_model_name": "DescriptionStyleModel",
            "_view_count": null,
            "_view_module": "@jupyter-widgets/base",
            "_view_module_version": "1.2.0",
            "_view_name": "StyleView",
            "description_width": ""
          }
        },
        "db50118458894409baa330323c9425cf": {
          "model_module": "@jupyter-widgets/base",
          "model_name": "LayoutModel",
          "model_module_version": "1.2.0",
          "state": {
            "_model_module": "@jupyter-widgets/base",
            "_model_module_version": "1.2.0",
            "_model_name": "LayoutModel",
            "_view_count": null,
            "_view_module": "@jupyter-widgets/base",
            "_view_module_version": "1.2.0",
            "_view_name": "LayoutView",
            "align_content": null,
            "align_items": null,
            "align_self": null,
            "border": null,
            "bottom": null,
            "display": null,
            "flex": null,
            "flex_flow": null,
            "grid_area": null,
            "grid_auto_columns": null,
            "grid_auto_flow": null,
            "grid_auto_rows": null,
            "grid_column": null,
            "grid_gap": null,
            "grid_row": null,
            "grid_template_areas": null,
            "grid_template_columns": null,
            "grid_template_rows": null,
            "height": null,
            "justify_content": null,
            "justify_items": null,
            "left": null,
            "margin": null,
            "max_height": null,
            "max_width": null,
            "min_height": null,
            "min_width": null,
            "object_fit": null,
            "object_position": null,
            "order": null,
            "overflow": null,
            "overflow_x": null,
            "overflow_y": null,
            "padding": null,
            "right": null,
            "top": null,
            "visibility": null,
            "width": null
          }
        },
        "1a05f6f53df248beac01a81e1054d5f8": {
          "model_module": "@jupyter-widgets/controls",
          "model_name": "ProgressStyleModel",
          "model_module_version": "1.5.0",
          "state": {
            "_model_module": "@jupyter-widgets/controls",
            "_model_module_version": "1.5.0",
            "_model_name": "ProgressStyleModel",
            "_view_count": null,
            "_view_module": "@jupyter-widgets/base",
            "_view_module_version": "1.2.0",
            "_view_name": "StyleView",
            "bar_color": null,
            "description_width": ""
          }
        },
        "3e2534c860584abeb57d983719f722d3": {
          "model_module": "@jupyter-widgets/base",
          "model_name": "LayoutModel",
          "model_module_version": "1.2.0",
          "state": {
            "_model_module": "@jupyter-widgets/base",
            "_model_module_version": "1.2.0",
            "_model_name": "LayoutModel",
            "_view_count": null,
            "_view_module": "@jupyter-widgets/base",
            "_view_module_version": "1.2.0",
            "_view_name": "LayoutView",
            "align_content": null,
            "align_items": null,
            "align_self": null,
            "border": null,
            "bottom": null,
            "display": null,
            "flex": null,
            "flex_flow": null,
            "grid_area": null,
            "grid_auto_columns": null,
            "grid_auto_flow": null,
            "grid_auto_rows": null,
            "grid_column": null,
            "grid_gap": null,
            "grid_row": null,
            "grid_template_areas": null,
            "grid_template_columns": null,
            "grid_template_rows": null,
            "height": null,
            "justify_content": null,
            "justify_items": null,
            "left": null,
            "margin": null,
            "max_height": null,
            "max_width": null,
            "min_height": null,
            "min_width": null,
            "object_fit": null,
            "object_position": null,
            "order": null,
            "overflow": null,
            "overflow_x": null,
            "overflow_y": null,
            "padding": null,
            "right": null,
            "top": null,
            "visibility": null,
            "width": null
          }
        },
        "d1f1b470a5504deebe99bc8ab128425b": {
          "model_module": "@jupyter-widgets/controls",
          "model_name": "DescriptionStyleModel",
          "model_module_version": "1.5.0",
          "state": {
            "_model_module": "@jupyter-widgets/controls",
            "_model_module_version": "1.5.0",
            "_model_name": "DescriptionStyleModel",
            "_view_count": null,
            "_view_module": "@jupyter-widgets/base",
            "_view_module_version": "1.2.0",
            "_view_name": "StyleView",
            "description_width": ""
          }
        },
        "1a8acc5d0bca4f3c995abc62f7199581": {
          "model_module": "@jupyter-widgets/controls",
          "model_name": "HBoxModel",
          "model_module_version": "1.5.0",
          "state": {
            "_dom_classes": [],
            "_model_module": "@jupyter-widgets/controls",
            "_model_module_version": "1.5.0",
            "_model_name": "HBoxModel",
            "_view_count": null,
            "_view_module": "@jupyter-widgets/controls",
            "_view_module_version": "1.5.0",
            "_view_name": "HBoxView",
            "box_style": "",
            "children": [
              "IPY_MODEL_63ff9c145b454c83b9b1e55cd6aa256c",
              "IPY_MODEL_3730c0fd87844a10b2d4ad1c3891be3f",
              "IPY_MODEL_2d252e81370740d9b3ad0e8474dfb607"
            ],
            "layout": "IPY_MODEL_17e3fec9ad82404b80b8a750799dd77d"
          }
        },
        "63ff9c145b454c83b9b1e55cd6aa256c": {
          "model_module": "@jupyter-widgets/controls",
          "model_name": "HTMLModel",
          "model_module_version": "1.5.0",
          "state": {
            "_dom_classes": [],
            "_model_module": "@jupyter-widgets/controls",
            "_model_module_version": "1.5.0",
            "_model_name": "HTMLModel",
            "_view_count": null,
            "_view_module": "@jupyter-widgets/controls",
            "_view_module_version": "1.5.0",
            "_view_name": "HTMLView",
            "description": "",
            "description_tooltip": null,
            "layout": "IPY_MODEL_669236dfa61e48f9bd76fd99d445533d",
            "placeholder": "​",
            "style": "IPY_MODEL_287132776b1f483cbe0e578775da8298",
            "value": "100%"
          }
        },
        "3730c0fd87844a10b2d4ad1c3891be3f": {
          "model_module": "@jupyter-widgets/controls",
          "model_name": "FloatProgressModel",
          "model_module_version": "1.5.0",
          "state": {
            "_dom_classes": [],
            "_model_module": "@jupyter-widgets/controls",
            "_model_module_version": "1.5.0",
            "_model_name": "FloatProgressModel",
            "_view_count": null,
            "_view_module": "@jupyter-widgets/controls",
            "_view_module_version": "1.5.0",
            "_view_name": "ProgressView",
            "bar_style": "success",
            "description": "",
            "description_tooltip": null,
            "layout": "IPY_MODEL_a15185837578435aa38ddb29ec3611bf",
            "max": 2460,
            "min": 0,
            "orientation": "horizontal",
            "style": "IPY_MODEL_9b1c0fbf830e4a4fa6ed204c526e0ffc",
            "value": 2460
          }
        },
        "2d252e81370740d9b3ad0e8474dfb607": {
          "model_module": "@jupyter-widgets/controls",
          "model_name": "HTMLModel",
          "model_module_version": "1.5.0",
          "state": {
            "_dom_classes": [],
            "_model_module": "@jupyter-widgets/controls",
            "_model_module_version": "1.5.0",
            "_model_name": "HTMLModel",
            "_view_count": null,
            "_view_module": "@jupyter-widgets/controls",
            "_view_module_version": "1.5.0",
            "_view_name": "HTMLView",
            "description": "",
            "description_tooltip": null,
            "layout": "IPY_MODEL_f8e3daafd03a4cbfa2dc544e000f540a",
            "placeholder": "​",
            "style": "IPY_MODEL_844a55abcff741a9b7e57769244e80fb",
            "value": " 2460/2460 [00:00&lt;00:00, 7906.18ex/s]"
          }
        },
        "17e3fec9ad82404b80b8a750799dd77d": {
          "model_module": "@jupyter-widgets/base",
          "model_name": "LayoutModel",
          "model_module_version": "1.2.0",
          "state": {
            "_model_module": "@jupyter-widgets/base",
            "_model_module_version": "1.2.0",
            "_model_name": "LayoutModel",
            "_view_count": null,
            "_view_module": "@jupyter-widgets/base",
            "_view_module_version": "1.2.0",
            "_view_name": "LayoutView",
            "align_content": null,
            "align_items": null,
            "align_self": null,
            "border": null,
            "bottom": null,
            "display": null,
            "flex": null,
            "flex_flow": null,
            "grid_area": null,
            "grid_auto_columns": null,
            "grid_auto_flow": null,
            "grid_auto_rows": null,
            "grid_column": null,
            "grid_gap": null,
            "grid_row": null,
            "grid_template_areas": null,
            "grid_template_columns": null,
            "grid_template_rows": null,
            "height": null,
            "justify_content": null,
            "justify_items": null,
            "left": null,
            "margin": null,
            "max_height": null,
            "max_width": null,
            "min_height": null,
            "min_width": null,
            "object_fit": null,
            "object_position": null,
            "order": null,
            "overflow": null,
            "overflow_x": null,
            "overflow_y": null,
            "padding": null,
            "right": null,
            "top": null,
            "visibility": null,
            "width": null
          }
        },
        "669236dfa61e48f9bd76fd99d445533d": {
          "model_module": "@jupyter-widgets/base",
          "model_name": "LayoutModel",
          "model_module_version": "1.2.0",
          "state": {
            "_model_module": "@jupyter-widgets/base",
            "_model_module_version": "1.2.0",
            "_model_name": "LayoutModel",
            "_view_count": null,
            "_view_module": "@jupyter-widgets/base",
            "_view_module_version": "1.2.0",
            "_view_name": "LayoutView",
            "align_content": null,
            "align_items": null,
            "align_self": null,
            "border": null,
            "bottom": null,
            "display": null,
            "flex": null,
            "flex_flow": null,
            "grid_area": null,
            "grid_auto_columns": null,
            "grid_auto_flow": null,
            "grid_auto_rows": null,
            "grid_column": null,
            "grid_gap": null,
            "grid_row": null,
            "grid_template_areas": null,
            "grid_template_columns": null,
            "grid_template_rows": null,
            "height": null,
            "justify_content": null,
            "justify_items": null,
            "left": null,
            "margin": null,
            "max_height": null,
            "max_width": null,
            "min_height": null,
            "min_width": null,
            "object_fit": null,
            "object_position": null,
            "order": null,
            "overflow": null,
            "overflow_x": null,
            "overflow_y": null,
            "padding": null,
            "right": null,
            "top": null,
            "visibility": null,
            "width": null
          }
        },
        "287132776b1f483cbe0e578775da8298": {
          "model_module": "@jupyter-widgets/controls",
          "model_name": "DescriptionStyleModel",
          "model_module_version": "1.5.0",
          "state": {
            "_model_module": "@jupyter-widgets/controls",
            "_model_module_version": "1.5.0",
            "_model_name": "DescriptionStyleModel",
            "_view_count": null,
            "_view_module": "@jupyter-widgets/base",
            "_view_module_version": "1.2.0",
            "_view_name": "StyleView",
            "description_width": ""
          }
        },
        "a15185837578435aa38ddb29ec3611bf": {
          "model_module": "@jupyter-widgets/base",
          "model_name": "LayoutModel",
          "model_module_version": "1.2.0",
          "state": {
            "_model_module": "@jupyter-widgets/base",
            "_model_module_version": "1.2.0",
            "_model_name": "LayoutModel",
            "_view_count": null,
            "_view_module": "@jupyter-widgets/base",
            "_view_module_version": "1.2.0",
            "_view_name": "LayoutView",
            "align_content": null,
            "align_items": null,
            "align_self": null,
            "border": null,
            "bottom": null,
            "display": null,
            "flex": null,
            "flex_flow": null,
            "grid_area": null,
            "grid_auto_columns": null,
            "grid_auto_flow": null,
            "grid_auto_rows": null,
            "grid_column": null,
            "grid_gap": null,
            "grid_row": null,
            "grid_template_areas": null,
            "grid_template_columns": null,
            "grid_template_rows": null,
            "height": null,
            "justify_content": null,
            "justify_items": null,
            "left": null,
            "margin": null,
            "max_height": null,
            "max_width": null,
            "min_height": null,
            "min_width": null,
            "object_fit": null,
            "object_position": null,
            "order": null,
            "overflow": null,
            "overflow_x": null,
            "overflow_y": null,
            "padding": null,
            "right": null,
            "top": null,
            "visibility": null,
            "width": null
          }
        },
        "9b1c0fbf830e4a4fa6ed204c526e0ffc": {
          "model_module": "@jupyter-widgets/controls",
          "model_name": "ProgressStyleModel",
          "model_module_version": "1.5.0",
          "state": {
            "_model_module": "@jupyter-widgets/controls",
            "_model_module_version": "1.5.0",
            "_model_name": "ProgressStyleModel",
            "_view_count": null,
            "_view_module": "@jupyter-widgets/base",
            "_view_module_version": "1.2.0",
            "_view_name": "StyleView",
            "bar_color": null,
            "description_width": ""
          }
        },
        "f8e3daafd03a4cbfa2dc544e000f540a": {
          "model_module": "@jupyter-widgets/base",
          "model_name": "LayoutModel",
          "model_module_version": "1.2.0",
          "state": {
            "_model_module": "@jupyter-widgets/base",
            "_model_module_version": "1.2.0",
            "_model_name": "LayoutModel",
            "_view_count": null,
            "_view_module": "@jupyter-widgets/base",
            "_view_module_version": "1.2.0",
            "_view_name": "LayoutView",
            "align_content": null,
            "align_items": null,
            "align_self": null,
            "border": null,
            "bottom": null,
            "display": null,
            "flex": null,
            "flex_flow": null,
            "grid_area": null,
            "grid_auto_columns": null,
            "grid_auto_flow": null,
            "grid_auto_rows": null,
            "grid_column": null,
            "grid_gap": null,
            "grid_row": null,
            "grid_template_areas": null,
            "grid_template_columns": null,
            "grid_template_rows": null,
            "height": null,
            "justify_content": null,
            "justify_items": null,
            "left": null,
            "margin": null,
            "max_height": null,
            "max_width": null,
            "min_height": null,
            "min_width": null,
            "object_fit": null,
            "object_position": null,
            "order": null,
            "overflow": null,
            "overflow_x": null,
            "overflow_y": null,
            "padding": null,
            "right": null,
            "top": null,
            "visibility": null,
            "width": null
          }
        },
        "844a55abcff741a9b7e57769244e80fb": {
          "model_module": "@jupyter-widgets/controls",
          "model_name": "DescriptionStyleModel",
          "model_module_version": "1.5.0",
          "state": {
            "_model_module": "@jupyter-widgets/controls",
            "_model_module_version": "1.5.0",
            "_model_name": "DescriptionStyleModel",
            "_view_count": null,
            "_view_module": "@jupyter-widgets/base",
            "_view_module_version": "1.2.0",
            "_view_name": "StyleView",
            "description_width": ""
          }
        },
        "911e92be88b441419eb15e33ad4e1950": {
          "model_module": "@jupyter-widgets/controls",
          "model_name": "HBoxModel",
          "model_module_version": "1.5.0",
          "state": {
            "_dom_classes": [],
            "_model_module": "@jupyter-widgets/controls",
            "_model_module_version": "1.5.0",
            "_model_name": "HBoxModel",
            "_view_count": null,
            "_view_module": "@jupyter-widgets/controls",
            "_view_module_version": "1.5.0",
            "_view_name": "HBoxView",
            "box_style": "",
            "children": [
              "IPY_MODEL_81778c5baae4453dbeaf3c169790c638",
              "IPY_MODEL_e9ead42dddaf4da38ce97d1e7432159c",
              "IPY_MODEL_994509eec3e64a229283f849b863b3e4"
            ],
            "layout": "IPY_MODEL_9c228e9783654401b1d6cb5bd4cec508"
          }
        },
        "81778c5baae4453dbeaf3c169790c638": {
          "model_module": "@jupyter-widgets/controls",
          "model_name": "HTMLModel",
          "model_module_version": "1.5.0",
          "state": {
            "_dom_classes": [],
            "_model_module": "@jupyter-widgets/controls",
            "_model_module_version": "1.5.0",
            "_model_name": "HTMLModel",
            "_view_count": null,
            "_view_module": "@jupyter-widgets/controls",
            "_view_module_version": "1.5.0",
            "_view_name": "HTMLView",
            "description": "",
            "description_tooltip": null,
            "layout": "IPY_MODEL_bbff124cae88480d9f1815f0d0784dea",
            "placeholder": "​",
            "style": "IPY_MODEL_15c3aafb120d4f4791eeb50ed16c304b",
            "value": "100%"
          }
        },
        "e9ead42dddaf4da38ce97d1e7432159c": {
          "model_module": "@jupyter-widgets/controls",
          "model_name": "FloatProgressModel",
          "model_module_version": "1.5.0",
          "state": {
            "_dom_classes": [],
            "_model_module": "@jupyter-widgets/controls",
            "_model_module_version": "1.5.0",
            "_model_name": "FloatProgressModel",
            "_view_count": null,
            "_view_module": "@jupyter-widgets/controls",
            "_view_module_version": "1.5.0",
            "_view_name": "ProgressView",
            "bar_style": "success",
            "description": "",
            "description_tooltip": null,
            "layout": "IPY_MODEL_cc93d0367bdf4140bb079b39752c7732",
            "max": 1,
            "min": 0,
            "orientation": "horizontal",
            "style": "IPY_MODEL_30dd52ddef90486c823d9ad175550ead",
            "value": 1
          }
        },
        "994509eec3e64a229283f849b863b3e4": {
          "model_module": "@jupyter-widgets/controls",
          "model_name": "HTMLModel",
          "model_module_version": "1.5.0",
          "state": {
            "_dom_classes": [],
            "_model_module": "@jupyter-widgets/controls",
            "_model_module_version": "1.5.0",
            "_model_name": "HTMLModel",
            "_view_count": null,
            "_view_module": "@jupyter-widgets/controls",
            "_view_module_version": "1.5.0",
            "_view_name": "HTMLView",
            "description": "",
            "description_tooltip": null,
            "layout": "IPY_MODEL_d7b1df5afa6f45f08a64b227ddc18fde",
            "placeholder": "​",
            "style": "IPY_MODEL_d9c311185c384487bf2dbe264be1fabd",
            "value": " 1/1 [00:00&lt;00:00, 13.76ba/s]"
          }
        },
        "9c228e9783654401b1d6cb5bd4cec508": {
          "model_module": "@jupyter-widgets/base",
          "model_name": "LayoutModel",
          "model_module_version": "1.2.0",
          "state": {
            "_model_module": "@jupyter-widgets/base",
            "_model_module_version": "1.2.0",
            "_model_name": "LayoutModel",
            "_view_count": null,
            "_view_module": "@jupyter-widgets/base",
            "_view_module_version": "1.2.0",
            "_view_name": "LayoutView",
            "align_content": null,
            "align_items": null,
            "align_self": null,
            "border": null,
            "bottom": null,
            "display": null,
            "flex": null,
            "flex_flow": null,
            "grid_area": null,
            "grid_auto_columns": null,
            "grid_auto_flow": null,
            "grid_auto_rows": null,
            "grid_column": null,
            "grid_gap": null,
            "grid_row": null,
            "grid_template_areas": null,
            "grid_template_columns": null,
            "grid_template_rows": null,
            "height": null,
            "justify_content": null,
            "justify_items": null,
            "left": null,
            "margin": null,
            "max_height": null,
            "max_width": null,
            "min_height": null,
            "min_width": null,
            "object_fit": null,
            "object_position": null,
            "order": null,
            "overflow": null,
            "overflow_x": null,
            "overflow_y": null,
            "padding": null,
            "right": null,
            "top": null,
            "visibility": null,
            "width": null
          }
        },
        "bbff124cae88480d9f1815f0d0784dea": {
          "model_module": "@jupyter-widgets/base",
          "model_name": "LayoutModel",
          "model_module_version": "1.2.0",
          "state": {
            "_model_module": "@jupyter-widgets/base",
            "_model_module_version": "1.2.0",
            "_model_name": "LayoutModel",
            "_view_count": null,
            "_view_module": "@jupyter-widgets/base",
            "_view_module_version": "1.2.0",
            "_view_name": "LayoutView",
            "align_content": null,
            "align_items": null,
            "align_self": null,
            "border": null,
            "bottom": null,
            "display": null,
            "flex": null,
            "flex_flow": null,
            "grid_area": null,
            "grid_auto_columns": null,
            "grid_auto_flow": null,
            "grid_auto_rows": null,
            "grid_column": null,
            "grid_gap": null,
            "grid_row": null,
            "grid_template_areas": null,
            "grid_template_columns": null,
            "grid_template_rows": null,
            "height": null,
            "justify_content": null,
            "justify_items": null,
            "left": null,
            "margin": null,
            "max_height": null,
            "max_width": null,
            "min_height": null,
            "min_width": null,
            "object_fit": null,
            "object_position": null,
            "order": null,
            "overflow": null,
            "overflow_x": null,
            "overflow_y": null,
            "padding": null,
            "right": null,
            "top": null,
            "visibility": null,
            "width": null
          }
        },
        "15c3aafb120d4f4791eeb50ed16c304b": {
          "model_module": "@jupyter-widgets/controls",
          "model_name": "DescriptionStyleModel",
          "model_module_version": "1.5.0",
          "state": {
            "_model_module": "@jupyter-widgets/controls",
            "_model_module_version": "1.5.0",
            "_model_name": "DescriptionStyleModel",
            "_view_count": null,
            "_view_module": "@jupyter-widgets/base",
            "_view_module_version": "1.2.0",
            "_view_name": "StyleView",
            "description_width": ""
          }
        },
        "cc93d0367bdf4140bb079b39752c7732": {
          "model_module": "@jupyter-widgets/base",
          "model_name": "LayoutModel",
          "model_module_version": "1.2.0",
          "state": {
            "_model_module": "@jupyter-widgets/base",
            "_model_module_version": "1.2.0",
            "_model_name": "LayoutModel",
            "_view_count": null,
            "_view_module": "@jupyter-widgets/base",
            "_view_module_version": "1.2.0",
            "_view_name": "LayoutView",
            "align_content": null,
            "align_items": null,
            "align_self": null,
            "border": null,
            "bottom": null,
            "display": null,
            "flex": null,
            "flex_flow": null,
            "grid_area": null,
            "grid_auto_columns": null,
            "grid_auto_flow": null,
            "grid_auto_rows": null,
            "grid_column": null,
            "grid_gap": null,
            "grid_row": null,
            "grid_template_areas": null,
            "grid_template_columns": null,
            "grid_template_rows": null,
            "height": null,
            "justify_content": null,
            "justify_items": null,
            "left": null,
            "margin": null,
            "max_height": null,
            "max_width": null,
            "min_height": null,
            "min_width": null,
            "object_fit": null,
            "object_position": null,
            "order": null,
            "overflow": null,
            "overflow_x": null,
            "overflow_y": null,
            "padding": null,
            "right": null,
            "top": null,
            "visibility": null,
            "width": null
          }
        },
        "30dd52ddef90486c823d9ad175550ead": {
          "model_module": "@jupyter-widgets/controls",
          "model_name": "ProgressStyleModel",
          "model_module_version": "1.5.0",
          "state": {
            "_model_module": "@jupyter-widgets/controls",
            "_model_module_version": "1.5.0",
            "_model_name": "ProgressStyleModel",
            "_view_count": null,
            "_view_module": "@jupyter-widgets/base",
            "_view_module_version": "1.2.0",
            "_view_name": "StyleView",
            "bar_color": null,
            "description_width": ""
          }
        },
        "d7b1df5afa6f45f08a64b227ddc18fde": {
          "model_module": "@jupyter-widgets/base",
          "model_name": "LayoutModel",
          "model_module_version": "1.2.0",
          "state": {
            "_model_module": "@jupyter-widgets/base",
            "_model_module_version": "1.2.0",
            "_model_name": "LayoutModel",
            "_view_count": null,
            "_view_module": "@jupyter-widgets/base",
            "_view_module_version": "1.2.0",
            "_view_name": "LayoutView",
            "align_content": null,
            "align_items": null,
            "align_self": null,
            "border": null,
            "bottom": null,
            "display": null,
            "flex": null,
            "flex_flow": null,
            "grid_area": null,
            "grid_auto_columns": null,
            "grid_auto_flow": null,
            "grid_auto_rows": null,
            "grid_column": null,
            "grid_gap": null,
            "grid_row": null,
            "grid_template_areas": null,
            "grid_template_columns": null,
            "grid_template_rows": null,
            "height": null,
            "justify_content": null,
            "justify_items": null,
            "left": null,
            "margin": null,
            "max_height": null,
            "max_width": null,
            "min_height": null,
            "min_width": null,
            "object_fit": null,
            "object_position": null,
            "order": null,
            "overflow": null,
            "overflow_x": null,
            "overflow_y": null,
            "padding": null,
            "right": null,
            "top": null,
            "visibility": null,
            "width": null
          }
        },
        "d9c311185c384487bf2dbe264be1fabd": {
          "model_module": "@jupyter-widgets/controls",
          "model_name": "DescriptionStyleModel",
          "model_module_version": "1.5.0",
          "state": {
            "_model_module": "@jupyter-widgets/controls",
            "_model_module_version": "1.5.0",
            "_model_name": "DescriptionStyleModel",
            "_view_count": null,
            "_view_module": "@jupyter-widgets/base",
            "_view_module_version": "1.2.0",
            "_view_name": "StyleView",
            "description_width": ""
          }
        },
        "4a5563a7659044c5ac619a6aea77c211": {
          "model_module": "@jupyter-widgets/controls",
          "model_name": "HBoxModel",
          "model_module_version": "1.5.0",
          "state": {
            "_dom_classes": [],
            "_model_module": "@jupyter-widgets/controls",
            "_model_module_version": "1.5.0",
            "_model_name": "HBoxModel",
            "_view_count": null,
            "_view_module": "@jupyter-widgets/controls",
            "_view_module_version": "1.5.0",
            "_view_name": "HBoxView",
            "box_style": "",
            "children": [
              "IPY_MODEL_99ccc34f91fe435e88e7c92904043566",
              "IPY_MODEL_5b0993429e67494aa640c102558d0393",
              "IPY_MODEL_0ce0b34b7dde4c96930b3051eccae854"
            ],
            "layout": "IPY_MODEL_e431c6e7bb144fe0a4f90364a38eddcc"
          }
        },
        "99ccc34f91fe435e88e7c92904043566": {
          "model_module": "@jupyter-widgets/controls",
          "model_name": "HTMLModel",
          "model_module_version": "1.5.0",
          "state": {
            "_dom_classes": [],
            "_model_module": "@jupyter-widgets/controls",
            "_model_module_version": "1.5.0",
            "_model_name": "HTMLModel",
            "_view_count": null,
            "_view_module": "@jupyter-widgets/controls",
            "_view_module_version": "1.5.0",
            "_view_name": "HTMLView",
            "description": "",
            "description_tooltip": null,
            "layout": "IPY_MODEL_9917695e4df24ef8aa1b29ddb0e77090",
            "placeholder": "​",
            "style": "IPY_MODEL_70a70340437240d5a3a8f6026a07fdf0",
            "value": "100%"
          }
        },
        "5b0993429e67494aa640c102558d0393": {
          "model_module": "@jupyter-widgets/controls",
          "model_name": "FloatProgressModel",
          "model_module_version": "1.5.0",
          "state": {
            "_dom_classes": [],
            "_model_module": "@jupyter-widgets/controls",
            "_model_module_version": "1.5.0",
            "_model_name": "FloatProgressModel",
            "_view_count": null,
            "_view_module": "@jupyter-widgets/controls",
            "_view_module_version": "1.5.0",
            "_view_name": "ProgressView",
            "bar_style": "success",
            "description": "",
            "description_tooltip": null,
            "layout": "IPY_MODEL_19b5f7e289de406f8f62597148e8f800",
            "max": 1,
            "min": 0,
            "orientation": "horizontal",
            "style": "IPY_MODEL_958f246a2234426a933fc331e1b736f7",
            "value": 1
          }
        },
        "0ce0b34b7dde4c96930b3051eccae854": {
          "model_module": "@jupyter-widgets/controls",
          "model_name": "HTMLModel",
          "model_module_version": "1.5.0",
          "state": {
            "_dom_classes": [],
            "_model_module": "@jupyter-widgets/controls",
            "_model_module_version": "1.5.0",
            "_model_name": "HTMLModel",
            "_view_count": null,
            "_view_module": "@jupyter-widgets/controls",
            "_view_module_version": "1.5.0",
            "_view_name": "HTMLView",
            "description": "",
            "description_tooltip": null,
            "layout": "IPY_MODEL_82b40a6389ba40d6b827e04a240bf927",
            "placeholder": "​",
            "style": "IPY_MODEL_110fdb8f3e33410492d7f60ddd47823b",
            "value": " 1/1 [00:00&lt;00:00, 24.37ba/s]"
          }
        },
        "e431c6e7bb144fe0a4f90364a38eddcc": {
          "model_module": "@jupyter-widgets/base",
          "model_name": "LayoutModel",
          "model_module_version": "1.2.0",
          "state": {
            "_model_module": "@jupyter-widgets/base",
            "_model_module_version": "1.2.0",
            "_model_name": "LayoutModel",
            "_view_count": null,
            "_view_module": "@jupyter-widgets/base",
            "_view_module_version": "1.2.0",
            "_view_name": "LayoutView",
            "align_content": null,
            "align_items": null,
            "align_self": null,
            "border": null,
            "bottom": null,
            "display": null,
            "flex": null,
            "flex_flow": null,
            "grid_area": null,
            "grid_auto_columns": null,
            "grid_auto_flow": null,
            "grid_auto_rows": null,
            "grid_column": null,
            "grid_gap": null,
            "grid_row": null,
            "grid_template_areas": null,
            "grid_template_columns": null,
            "grid_template_rows": null,
            "height": null,
            "justify_content": null,
            "justify_items": null,
            "left": null,
            "margin": null,
            "max_height": null,
            "max_width": null,
            "min_height": null,
            "min_width": null,
            "object_fit": null,
            "object_position": null,
            "order": null,
            "overflow": null,
            "overflow_x": null,
            "overflow_y": null,
            "padding": null,
            "right": null,
            "top": null,
            "visibility": null,
            "width": null
          }
        },
        "9917695e4df24ef8aa1b29ddb0e77090": {
          "model_module": "@jupyter-widgets/base",
          "model_name": "LayoutModel",
          "model_module_version": "1.2.0",
          "state": {
            "_model_module": "@jupyter-widgets/base",
            "_model_module_version": "1.2.0",
            "_model_name": "LayoutModel",
            "_view_count": null,
            "_view_module": "@jupyter-widgets/base",
            "_view_module_version": "1.2.0",
            "_view_name": "LayoutView",
            "align_content": null,
            "align_items": null,
            "align_self": null,
            "border": null,
            "bottom": null,
            "display": null,
            "flex": null,
            "flex_flow": null,
            "grid_area": null,
            "grid_auto_columns": null,
            "grid_auto_flow": null,
            "grid_auto_rows": null,
            "grid_column": null,
            "grid_gap": null,
            "grid_row": null,
            "grid_template_areas": null,
            "grid_template_columns": null,
            "grid_template_rows": null,
            "height": null,
            "justify_content": null,
            "justify_items": null,
            "left": null,
            "margin": null,
            "max_height": null,
            "max_width": null,
            "min_height": null,
            "min_width": null,
            "object_fit": null,
            "object_position": null,
            "order": null,
            "overflow": null,
            "overflow_x": null,
            "overflow_y": null,
            "padding": null,
            "right": null,
            "top": null,
            "visibility": null,
            "width": null
          }
        },
        "70a70340437240d5a3a8f6026a07fdf0": {
          "model_module": "@jupyter-widgets/controls",
          "model_name": "DescriptionStyleModel",
          "model_module_version": "1.5.0",
          "state": {
            "_model_module": "@jupyter-widgets/controls",
            "_model_module_version": "1.5.0",
            "_model_name": "DescriptionStyleModel",
            "_view_count": null,
            "_view_module": "@jupyter-widgets/base",
            "_view_module_version": "1.2.0",
            "_view_name": "StyleView",
            "description_width": ""
          }
        },
        "19b5f7e289de406f8f62597148e8f800": {
          "model_module": "@jupyter-widgets/base",
          "model_name": "LayoutModel",
          "model_module_version": "1.2.0",
          "state": {
            "_model_module": "@jupyter-widgets/base",
            "_model_module_version": "1.2.0",
            "_model_name": "LayoutModel",
            "_view_count": null,
            "_view_module": "@jupyter-widgets/base",
            "_view_module_version": "1.2.0",
            "_view_name": "LayoutView",
            "align_content": null,
            "align_items": null,
            "align_self": null,
            "border": null,
            "bottom": null,
            "display": null,
            "flex": null,
            "flex_flow": null,
            "grid_area": null,
            "grid_auto_columns": null,
            "grid_auto_flow": null,
            "grid_auto_rows": null,
            "grid_column": null,
            "grid_gap": null,
            "grid_row": null,
            "grid_template_areas": null,
            "grid_template_columns": null,
            "grid_template_rows": null,
            "height": null,
            "justify_content": null,
            "justify_items": null,
            "left": null,
            "margin": null,
            "max_height": null,
            "max_width": null,
            "min_height": null,
            "min_width": null,
            "object_fit": null,
            "object_position": null,
            "order": null,
            "overflow": null,
            "overflow_x": null,
            "overflow_y": null,
            "padding": null,
            "right": null,
            "top": null,
            "visibility": null,
            "width": null
          }
        },
        "958f246a2234426a933fc331e1b736f7": {
          "model_module": "@jupyter-widgets/controls",
          "model_name": "ProgressStyleModel",
          "model_module_version": "1.5.0",
          "state": {
            "_model_module": "@jupyter-widgets/controls",
            "_model_module_version": "1.5.0",
            "_model_name": "ProgressStyleModel",
            "_view_count": null,
            "_view_module": "@jupyter-widgets/base",
            "_view_module_version": "1.2.0",
            "_view_name": "StyleView",
            "bar_color": null,
            "description_width": ""
          }
        },
        "82b40a6389ba40d6b827e04a240bf927": {
          "model_module": "@jupyter-widgets/base",
          "model_name": "LayoutModel",
          "model_module_version": "1.2.0",
          "state": {
            "_model_module": "@jupyter-widgets/base",
            "_model_module_version": "1.2.0",
            "_model_name": "LayoutModel",
            "_view_count": null,
            "_view_module": "@jupyter-widgets/base",
            "_view_module_version": "1.2.0",
            "_view_name": "LayoutView",
            "align_content": null,
            "align_items": null,
            "align_self": null,
            "border": null,
            "bottom": null,
            "display": null,
            "flex": null,
            "flex_flow": null,
            "grid_area": null,
            "grid_auto_columns": null,
            "grid_auto_flow": null,
            "grid_auto_rows": null,
            "grid_column": null,
            "grid_gap": null,
            "grid_row": null,
            "grid_template_areas": null,
            "grid_template_columns": null,
            "grid_template_rows": null,
            "height": null,
            "justify_content": null,
            "justify_items": null,
            "left": null,
            "margin": null,
            "max_height": null,
            "max_width": null,
            "min_height": null,
            "min_width": null,
            "object_fit": null,
            "object_position": null,
            "order": null,
            "overflow": null,
            "overflow_x": null,
            "overflow_y": null,
            "padding": null,
            "right": null,
            "top": null,
            "visibility": null,
            "width": null
          }
        },
        "110fdb8f3e33410492d7f60ddd47823b": {
          "model_module": "@jupyter-widgets/controls",
          "model_name": "DescriptionStyleModel",
          "model_module_version": "1.5.0",
          "state": {
            "_model_module": "@jupyter-widgets/controls",
            "_model_module_version": "1.5.0",
            "_model_name": "DescriptionStyleModel",
            "_view_count": null,
            "_view_module": "@jupyter-widgets/base",
            "_view_module_version": "1.2.0",
            "_view_name": "StyleView",
            "description_width": ""
          }
        },
        "dd9b673690104626b0658ec94070b77e": {
          "model_module": "@jupyter-widgets/controls",
          "model_name": "HBoxModel",
          "model_module_version": "1.5.0",
          "state": {
            "_dom_classes": [],
            "_model_module": "@jupyter-widgets/controls",
            "_model_module_version": "1.5.0",
            "_model_name": "HBoxModel",
            "_view_count": null,
            "_view_module": "@jupyter-widgets/controls",
            "_view_module_version": "1.5.0",
            "_view_name": "HBoxView",
            "box_style": "",
            "children": [
              "IPY_MODEL_cab1979a7c074b97a17d4684d93aa516",
              "IPY_MODEL_6fd44138a00d4957bdbc5779c67fd425",
              "IPY_MODEL_73011f8f522441cba577135296e85945"
            ],
            "layout": "IPY_MODEL_5adaea9930894c77ac8991bc64f6309a"
          }
        },
        "cab1979a7c074b97a17d4684d93aa516": {
          "model_module": "@jupyter-widgets/controls",
          "model_name": "HTMLModel",
          "model_module_version": "1.5.0",
          "state": {
            "_dom_classes": [],
            "_model_module": "@jupyter-widgets/controls",
            "_model_module_version": "1.5.0",
            "_model_name": "HTMLModel",
            "_view_count": null,
            "_view_module": "@jupyter-widgets/controls",
            "_view_module_version": "1.5.0",
            "_view_name": "HTMLView",
            "description": "",
            "description_tooltip": null,
            "layout": "IPY_MODEL_9d69707c2dfd4872845c63a0d1f30163",
            "placeholder": "​",
            "style": "IPY_MODEL_9c06b7f4d02d4250bb55516c0945f907",
            "value": "100%"
          }
        },
        "6fd44138a00d4957bdbc5779c67fd425": {
          "model_module": "@jupyter-widgets/controls",
          "model_name": "FloatProgressModel",
          "model_module_version": "1.5.0",
          "state": {
            "_dom_classes": [],
            "_model_module": "@jupyter-widgets/controls",
            "_model_module_version": "1.5.0",
            "_model_name": "FloatProgressModel",
            "_view_count": null,
            "_view_module": "@jupyter-widgets/controls",
            "_view_module_version": "1.5.0",
            "_view_name": "ProgressView",
            "bar_style": "success",
            "description": "",
            "description_tooltip": null,
            "layout": "IPY_MODEL_25a8fd672a14443590af1e23195237e1",
            "max": 2460,
            "min": 0,
            "orientation": "horizontal",
            "style": "IPY_MODEL_9526c069924248449d39d12ceda1c2ef",
            "value": 2460
          }
        },
        "73011f8f522441cba577135296e85945": {
          "model_module": "@jupyter-widgets/controls",
          "model_name": "HTMLModel",
          "model_module_version": "1.5.0",
          "state": {
            "_dom_classes": [],
            "_model_module": "@jupyter-widgets/controls",
            "_model_module_version": "1.5.0",
            "_model_name": "HTMLModel",
            "_view_count": null,
            "_view_module": "@jupyter-widgets/controls",
            "_view_module_version": "1.5.0",
            "_view_name": "HTMLView",
            "description": "",
            "description_tooltip": null,
            "layout": "IPY_MODEL_935608e9932a4d3b9fafcd01b59acc1b",
            "placeholder": "​",
            "style": "IPY_MODEL_0bf0cf59a4884adea7d4b35b6ec0c6bf",
            "value": " 2460/2460 [00:28&lt;00:00, 119.65ex/s]"
          }
        },
        "5adaea9930894c77ac8991bc64f6309a": {
          "model_module": "@jupyter-widgets/base",
          "model_name": "LayoutModel",
          "model_module_version": "1.2.0",
          "state": {
            "_model_module": "@jupyter-widgets/base",
            "_model_module_version": "1.2.0",
            "_model_name": "LayoutModel",
            "_view_count": null,
            "_view_module": "@jupyter-widgets/base",
            "_view_module_version": "1.2.0",
            "_view_name": "LayoutView",
            "align_content": null,
            "align_items": null,
            "align_self": null,
            "border": null,
            "bottom": null,
            "display": null,
            "flex": null,
            "flex_flow": null,
            "grid_area": null,
            "grid_auto_columns": null,
            "grid_auto_flow": null,
            "grid_auto_rows": null,
            "grid_column": null,
            "grid_gap": null,
            "grid_row": null,
            "grid_template_areas": null,
            "grid_template_columns": null,
            "grid_template_rows": null,
            "height": null,
            "justify_content": null,
            "justify_items": null,
            "left": null,
            "margin": null,
            "max_height": null,
            "max_width": null,
            "min_height": null,
            "min_width": null,
            "object_fit": null,
            "object_position": null,
            "order": null,
            "overflow": null,
            "overflow_x": null,
            "overflow_y": null,
            "padding": null,
            "right": null,
            "top": null,
            "visibility": null,
            "width": null
          }
        },
        "9d69707c2dfd4872845c63a0d1f30163": {
          "model_module": "@jupyter-widgets/base",
          "model_name": "LayoutModel",
          "model_module_version": "1.2.0",
          "state": {
            "_model_module": "@jupyter-widgets/base",
            "_model_module_version": "1.2.0",
            "_model_name": "LayoutModel",
            "_view_count": null,
            "_view_module": "@jupyter-widgets/base",
            "_view_module_version": "1.2.0",
            "_view_name": "LayoutView",
            "align_content": null,
            "align_items": null,
            "align_self": null,
            "border": null,
            "bottom": null,
            "display": null,
            "flex": null,
            "flex_flow": null,
            "grid_area": null,
            "grid_auto_columns": null,
            "grid_auto_flow": null,
            "grid_auto_rows": null,
            "grid_column": null,
            "grid_gap": null,
            "grid_row": null,
            "grid_template_areas": null,
            "grid_template_columns": null,
            "grid_template_rows": null,
            "height": null,
            "justify_content": null,
            "justify_items": null,
            "left": null,
            "margin": null,
            "max_height": null,
            "max_width": null,
            "min_height": null,
            "min_width": null,
            "object_fit": null,
            "object_position": null,
            "order": null,
            "overflow": null,
            "overflow_x": null,
            "overflow_y": null,
            "padding": null,
            "right": null,
            "top": null,
            "visibility": null,
            "width": null
          }
        },
        "9c06b7f4d02d4250bb55516c0945f907": {
          "model_module": "@jupyter-widgets/controls",
          "model_name": "DescriptionStyleModel",
          "model_module_version": "1.5.0",
          "state": {
            "_model_module": "@jupyter-widgets/controls",
            "_model_module_version": "1.5.0",
            "_model_name": "DescriptionStyleModel",
            "_view_count": null,
            "_view_module": "@jupyter-widgets/base",
            "_view_module_version": "1.2.0",
            "_view_name": "StyleView",
            "description_width": ""
          }
        },
        "25a8fd672a14443590af1e23195237e1": {
          "model_module": "@jupyter-widgets/base",
          "model_name": "LayoutModel",
          "model_module_version": "1.2.0",
          "state": {
            "_model_module": "@jupyter-widgets/base",
            "_model_module_version": "1.2.0",
            "_model_name": "LayoutModel",
            "_view_count": null,
            "_view_module": "@jupyter-widgets/base",
            "_view_module_version": "1.2.0",
            "_view_name": "LayoutView",
            "align_content": null,
            "align_items": null,
            "align_self": null,
            "border": null,
            "bottom": null,
            "display": null,
            "flex": null,
            "flex_flow": null,
            "grid_area": null,
            "grid_auto_columns": null,
            "grid_auto_flow": null,
            "grid_auto_rows": null,
            "grid_column": null,
            "grid_gap": null,
            "grid_row": null,
            "grid_template_areas": null,
            "grid_template_columns": null,
            "grid_template_rows": null,
            "height": null,
            "justify_content": null,
            "justify_items": null,
            "left": null,
            "margin": null,
            "max_height": null,
            "max_width": null,
            "min_height": null,
            "min_width": null,
            "object_fit": null,
            "object_position": null,
            "order": null,
            "overflow": null,
            "overflow_x": null,
            "overflow_y": null,
            "padding": null,
            "right": null,
            "top": null,
            "visibility": null,
            "width": null
          }
        },
        "9526c069924248449d39d12ceda1c2ef": {
          "model_module": "@jupyter-widgets/controls",
          "model_name": "ProgressStyleModel",
          "model_module_version": "1.5.0",
          "state": {
            "_model_module": "@jupyter-widgets/controls",
            "_model_module_version": "1.5.0",
            "_model_name": "ProgressStyleModel",
            "_view_count": null,
            "_view_module": "@jupyter-widgets/base",
            "_view_module_version": "1.2.0",
            "_view_name": "StyleView",
            "bar_color": null,
            "description_width": ""
          }
        },
        "935608e9932a4d3b9fafcd01b59acc1b": {
          "model_module": "@jupyter-widgets/base",
          "model_name": "LayoutModel",
          "model_module_version": "1.2.0",
          "state": {
            "_model_module": "@jupyter-widgets/base",
            "_model_module_version": "1.2.0",
            "_model_name": "LayoutModel",
            "_view_count": null,
            "_view_module": "@jupyter-widgets/base",
            "_view_module_version": "1.2.0",
            "_view_name": "LayoutView",
            "align_content": null,
            "align_items": null,
            "align_self": null,
            "border": null,
            "bottom": null,
            "display": null,
            "flex": null,
            "flex_flow": null,
            "grid_area": null,
            "grid_auto_columns": null,
            "grid_auto_flow": null,
            "grid_auto_rows": null,
            "grid_column": null,
            "grid_gap": null,
            "grid_row": null,
            "grid_template_areas": null,
            "grid_template_columns": null,
            "grid_template_rows": null,
            "height": null,
            "justify_content": null,
            "justify_items": null,
            "left": null,
            "margin": null,
            "max_height": null,
            "max_width": null,
            "min_height": null,
            "min_width": null,
            "object_fit": null,
            "object_position": null,
            "order": null,
            "overflow": null,
            "overflow_x": null,
            "overflow_y": null,
            "padding": null,
            "right": null,
            "top": null,
            "visibility": null,
            "width": null
          }
        },
        "0bf0cf59a4884adea7d4b35b6ec0c6bf": {
          "model_module": "@jupyter-widgets/controls",
          "model_name": "DescriptionStyleModel",
          "model_module_version": "1.5.0",
          "state": {
            "_model_module": "@jupyter-widgets/controls",
            "_model_module_version": "1.5.0",
            "_model_name": "DescriptionStyleModel",
            "_view_count": null,
            "_view_module": "@jupyter-widgets/base",
            "_view_module_version": "1.2.0",
            "_view_name": "StyleView",
            "description_width": ""
          }
        },
        "7c0794a9d5b24da8a966a6797d57790d": {
          "model_module": "@jupyter-widgets/controls",
          "model_name": "HBoxModel",
          "model_module_version": "1.5.0",
          "state": {
            "_dom_classes": [],
            "_model_module": "@jupyter-widgets/controls",
            "_model_module_version": "1.5.0",
            "_model_name": "HBoxModel",
            "_view_count": null,
            "_view_module": "@jupyter-widgets/controls",
            "_view_module_version": "1.5.0",
            "_view_name": "HBoxView",
            "box_style": "",
            "children": [
              "IPY_MODEL_36eeda386543462bb8b6b3a06c29aa36",
              "IPY_MODEL_046c4031b2ac44a4b3888097ddfd61b5",
              "IPY_MODEL_d6cd6b42d1be454c81eca1ed149fbdcb"
            ],
            "layout": "IPY_MODEL_679118eecfec431e9d77e1df96f19bb1"
          }
        },
        "36eeda386543462bb8b6b3a06c29aa36": {
          "model_module": "@jupyter-widgets/controls",
          "model_name": "HTMLModel",
          "model_module_version": "1.5.0",
          "state": {
            "_dom_classes": [],
            "_model_module": "@jupyter-widgets/controls",
            "_model_module_version": "1.5.0",
            "_model_name": "HTMLModel",
            "_view_count": null,
            "_view_module": "@jupyter-widgets/controls",
            "_view_module_version": "1.5.0",
            "_view_name": "HTMLView",
            "description": "",
            "description_tooltip": null,
            "layout": "IPY_MODEL_e00d3ffe701e442999a14cc14def137d",
            "placeholder": "​",
            "style": "IPY_MODEL_8bb6301532594abb9af0df5288967021",
            "value": "100%"
          }
        },
        "046c4031b2ac44a4b3888097ddfd61b5": {
          "model_module": "@jupyter-widgets/controls",
          "model_name": "FloatProgressModel",
          "model_module_version": "1.5.0",
          "state": {
            "_dom_classes": [],
            "_model_module": "@jupyter-widgets/controls",
            "_model_module_version": "1.5.0",
            "_model_name": "FloatProgressModel",
            "_view_count": null,
            "_view_module": "@jupyter-widgets/controls",
            "_view_module_version": "1.5.0",
            "_view_name": "ProgressView",
            "bar_style": "success",
            "description": "",
            "description_tooltip": null,
            "layout": "IPY_MODEL_8e35ad20745c4601be36059bc27265a8",
            "max": 341,
            "min": 0,
            "orientation": "horizontal",
            "style": "IPY_MODEL_cc282d2350a24e279778c4f8ea7b2418",
            "value": 341
          }
        },
        "d6cd6b42d1be454c81eca1ed149fbdcb": {
          "model_module": "@jupyter-widgets/controls",
          "model_name": "HTMLModel",
          "model_module_version": "1.5.0",
          "state": {
            "_dom_classes": [],
            "_model_module": "@jupyter-widgets/controls",
            "_model_module_version": "1.5.0",
            "_model_name": "HTMLModel",
            "_view_count": null,
            "_view_module": "@jupyter-widgets/controls",
            "_view_module_version": "1.5.0",
            "_view_name": "HTMLView",
            "description": "",
            "description_tooltip": null,
            "layout": "IPY_MODEL_2d9bf778f0664f0297c64a18e2fb566f",
            "placeholder": "​",
            "style": "IPY_MODEL_1ab952fde8be4783b0a3bc7319d22771",
            "value": " 341/341 [00:02&lt;00:00, 124.61ex/s]"
          }
        },
        "679118eecfec431e9d77e1df96f19bb1": {
          "model_module": "@jupyter-widgets/base",
          "model_name": "LayoutModel",
          "model_module_version": "1.2.0",
          "state": {
            "_model_module": "@jupyter-widgets/base",
            "_model_module_version": "1.2.0",
            "_model_name": "LayoutModel",
            "_view_count": null,
            "_view_module": "@jupyter-widgets/base",
            "_view_module_version": "1.2.0",
            "_view_name": "LayoutView",
            "align_content": null,
            "align_items": null,
            "align_self": null,
            "border": null,
            "bottom": null,
            "display": null,
            "flex": null,
            "flex_flow": null,
            "grid_area": null,
            "grid_auto_columns": null,
            "grid_auto_flow": null,
            "grid_auto_rows": null,
            "grid_column": null,
            "grid_gap": null,
            "grid_row": null,
            "grid_template_areas": null,
            "grid_template_columns": null,
            "grid_template_rows": null,
            "height": null,
            "justify_content": null,
            "justify_items": null,
            "left": null,
            "margin": null,
            "max_height": null,
            "max_width": null,
            "min_height": null,
            "min_width": null,
            "object_fit": null,
            "object_position": null,
            "order": null,
            "overflow": null,
            "overflow_x": null,
            "overflow_y": null,
            "padding": null,
            "right": null,
            "top": null,
            "visibility": null,
            "width": null
          }
        },
        "e00d3ffe701e442999a14cc14def137d": {
          "model_module": "@jupyter-widgets/base",
          "model_name": "LayoutModel",
          "model_module_version": "1.2.0",
          "state": {
            "_model_module": "@jupyter-widgets/base",
            "_model_module_version": "1.2.0",
            "_model_name": "LayoutModel",
            "_view_count": null,
            "_view_module": "@jupyter-widgets/base",
            "_view_module_version": "1.2.0",
            "_view_name": "LayoutView",
            "align_content": null,
            "align_items": null,
            "align_self": null,
            "border": null,
            "bottom": null,
            "display": null,
            "flex": null,
            "flex_flow": null,
            "grid_area": null,
            "grid_auto_columns": null,
            "grid_auto_flow": null,
            "grid_auto_rows": null,
            "grid_column": null,
            "grid_gap": null,
            "grid_row": null,
            "grid_template_areas": null,
            "grid_template_columns": null,
            "grid_template_rows": null,
            "height": null,
            "justify_content": null,
            "justify_items": null,
            "left": null,
            "margin": null,
            "max_height": null,
            "max_width": null,
            "min_height": null,
            "min_width": null,
            "object_fit": null,
            "object_position": null,
            "order": null,
            "overflow": null,
            "overflow_x": null,
            "overflow_y": null,
            "padding": null,
            "right": null,
            "top": null,
            "visibility": null,
            "width": null
          }
        },
        "8bb6301532594abb9af0df5288967021": {
          "model_module": "@jupyter-widgets/controls",
          "model_name": "DescriptionStyleModel",
          "model_module_version": "1.5.0",
          "state": {
            "_model_module": "@jupyter-widgets/controls",
            "_model_module_version": "1.5.0",
            "_model_name": "DescriptionStyleModel",
            "_view_count": null,
            "_view_module": "@jupyter-widgets/base",
            "_view_module_version": "1.2.0",
            "_view_name": "StyleView",
            "description_width": ""
          }
        },
        "8e35ad20745c4601be36059bc27265a8": {
          "model_module": "@jupyter-widgets/base",
          "model_name": "LayoutModel",
          "model_module_version": "1.2.0",
          "state": {
            "_model_module": "@jupyter-widgets/base",
            "_model_module_version": "1.2.0",
            "_model_name": "LayoutModel",
            "_view_count": null,
            "_view_module": "@jupyter-widgets/base",
            "_view_module_version": "1.2.0",
            "_view_name": "LayoutView",
            "align_content": null,
            "align_items": null,
            "align_self": null,
            "border": null,
            "bottom": null,
            "display": null,
            "flex": null,
            "flex_flow": null,
            "grid_area": null,
            "grid_auto_columns": null,
            "grid_auto_flow": null,
            "grid_auto_rows": null,
            "grid_column": null,
            "grid_gap": null,
            "grid_row": null,
            "grid_template_areas": null,
            "grid_template_columns": null,
            "grid_template_rows": null,
            "height": null,
            "justify_content": null,
            "justify_items": null,
            "left": null,
            "margin": null,
            "max_height": null,
            "max_width": null,
            "min_height": null,
            "min_width": null,
            "object_fit": null,
            "object_position": null,
            "order": null,
            "overflow": null,
            "overflow_x": null,
            "overflow_y": null,
            "padding": null,
            "right": null,
            "top": null,
            "visibility": null,
            "width": null
          }
        },
        "cc282d2350a24e279778c4f8ea7b2418": {
          "model_module": "@jupyter-widgets/controls",
          "model_name": "ProgressStyleModel",
          "model_module_version": "1.5.0",
          "state": {
            "_model_module": "@jupyter-widgets/controls",
            "_model_module_version": "1.5.0",
            "_model_name": "ProgressStyleModel",
            "_view_count": null,
            "_view_module": "@jupyter-widgets/base",
            "_view_module_version": "1.2.0",
            "_view_name": "StyleView",
            "bar_color": null,
            "description_width": ""
          }
        },
        "2d9bf778f0664f0297c64a18e2fb566f": {
          "model_module": "@jupyter-widgets/base",
          "model_name": "LayoutModel",
          "model_module_version": "1.2.0",
          "state": {
            "_model_module": "@jupyter-widgets/base",
            "_model_module_version": "1.2.0",
            "_model_name": "LayoutModel",
            "_view_count": null,
            "_view_module": "@jupyter-widgets/base",
            "_view_module_version": "1.2.0",
            "_view_name": "LayoutView",
            "align_content": null,
            "align_items": null,
            "align_self": null,
            "border": null,
            "bottom": null,
            "display": null,
            "flex": null,
            "flex_flow": null,
            "grid_area": null,
            "grid_auto_columns": null,
            "grid_auto_flow": null,
            "grid_auto_rows": null,
            "grid_column": null,
            "grid_gap": null,
            "grid_row": null,
            "grid_template_areas": null,
            "grid_template_columns": null,
            "grid_template_rows": null,
            "height": null,
            "justify_content": null,
            "justify_items": null,
            "left": null,
            "margin": null,
            "max_height": null,
            "max_width": null,
            "min_height": null,
            "min_width": null,
            "object_fit": null,
            "object_position": null,
            "order": null,
            "overflow": null,
            "overflow_x": null,
            "overflow_y": null,
            "padding": null,
            "right": null,
            "top": null,
            "visibility": null,
            "width": null
          }
        },
        "1ab952fde8be4783b0a3bc7319d22771": {
          "model_module": "@jupyter-widgets/controls",
          "model_name": "DescriptionStyleModel",
          "model_module_version": "1.5.0",
          "state": {
            "_model_module": "@jupyter-widgets/controls",
            "_model_module_version": "1.5.0",
            "_model_name": "DescriptionStyleModel",
            "_view_count": null,
            "_view_module": "@jupyter-widgets/base",
            "_view_module_version": "1.2.0",
            "_view_name": "StyleView",
            "description_width": ""
          }
        },
        "a5a76616ee8e4bafa0028f52646694dc": {
          "model_module": "@jupyter-widgets/controls",
          "model_name": "HBoxModel",
          "model_module_version": "1.5.0",
          "state": {
            "_dom_classes": [],
            "_model_module": "@jupyter-widgets/controls",
            "_model_module_version": "1.5.0",
            "_model_name": "HBoxModel",
            "_view_count": null,
            "_view_module": "@jupyter-widgets/controls",
            "_view_module_version": "1.5.0",
            "_view_name": "HBoxView",
            "box_style": "",
            "children": [
              "IPY_MODEL_fbd5241eb7b24c0caf93b6a326874a72",
              "IPY_MODEL_343fa7a5aad34879b43c5f57699aebba",
              "IPY_MODEL_983dbd2d95bb4131934ebacbf64e327d"
            ],
            "layout": "IPY_MODEL_23ca478a84194494969537900e3acfba"
          }
        },
        "fbd5241eb7b24c0caf93b6a326874a72": {
          "model_module": "@jupyter-widgets/controls",
          "model_name": "HTMLModel",
          "model_module_version": "1.5.0",
          "state": {
            "_dom_classes": [],
            "_model_module": "@jupyter-widgets/controls",
            "_model_module_version": "1.5.0",
            "_model_name": "HTMLModel",
            "_view_count": null,
            "_view_module": "@jupyter-widgets/controls",
            "_view_module_version": "1.5.0",
            "_view_name": "HTMLView",
            "description": "",
            "description_tooltip": null,
            "layout": "IPY_MODEL_3e474b6c230e4769bc8f4f8dcd5e5acb",
            "placeholder": "​",
            "style": "IPY_MODEL_f8fb5cf4a8dd432f89adf4a38a987ddd",
            "value": "Downloading builder script: "
          }
        },
        "343fa7a5aad34879b43c5f57699aebba": {
          "model_module": "@jupyter-widgets/controls",
          "model_name": "FloatProgressModel",
          "model_module_version": "1.5.0",
          "state": {
            "_dom_classes": [],
            "_model_module": "@jupyter-widgets/controls",
            "_model_module_version": "1.5.0",
            "_model_name": "FloatProgressModel",
            "_view_count": null,
            "_view_module": "@jupyter-widgets/controls",
            "_view_module_version": "1.5.0",
            "_view_name": "ProgressView",
            "bar_style": "success",
            "description": "",
            "description_tooltip": null,
            "layout": "IPY_MODEL_f734ec0e6055421fb9b6380305b20933",
            "max": 1901,
            "min": 0,
            "orientation": "horizontal",
            "style": "IPY_MODEL_400f36b707834b5f8901746b7e25247a",
            "value": 1901
          }
        },
        "983dbd2d95bb4131934ebacbf64e327d": {
          "model_module": "@jupyter-widgets/controls",
          "model_name": "HTMLModel",
          "model_module_version": "1.5.0",
          "state": {
            "_dom_classes": [],
            "_model_module": "@jupyter-widgets/controls",
            "_model_module_version": "1.5.0",
            "_model_name": "HTMLModel",
            "_view_count": null,
            "_view_module": "@jupyter-widgets/controls",
            "_view_module_version": "1.5.0",
            "_view_name": "HTMLView",
            "description": "",
            "description_tooltip": null,
            "layout": "IPY_MODEL_56074da084cb4d8b9ae3ec6494a6cbc1",
            "placeholder": "​",
            "style": "IPY_MODEL_499dcd19d5fe46ca936426f41813ff74",
            "value": " 4.48k/? [00:00&lt;00:00, 109kB/s]"
          }
        },
        "23ca478a84194494969537900e3acfba": {
          "model_module": "@jupyter-widgets/base",
          "model_name": "LayoutModel",
          "model_module_version": "1.2.0",
          "state": {
            "_model_module": "@jupyter-widgets/base",
            "_model_module_version": "1.2.0",
            "_model_name": "LayoutModel",
            "_view_count": null,
            "_view_module": "@jupyter-widgets/base",
            "_view_module_version": "1.2.0",
            "_view_name": "LayoutView",
            "align_content": null,
            "align_items": null,
            "align_self": null,
            "border": null,
            "bottom": null,
            "display": null,
            "flex": null,
            "flex_flow": null,
            "grid_area": null,
            "grid_auto_columns": null,
            "grid_auto_flow": null,
            "grid_auto_rows": null,
            "grid_column": null,
            "grid_gap": null,
            "grid_row": null,
            "grid_template_areas": null,
            "grid_template_columns": null,
            "grid_template_rows": null,
            "height": null,
            "justify_content": null,
            "justify_items": null,
            "left": null,
            "margin": null,
            "max_height": null,
            "max_width": null,
            "min_height": null,
            "min_width": null,
            "object_fit": null,
            "object_position": null,
            "order": null,
            "overflow": null,
            "overflow_x": null,
            "overflow_y": null,
            "padding": null,
            "right": null,
            "top": null,
            "visibility": null,
            "width": null
          }
        },
        "3e474b6c230e4769bc8f4f8dcd5e5acb": {
          "model_module": "@jupyter-widgets/base",
          "model_name": "LayoutModel",
          "model_module_version": "1.2.0",
          "state": {
            "_model_module": "@jupyter-widgets/base",
            "_model_module_version": "1.2.0",
            "_model_name": "LayoutModel",
            "_view_count": null,
            "_view_module": "@jupyter-widgets/base",
            "_view_module_version": "1.2.0",
            "_view_name": "LayoutView",
            "align_content": null,
            "align_items": null,
            "align_self": null,
            "border": null,
            "bottom": null,
            "display": null,
            "flex": null,
            "flex_flow": null,
            "grid_area": null,
            "grid_auto_columns": null,
            "grid_auto_flow": null,
            "grid_auto_rows": null,
            "grid_column": null,
            "grid_gap": null,
            "grid_row": null,
            "grid_template_areas": null,
            "grid_template_columns": null,
            "grid_template_rows": null,
            "height": null,
            "justify_content": null,
            "justify_items": null,
            "left": null,
            "margin": null,
            "max_height": null,
            "max_width": null,
            "min_height": null,
            "min_width": null,
            "object_fit": null,
            "object_position": null,
            "order": null,
            "overflow": null,
            "overflow_x": null,
            "overflow_y": null,
            "padding": null,
            "right": null,
            "top": null,
            "visibility": null,
            "width": null
          }
        },
        "f8fb5cf4a8dd432f89adf4a38a987ddd": {
          "model_module": "@jupyter-widgets/controls",
          "model_name": "DescriptionStyleModel",
          "model_module_version": "1.5.0",
          "state": {
            "_model_module": "@jupyter-widgets/controls",
            "_model_module_version": "1.5.0",
            "_model_name": "DescriptionStyleModel",
            "_view_count": null,
            "_view_module": "@jupyter-widgets/base",
            "_view_module_version": "1.2.0",
            "_view_name": "StyleView",
            "description_width": ""
          }
        },
        "f734ec0e6055421fb9b6380305b20933": {
          "model_module": "@jupyter-widgets/base",
          "model_name": "LayoutModel",
          "model_module_version": "1.2.0",
          "state": {
            "_model_module": "@jupyter-widgets/base",
            "_model_module_version": "1.2.0",
            "_model_name": "LayoutModel",
            "_view_count": null,
            "_view_module": "@jupyter-widgets/base",
            "_view_module_version": "1.2.0",
            "_view_name": "LayoutView",
            "align_content": null,
            "align_items": null,
            "align_self": null,
            "border": null,
            "bottom": null,
            "display": null,
            "flex": null,
            "flex_flow": null,
            "grid_area": null,
            "grid_auto_columns": null,
            "grid_auto_flow": null,
            "grid_auto_rows": null,
            "grid_column": null,
            "grid_gap": null,
            "grid_row": null,
            "grid_template_areas": null,
            "grid_template_columns": null,
            "grid_template_rows": null,
            "height": null,
            "justify_content": null,
            "justify_items": null,
            "left": null,
            "margin": null,
            "max_height": null,
            "max_width": null,
            "min_height": null,
            "min_width": null,
            "object_fit": null,
            "object_position": null,
            "order": null,
            "overflow": null,
            "overflow_x": null,
            "overflow_y": null,
            "padding": null,
            "right": null,
            "top": null,
            "visibility": null,
            "width": null
          }
        },
        "400f36b707834b5f8901746b7e25247a": {
          "model_module": "@jupyter-widgets/controls",
          "model_name": "ProgressStyleModel",
          "model_module_version": "1.5.0",
          "state": {
            "_model_module": "@jupyter-widgets/controls",
            "_model_module_version": "1.5.0",
            "_model_name": "ProgressStyleModel",
            "_view_count": null,
            "_view_module": "@jupyter-widgets/base",
            "_view_module_version": "1.2.0",
            "_view_name": "StyleView",
            "bar_color": null,
            "description_width": ""
          }
        },
        "56074da084cb4d8b9ae3ec6494a6cbc1": {
          "model_module": "@jupyter-widgets/base",
          "model_name": "LayoutModel",
          "model_module_version": "1.2.0",
          "state": {
            "_model_module": "@jupyter-widgets/base",
            "_model_module_version": "1.2.0",
            "_model_name": "LayoutModel",
            "_view_count": null,
            "_view_module": "@jupyter-widgets/base",
            "_view_module_version": "1.2.0",
            "_view_name": "LayoutView",
            "align_content": null,
            "align_items": null,
            "align_self": null,
            "border": null,
            "bottom": null,
            "display": null,
            "flex": null,
            "flex_flow": null,
            "grid_area": null,
            "grid_auto_columns": null,
            "grid_auto_flow": null,
            "grid_auto_rows": null,
            "grid_column": null,
            "grid_gap": null,
            "grid_row": null,
            "grid_template_areas": null,
            "grid_template_columns": null,
            "grid_template_rows": null,
            "height": null,
            "justify_content": null,
            "justify_items": null,
            "left": null,
            "margin": null,
            "max_height": null,
            "max_width": null,
            "min_height": null,
            "min_width": null,
            "object_fit": null,
            "object_position": null,
            "order": null,
            "overflow": null,
            "overflow_x": null,
            "overflow_y": null,
            "padding": null,
            "right": null,
            "top": null,
            "visibility": null,
            "width": null
          }
        },
        "499dcd19d5fe46ca936426f41813ff74": {
          "model_module": "@jupyter-widgets/controls",
          "model_name": "DescriptionStyleModel",
          "model_module_version": "1.5.0",
          "state": {
            "_model_module": "@jupyter-widgets/controls",
            "_model_module_version": "1.5.0",
            "_model_name": "DescriptionStyleModel",
            "_view_count": null,
            "_view_module": "@jupyter-widgets/base",
            "_view_module_version": "1.2.0",
            "_view_name": "StyleView",
            "description_width": ""
          }
        },
        "ddd39519ebe24f5491e5033ce2592e67": {
          "model_module": "@jupyter-widgets/controls",
          "model_name": "HBoxModel",
          "model_module_version": "1.5.0",
          "state": {
            "_dom_classes": [],
            "_model_module": "@jupyter-widgets/controls",
            "_model_module_version": "1.5.0",
            "_model_name": "HBoxModel",
            "_view_count": null,
            "_view_module": "@jupyter-widgets/controls",
            "_view_module_version": "1.5.0",
            "_view_name": "HBoxView",
            "box_style": "",
            "children": [
              "IPY_MODEL_1c72ad8e80894903a1029fea6ecdaf2c",
              "IPY_MODEL_a8dedc4cd4134c5b89b37aa69eafc076",
              "IPY_MODEL_7c244661561c4a2da72d031c6b0c25ab"
            ],
            "layout": "IPY_MODEL_73b2368fbea24fc98f843a113a3fdee7"
          }
        },
        "1c72ad8e80894903a1029fea6ecdaf2c": {
          "model_module": "@jupyter-widgets/controls",
          "model_name": "HTMLModel",
          "model_module_version": "1.5.0",
          "state": {
            "_dom_classes": [],
            "_model_module": "@jupyter-widgets/controls",
            "_model_module_version": "1.5.0",
            "_model_name": "HTMLModel",
            "_view_count": null,
            "_view_module": "@jupyter-widgets/controls",
            "_view_module_version": "1.5.0",
            "_view_name": "HTMLView",
            "description": "",
            "description_tooltip": null,
            "layout": "IPY_MODEL_59c64f6954da4e5891260fdf7513130e",
            "placeholder": "​",
            "style": "IPY_MODEL_e396ef0e86aa494fbaa0533870fc4f62",
            "value": "Downloading config.json: 100%"
          }
        },
        "a8dedc4cd4134c5b89b37aa69eafc076": {
          "model_module": "@jupyter-widgets/controls",
          "model_name": "FloatProgressModel",
          "model_module_version": "1.5.0",
          "state": {
            "_dom_classes": [],
            "_model_module": "@jupyter-widgets/controls",
            "_model_module_version": "1.5.0",
            "_model_name": "FloatProgressModel",
            "_view_count": null,
            "_view_module": "@jupyter-widgets/controls",
            "_view_module_version": "1.5.0",
            "_view_name": "ProgressView",
            "bar_style": "success",
            "description": "",
            "description_tooltip": null,
            "layout": "IPY_MODEL_d99eae2b67ac4b37aebbe9eb0c63cd2c",
            "max": 1768,
            "min": 0,
            "orientation": "horizontal",
            "style": "IPY_MODEL_5400a47552bc41099f466983bcc423fc",
            "value": 1768
          }
        },
        "7c244661561c4a2da72d031c6b0c25ab": {
          "model_module": "@jupyter-widgets/controls",
          "model_name": "HTMLModel",
          "model_module_version": "1.5.0",
          "state": {
            "_dom_classes": [],
            "_model_module": "@jupyter-widgets/controls",
            "_model_module_version": "1.5.0",
            "_model_name": "HTMLModel",
            "_view_count": null,
            "_view_module": "@jupyter-widgets/controls",
            "_view_module_version": "1.5.0",
            "_view_name": "HTMLView",
            "description": "",
            "description_tooltip": null,
            "layout": "IPY_MODEL_aa8775492710482faff3b0a35437372a",
            "placeholder": "​",
            "style": "IPY_MODEL_4dfacfa885c64c86b5e222c1ba78f91e",
            "value": " 1.73k/1.73k [00:00&lt;00:00, 9.68kB/s]"
          }
        },
        "73b2368fbea24fc98f843a113a3fdee7": {
          "model_module": "@jupyter-widgets/base",
          "model_name": "LayoutModel",
          "model_module_version": "1.2.0",
          "state": {
            "_model_module": "@jupyter-widgets/base",
            "_model_module_version": "1.2.0",
            "_model_name": "LayoutModel",
            "_view_count": null,
            "_view_module": "@jupyter-widgets/base",
            "_view_module_version": "1.2.0",
            "_view_name": "LayoutView",
            "align_content": null,
            "align_items": null,
            "align_self": null,
            "border": null,
            "bottom": null,
            "display": null,
            "flex": null,
            "flex_flow": null,
            "grid_area": null,
            "grid_auto_columns": null,
            "grid_auto_flow": null,
            "grid_auto_rows": null,
            "grid_column": null,
            "grid_gap": null,
            "grid_row": null,
            "grid_template_areas": null,
            "grid_template_columns": null,
            "grid_template_rows": null,
            "height": null,
            "justify_content": null,
            "justify_items": null,
            "left": null,
            "margin": null,
            "max_height": null,
            "max_width": null,
            "min_height": null,
            "min_width": null,
            "object_fit": null,
            "object_position": null,
            "order": null,
            "overflow": null,
            "overflow_x": null,
            "overflow_y": null,
            "padding": null,
            "right": null,
            "top": null,
            "visibility": null,
            "width": null
          }
        },
        "59c64f6954da4e5891260fdf7513130e": {
          "model_module": "@jupyter-widgets/base",
          "model_name": "LayoutModel",
          "model_module_version": "1.2.0",
          "state": {
            "_model_module": "@jupyter-widgets/base",
            "_model_module_version": "1.2.0",
            "_model_name": "LayoutModel",
            "_view_count": null,
            "_view_module": "@jupyter-widgets/base",
            "_view_module_version": "1.2.0",
            "_view_name": "LayoutView",
            "align_content": null,
            "align_items": null,
            "align_self": null,
            "border": null,
            "bottom": null,
            "display": null,
            "flex": null,
            "flex_flow": null,
            "grid_area": null,
            "grid_auto_columns": null,
            "grid_auto_flow": null,
            "grid_auto_rows": null,
            "grid_column": null,
            "grid_gap": null,
            "grid_row": null,
            "grid_template_areas": null,
            "grid_template_columns": null,
            "grid_template_rows": null,
            "height": null,
            "justify_content": null,
            "justify_items": null,
            "left": null,
            "margin": null,
            "max_height": null,
            "max_width": null,
            "min_height": null,
            "min_width": null,
            "object_fit": null,
            "object_position": null,
            "order": null,
            "overflow": null,
            "overflow_x": null,
            "overflow_y": null,
            "padding": null,
            "right": null,
            "top": null,
            "visibility": null,
            "width": null
          }
        },
        "e396ef0e86aa494fbaa0533870fc4f62": {
          "model_module": "@jupyter-widgets/controls",
          "model_name": "DescriptionStyleModel",
          "model_module_version": "1.5.0",
          "state": {
            "_model_module": "@jupyter-widgets/controls",
            "_model_module_version": "1.5.0",
            "_model_name": "DescriptionStyleModel",
            "_view_count": null,
            "_view_module": "@jupyter-widgets/base",
            "_view_module_version": "1.2.0",
            "_view_name": "StyleView",
            "description_width": ""
          }
        },
        "d99eae2b67ac4b37aebbe9eb0c63cd2c": {
          "model_module": "@jupyter-widgets/base",
          "model_name": "LayoutModel",
          "model_module_version": "1.2.0",
          "state": {
            "_model_module": "@jupyter-widgets/base",
            "_model_module_version": "1.2.0",
            "_model_name": "LayoutModel",
            "_view_count": null,
            "_view_module": "@jupyter-widgets/base",
            "_view_module_version": "1.2.0",
            "_view_name": "LayoutView",
            "align_content": null,
            "align_items": null,
            "align_self": null,
            "border": null,
            "bottom": null,
            "display": null,
            "flex": null,
            "flex_flow": null,
            "grid_area": null,
            "grid_auto_columns": null,
            "grid_auto_flow": null,
            "grid_auto_rows": null,
            "grid_column": null,
            "grid_gap": null,
            "grid_row": null,
            "grid_template_areas": null,
            "grid_template_columns": null,
            "grid_template_rows": null,
            "height": null,
            "justify_content": null,
            "justify_items": null,
            "left": null,
            "margin": null,
            "max_height": null,
            "max_width": null,
            "min_height": null,
            "min_width": null,
            "object_fit": null,
            "object_position": null,
            "order": null,
            "overflow": null,
            "overflow_x": null,
            "overflow_y": null,
            "padding": null,
            "right": null,
            "top": null,
            "visibility": null,
            "width": null
          }
        },
        "5400a47552bc41099f466983bcc423fc": {
          "model_module": "@jupyter-widgets/controls",
          "model_name": "ProgressStyleModel",
          "model_module_version": "1.5.0",
          "state": {
            "_model_module": "@jupyter-widgets/controls",
            "_model_module_version": "1.5.0",
            "_model_name": "ProgressStyleModel",
            "_view_count": null,
            "_view_module": "@jupyter-widgets/base",
            "_view_module_version": "1.2.0",
            "_view_name": "StyleView",
            "bar_color": null,
            "description_width": ""
          }
        },
        "aa8775492710482faff3b0a35437372a": {
          "model_module": "@jupyter-widgets/base",
          "model_name": "LayoutModel",
          "model_module_version": "1.2.0",
          "state": {
            "_model_module": "@jupyter-widgets/base",
            "_model_module_version": "1.2.0",
            "_model_name": "LayoutModel",
            "_view_count": null,
            "_view_module": "@jupyter-widgets/base",
            "_view_module_version": "1.2.0",
            "_view_name": "LayoutView",
            "align_content": null,
            "align_items": null,
            "align_self": null,
            "border": null,
            "bottom": null,
            "display": null,
            "flex": null,
            "flex_flow": null,
            "grid_area": null,
            "grid_auto_columns": null,
            "grid_auto_flow": null,
            "grid_auto_rows": null,
            "grid_column": null,
            "grid_gap": null,
            "grid_row": null,
            "grid_template_areas": null,
            "grid_template_columns": null,
            "grid_template_rows": null,
            "height": null,
            "justify_content": null,
            "justify_items": null,
            "left": null,
            "margin": null,
            "max_height": null,
            "max_width": null,
            "min_height": null,
            "min_width": null,
            "object_fit": null,
            "object_position": null,
            "order": null,
            "overflow": null,
            "overflow_x": null,
            "overflow_y": null,
            "padding": null,
            "right": null,
            "top": null,
            "visibility": null,
            "width": null
          }
        },
        "4dfacfa885c64c86b5e222c1ba78f91e": {
          "model_module": "@jupyter-widgets/controls",
          "model_name": "DescriptionStyleModel",
          "model_module_version": "1.5.0",
          "state": {
            "_model_module": "@jupyter-widgets/controls",
            "_model_module_version": "1.5.0",
            "_model_name": "DescriptionStyleModel",
            "_view_count": null,
            "_view_module": "@jupyter-widgets/base",
            "_view_module_version": "1.2.0",
            "_view_name": "StyleView",
            "description_width": ""
          }
        },
        "87b8098c73be415d9078e44d253029e7": {
          "model_module": "@jupyter-widgets/controls",
          "model_name": "HBoxModel",
          "model_module_version": "1.5.0",
          "state": {
            "_dom_classes": [],
            "_model_module": "@jupyter-widgets/controls",
            "_model_module_version": "1.5.0",
            "_model_name": "HBoxModel",
            "_view_count": null,
            "_view_module": "@jupyter-widgets/controls",
            "_view_module_version": "1.5.0",
            "_view_name": "HBoxView",
            "box_style": "",
            "children": [
              "IPY_MODEL_34d36f0ac5c24a2db39dbe9f54b8b3a2",
              "IPY_MODEL_1d7b685b5c25432087836a66d96384b1",
              "IPY_MODEL_3ad41974935a4d0fb89b1764700b1a77"
            ],
            "layout": "IPY_MODEL_76c17d9249c942cb95b52649a0331bff"
          }
        },
        "34d36f0ac5c24a2db39dbe9f54b8b3a2": {
          "model_module": "@jupyter-widgets/controls",
          "model_name": "HTMLModel",
          "model_module_version": "1.5.0",
          "state": {
            "_dom_classes": [],
            "_model_module": "@jupyter-widgets/controls",
            "_model_module_version": "1.5.0",
            "_model_name": "HTMLModel",
            "_view_count": null,
            "_view_module": "@jupyter-widgets/controls",
            "_view_module_version": "1.5.0",
            "_view_name": "HTMLView",
            "description": "",
            "description_tooltip": null,
            "layout": "IPY_MODEL_878f4133d91b4b1293539ce6fc3f0242",
            "placeholder": "​",
            "style": "IPY_MODEL_8eaf4d54f89c4b658423147f2dd09ff8",
            "value": "Downloading pytorch_model.bin: 100%"
          }
        },
        "1d7b685b5c25432087836a66d96384b1": {
          "model_module": "@jupyter-widgets/controls",
          "model_name": "FloatProgressModel",
          "model_module_version": "1.5.0",
          "state": {
            "_dom_classes": [],
            "_model_module": "@jupyter-widgets/controls",
            "_model_module_version": "1.5.0",
            "_model_name": "FloatProgressModel",
            "_view_count": null,
            "_view_module": "@jupyter-widgets/controls",
            "_view_module_version": "1.5.0",
            "_view_name": "ProgressView",
            "bar_style": "success",
            "description": "",
            "description_tooltip": null,
            "layout": "IPY_MODEL_38485acf930d4b0bbdbd0821875e3166",
            "max": 1269737156,
            "min": 0,
            "orientation": "horizontal",
            "style": "IPY_MODEL_56eba7bdd3a94dd592f146127e695338",
            "value": 1269737156
          }
        },
        "3ad41974935a4d0fb89b1764700b1a77": {
          "model_module": "@jupyter-widgets/controls",
          "model_name": "HTMLModel",
          "model_module_version": "1.5.0",
          "state": {
            "_dom_classes": [],
            "_model_module": "@jupyter-widgets/controls",
            "_model_module_version": "1.5.0",
            "_model_name": "HTMLModel",
            "_view_count": null,
            "_view_module": "@jupyter-widgets/controls",
            "_view_module_version": "1.5.0",
            "_view_name": "HTMLView",
            "description": "",
            "description_tooltip": null,
            "layout": "IPY_MODEL_4af999391960498d8ababd98557b9caf",
            "placeholder": "​",
            "style": "IPY_MODEL_55e7fb5978eb4976a7d89ca0b820057d",
            "value": " 1.18G/1.18G [00:25&lt;00:00, 48.6MB/s]"
          }
        },
        "76c17d9249c942cb95b52649a0331bff": {
          "model_module": "@jupyter-widgets/base",
          "model_name": "LayoutModel",
          "model_module_version": "1.2.0",
          "state": {
            "_model_module": "@jupyter-widgets/base",
            "_model_module_version": "1.2.0",
            "_model_name": "LayoutModel",
            "_view_count": null,
            "_view_module": "@jupyter-widgets/base",
            "_view_module_version": "1.2.0",
            "_view_name": "LayoutView",
            "align_content": null,
            "align_items": null,
            "align_self": null,
            "border": null,
            "bottom": null,
            "display": null,
            "flex": null,
            "flex_flow": null,
            "grid_area": null,
            "grid_auto_columns": null,
            "grid_auto_flow": null,
            "grid_auto_rows": null,
            "grid_column": null,
            "grid_gap": null,
            "grid_row": null,
            "grid_template_areas": null,
            "grid_template_columns": null,
            "grid_template_rows": null,
            "height": null,
            "justify_content": null,
            "justify_items": null,
            "left": null,
            "margin": null,
            "max_height": null,
            "max_width": null,
            "min_height": null,
            "min_width": null,
            "object_fit": null,
            "object_position": null,
            "order": null,
            "overflow": null,
            "overflow_x": null,
            "overflow_y": null,
            "padding": null,
            "right": null,
            "top": null,
            "visibility": null,
            "width": null
          }
        },
        "878f4133d91b4b1293539ce6fc3f0242": {
          "model_module": "@jupyter-widgets/base",
          "model_name": "LayoutModel",
          "model_module_version": "1.2.0",
          "state": {
            "_model_module": "@jupyter-widgets/base",
            "_model_module_version": "1.2.0",
            "_model_name": "LayoutModel",
            "_view_count": null,
            "_view_module": "@jupyter-widgets/base",
            "_view_module_version": "1.2.0",
            "_view_name": "LayoutView",
            "align_content": null,
            "align_items": null,
            "align_self": null,
            "border": null,
            "bottom": null,
            "display": null,
            "flex": null,
            "flex_flow": null,
            "grid_area": null,
            "grid_auto_columns": null,
            "grid_auto_flow": null,
            "grid_auto_rows": null,
            "grid_column": null,
            "grid_gap": null,
            "grid_row": null,
            "grid_template_areas": null,
            "grid_template_columns": null,
            "grid_template_rows": null,
            "height": null,
            "justify_content": null,
            "justify_items": null,
            "left": null,
            "margin": null,
            "max_height": null,
            "max_width": null,
            "min_height": null,
            "min_width": null,
            "object_fit": null,
            "object_position": null,
            "order": null,
            "overflow": null,
            "overflow_x": null,
            "overflow_y": null,
            "padding": null,
            "right": null,
            "top": null,
            "visibility": null,
            "width": null
          }
        },
        "8eaf4d54f89c4b658423147f2dd09ff8": {
          "model_module": "@jupyter-widgets/controls",
          "model_name": "DescriptionStyleModel",
          "model_module_version": "1.5.0",
          "state": {
            "_model_module": "@jupyter-widgets/controls",
            "_model_module_version": "1.5.0",
            "_model_name": "DescriptionStyleModel",
            "_view_count": null,
            "_view_module": "@jupyter-widgets/base",
            "_view_module_version": "1.2.0",
            "_view_name": "StyleView",
            "description_width": ""
          }
        },
        "38485acf930d4b0bbdbd0821875e3166": {
          "model_module": "@jupyter-widgets/base",
          "model_name": "LayoutModel",
          "model_module_version": "1.2.0",
          "state": {
            "_model_module": "@jupyter-widgets/base",
            "_model_module_version": "1.2.0",
            "_model_name": "LayoutModel",
            "_view_count": null,
            "_view_module": "@jupyter-widgets/base",
            "_view_module_version": "1.2.0",
            "_view_name": "LayoutView",
            "align_content": null,
            "align_items": null,
            "align_self": null,
            "border": null,
            "bottom": null,
            "display": null,
            "flex": null,
            "flex_flow": null,
            "grid_area": null,
            "grid_auto_columns": null,
            "grid_auto_flow": null,
            "grid_auto_rows": null,
            "grid_column": null,
            "grid_gap": null,
            "grid_row": null,
            "grid_template_areas": null,
            "grid_template_columns": null,
            "grid_template_rows": null,
            "height": null,
            "justify_content": null,
            "justify_items": null,
            "left": null,
            "margin": null,
            "max_height": null,
            "max_width": null,
            "min_height": null,
            "min_width": null,
            "object_fit": null,
            "object_position": null,
            "order": null,
            "overflow": null,
            "overflow_x": null,
            "overflow_y": null,
            "padding": null,
            "right": null,
            "top": null,
            "visibility": null,
            "width": null
          }
        },
        "56eba7bdd3a94dd592f146127e695338": {
          "model_module": "@jupyter-widgets/controls",
          "model_name": "ProgressStyleModel",
          "model_module_version": "1.5.0",
          "state": {
            "_model_module": "@jupyter-widgets/controls",
            "_model_module_version": "1.5.0",
            "_model_name": "ProgressStyleModel",
            "_view_count": null,
            "_view_module": "@jupyter-widgets/base",
            "_view_module_version": "1.2.0",
            "_view_name": "StyleView",
            "bar_color": null,
            "description_width": ""
          }
        },
        "4af999391960498d8ababd98557b9caf": {
          "model_module": "@jupyter-widgets/base",
          "model_name": "LayoutModel",
          "model_module_version": "1.2.0",
          "state": {
            "_model_module": "@jupyter-widgets/base",
            "_model_module_version": "1.2.0",
            "_model_name": "LayoutModel",
            "_view_count": null,
            "_view_module": "@jupyter-widgets/base",
            "_view_module_version": "1.2.0",
            "_view_name": "LayoutView",
            "align_content": null,
            "align_items": null,
            "align_self": null,
            "border": null,
            "bottom": null,
            "display": null,
            "flex": null,
            "flex_flow": null,
            "grid_area": null,
            "grid_auto_columns": null,
            "grid_auto_flow": null,
            "grid_auto_rows": null,
            "grid_column": null,
            "grid_gap": null,
            "grid_row": null,
            "grid_template_areas": null,
            "grid_template_columns": null,
            "grid_template_rows": null,
            "height": null,
            "justify_content": null,
            "justify_items": null,
            "left": null,
            "margin": null,
            "max_height": null,
            "max_width": null,
            "min_height": null,
            "min_width": null,
            "object_fit": null,
            "object_position": null,
            "order": null,
            "overflow": null,
            "overflow_x": null,
            "overflow_y": null,
            "padding": null,
            "right": null,
            "top": null,
            "visibility": null,
            "width": null
          }
        },
        "55e7fb5978eb4976a7d89ca0b820057d": {
          "model_module": "@jupyter-widgets/controls",
          "model_name": "DescriptionStyleModel",
          "model_module_version": "1.5.0",
          "state": {
            "_model_module": "@jupyter-widgets/controls",
            "_model_module_version": "1.5.0",
            "_model_name": "DescriptionStyleModel",
            "_view_count": null,
            "_view_module": "@jupyter-widgets/base",
            "_view_module_version": "1.2.0",
            "_view_name": "StyleView",
            "description_width": ""
          }
        },
        "9cebe0af0cd640f6b3987080a2769f4c": {
          "model_module": "@jupyter-widgets/controls",
          "model_name": "HBoxModel",
          "model_module_version": "1.5.0",
          "state": {
            "_dom_classes": [],
            "_model_module": "@jupyter-widgets/controls",
            "_model_module_version": "1.5.0",
            "_model_name": "HBoxModel",
            "_view_count": null,
            "_view_module": "@jupyter-widgets/controls",
            "_view_module_version": "1.5.0",
            "_view_name": "HBoxView",
            "box_style": "",
            "children": [
              "IPY_MODEL_b12f80162bc8438386181339bb188db2",
              "IPY_MODEL_b5130032355941eabf8a7e81cb6cec7e",
              "IPY_MODEL_bd479ca1d3ce4bf5968cb86987b45ff2"
            ],
            "layout": "IPY_MODEL_696dbefc1f1449af82d5b71ee8267b18"
          }
        },
        "b12f80162bc8438386181339bb188db2": {
          "model_module": "@jupyter-widgets/controls",
          "model_name": "HTMLModel",
          "model_module_version": "1.5.0",
          "state": {
            "_dom_classes": [],
            "_model_module": "@jupyter-widgets/controls",
            "_model_module_version": "1.5.0",
            "_model_name": "HTMLModel",
            "_view_count": null,
            "_view_module": "@jupyter-widgets/controls",
            "_view_module_version": "1.5.0",
            "_view_name": "HTMLView",
            "description": "",
            "description_tooltip": null,
            "layout": "IPY_MODEL_c071f808d2b74952b84816b5bff8789c",
            "placeholder": "​",
            "style": "IPY_MODEL_0d7059ba926049bea9e32117d56dbb9b",
            "value": "100%"
          }
        },
        "b5130032355941eabf8a7e81cb6cec7e": {
          "model_module": "@jupyter-widgets/controls",
          "model_name": "FloatProgressModel",
          "model_module_version": "1.5.0",
          "state": {
            "_dom_classes": [],
            "_model_module": "@jupyter-widgets/controls",
            "_model_module_version": "1.5.0",
            "_model_name": "FloatProgressModel",
            "_view_count": null,
            "_view_module": "@jupyter-widgets/controls",
            "_view_module_version": "1.5.0",
            "_view_name": "ProgressView",
            "bar_style": "success",
            "description": "",
            "description_tooltip": null,
            "layout": "IPY_MODEL_99823a01105842a89a263f2735d45c68",
            "max": 341,
            "min": 0,
            "orientation": "horizontal",
            "style": "IPY_MODEL_b1e9fdf94ddb462abb7869c27176856e",
            "value": 341
          }
        },
        "bd479ca1d3ce4bf5968cb86987b45ff2": {
          "model_module": "@jupyter-widgets/controls",
          "model_name": "HTMLModel",
          "model_module_version": "1.5.0",
          "state": {
            "_dom_classes": [],
            "_model_module": "@jupyter-widgets/controls",
            "_model_module_version": "1.5.0",
            "_model_name": "HTMLModel",
            "_view_count": null,
            "_view_module": "@jupyter-widgets/controls",
            "_view_module_version": "1.5.0",
            "_view_name": "HTMLView",
            "description": "",
            "description_tooltip": null,
            "layout": "IPY_MODEL_4c5d95d7ce6f457695081d1c96354753",
            "placeholder": "​",
            "style": "IPY_MODEL_c058a2a4b96b4eb4aee5a95cbd80946c",
            "value": " 341/341 [00:31&lt;00:00, 12.12ex/s]"
          }
        },
        "696dbefc1f1449af82d5b71ee8267b18": {
          "model_module": "@jupyter-widgets/base",
          "model_name": "LayoutModel",
          "model_module_version": "1.2.0",
          "state": {
            "_model_module": "@jupyter-widgets/base",
            "_model_module_version": "1.2.0",
            "_model_name": "LayoutModel",
            "_view_count": null,
            "_view_module": "@jupyter-widgets/base",
            "_view_module_version": "1.2.0",
            "_view_name": "LayoutView",
            "align_content": null,
            "align_items": null,
            "align_self": null,
            "border": null,
            "bottom": null,
            "display": null,
            "flex": null,
            "flex_flow": null,
            "grid_area": null,
            "grid_auto_columns": null,
            "grid_auto_flow": null,
            "grid_auto_rows": null,
            "grid_column": null,
            "grid_gap": null,
            "grid_row": null,
            "grid_template_areas": null,
            "grid_template_columns": null,
            "grid_template_rows": null,
            "height": null,
            "justify_content": null,
            "justify_items": null,
            "left": null,
            "margin": null,
            "max_height": null,
            "max_width": null,
            "min_height": null,
            "min_width": null,
            "object_fit": null,
            "object_position": null,
            "order": null,
            "overflow": null,
            "overflow_x": null,
            "overflow_y": null,
            "padding": null,
            "right": null,
            "top": null,
            "visibility": null,
            "width": null
          }
        },
        "c071f808d2b74952b84816b5bff8789c": {
          "model_module": "@jupyter-widgets/base",
          "model_name": "LayoutModel",
          "model_module_version": "1.2.0",
          "state": {
            "_model_module": "@jupyter-widgets/base",
            "_model_module_version": "1.2.0",
            "_model_name": "LayoutModel",
            "_view_count": null,
            "_view_module": "@jupyter-widgets/base",
            "_view_module_version": "1.2.0",
            "_view_name": "LayoutView",
            "align_content": null,
            "align_items": null,
            "align_self": null,
            "border": null,
            "bottom": null,
            "display": null,
            "flex": null,
            "flex_flow": null,
            "grid_area": null,
            "grid_auto_columns": null,
            "grid_auto_flow": null,
            "grid_auto_rows": null,
            "grid_column": null,
            "grid_gap": null,
            "grid_row": null,
            "grid_template_areas": null,
            "grid_template_columns": null,
            "grid_template_rows": null,
            "height": null,
            "justify_content": null,
            "justify_items": null,
            "left": null,
            "margin": null,
            "max_height": null,
            "max_width": null,
            "min_height": null,
            "min_width": null,
            "object_fit": null,
            "object_position": null,
            "order": null,
            "overflow": null,
            "overflow_x": null,
            "overflow_y": null,
            "padding": null,
            "right": null,
            "top": null,
            "visibility": null,
            "width": null
          }
        },
        "0d7059ba926049bea9e32117d56dbb9b": {
          "model_module": "@jupyter-widgets/controls",
          "model_name": "DescriptionStyleModel",
          "model_module_version": "1.5.0",
          "state": {
            "_model_module": "@jupyter-widgets/controls",
            "_model_module_version": "1.5.0",
            "_model_name": "DescriptionStyleModel",
            "_view_count": null,
            "_view_module": "@jupyter-widgets/base",
            "_view_module_version": "1.2.0",
            "_view_name": "StyleView",
            "description_width": ""
          }
        },
        "99823a01105842a89a263f2735d45c68": {
          "model_module": "@jupyter-widgets/base",
          "model_name": "LayoutModel",
          "model_module_version": "1.2.0",
          "state": {
            "_model_module": "@jupyter-widgets/base",
            "_model_module_version": "1.2.0",
            "_model_name": "LayoutModel",
            "_view_count": null,
            "_view_module": "@jupyter-widgets/base",
            "_view_module_version": "1.2.0",
            "_view_name": "LayoutView",
            "align_content": null,
            "align_items": null,
            "align_self": null,
            "border": null,
            "bottom": null,
            "display": null,
            "flex": null,
            "flex_flow": null,
            "grid_area": null,
            "grid_auto_columns": null,
            "grid_auto_flow": null,
            "grid_auto_rows": null,
            "grid_column": null,
            "grid_gap": null,
            "grid_row": null,
            "grid_template_areas": null,
            "grid_template_columns": null,
            "grid_template_rows": null,
            "height": null,
            "justify_content": null,
            "justify_items": null,
            "left": null,
            "margin": null,
            "max_height": null,
            "max_width": null,
            "min_height": null,
            "min_width": null,
            "object_fit": null,
            "object_position": null,
            "order": null,
            "overflow": null,
            "overflow_x": null,
            "overflow_y": null,
            "padding": null,
            "right": null,
            "top": null,
            "visibility": null,
            "width": null
          }
        },
        "b1e9fdf94ddb462abb7869c27176856e": {
          "model_module": "@jupyter-widgets/controls",
          "model_name": "ProgressStyleModel",
          "model_module_version": "1.5.0",
          "state": {
            "_model_module": "@jupyter-widgets/controls",
            "_model_module_version": "1.5.0",
            "_model_name": "ProgressStyleModel",
            "_view_count": null,
            "_view_module": "@jupyter-widgets/base",
            "_view_module_version": "1.2.0",
            "_view_name": "StyleView",
            "bar_color": null,
            "description_width": ""
          }
        },
        "4c5d95d7ce6f457695081d1c96354753": {
          "model_module": "@jupyter-widgets/base",
          "model_name": "LayoutModel",
          "model_module_version": "1.2.0",
          "state": {
            "_model_module": "@jupyter-widgets/base",
            "_model_module_version": "1.2.0",
            "_model_name": "LayoutModel",
            "_view_count": null,
            "_view_module": "@jupyter-widgets/base",
            "_view_module_version": "1.2.0",
            "_view_name": "LayoutView",
            "align_content": null,
            "align_items": null,
            "align_self": null,
            "border": null,
            "bottom": null,
            "display": null,
            "flex": null,
            "flex_flow": null,
            "grid_area": null,
            "grid_auto_columns": null,
            "grid_auto_flow": null,
            "grid_auto_rows": null,
            "grid_column": null,
            "grid_gap": null,
            "grid_row": null,
            "grid_template_areas": null,
            "grid_template_columns": null,
            "grid_template_rows": null,
            "height": null,
            "justify_content": null,
            "justify_items": null,
            "left": null,
            "margin": null,
            "max_height": null,
            "max_width": null,
            "min_height": null,
            "min_width": null,
            "object_fit": null,
            "object_position": null,
            "order": null,
            "overflow": null,
            "overflow_x": null,
            "overflow_y": null,
            "padding": null,
            "right": null,
            "top": null,
            "visibility": null,
            "width": null
          }
        },
        "c058a2a4b96b4eb4aee5a95cbd80946c": {
          "model_module": "@jupyter-widgets/controls",
          "model_name": "DescriptionStyleModel",
          "model_module_version": "1.5.0",
          "state": {
            "_model_module": "@jupyter-widgets/controls",
            "_model_module_version": "1.5.0",
            "_model_name": "DescriptionStyleModel",
            "_view_count": null,
            "_view_module": "@jupyter-widgets/base",
            "_view_module_version": "1.2.0",
            "_view_name": "StyleView",
            "description_width": ""
          }
        }
      }
    }
  },
  "cells": [
    {
      "cell_type": "markdown",
      "metadata": {
        "id": "LBSYoWbi-45k"
      },
      "source": [
        "# **Fine-tuning XLS-R for Multi-Lingual ASR with 🤗 Transformers**\n",
        "\n",
        "***New (11/2021)***: *This blog post has been updated to feature XLSR's successor, called [XLS-R](https://huggingface.co/models?other=xls_r)*."
      ]
    },
    {
      "cell_type": "markdown",
      "metadata": {
        "id": "V7YOT2mnUiea"
      },
      "source": [
        "**Wav2Vec2** is a pretrained model for Automatic Speech Recognition (ASR) and was released in [September 2020](https://ai.facebook.com/blog/wav2vec-20-learning-the-structure-of-speech-from-raw-audio/) by *Alexei Baevski, Michael Auli, and Alex Conneau*.  Soon after the superior performance of Wav2Vec2 was demonstrated on one of the most popular English datasets for ASR, called [LibriSpeech](https://huggingface.co/datasets/librispeech_asr), *Facebook AI* presented a multi-lingual version of Wav2Vec2, called [XLSR](https://arxiv.org/abs/2006.13979). XLSR stands for *cross-lingual speech representations* and refers to model's ability to learn speech representations that are useful across multiple languages.\n",
        "\n",
        "XLSR's successor, simply called **XLS-R** (refering to the [*''XLM-R*](https://ai.facebook.com/blog/-xlm-r-state-of-the-art-cross-lingual-understanding-through-self-supervision/) *for Speech''*), was released in [November 2021](https://ai.facebook.com/blog/xls-r-self-supervised-speech-processing-for-128-languages) by *Arun Babu, Changhan Wang, Andros Tjandra, et al.* XLS-R used almost **half a million** hours of audio data in 128 languages for self-supervised pre-training and comes in sizes ranging from 300 milion up to **two billion** parameters. You can find the pretrained checkpoints on the 🤗 Hub:\n",
        "\n",
        "- [**Wav2Vec2-XLS-R-300M**](https://huggingface.co/facebook/wav2vec2-xls-r-300m)\n",
        "- [**Wav2Vec2-XLS-R-1B**](https://huggingface.co/facebook/wav2vec2-xls-r-1b)\n",
        "- [**Wav2Vec2-XLS-R-2B**](https://huggingface.co/facebook/wav2vec2-xls-r-2b)\n",
        "\n",
        "Similar to [BERT's masked language modeling objective](http://jalammar.github.io/illustrated-bert/), XLS-R learns contextualized speech representations by randomly masking feature vectors before passing them to a transformer network during self-supervised pre-training (*i.e.* diagram on the left below). \n",
        "\n",
        "For fine-tuning, a single linear layer is added on top of the pre-trained network to train the model on labeled data of audio downstream tasks such as speech recognition, speech translation and audio classification (*i.e.* diagram on the right below).\n",
        "\n",
        "![wav2vec2_structure](https://raw.githubusercontent.com/patrickvonplaten/scientific_images/master/xls_r.png)\n",
        "\n",
        "XLS-R shows impressive improvements over previous state-of-the-art results on both speech recognition, speech translation and speaker/language identification, *cf.* with Table 3-6, Table 7-10, and Table 11-12 respectively of the official [paper](https://ai.facebook.com/blog/xls-r-self-supervised-speech-processing-for-128-languages)."
      ]
    },
    {
      "cell_type": "markdown",
      "metadata": {
        "id": "nT_QrfWtsxIz"
      },
      "source": [
        "## Notebook Setup"
      ]
    },
    {
      "cell_type": "markdown",
      "metadata": {
        "id": "kruqixOYHaIo"
      },
      "source": [
        "\n",
        "In this notebook, we will give an in-detail explanation of how XLS-R - more specifically the pre-trained checkpoint [**Wav2Vec2-XLS-R-300M**](https://huggingface.co/facebook/wav2vec2-xls-r-300m) - can be fine-tuned for ASR.  \n",
        "\n",
        "For demonstration purposes, we fine-tune the model on the low resource ASR dataset of [Common Voice](https://huggingface.co/datasets/common_voice) that contains only *ca.* 4h of validated training data."
      ]
    },
    {
      "cell_type": "markdown",
      "metadata": {
        "id": "Gx9OdDYrCtQ1"
      },
      "source": [
        "XLS-R is fine-tuned using Connectionist Temporal Classification (CTC), which is an algorithm that is used to train neural networks for sequence-to-sequence problems, such as ASR and handwriting recognition. \n",
        "\n",
        "I highly recommend reading the well-written blog post [*Sequence Modeling with CTC (2017)*](https://distill.pub/2017/ctc/) by Awni Hannun."
      ]
    },
    {
      "cell_type": "markdown",
      "metadata": {
        "id": "wcHuXIaWyHZU"
      },
      "source": [
        "First, let's try to get a good GPU in our colab! With Google Colab's free version it's sadly becoming much harder to get access to a good GPU. With Google Colab Pro, however, one should easily get either a V100 or P100 GPU."
      ]
    },
    {
      "cell_type": "code",
      "metadata": {
        "colab": {
          "base_uri": "https://localhost:8080/"
        },
        "id": "YELVqGxMxnbG",
        "outputId": "c1117698-0c1a-441c-947c-5f576b58b649"
      },
      "source": [
        "gpu_info = !nvidia-smi\n",
        "gpu_info = '\\n'.join(gpu_info)\n",
        "if gpu_info.find('failed') >= 0:\n",
        "  print('Not connected to a GPU')\n",
        "else:\n",
        "  print(gpu_info)"
      ],
      "execution_count": 1,
      "outputs": [
        {
          "output_type": "stream",
          "name": "stdout",
          "text": [
            "Thu Sep 22 04:17:00 2022       \n",
            "+-----------------------------------------------------------------------------+\n",
            "| NVIDIA-SMI 460.32.03    Driver Version: 460.32.03    CUDA Version: 11.2     |\n",
            "|-------------------------------+----------------------+----------------------+\n",
            "| GPU  Name        Persistence-M| Bus-Id        Disp.A | Volatile Uncorr. ECC |\n",
            "| Fan  Temp  Perf  Pwr:Usage/Cap|         Memory-Usage | GPU-Util  Compute M. |\n",
            "|                               |                      |               MIG M. |\n",
            "|===============================+======================+======================|\n",
            "|   0  Tesla T4            Off  | 00000000:00:04.0 Off |                    0 |\n",
            "| N/A   66C    P8    10W /  70W |      0MiB / 15109MiB |      0%      Default |\n",
            "|                               |                      |                  N/A |\n",
            "+-------------------------------+----------------------+----------------------+\n",
            "                                                                               \n",
            "+-----------------------------------------------------------------------------+\n",
            "| Processes:                                                                  |\n",
            "|  GPU   GI   CI        PID   Type   Process name                  GPU Memory |\n",
            "|        ID   ID                                                   Usage      |\n",
            "|=============================================================================|\n",
            "|  No running processes found                                                 |\n",
            "+-----------------------------------------------------------------------------+\n"
          ]
        }
      ]
    },
    {
      "cell_type": "markdown",
      "metadata": {
        "id": "e335hPmdtASZ"
      },
      "source": [
        "Before we start, let's install `datasets` and `transformers`. Also, we need the `torchaudio` to load audio files and `jiwer` to evaluate our fine-tuned model using the [word error rate (WER)](https://huggingface.co/metrics/wer) metric ${}^1$."
      ]
    },
    {
      "cell_type": "code",
      "metadata": {
        "id": "c8eh87Hoee5d"
      },
      "source": [
        "%%capture\n",
        "!pip install datasets==2.4.0\n",
        "!pip install transformers==4.21.0\n",
        "!pip install torchaudio==0.11.0+cu113 -f https://download.pytorch.org/whl/cu113/torch_stable.html\n",
        "!pip install jiwer"
      ],
      "execution_count": 2,
      "outputs": []
    },
    {
      "cell_type": "markdown",
      "metadata": {
        "id": "0xxt_LwxDQlO"
      },
      "source": [
        "We strongly suggest to upload your training checkpoints directly to the [🤗 Hub](https://huggingface.co/) while training. The [🤗 Hub](https://huggingface.co/) has integrated version control so you can be sure that no model checkpoint is getting lost during training. \n",
        "\n",
        "To do so you have to store your authentication token from the Hugging Face website (sign up [here](https://huggingface.co/join) if you haven't already!)"
      ]
    },
    {
      "cell_type": "code",
      "source": [
        "!git config --global credential.helper store"
      ],
      "metadata": {
        "id": "c3TJeOCWiPxY"
      },
      "execution_count": 3,
      "outputs": []
    },
    {
      "cell_type": "code",
      "metadata": {
        "colab": {
          "base_uri": "https://localhost:8080/",
          "height": 299,
          "referenced_widgets": [
            "97d42f2ebf7d43cb8eb6602ecc664387",
            "a59a6306983544139759e373753cefe6",
            "cb1c0ef331864c8ca9c306a87f6ac531",
            "2b56e17e473b42c086ee25af7b295d49",
            "40fd4ff5769c4768acdfd05e568bb20a",
            "0a71d36475554742bcfa9e1731758cf8",
            "0f48eba9e7c641c1a3ac60c74a0e651a",
            "cf3e858e09e04277b558c2291efa28f0",
            "87cd7501fc804d0986018472732b118c",
            "e548ff4693154d329f9d74eece6951ce",
            "9da14d292c6b494e82e9387b12bc1436",
            "d48dc6c0da9e4ab3a007a957991236af",
            "868e74e46bc04080a54ff8b6699b9445",
            "79df363aa48243dbb671f6aa8dfc0171"
          ]
        },
        "id": "mlMSH3T3EazV",
        "outputId": "dbcef9b8-31cb-4c89-8f02-b652cc1ef130"
      },
      "source": [
        "from huggingface_hub import notebook_login\n",
        "\n",
        "notebook_login()"
      ],
      "execution_count": 4,
      "outputs": [
        {
          "output_type": "stream",
          "name": "stdout",
          "text": [
            "Login successful\n",
            "Your token has been saved to /root/.huggingface/token\n"
          ]
        }
      ]
    },
    {
      "cell_type": "markdown",
      "metadata": {
        "id": "ujdZ2TxhElk6"
      },
      "source": [
        "\n",
        "Then you need to install Git-LFS to upload your model checkpoints:"
      ]
    },
    {
      "cell_type": "code",
      "metadata": {
        "id": "WcR-d83OEkqb"
      },
      "source": [
        "%%capture\n",
        "!apt install git-lfs"
      ],
      "execution_count": 5,
      "outputs": []
    },
    {
      "cell_type": "markdown",
      "metadata": {
        "id": "Mn9swf6EQ9Vd"
      },
      "source": [
        "\n",
        "\n",
        "\n",
        "---\n",
        "\n",
        "${}^1$ In the [paper](https://arxiv.org/pdf/2006.13979.pdf), the model was evaluated using the phoneme error rate (PER), but by far the most common metric in ASR is the word error rate (WER). To keep this notebook as general as possible we decided to evaluate the model using WER."
      ]
    },
    {
      "cell_type": "markdown",
      "metadata": {
        "id": "0mW-C1Nt-j7k"
      },
      "source": [
        "## Prepare Data, Tokenizer, Feature Extractor"
      ]
    },
    {
      "cell_type": "markdown",
      "metadata": {
        "id": "BeBosnY9BH3e"
      },
      "source": [
        "ASR models transcribe speech to text, which means that we both need a feature extractor that processes the speech signal to the model's input format, *e.g.* a feature vector, and a tokenizer that processes the model's output format to text. \n",
        "\n",
        "In 🤗 Transformers, the XLS-R model is thus accompanied by both a tokenizer, called [Wav2Vec2CTCTokenizer](https://huggingface.co/transformers/master/model_doc/wav2vec2.html#wav2vec2ctctokenizer), and a feature extractor, called [Wav2Vec2FeatureExtractor](https://huggingface.co/transformers/master/model_doc/wav2vec2.html#wav2vec2featureextractor).\n",
        "\n",
        "Let's start by creating the tokenizer to decode the predicted output classes to the output transcription."
      ]
    },
    {
      "cell_type": "markdown",
      "metadata": {
        "id": "sEXEWEJGQPqD"
      },
      "source": [
        "### Create `Wav2Vec2CTCTokenizer`"
      ]
    },
    {
      "cell_type": "markdown",
      "metadata": {
        "id": "tWmMikuNEKl_"
      },
      "source": [
        "A pre-trained XLS-R model maps the speech signal to a sequence of context representations as illustrated in the figure above. However, for speech recognition the model has to to map this sequence of context representations to its corresponding transcription which means that a linear layer has to be added on top of the transformer block (shown in yellow in the diagram above). This linear layer is used to classifies each context representation to a token class analogous how, *e.g.*, after pretraining a linear layer is added on top of BERT's embeddings for further classification - *cf.* with *'BERT'* section of this [blog post](https://huggingface.co/blog/warm-starting-encoder-decoder)."
      ]
    },
    {
      "cell_type": "markdown",
      "metadata": {
        "id": "v5oRE8XjIUH3"
      },
      "source": [
        "The output size of this layer corresponds to the number of tokens in the vocabulary, which does **not** depend onXLS-R's pretraining task, but only on the labeled dataset used for fine-tuning. So in the first step, we will take a look at the chosen dataset of Common Voice and define a vocabulary based on the transcriptions."
      ]
    },
    {
      "cell_type": "markdown",
      "metadata": {
        "id": "idBczw8mWzgt"
      },
      "source": [
        "First, let's go to Common Voice [official website](https://commonvoice.mozilla.org/en/datasets) and pick a language to fine-tune XLS-R on. For this notebook, we will use Turkish. \n",
        "\n",
        "For each language-specific dataset, you can find a language code corresponding to your chosen language. On [Common Voice](https://commonvoice.mozilla.org/en/datasets), look for the field \"Version\". The language code then corresponds to the prefix before the underscore. For Turkish, *e.g.* the language code is `\"tr\"`.\n",
        "\n",
        "Great, now we can use 🤗 Datasets' simple API to download the data. The dataset name is `\"common_voice\"`, the configuration name corresponds to the language code, which is `\"tr\"` in our case."
      ]
    },
    {
      "cell_type": "markdown",
      "metadata": {
        "id": "bee4g9rpLxll"
      },
      "source": [
        "Common Voice has many different splits including `invalidated`, which refers to data that was not rated as \"clean enough\" to be considered useful. In this notebook, we will only make use of the splits `\"train\"`, `\"validation\"` and `\"test\"`. \n",
        "\n",
        "Because the Turkish dataset is so small, we will merge both the validation and training data into a training dataset and only use the test data for validation."
      ]
    },
    {
      "cell_type": "code",
      "metadata": {
        "colab": {
          "base_uri": "https://localhost:8080/"
        },
        "id": "2MMXcWFFgCXU",
        "outputId": "547e306c-3e38-480d-fefa-f359e730c605"
      },
      "source": [
        "from datasets import load_dataset, load_metric, Audio\n",
        "\n",
        "common_voice_train = load_dataset(\"mozilla-foundation/common_voice_8_0\", \"ur\", split=\"train+validation+other\",use_auth_token=True)\n",
        "common_voice_test = load_dataset(\"mozilla-foundation/common_voice_8_0\", \"ur\", split=\"test\",use_auth_token=True)"
      ],
      "execution_count": 30,
      "outputs": [
        {
          "output_type": "stream",
          "name": "stderr",
          "text": [
            "WARNING:datasets.builder:Reusing dataset common_voice_8_0 (/root/.cache/huggingface/datasets/mozilla-foundation___common_voice_8_0/ur/8.0.0/b2f8b72f8f30b2e98c41ccf855954d9e35a5fa498c43332df198534ff9797a4a)\n",
            "WARNING:datasets.builder:Reusing dataset common_voice_8_0 (/root/.cache/huggingface/datasets/mozilla-foundation___common_voice_8_0/ur/8.0.0/b2f8b72f8f30b2e98c41ccf855954d9e35a5fa498c43332df198534ff9797a4a)\n"
          ]
        }
      ]
    },
    {
      "cell_type": "markdown",
      "metadata": {
        "id": "ri5y5N_HMANq"
      },
      "source": [
        "Many ASR datasets only provide the target text, `'sentence'` for each audio array `'audio'` and file `'path'`. Common Voice actually provides much more information about each audio file, such as the `'accent'`, etc. Keeping the notebook as general as possible, we only consider the transcribed text for fine-tuning.\n",
        "\n"
      ]
    },
    {
      "cell_type": "code",
      "metadata": {
        "id": "kbyq6lDgQc2a"
      },
      "source": [
        "common_voice_train = common_voice_train.remove_columns([\"accent\", \"age\", \"client_id\", \"down_votes\", \"gender\", \"locale\", \"segment\", \"up_votes\"])\n",
        "common_voice_test = common_voice_test.remove_columns([\"accent\", \"age\", \"client_id\", \"down_votes\", \"gender\", \"locale\", \"segment\", \"up_votes\"])"
      ],
      "execution_count": 31,
      "outputs": []
    },
    {
      "cell_type": "markdown",
      "metadata": {
        "id": "Go9Hq4e4NDT9"
      },
      "source": [
        "Let's write a short function to display some random samples of the dataset and run it a couple of times to get a feeling for the transcriptions."
      ]
    },
    {
      "cell_type": "code",
      "metadata": {
        "id": "72737oog2F6U"
      },
      "source": [
        "from datasets import ClassLabel\n",
        "import random\n",
        "import pandas as pd\n",
        "from IPython.display import display, HTML\n",
        "\n",
        "def show_random_elements(dataset, num_examples=10):\n",
        "    assert num_examples <= len(dataset), \"Can't pick more elements than there are in the dataset.\"\n",
        "    picks = []\n",
        "    for _ in range(num_examples):\n",
        "        pick = random.randint(0, len(dataset)-1)\n",
        "        while pick in picks:\n",
        "            pick = random.randint(0, len(dataset)-1)\n",
        "        picks.append(pick)\n",
        "    \n",
        "    df = pd.DataFrame(dataset[picks])\n",
        "    display(HTML(df.to_html()))"
      ],
      "execution_count": 32,
      "outputs": []
    },
    {
      "cell_type": "code",
      "metadata": {
        "colab": {
          "base_uri": "https://localhost:8080/",
          "height": 363
        },
        "id": "K_JUmf3G3b9S",
        "outputId": "b30fe323-6d20-4a99-e2d5-1240722b6187"
      },
      "source": [
        "show_random_elements(common_voice_train.remove_columns([\"path\", \"audio\"]), num_examples=10)"
      ],
      "execution_count": 33,
      "outputs": [
        {
          "output_type": "display_data",
          "data": {
            "text/plain": [
              "<IPython.core.display.HTML object>"
            ],
            "text/html": [
              "<table border=\"1\" class=\"dataframe\">\n",
              "  <thead>\n",
              "    <tr style=\"text-align: right;\">\n",
              "      <th></th>\n",
              "      <th>sentence</th>\n",
              "    </tr>\n",
              "  </thead>\n",
              "  <tbody>\n",
              "    <tr>\n",
              "      <th>0</th>\n",
              "      <td>سڑک کے دونوں اطراف مزدور اپنی مزدوری کے انتظار میں</td>\n",
              "    </tr>\n",
              "    <tr>\n",
              "      <th>1</th>\n",
              "      <td>‘ کتنے پانی میں ہیں۔</td>\n",
              "    </tr>\n",
              "    <tr>\n",
              "      <th>2</th>\n",
              "      <td>تو یہ ساری مشق گناہ بے لذت کے سوا کچھ نہیں تھی۔</td>\n",
              "    </tr>\n",
              "    <tr>\n",
              "      <th>3</th>\n",
              "      <td>مزید دیر کئے بغیر آگ جلائی ۔</td>\n",
              "    </tr>\n",
              "    <tr>\n",
              "      <th>4</th>\n",
              "      <td>صورت حال خطرناک ہوسکتی ہے</td>\n",
              "    </tr>\n",
              "    <tr>\n",
              "      <th>5</th>\n",
              "      <td>یہ کتاب جانوروں کے بارے میں ہے۔</td>\n",
              "    </tr>\n",
              "    <tr>\n",
              "      <th>6</th>\n",
              "      <td>پاکستان دو لخت کیا ہو اسے یوم دفاع منانے کا کوئی حق نہیں ہے</td>\n",
              "    </tr>\n",
              "    <tr>\n",
              "      <th>7</th>\n",
              "      <td>ہم میں تو صلاحیت نہیں۔</td>\n",
              "    </tr>\n",
              "    <tr>\n",
              "      <th>8</th>\n",
              "      <td>کھلاڑی رمضان میں ٹریننگ میں احتیاط سے کام لیں</td>\n",
              "    </tr>\n",
              "    <tr>\n",
              "      <th>9</th>\n",
              "      <td>بات ترجیحات کی ہے۔</td>\n",
              "    </tr>\n",
              "  </tbody>\n",
              "</table>"
            ]
          },
          "metadata": {}
        }
      ]
    },
    {
      "cell_type": "markdown",
      "metadata": {
        "id": "fowcOllGNNju"
      },
      "source": [
        "Alright! The transcriptions look fairly clean. Having translated the transcribed sentences, it seems that the language corresponds more to written-out text than noisy dialogue. This makes sense considering that [Common Voice](https://huggingface.co/datasets/common_voice) is a crowd-sourced read speech corpus."
      ]
    },
    {
      "cell_type": "markdown",
      "metadata": {
        "id": "vq7OR50LN49m"
      },
      "source": [
        "We can see that the transcriptions contain some special characters, such as `,.?!;:`. Without a language model, it is much harder to classify speech chunks to such special characters because they don't really correspond to a characteristic sound unit. *E.g.*, the letter `\"s\"` has a more or less clear sound, whereas the special character `\".\"` does not.\n",
        "Also in order to understand the meaning of a speech signal, it is usually not necessary to include special characters in the transcription.\n",
        "\n",
        "Let's simply remove all characters that don't contribute to the meaning of a word and cannot really be represented by an acoustic sound and normalize the text."
      ]
    },
    {
      "cell_type": "code",
      "metadata": {
        "id": "svKzVJ_hQGK6"
      },
      "source": [
        "import re\n",
        "chars_to_remove_regex = '[\\۔\\!\\,\\؟\\:\\-\\“\\%\\‘\\’\\”\\،\\\"\\…\\ﷺ\\`\\%\\‘\\’\\”\\'َ\\'ُ\\'ِ\\'ّ\\'ٔ\\'ٰ|]'\n",
        "\n",
        "def remove_special_characters(batch):\n",
        "    batch[\"sentence\"] = re.sub(chars_to_remove_regex, '', str(batch[\"sentence\"])).lower()\n",
        "    return batch"
      ],
      "execution_count": 34,
      "outputs": []
    },
    {
      "cell_type": "code",
      "metadata": {
        "colab": {
          "base_uri": "https://localhost:8080/",
          "height": 86,
          "referenced_widgets": [
            "40f3c756080045b6842d09a66cf352e1",
            "d30c546c5d6f452491ac54c8b4fdd5c6",
            "994b41cce8444819bf8c76e866f1e3cb",
            "d659e9758ce14da9b316dcb3dcd15de5",
            "9b6968bd5dda43ff92f8821bbc3e745f",
            "2da4baf9a6f641eb9cff943517646a7f",
            "ea1967ee33e34028b13574d8a32f8eb1",
            "db50118458894409baa330323c9425cf",
            "1a05f6f53df248beac01a81e1054d5f8",
            "3e2534c860584abeb57d983719f722d3",
            "d1f1b470a5504deebe99bc8ab128425b"
          ]
        },
        "id": "XIHocAuTQbBR",
        "outputId": "a4cd4a78-ddbb-4894-b99e-370818f18e7b"
      },
      "source": [
        "common_voice_train = common_voice_train.map(remove_special_characters)\n",
        "common_voice_test = common_voice_test.map(remove_special_characters)"
      ],
      "execution_count": 35,
      "outputs": [
        {
          "output_type": "display_data",
          "data": {
            "text/plain": [
              "  0%|          | 0/2460 [00:00<?, ?ex/s]"
            ],
            "application/vnd.jupyter.widget-view+json": {
              "version_major": 2,
              "version_minor": 0,
              "model_id": "40f3c756080045b6842d09a66cf352e1"
            }
          },
          "metadata": {}
        },
        {
          "output_type": "stream",
          "name": "stderr",
          "text": [
            "WARNING:datasets.arrow_dataset:Loading cached processed dataset at /root/.cache/huggingface/datasets/mozilla-foundation___common_voice_8_0/ur/8.0.0/b2f8b72f8f30b2e98c41ccf855954d9e35a5fa498c43332df198534ff9797a4a/cache-3ecf14029392805f.arrow\n"
          ]
        }
      ]
    },
    {
      "cell_type": "markdown",
      "metadata": {
        "id": "TxnVS9gIhIma"
      },
      "source": [
        "Let's look at the processed text labels again."
      ]
    },
    {
      "cell_type": "code",
      "metadata": {
        "colab": {
          "base_uri": "https://localhost:8080/",
          "height": 363
        },
        "id": "RBDRAAYxRE6n",
        "outputId": "e3e5fdcb-d79b-4ffd-b0c9-df8609d9edc8"
      },
      "source": [
        "show_random_elements(common_voice_train.remove_columns([\"path\",\"audio\"]))"
      ],
      "execution_count": 36,
      "outputs": [
        {
          "output_type": "display_data",
          "data": {
            "text/plain": [
              "<IPython.core.display.HTML object>"
            ],
            "text/html": [
              "<table border=\"1\" class=\"dataframe\">\n",
              "  <thead>\n",
              "    <tr style=\"text-align: right;\">\n",
              "      <th></th>\n",
              "      <th>sentence</th>\n",
              "    </tr>\n",
              "  </thead>\n",
              "  <tbody>\n",
              "    <tr>\n",
              "      <th>0</th>\n",
              "      <td>چاہنا تو مرے تئیں امداد خوب ہے</td>\n",
              "    </tr>\n",
              "    <tr>\n",
              "      <th>1</th>\n",
              "      <td>کسی خاص واقعے کے حوالے سے اپنا</td>\n",
              "    </tr>\n",
              "    <tr>\n",
              "      <th>2</th>\n",
              "      <td>یہی ٹھیک راستہ ہے</td>\n",
              "    </tr>\n",
              "    <tr>\n",
              "      <th>3</th>\n",
              "      <td>اللہ تعالی کے حسن و جمال کا کوئی اندازہ نہیں لگا سکت</td>\n",
              "    </tr>\n",
              "    <tr>\n",
              "      <th>4</th>\n",
              "      <td>انتہائی کامیاب بھی رہیں</td>\n",
              "    </tr>\n",
              "    <tr>\n",
              "      <th>5</th>\n",
              "      <td>بتوں کا تو باقاعدہ ذکر ہوا</td>\n",
              "    </tr>\n",
              "    <tr>\n",
              "      <th>6</th>\n",
              "      <td>بس اللہ آپ کو خوش رکھے اور صحت دے</td>\n",
              "    </tr>\n",
              "    <tr>\n",
              "      <th>7</th>\n",
              "      <td>ہزا ر سال میں مکمل ہوگا لیکن تحقیق سی ظاہر ہوتا ہی</td>\n",
              "    </tr>\n",
              "    <tr>\n",
              "      <th>8</th>\n",
              "      <td>شاہد فریدی کہیں نہیں جارہے محمد زاہد</td>\n",
              "    </tr>\n",
              "    <tr>\n",
              "      <th>9</th>\n",
              "      <td>پاکستان ایک بار پھر یورو بانڈز کی مارکیٹ میں پہنچ گیا</td>\n",
              "    </tr>\n",
              "  </tbody>\n",
              "</table>"
            ]
          },
          "metadata": {}
        }
      ]
    },
    {
      "cell_type": "markdown",
      "metadata": {
        "id": "jwfaptH5RJwA"
      },
      "source": [
        "Good! This looks better. We have removed most special characters from transcriptions and normalized them to lower-case only.\n",
        "\n",
        "Before finalizing the pre-processing, it is always advantageous to consult a native speaker of the target language to see whether the text can be further simplified. \n",
        "For this blog post, [Merve](https://twitter.com/mervenoyann) was kind enough to take a quick look and noted that \"hatted\" characters - like `â` - aren't really used anymore in Turkish and can be replaced by their \"un-hatted\" equivalent, *e.g.* `a`. \n",
        "\n",
        "This means that we should replace a sentence like `\"yargı sistemi hâlâ sağlıksız\"` to `\"yargı sistemi hala sağlıksız\"`.\n",
        "\n",
        "Let's write another short mapping function to further simplify the text labels. Remember - the simler the text labels, the easier it is for the model to learn to predict those labels.\n",
        "\n"
      ]
    },
    {
      "cell_type": "code",
      "metadata": {
        "id": "aZcrz6z7lgGm"
      },
      "source": [
        "def replace_hatted_characters(batch):\n",
        "    batch[\"sentence\"] = re.sub('[\\u200c]', ' ', batch[\"sentence\"])\n",
        "    batch[\"sentence\"] = re.sub('[آ]', 'ا', batch[\"sentence\"])\n",
        "    batch[\"sentence\"] = re.sub('[ؤ]', 'و', batch[\"sentence\"])\n",
        "    batch[\"sentence\"] = re.sub('[أ]', 'ا', batch[\"sentence\"])\n",
        "    batch[\"sentence\"] = re.sub('[ئ]', 'ی', batch[\"sentence\"])\n",
        "    batch[\"sentence\"] = re.sub('[ۓ]', 'ے' , batch[\"sentence\"])\n",
        "    batch[\"sentence\"] = re.sub('[ﷲ]', 'اللہ' , batch[\"sentence\"])\n",
        "    batch[\"sentence\"] = re.sub('[ۂ]', 'ہ' , batch[\"sentence\"])\n",
        "    batch[\"sentence\"] = re.sub('[ۃ]', 'ہ' , batch[\"sentence\"])\n",
        "    return batch"
      ],
      "execution_count": 37,
      "outputs": []
    },
    {
      "cell_type": "code",
      "metadata": {
        "colab": {
          "base_uri": "https://localhost:8080/",
          "height": 86,
          "referenced_widgets": [
            "1a8acc5d0bca4f3c995abc62f7199581",
            "63ff9c145b454c83b9b1e55cd6aa256c",
            "3730c0fd87844a10b2d4ad1c3891be3f",
            "2d252e81370740d9b3ad0e8474dfb607",
            "17e3fec9ad82404b80b8a750799dd77d",
            "669236dfa61e48f9bd76fd99d445533d",
            "287132776b1f483cbe0e578775da8298",
            "a15185837578435aa38ddb29ec3611bf",
            "9b1c0fbf830e4a4fa6ed204c526e0ffc",
            "f8e3daafd03a4cbfa2dc544e000f540a",
            "844a55abcff741a9b7e57769244e80fb"
          ]
        },
        "id": "ieGhhND5mSwI",
        "outputId": "462d83e8-f1bb-4033-c62a-00da1de6ca5a"
      },
      "source": [
        "common_voice_train = common_voice_train.map(replace_hatted_characters)\n",
        "common_voice_test = common_voice_test.map(replace_hatted_characters)"
      ],
      "execution_count": 38,
      "outputs": [
        {
          "output_type": "display_data",
          "data": {
            "text/plain": [
              "  0%|          | 0/2460 [00:00<?, ?ex/s]"
            ],
            "application/vnd.jupyter.widget-view+json": {
              "version_major": 2,
              "version_minor": 0,
              "model_id": "1a8acc5d0bca4f3c995abc62f7199581"
            }
          },
          "metadata": {}
        },
        {
          "output_type": "stream",
          "name": "stderr",
          "text": [
            "WARNING:datasets.arrow_dataset:Loading cached processed dataset at /root/.cache/huggingface/datasets/mozilla-foundation___common_voice_8_0/ur/8.0.0/b2f8b72f8f30b2e98c41ccf855954d9e35a5fa498c43332df198534ff9797a4a/cache-8335437eaf9def5f.arrow\n"
          ]
        }
      ]
    },
    {
      "cell_type": "markdown",
      "metadata": {
        "id": "3ORHDb2Th2TW"
      },
      "source": [
        "In CTC, it is common to classify speech chunks into letters, so we will do the same here. \n",
        "Let's extract all distinct letters of the training and test data and build our vocabulary from this set of letters.\n",
        "\n",
        "We write a mapping function that concatenates all transcriptions into one long transcription and then transforms the string into a set of chars. \n",
        "It is important to pass the argument `batched=True` to the `map(...)` function so that the mapping function has access to all transcriptions at once."
      ]
    },
    {
      "cell_type": "code",
      "metadata": {
        "id": "LwCshNbbeRZR"
      },
      "source": [
        "def extract_all_chars(batch):\n",
        "  all_text = \" \".join(batch[\"sentence\"])\n",
        "  vocab = list(set(all_text))\n",
        "  return {\"vocab\": [vocab], \"all_text\": [all_text]}"
      ],
      "execution_count": 39,
      "outputs": []
    },
    {
      "cell_type": "code",
      "metadata": {
        "colab": {
          "base_uri": "https://localhost:8080/",
          "height": 81,
          "referenced_widgets": [
            "911e92be88b441419eb15e33ad4e1950",
            "81778c5baae4453dbeaf3c169790c638",
            "e9ead42dddaf4da38ce97d1e7432159c",
            "994509eec3e64a229283f849b863b3e4",
            "9c228e9783654401b1d6cb5bd4cec508",
            "bbff124cae88480d9f1815f0d0784dea",
            "15c3aafb120d4f4791eeb50ed16c304b",
            "cc93d0367bdf4140bb079b39752c7732",
            "30dd52ddef90486c823d9ad175550ead",
            "d7b1df5afa6f45f08a64b227ddc18fde",
            "d9c311185c384487bf2dbe264be1fabd",
            "4a5563a7659044c5ac619a6aea77c211",
            "99ccc34f91fe435e88e7c92904043566",
            "5b0993429e67494aa640c102558d0393",
            "0ce0b34b7dde4c96930b3051eccae854",
            "e431c6e7bb144fe0a4f90364a38eddcc",
            "9917695e4df24ef8aa1b29ddb0e77090",
            "70a70340437240d5a3a8f6026a07fdf0",
            "19b5f7e289de406f8f62597148e8f800",
            "958f246a2234426a933fc331e1b736f7",
            "82b40a6389ba40d6b827e04a240bf927",
            "110fdb8f3e33410492d7f60ddd47823b"
          ]
        },
        "id": "_m6uUjjcfbjH",
        "outputId": "555138f2-c9c3-4d48-94b7-97fb88c3fc0b"
      },
      "source": [
        "vocab_train = common_voice_train.map(extract_all_chars, batched=True, batch_size=-1, keep_in_memory=True, remove_columns=common_voice_train.column_names)\n",
        "vocab_test = common_voice_test.map(extract_all_chars, batched=True, batch_size=-1, keep_in_memory=True, remove_columns=common_voice_test.column_names)"
      ],
      "execution_count": 40,
      "outputs": [
        {
          "output_type": "display_data",
          "data": {
            "text/plain": [
              "  0%|          | 0/1 [00:00<?, ?ba/s]"
            ],
            "application/vnd.jupyter.widget-view+json": {
              "version_major": 2,
              "version_minor": 0,
              "model_id": "911e92be88b441419eb15e33ad4e1950"
            }
          },
          "metadata": {}
        },
        {
          "output_type": "display_data",
          "data": {
            "text/plain": [
              "  0%|          | 0/1 [00:00<?, ?ba/s]"
            ],
            "application/vnd.jupyter.widget-view+json": {
              "version_major": 2,
              "version_minor": 0,
              "model_id": "4a5563a7659044c5ac619a6aea77c211"
            }
          },
          "metadata": {}
        }
      ]
    },
    {
      "cell_type": "markdown",
      "metadata": {
        "id": "7oVgE8RZSJNP"
      },
      "source": [
        "Now, we create the union of all distinct letters in the training dataset and test dataset and convert the resulting list into an enumerated dictionary."
      ]
    },
    {
      "cell_type": "code",
      "metadata": {
        "id": "aQfneNsmlJI0"
      },
      "source": [
        "vocab_list = list(set(vocab_train[\"vocab\"][0]) | set(vocab_test[\"vocab\"][0]))"
      ],
      "execution_count": 41,
      "outputs": []
    },
    {
      "cell_type": "code",
      "metadata": {
        "colab": {
          "base_uri": "https://localhost:8080/"
        },
        "id": "_0kRndSvqaKk",
        "outputId": "a406f19b-4611-4ced-9760-00153f60815c"
      },
      "source": [
        "vocab_dict = {v: k for k, v in enumerate(sorted(vocab_list))}\n",
        "vocab_dict"
      ],
      "execution_count": 42,
      "outputs": [
        {
          "output_type": "execute_result",
          "data": {
            "text/plain": [
              "{' ': 0,\n",
              " 'ء': 1,\n",
              " 'ا': 2,\n",
              " 'ب': 3,\n",
              " 'ت': 4,\n",
              " 'ث': 5,\n",
              " 'ج': 6,\n",
              " 'ح': 7,\n",
              " 'خ': 8,\n",
              " 'د': 9,\n",
              " 'ذ': 10,\n",
              " 'ر': 11,\n",
              " 'ز': 12,\n",
              " 'س': 13,\n",
              " 'ش': 14,\n",
              " 'ص': 15,\n",
              " 'ض': 16,\n",
              " 'ط': 17,\n",
              " 'ظ': 18,\n",
              " 'ع': 19,\n",
              " 'غ': 20,\n",
              " 'ف': 21,\n",
              " 'ق': 22,\n",
              " 'ل': 23,\n",
              " 'م': 24,\n",
              " 'ن': 25,\n",
              " 'و': 26,\n",
              " 'ى': 27,\n",
              " 'ي': 28,\n",
              " 'ً': 29,\n",
              " 'ٓ': 30,\n",
              " 'ٹ': 31,\n",
              " 'پ': 32,\n",
              " 'چ': 33,\n",
              " 'ڈ': 34,\n",
              " 'ڑ': 35,\n",
              " 'ژ': 36,\n",
              " 'ک': 37,\n",
              " 'گ': 38,\n",
              " 'ں': 39,\n",
              " 'ھ': 40,\n",
              " 'ہ': 41,\n",
              " 'ی': 42,\n",
              " 'ے': 43}"
            ]
          },
          "metadata": {},
          "execution_count": 42
        }
      ]
    },
    {
      "cell_type": "markdown",
      "metadata": {
        "id": "JOSzbvs9SXT1"
      },
      "source": [
        "Cool, we see that all letters of the alphabet occur in the dataset (which is not really surprising) and we also extracted the special characters `\"\"` and `'`. Note that we did not exclude those special characters because: \n",
        "\n",
        "The model has to learn to predict when a word is finished or else the model prediction would always be a sequence of chars which would make it impossible to separate words from each other.\n",
        "\n",
        "One should always keep in mind that pre-processing is a very important step before training your model. E.g., we don't want our model to differentiate between `a` and `A` just because we forgot to normalize the data. The difference between `a` and `A` does not depend on the \"sound\" of the letter at all, but more on grammatical rules - *e.g.* use a capitalized letter at the beginning of the sentence. So it is sensible to remove the difference between capitalized and non-capitalized letters so that the model has an easier time learning to transcribe speech. "
      ]
    },
    {
      "cell_type": "markdown",
      "metadata": {
        "id": "b1fBRCn-TRaO"
      },
      "source": [
        "To make it clearer that `\" \"` has its own token class, we give it a more visible character `|`. In addition, we also add an \"unknown\" token so that the model can later deal with characters not encountered in Common Voice's training set. "
      ]
    },
    {
      "cell_type": "code",
      "metadata": {
        "id": "npbIbBoLgaFX"
      },
      "source": [
        "vocab_dict[\"|\"] = vocab_dict[\" \"]\n",
        "del vocab_dict[\" \"]"
      ],
      "execution_count": 43,
      "outputs": []
    },
    {
      "cell_type": "markdown",
      "metadata": {
        "id": "_9yCWg4Sd0cb"
      },
      "source": [
        "Finally, we also add a padding token that corresponds to CTC's \"*blank token*\". The \"blank token\" is a core component of the CTC algorithm. For more information, please take a look at the \"Alignment\" section [here](https://distill.pub/2017/ctc/)."
      ]
    },
    {
      "cell_type": "code",
      "metadata": {
        "colab": {
          "base_uri": "https://localhost:8080/"
        },
        "id": "znF0bNunsjbl",
        "outputId": "cf4f649e-3431-40b9-8ef7-1cb5aa12888e"
      },
      "source": [
        "vocab_dict[\"[UNK]\"] = len(vocab_dict)\n",
        "vocab_dict[\"[PAD]\"] = len(vocab_dict)\n",
        "len(vocab_dict)"
      ],
      "execution_count": 44,
      "outputs": [
        {
          "output_type": "execute_result",
          "data": {
            "text/plain": [
              "46"
            ]
          },
          "metadata": {},
          "execution_count": 44
        }
      ]
    },
    {
      "cell_type": "markdown",
      "metadata": {
        "id": "SFPGfet8U5sL"
      },
      "source": [
        "Cool, now our vocabulary is complete and consists of 39 tokens, which means that the linear layer that we will add on top of the pretrained XLS-R checkpoint will have an output dimension of 39."
      ]
    },
    {
      "cell_type": "markdown",
      "metadata": {
        "id": "1CujRgBNVRaD"
      },
      "source": [
        "Let's now save the vocabulary as a json file."
      ]
    },
    {
      "cell_type": "code",
      "metadata": {
        "id": "ehyUoh9vk191"
      },
      "source": [
        "import json\n",
        "with open('vocab.json', 'w') as vocab_file:\n",
        "    json.dump(vocab_dict, vocab_file)"
      ],
      "execution_count": 45,
      "outputs": []
    },
    {
      "cell_type": "markdown",
      "metadata": {
        "id": "SHJDaKlIVVim"
      },
      "source": [
        "In a final step, we use the json file to load the vocabulary into an instance of the `Wav2Vec2CTCTokenizer` class."
      ]
    },
    {
      "cell_type": "code",
      "metadata": {
        "colab": {
          "base_uri": "https://localhost:8080/"
        },
        "id": "xriFGEWQkO4M",
        "outputId": "ed1c3dd2-bd5c-4a47-ddb3-9d4f18b7a47f"
      },
      "source": [
        "from transformers import Wav2Vec2CTCTokenizer\n",
        "\n",
        "tokenizer = Wav2Vec2CTCTokenizer.from_pretrained(\"./\", unk_token=\"[UNK]\", pad_token=\"[PAD]\", word_delimiter_token=\"|\")"
      ],
      "execution_count": 46,
      "outputs": [
        {
          "output_type": "stream",
          "name": "stderr",
          "text": [
            "Special tokens have been added in the vocabulary, make sure the associated word embeddings are fine-tuned or trained.\n"
          ]
        }
      ]
    },
    {
      "cell_type": "markdown",
      "metadata": {
        "id": "KvL12DrNV4cx"
      },
      "source": [
        "If one wants to re-use the just created tokenizer with the fine-tuned model of this notebook, it is strongly advised to upload the `tokenizer` to the [🤗 Hub](https://huggingface.co/). Let's call the repo to which we will upload the files\n",
        "`\"wav2vec2-large-xlsr-turkish-demo-colab\"`:"
      ]
    },
    {
      "cell_type": "code",
      "source": [
        "from huggingface_hub import create_repo"
      ],
      "metadata": {
        "id": "62raomp5cyea"
      },
      "execution_count": 25,
      "outputs": []
    },
    {
      "cell_type": "code",
      "metadata": {
        "id": "A1XApZBAF2zr"
      },
      "source": [
        "repo_name = \"xls-r_cv_ur\""
      ],
      "execution_count": 47,
      "outputs": []
    },
    {
      "cell_type": "markdown",
      "metadata": {
        "id": "B1BiezWZF16d"
      },
      "source": [
        "and upload the tokenizer to the [🤗 Hub](https://huggingface.co/)."
      ]
    },
    {
      "cell_type": "code",
      "metadata": {
        "colab": {
          "base_uri": "https://localhost:8080/"
        },
        "id": "zytE1175GAKM",
        "outputId": "711b1f92-cdbb-4583-960c-ad3f3b1b5240"
      },
      "source": [
        "tokenizer.push_to_hub(repo_name)"
      ],
      "execution_count": 48,
      "outputs": [
        {
          "output_type": "stream",
          "name": "stderr",
          "text": [
            "/usr/local/lib/python3.7/dist-packages/huggingface_hub/utils/_deprecation.py:42: FutureWarning: Deprecated positional argument(s) used in 'create_repo': pass token='xls-r_cv_ur' as keyword args. From version 0.12 passing these as positional arguments will result in an error,\n",
            "  FutureWarning,\n",
            "/usr/local/lib/python3.7/dist-packages/huggingface_hub/hf_api.py:684: FutureWarning: `create_repo` now takes `token` as an optional positional argument. Be sure to adapt your code!\n",
            "  FutureWarning,\n",
            "Cloning https://huggingface.co/BakhtUllah123/xls-r_cv_ur into local empty directory.\n",
            "WARNING:huggingface_hub.repository:Cloning https://huggingface.co/BakhtUllah123/xls-r_cv_ur into local empty directory.\n"
          ]
        }
      ]
    },
    {
      "cell_type": "markdown",
      "metadata": {
        "id": "SwQM8lH_GGuP"
      },
      "source": [
        "Great, you can see the just created repository under `https://huggingface.co/<your-username>/wav2vec2-large-xls-r-300m-tr-colab`"
      ]
    },
    {
      "cell_type": "markdown",
      "metadata": {
        "id": "mYcIiR2FQ96i"
      },
      "source": [
        "### Create `Wav2Vec2FeatureExtractor`"
      ]
    },
    {
      "cell_type": "markdown",
      "metadata": {
        "id": "Y6mDEyW719rx"
      },
      "source": [
        "Speech is a continuous signal and to be treated by computers, it first has to be discretized, which is usually called **sampling**. The sampling rate hereby plays an important role in that it defines how many data points of the speech signal are measured per second. Therefore, sampling with a higher sampling rate results in a better approximation of the *real* speech signal but also necessitates more values per second.\n",
        "\n",
        "A pretrained checkpoint expects its input data to have been sampled more or less from the same distribution as the data it was trained on. The same speech signals sampled at two different rates have a very different distribution, *e.g.*, doubling the sampling rate results in data points being twice as long. Thus, \n",
        "before fine-tuning a pretrained checkpoint of an ASR model, it is crucial to verify that the sampling rate of the data that was used to pretrain the model matches the sampling rate of the dataset used to fine-tune the model.\n",
        "\n",
        "XLS-R was pretrained on audio data of [Babel](http://www.reading.ac.uk/AcaDepts/ll/speechlab/babel/r), \n",
        "[Multilingual LibriSpeech (MLS)](https://huggingface.co/datasets/multilingual_librispeech), [Common Voice](https://huggingface.co/datasets/common_voice), [VoxPopuli](https://arxiv.org/abs/2101.00390), and [VoxLingua107](https://arxiv.org/abs/2011.12998) at a sampling rate of 16kHz. Common Voice, in its original form, has a sampling rate of 48kHz, thus we will have to downsample the fine-tuning data to 16kHz in the following.\n",
        "\n"
      ]
    },
    {
      "cell_type": "markdown",
      "metadata": {
        "id": "KuUbPW7oV-B5"
      },
      "source": [
        "A `Wav2Vec2FeatureExtractor` object requires the following parameters to be instantiated:\n",
        "\n",
        "- `feature_size`: Speech models take a sequence of feature vectors as an input. While the length of this sequence obviously varies, the feature size should not. In the case of Wav2Vec2, the feature size is 1 because the model was trained on the raw speech signal ${}^2$.\n",
        "- `sampling_rate`: The sampling rate at which the model is trained on.\n",
        "- `padding_value`: For batched inference, shorter inputs need to be padded with a specific value\n",
        "- `do_normalize`: Whether the input should be *zero-mean-unit-variance* normalized or not. Usually, speech models perform better when normalizing the input\n",
        "- `return_attention_mask`: Whether the model should make use of an `attention_mask` for batched inference. In general, XLS-R models checkpoints should **always** use the `attention_mask`."
      ]
    },
    {
      "cell_type": "code",
      "metadata": {
        "id": "kAR0-2KLkopp"
      },
      "source": [
        "from transformers import Wav2Vec2FeatureExtractor\n",
        "\n",
        "feature_extractor = Wav2Vec2FeatureExtractor(feature_size=1, sampling_rate=16000, padding_value=0.0, do_normalize=True, return_attention_mask=True)"
      ],
      "execution_count": 49,
      "outputs": []
    },
    {
      "cell_type": "markdown",
      "metadata": {
        "id": "qUETetgqYC3W"
      },
      "source": [
        "Great, XLS-R's feature extraction pipeline is thereby fully defined!\n",
        "\n",
        "For improved user-friendliness, the feature extractor and tokenizer are *wrapped* into a single `Wav2Vec2Processor` class so that one only needs a `model` and `processor` object."
      ]
    },
    {
      "cell_type": "code",
      "metadata": {
        "id": "KYZtoW-tlZgl"
      },
      "source": [
        "from transformers import Wav2Vec2Processor\n",
        "\n",
        "processor = Wav2Vec2Processor(feature_extractor=feature_extractor, tokenizer=tokenizer)"
      ],
      "execution_count": 50,
      "outputs": []
    },
    {
      "cell_type": "markdown",
      "metadata": {
        "id": "DrKnYuvDIoOO"
      },
      "source": [
        "Next, we can prepare the dataset."
      ]
    },
    {
      "cell_type": "markdown",
      "metadata": {
        "id": "YFmShnl7RE35"
      },
      "source": [
        "### Preprocess Data\n",
        "\n",
        "So far, we have not looked at the actual values of the speech signal but just the transcription. In addition to `sentence`, our datasets include two more column names `path` and `audio`. `path` states the absolute path of the audio file. Let's take a look.\n"
      ]
    },
    {
      "cell_type": "code",
      "metadata": {
        "colab": {
          "base_uri": "https://localhost:8080/",
          "height": 53
        },
        "id": "TTCS7W6XJ9BG",
        "outputId": "eb28245c-a9d5-41e0-bf7d-61a714be1c0f"
      },
      "source": [
        "common_voice_train[0][\"path\"]"
      ],
      "execution_count": 51,
      "outputs": [
        {
          "output_type": "execute_result",
          "data": {
            "text/plain": [
              "'/root/.cache/huggingface/datasets/downloads/extracted/a06a0d310e758fb842573373d89f6cf9b011859e285bd5ea4bdb4f4518b9a760/cv-corpus-8.0-2022-01-19/ur/clips/common_voice_ur_26630004.mp3'"
            ],
            "application/vnd.google.colaboratory.intrinsic+json": {
              "type": "string"
            }
          },
          "metadata": {},
          "execution_count": 51
        }
      ]
    },
    {
      "cell_type": "markdown",
      "metadata": {
        "id": "T6ndIjHGFp0W"
      },
      "source": [
        "XLS-R expects the input in the format of a 1-dimensional array of 16 kHz. This means that the audio file has to be loaded and resampled.\n",
        "\n",
        " Thankfully, `datasets` does this automatically by calling the other column `audio`. Let try it out. "
      ]
    },
    {
      "cell_type": "code",
      "metadata": {
        "colab": {
          "base_uri": "https://localhost:8080/"
        },
        "id": "qj_z5Zc3GAs9",
        "outputId": "cddfe955-d656-49a4-ef90-cc761e4b07ec"
      },
      "source": [
        "common_voice_train[0][\"audio\"]"
      ],
      "execution_count": 52,
      "outputs": [
        {
          "output_type": "execute_result",
          "data": {
            "text/plain": [
              "{'path': '/root/.cache/huggingface/datasets/downloads/extracted/a06a0d310e758fb842573373d89f6cf9b011859e285bd5ea4bdb4f4518b9a760/cv-corpus-8.0-2022-01-19/ur/clips/common_voice_ur_26630004.mp3',\n",
              " 'array': array([ 0.        ,  0.        ,  0.        , ..., -0.00035681,\n",
              "        -0.00042839, -0.0002742 ], dtype=float32),\n",
              " 'sampling_rate': 48000}"
            ]
          },
          "metadata": {},
          "execution_count": 52
        }
      ]
    },
    {
      "cell_type": "markdown",
      "metadata": {
        "id": "WUUTgI1bGHW-"
      },
      "source": [
        "Great, we can see that the audio file has automatically been loaded. This is thanks to the new [`\"Audio\"` feature](https://huggingface.co/docs/datasets/package_reference/main_classes.html?highlight=audio#datasets.Audio) introduced in `datasets == 4.13.3`, which loads and resamples audio files on-the-fly upon calling.\n",
        "\n",
        "In the example above we can see that the audio data is loaded with a sampling rate of 48kHz whereas 16kHz are expected by the model. We can set the audio feature to the correct sampling rate by making use of [`cast_column`](https://huggingface.co/docs/datasets/package_reference/main_classes.html?highlight=cast_column#datasets.DatasetDict.cast_column):"
      ]
    },
    {
      "cell_type": "code",
      "metadata": {
        "id": "rrv65aj7G95i"
      },
      "source": [
        "common_voice_train = common_voice_train.cast_column(\"audio\", Audio(sampling_rate=16_000))\n",
        "common_voice_test = common_voice_test.cast_column(\"audio\", Audio(sampling_rate=16_000))"
      ],
      "execution_count": 53,
      "outputs": []
    },
    {
      "cell_type": "markdown",
      "metadata": {
        "id": "PcnO4x-NGBEi"
      },
      "source": [
        "Let's take a look at `\"audio\"` again."
      ]
    },
    {
      "cell_type": "code",
      "metadata": {
        "colab": {
          "base_uri": "https://localhost:8080/"
        },
        "id": "aKtkc1o_HWHC",
        "outputId": "5b8aec93-9b67-42db-b177-142ab330fb08"
      },
      "source": [
        "common_voice_train[0][\"audio\"]"
      ],
      "execution_count": 54,
      "outputs": [
        {
          "output_type": "execute_result",
          "data": {
            "text/plain": [
              "{'path': '/root/.cache/huggingface/datasets/downloads/extracted/a06a0d310e758fb842573373d89f6cf9b011859e285bd5ea4bdb4f4518b9a760/cv-corpus-8.0-2022-01-19/ur/clips/common_voice_ur_26630004.mp3',\n",
              " 'array': array([ 0.000000e+00,  0.000000e+00,  0.000000e+00, ...,  9.434595e-06,\n",
              "        -3.136347e-04, -3.876609e-04], dtype=float32),\n",
              " 'sampling_rate': 16000}"
            ]
          },
          "metadata": {},
          "execution_count": 54
        }
      ]
    },
    {
      "cell_type": "markdown",
      "metadata": {
        "id": "SOckzFd4Mbzq"
      },
      "source": [
        "This seemed to have worked! Let's listen to a couple of audio files to better understand the dataset and verify that the audio was correctly loaded. \n",
        "\n",
        "**Note**: *You can click the following cell a couple of times to listen to different speech samples.*"
      ]
    },
    {
      "cell_type": "code",
      "metadata": {
        "colab": {
          "base_uri": "https://localhost:8080/",
          "height": 93
        },
        "id": "dueM6U7Ev0OA",
        "outputId": "a5de4481-f020-4a41-927f-5bcbbcc9d05b"
      },
      "source": [
        "import IPython.display as ipd\n",
        "import numpy as np\n",
        "import random\n",
        "\n",
        "rand_int = random.randint(0, len(common_voice_train)-1)\n",
        "\n",
        "print(common_voice_train[rand_int][\"sentence\"])\n",
        "ipd.Audio(data=common_voice_train[rand_int][\"audio\"][\"array\"], autoplay=True, rate=16000)"
      ],
      "execution_count": 55,
      "outputs": [
        {
          "output_type": "stream",
          "name": "stdout",
          "text": [
            "ادھر بت تو کم بنایےگیے مگر انہوں نے فوٹو بنا کر انکی پرستش البتہ خو ب کی\n"
          ]
        },
        {
          "output_type": "execute_result",
          "data": {
            "text/plain": [
              "<IPython.lib.display.Audio object>"
            ],
            "text/html": [
              "\n",
              "                <audio  controls=\"controls\" autoplay=\"autoplay\">\n",
              "                    <source src=\"data:audio/wav;base64,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\" type=\"audio/wav\" />\n",
              "                    Your browser does not support the audio element.\n",
              "                </audio>\n",
              "              "
            ]
          },
          "metadata": {},
          "execution_count": 55
        }
      ]
    },
    {
      "cell_type": "markdown",
      "metadata": {
        "id": "gY8m3vARHYTa"
      },
      "source": [
        "It seems like the data is now correctly loaded and resampled. "
      ]
    },
    {
      "cell_type": "markdown",
      "metadata": {
        "id": "1MaL9J2dNVtG"
      },
      "source": [
        "It can be heard, that the speakers change along with their speaking rate, accent, and background environment, etc. Overall, the recordings sound acceptably clear though, which is to be expected from a crowd-sourced read speech corpus.\n",
        "\n",
        "Let's do a final check that the data is correctly prepared, by printing the shape of the speech input, its transcription, and the corresponding sampling rate.\n",
        "\n",
        "**Note**: *You can click the following cell a couple of times to verify multiple samples.*"
      ]
    },
    {
      "cell_type": "code",
      "metadata": {
        "colab": {
          "base_uri": "https://localhost:8080/"
        },
        "id": "1Po2g7YPuRTx",
        "outputId": "b371f039-20d5-4a4c-a6fc-28e299803cf6"
      },
      "source": [
        "rand_int = random.randint(0, len(common_voice_train)-1)\n",
        "\n",
        "print(\"Target text:\", common_voice_train[rand_int][\"sentence\"])\n",
        "print(\"Input array shape:\", common_voice_train[rand_int][\"audio\"][\"array\"].shape)\n",
        "print(\"Sampling rate:\", common_voice_train[rand_int][\"audio\"][\"sampling_rate\"])"
      ],
      "execution_count": 56,
      "outputs": [
        {
          "output_type": "stream",
          "name": "stdout",
          "text": [
            "Target text: حقیقت کی غلط تشریح کرتا ہوں\n",
            "Input array shape: (40320,)\n",
            "Sampling rate: 16000\n"
          ]
        }
      ]
    },
    {
      "cell_type": "markdown",
      "metadata": {
        "id": "M9teZcSwOBJ4"
      },
      "source": [
        "Good! Everything looks fine - the data is a 1-dimensional array, the sampling rate always corresponds to 16kHz, and the target text is normalized."
      ]
    },
    {
      "cell_type": "markdown",
      "metadata": {
        "id": "k3Pbn5WvOYZF"
      },
      "source": [
        "Finally, we can leverage `Wav2Vec2Processor` to process the data to the format expected by `Wav2Vec2ForCTC` for training. To do so let's make use of Dataset's [`map(...)`](https://huggingface.co/docs/datasets/package_reference/main_classes.html?highlight=map#datasets.DatasetDict.map) function.\n",
        "\n",
        "First, we load and resample the audio data, simply by calling `batch[\"audio\"]`.\n",
        "Second, we extract the `input_values` from the loaded audio file. In our case, the `Wav2Vec2Processor` only normalizes the data. For other speech models, however, this step can include more complex feature extraction, such as [Log-Mel feature extraction](https://en.wikipedia.org/wiki/Mel-frequency_cepstrum). \n",
        "Third, we encode the transcriptions to label ids.\n",
        "\n",
        "**Note**: This mapping function is a good example of how the `Wav2Vec2Processor` class should be used. In \"normal\" context, calling `processor(...)` is redirected to `Wav2Vec2FeatureExtractor`'s call method. When wrapping the processor into the `as_target_processor` context, however, the same method is redirected to `Wav2Vec2CTCTokenizer`'s call method.\n",
        "For more information please check the [docs](https://huggingface.co/transformers/master/model_doc/wav2vec2.html#transformers.Wav2Vec2Processor.__call__)."
      ]
    },
    {
      "cell_type": "code",
      "source": [
        "new_common_voice_test=common_voice_test"
      ],
      "metadata": {
        "id": "eSSEjup90o9J"
      },
      "execution_count": 57,
      "outputs": []
    },
    {
      "cell_type": "code",
      "metadata": {
        "id": "eJY7I0XAwe9p"
      },
      "source": [
        "def prepare_dataset(batch):\n",
        "    audio = batch[\"audio\"]\n",
        "\n",
        "    # batched output is \"un-batched\"\n",
        "    batch[\"input_values\"] = processor(audio[\"array\"], sampling_rate=audio[\"sampling_rate\"]).input_values[0]\n",
        "    batch[\"input_length\"] = len(batch[\"input_values\"])\n",
        "    \n",
        "    with processor.as_target_processor():\n",
        "        batch[\"labels\"] = processor(batch[\"sentence\"]).input_ids\n",
        "    return batch"
      ],
      "execution_count": 58,
      "outputs": []
    },
    {
      "cell_type": "markdown",
      "metadata": {
        "id": "q6Pg_WR3OGAP"
      },
      "source": [
        "Let's apply the data preparation function to all examples."
      ]
    },
    {
      "cell_type": "code",
      "metadata": {
        "colab": {
          "base_uri": "https://localhost:8080/",
          "height": 81,
          "referenced_widgets": [
            "dd9b673690104626b0658ec94070b77e",
            "cab1979a7c074b97a17d4684d93aa516",
            "6fd44138a00d4957bdbc5779c67fd425",
            "73011f8f522441cba577135296e85945",
            "5adaea9930894c77ac8991bc64f6309a",
            "9d69707c2dfd4872845c63a0d1f30163",
            "9c06b7f4d02d4250bb55516c0945f907",
            "25a8fd672a14443590af1e23195237e1",
            "9526c069924248449d39d12ceda1c2ef",
            "935608e9932a4d3b9fafcd01b59acc1b",
            "0bf0cf59a4884adea7d4b35b6ec0c6bf",
            "7c0794a9d5b24da8a966a6797d57790d",
            "36eeda386543462bb8b6b3a06c29aa36",
            "046c4031b2ac44a4b3888097ddfd61b5",
            "d6cd6b42d1be454c81eca1ed149fbdcb",
            "679118eecfec431e9d77e1df96f19bb1",
            "e00d3ffe701e442999a14cc14def137d",
            "8bb6301532594abb9af0df5288967021",
            "8e35ad20745c4601be36059bc27265a8",
            "cc282d2350a24e279778c4f8ea7b2418",
            "2d9bf778f0664f0297c64a18e2fb566f",
            "1ab952fde8be4783b0a3bc7319d22771"
          ]
        },
        "id": "-np9xYK-wl8q",
        "outputId": "12148c26-1948-406a-bc92-b1896f883abd"
      },
      "source": [
        "common_voice_train = common_voice_train.map(prepare_dataset, remove_columns=common_voice_train.column_names)\n",
        "common_voice_test = common_voice_test.map(prepare_dataset, remove_columns=common_voice_test.column_names)"
      ],
      "execution_count": 59,
      "outputs": [
        {
          "output_type": "display_data",
          "data": {
            "text/plain": [
              "  0%|          | 0/2460 [00:00<?, ?ex/s]"
            ],
            "application/vnd.jupyter.widget-view+json": {
              "version_major": 2,
              "version_minor": 0,
              "model_id": "dd9b673690104626b0658ec94070b77e"
            }
          },
          "metadata": {}
        },
        {
          "output_type": "display_data",
          "data": {
            "text/plain": [
              "  0%|          | 0/341 [00:00<?, ?ex/s]"
            ],
            "application/vnd.jupyter.widget-view+json": {
              "version_major": 2,
              "version_minor": 0,
              "model_id": "7c0794a9d5b24da8a966a6797d57790d"
            }
          },
          "metadata": {}
        }
      ]
    },
    {
      "cell_type": "markdown",
      "metadata": {
        "id": "nKcEWHvKI1by"
      },
      "source": [
        "**Note**: Currently `datasets` make use of [`torchaudio`](https://pytorch.org/audio/stable/index.html) and [`librosa`](https://librosa.org/doc/latest/index.html) for audio loading and resampling. If you wish to implement your own costumized data loading/sampling, feel free to just make use of the `\"path\"` column instead and disregard the `\"audio\"` column."
      ]
    },
    {
      "cell_type": "markdown",
      "metadata": {
        "id": "24CxHd5ewI4T"
      },
      "source": [
        "Long input sequences require a lot of memory. XLS-R is based on `self-attention` the memory requirement scales quadratically with the input length for long input sequences (*cf.* with [this](https://www.reddit.com/r/MachineLearning/comments/genjvb/d_why_is_the_maximum_input_sequence_length_of/) reddit post). In case this demo crashes with an \"Out-of-memory\" error for you, you might want to uncomment the following lines to filter all sequences that are longer than 5 seconds for training."
      ]
    },
    {
      "cell_type": "code",
      "metadata": {
        "id": "tdHfbUJ_09iA"
      },
      "source": [
        "#max_input_length_in_sec = 5.0\n",
        "#common_voice_train = common_voice_train.filter(lambda x: x < max_input_length_in_sec * processor.feature_extractor.sampling_rate, input_columns=[\"input_length\"])"
      ],
      "execution_count": null,
      "outputs": []
    },
    {
      "cell_type": "markdown",
      "metadata": {
        "id": "1ZWDCCKqwcfS"
      },
      "source": [
        "Awesome, now we are ready to start training!"
      ]
    },
    {
      "cell_type": "markdown",
      "metadata": {
        "id": "gYlQkKVoRUos"
      },
      "source": [
        "## Training\n",
        "\n",
        "The data is processed so that we are ready to start setting up the training pipeline. We will make use of 🤗's [Trainer](https://huggingface.co/transformers/master/main_classes/trainer.html?highlight=trainer) for which we essentially need to do the following:\n",
        "\n",
        "- Define a data collator. In contrast to most NLP models, XLS-R has a much larger input length than output length. *E.g.*, a sample of input length 50000 has an output length of no more than 100. Given the large input sizes, it is much more efficient to pad the training batches dynamically meaning that all training samples should only be padded to the longest sample in their batch and not the overall longest sample. Therefore, fine-tuning XLS-R requires a special padding data collator, which we will define below\n",
        "\n",
        "- Evaluation metric. During training, the model should be evaluated on the word error rate. We should define a `compute_metrics` function accordingly\n",
        "\n",
        "- Load a pretrained checkpoint. We need to load a pretrained checkpoint and configure it correctly for training.\n",
        "\n",
        "- Define the training configuration.\n",
        "\n",
        "After having fine-tuned the model, we will correctly evaluate it on the test data and verify that it has indeed learned to correctly transcribe speech."
      ]
    },
    {
      "cell_type": "markdown",
      "metadata": {
        "id": "Slk403unUS91"
      },
      "source": [
        "### Set-up Trainer\n",
        "\n",
        "Let's start by defining the data collator. The code for the data collator was copied from [this example](https://github.com/huggingface/transformers/blob/7e61d56a45c19284cfda0cee8995fb552f6b1f4e/examples/pytorch/speech-recognition/run_speech_recognition_ctc.py#L219).\n",
        "\n",
        "Without going into too many details, in contrast to the common data collators, this data collator treats the `input_values` and `labels` differently and thus applies to separate padding functions on them (again making use of XLS-R processor's context manager). This is necessary because in speech input and output are of different modalities meaning that they should not be treated by the same padding function.\n",
        "Analogous to the common data collators, the padding tokens in the labels with `-100` so that those tokens are **not** taken into account when computing the loss."
      ]
    },
    {
      "cell_type": "code",
      "metadata": {
        "id": "tborvC9hx88e"
      },
      "source": [
        "import torch\n",
        "\n",
        "from dataclasses import dataclass, field\n",
        "from typing import Any, Dict, List, Optional, Union\n",
        "\n",
        "@dataclass\n",
        "class DataCollatorCTCWithPadding:\n",
        "    \"\"\"\n",
        "    Data collator that will dynamically pad the inputs received.\n",
        "    Args:\n",
        "        processor (:class:`~transformers.Wav2Vec2Processor`)\n",
        "            The processor used for proccessing the data.\n",
        "        padding (:obj:`bool`, :obj:`str` or :class:`~transformers.tokenization_utils_base.PaddingStrategy`, `optional`, defaults to :obj:`True`):\n",
        "            Select a strategy to pad the returned sequences (according to the model's padding side and padding index)\n",
        "            among:\n",
        "            * :obj:`True` or :obj:`'longest'`: Pad to the longest sequence in the batch (or no padding if only a single\n",
        "              sequence if provided).\n",
        "            * :obj:`'max_length'`: Pad to a maximum length specified with the argument :obj:`max_length` or to the\n",
        "              maximum acceptable input length for the model if that argument is not provided.\n",
        "            * :obj:`False` or :obj:`'do_not_pad'` (default): No padding (i.e., can output a batch with sequences of\n",
        "              different lengths).\n",
        "    \"\"\"\n",
        "\n",
        "    processor: Wav2Vec2Processor\n",
        "    padding: Union[bool, str] = True\n",
        "\n",
        "    def __call__(self, features: List[Dict[str, Union[List[int], torch.Tensor]]]) -> Dict[str, torch.Tensor]:\n",
        "        # split inputs and labels since they have to be of different lenghts and need\n",
        "        # different padding methods\n",
        "        input_features = [{\"input_values\": feature[\"input_values\"]} for feature in features]\n",
        "        label_features = [{\"input_ids\": feature[\"labels\"]} for feature in features]\n",
        "\n",
        "        batch = self.processor.pad(\n",
        "            input_features,\n",
        "            padding=self.padding,\n",
        "            return_tensors=\"pt\",\n",
        "        )\n",
        "        with self.processor.as_target_processor():\n",
        "            labels_batch = self.processor.pad(\n",
        "                label_features,\n",
        "                padding=self.padding,\n",
        "                return_tensors=\"pt\",\n",
        "            )\n",
        "\n",
        "        # replace padding with -100 to ignore loss correctly\n",
        "        labels = labels_batch[\"input_ids\"].masked_fill(labels_batch.attention_mask.ne(1), -100)\n",
        "\n",
        "        batch[\"labels\"] = labels\n",
        "\n",
        "        return batch"
      ],
      "execution_count": 60,
      "outputs": []
    },
    {
      "cell_type": "code",
      "metadata": {
        "id": "lbQf5GuZyQ4_"
      },
      "source": [
        "data_collator = DataCollatorCTCWithPadding(processor=processor, padding=True)"
      ],
      "execution_count": 61,
      "outputs": []
    },
    {
      "cell_type": "markdown",
      "metadata": {
        "id": "xO-Zdj-5cxXp"
      },
      "source": [
        "Next, the evaluation metric is defined. As mentioned earlier, the \n",
        "predominant metric in ASR is the word error rate (WER), hence we will use it in this notebook as well."
      ]
    },
    {
      "cell_type": "code",
      "metadata": {
        "colab": {
          "base_uri": "https://localhost:8080/",
          "height": 49,
          "referenced_widgets": [
            "a5a76616ee8e4bafa0028f52646694dc",
            "fbd5241eb7b24c0caf93b6a326874a72",
            "343fa7a5aad34879b43c5f57699aebba",
            "983dbd2d95bb4131934ebacbf64e327d",
            "23ca478a84194494969537900e3acfba",
            "3e474b6c230e4769bc8f4f8dcd5e5acb",
            "f8fb5cf4a8dd432f89adf4a38a987ddd",
            "f734ec0e6055421fb9b6380305b20933",
            "400f36b707834b5f8901746b7e25247a",
            "56074da084cb4d8b9ae3ec6494a6cbc1",
            "499dcd19d5fe46ca936426f41813ff74"
          ]
        },
        "id": "9Xsux2gmyXso",
        "outputId": "6bd80fef-62e4-49d8-fe99-c96c015a203e"
      },
      "source": [
        "wer_metric = load_metric(\"wer\")"
      ],
      "execution_count": 62,
      "outputs": [
        {
          "output_type": "display_data",
          "data": {
            "text/plain": [
              "Downloading builder script:   0%|          | 0.00/1.90k [00:00<?, ?B/s]"
            ],
            "application/vnd.jupyter.widget-view+json": {
              "version_major": 2,
              "version_minor": 0,
              "model_id": "a5a76616ee8e4bafa0028f52646694dc"
            }
          },
          "metadata": {}
        }
      ]
    },
    {
      "cell_type": "markdown",
      "metadata": {
        "id": "E1qZU5p-deqB"
      },
      "source": [
        "The model will return a sequence of logit vectors:\n",
        "$\\mathbf{y}_1, \\ldots, \\mathbf{y}_m$ with $\\mathbf{y}_1 = f_{\\theta}(x_1, \\ldots, x_n)[0]$ and $n >> m$.\n",
        "\n",
        "A logit vector $\\mathbf{y}_1$ contains the log-odds for each word in the vocabulary we defined earlier, thus $\\text{len}(\\mathbf{y}_i) =$ `config.vocab_size`. We are interested in the most likely prediction of the model and thus take the `argmax(...)` of the logits. Also, we transform the encoded labels back to the original string by replacing `-100` with the `pad_token_id` and decoding the ids while making sure that consecutive tokens are **not** grouped to the same token in CTC style ${}^1$."
      ]
    },
    {
      "cell_type": "code",
      "metadata": {
        "id": "1XZ-kjweyTy_"
      },
      "source": [
        "def compute_metrics(pred):\n",
        "    pred_logits = pred.predictions\n",
        "    pred_ids = np.argmax(pred_logits, axis=-1)\n",
        "\n",
        "    pred.label_ids[pred.label_ids == -100] = processor.tokenizer.pad_token_id\n",
        "\n",
        "    pred_str = processor.batch_decode(pred_ids)\n",
        "    # we do not want to group tokens when computing the metrics\n",
        "    label_str = processor.batch_decode(pred.label_ids, group_tokens=False)\n",
        "\n",
        "    wer = wer_metric.compute(predictions=pred_str, references=label_str)\n",
        "\n",
        "    return {\"wer\": wer}"
      ],
      "execution_count": 63,
      "outputs": []
    },
    {
      "cell_type": "markdown",
      "metadata": {
        "id": "Xmgrx4bRwLIH"
      },
      "source": [
        "Now, we can load the pretrained checkpoint of [Wav2Vec2-XLS-R-300M](https://huggingface.co/facebook/wav2vec2-xls-r-300m). The tokenizer's `pad_token_id` must be to define the model's `pad_token_id` or in the case of `Wav2Vec2ForCTC` also CTC's *blank token* ${}^2$. To save GPU memory, we enable PyTorch's [gradient checkpointing](https://pytorch.org/docs/stable/checkpoint.html) and also set the loss reduction to \"*mean*\".\n",
        "\n",
        "Because the dataset is quite small (~6h of training data) and because Common Voice is quite noisy, fine-tuning Facebook's [wav2vec2-xls-r-300m checkpoint](https://huggingface.co/facebook/wav2vec2-xls-r-300m) seems to require some hyper-parameter tuning. Therefore, I had to play around a bit with different values for dropout, [SpecAugment](https://arxiv.org/abs/1904.08779)'s masking dropout rate, layer dropout, and the learning rate until training seemed to be stable enough. \n",
        "\n",
        "**Note**: When using this notebook to train XLS-R on another language of Common Voice those hyper-parameter settings might not work very well. Feel free to adapt those depending on your use case. "
      ]
    },
    {
      "cell_type": "code",
      "metadata": {
        "colab": {
          "base_uri": "https://localhost:8080/",
          "height": 188,
          "referenced_widgets": [
            "ddd39519ebe24f5491e5033ce2592e67",
            "1c72ad8e80894903a1029fea6ecdaf2c",
            "a8dedc4cd4134c5b89b37aa69eafc076",
            "7c244661561c4a2da72d031c6b0c25ab",
            "73b2368fbea24fc98f843a113a3fdee7",
            "59c64f6954da4e5891260fdf7513130e",
            "e396ef0e86aa494fbaa0533870fc4f62",
            "d99eae2b67ac4b37aebbe9eb0c63cd2c",
            "5400a47552bc41099f466983bcc423fc",
            "aa8775492710482faff3b0a35437372a",
            "4dfacfa885c64c86b5e222c1ba78f91e",
            "87b8098c73be415d9078e44d253029e7",
            "34d36f0ac5c24a2db39dbe9f54b8b3a2",
            "1d7b685b5c25432087836a66d96384b1",
            "3ad41974935a4d0fb89b1764700b1a77",
            "76c17d9249c942cb95b52649a0331bff",
            "878f4133d91b4b1293539ce6fc3f0242",
            "8eaf4d54f89c4b658423147f2dd09ff8",
            "38485acf930d4b0bbdbd0821875e3166",
            "56eba7bdd3a94dd592f146127e695338",
            "4af999391960498d8ababd98557b9caf",
            "55e7fb5978eb4976a7d89ca0b820057d"
          ]
        },
        "id": "e7cqAWIayn6w",
        "outputId": "12dabaef-7fc2-428f-8bbd-4ba9c5c121cf"
      },
      "source": [
        "from transformers import Wav2Vec2ForCTC\n",
        "\n",
        "model = Wav2Vec2ForCTC.from_pretrained(\n",
        "    \"facebook/wav2vec2-large-xlsr-53\",\n",
        "    ctc_loss_reduction=\"mean\", \n",
        "    pad_token_id=processor.tokenizer.pad_token_id,\n",
        "    vocab_size=len(processor.tokenizer),\n",
        ")"
      ],
      "execution_count": 64,
      "outputs": [
        {
          "output_type": "display_data",
          "data": {
            "text/plain": [
              "Downloading config.json:   0%|          | 0.00/1.73k [00:00<?, ?B/s]"
            ],
            "application/vnd.jupyter.widget-view+json": {
              "version_major": 2,
              "version_minor": 0,
              "model_id": "ddd39519ebe24f5491e5033ce2592e67"
            }
          },
          "metadata": {}
        },
        {
          "output_type": "display_data",
          "data": {
            "text/plain": [
              "Downloading pytorch_model.bin:   0%|          | 0.00/1.18G [00:00<?, ?B/s]"
            ],
            "application/vnd.jupyter.widget-view+json": {
              "version_major": 2,
              "version_minor": 0,
              "model_id": "87b8098c73be415d9078e44d253029e7"
            }
          },
          "metadata": {}
        },
        {
          "output_type": "stream",
          "name": "stderr",
          "text": [
            "Some weights of the model checkpoint at facebook/wav2vec2-large-xlsr-53 were not used when initializing Wav2Vec2ForCTC: ['quantizer.weight_proj.bias', 'quantizer.codevectors', 'quantizer.weight_proj.weight', 'project_q.weight', 'project_q.bias', 'project_hid.bias', 'project_hid.weight']\n",
            "- This IS expected if you are initializing Wav2Vec2ForCTC from the checkpoint of a model trained on another task or with another architecture (e.g. initializing a BertForSequenceClassification model from a BertForPreTraining model).\n",
            "- This IS NOT expected if you are initializing Wav2Vec2ForCTC from the checkpoint of a model that you expect to be exactly identical (initializing a BertForSequenceClassification model from a BertForSequenceClassification model).\n",
            "Some weights of Wav2Vec2ForCTC were not initialized from the model checkpoint at facebook/wav2vec2-large-xlsr-53 and are newly initialized: ['lm_head.bias', 'lm_head.weight']\n",
            "You should probably TRAIN this model on a down-stream task to be able to use it for predictions and inference.\n"
          ]
        }
      ]
    },
    {
      "cell_type": "markdown",
      "metadata": {
        "id": "1DwR3XLSzGDD"
      },
      "source": [
        "The first component of XLS-R consists of a stack of CNN layers that are used to extract acoustically meaningful - but contextually independent - features from the raw speech signal. This part of the model has already been sufficiently trained during pretraining and as stated in the [paper](https://arxiv.org/pdf/2006.13979.pdf) does not need to be fine-tuned anymore. \n",
        "Thus, we can set the `requires_grad` to `False` for all parameters of the *feature extraction* part."
      ]
    },
    {
      "cell_type": "code",
      "metadata": {
        "id": "oGI8zObtZ3V0",
        "colab": {
          "base_uri": "https://localhost:8080/"
        },
        "outputId": "d4a2fa26-eaa4-4b67-bc60-9badbadd1b59"
      },
      "source": [
        "model.freeze_feature_extractor()"
      ],
      "execution_count": 65,
      "outputs": [
        {
          "output_type": "stream",
          "name": "stderr",
          "text": [
            "/usr/local/lib/python3.7/dist-packages/transformers/models/wav2vec2/modeling_wav2vec2.py:1621: FutureWarning: The method `freeze_feature_extractor` is deprecated and will be removed in Transformers v5.Please use the equivalent `freeze_feature_encoder` method instead.\n",
            "  FutureWarning,\n"
          ]
        }
      ]
    },
    {
      "cell_type": "markdown",
      "metadata": {
        "id": "lD4aGhQM0K-D"
      },
      "source": [
        "In a final step, we define all parameters related to training. \n",
        "To give more explanation on some of the parameters:\n",
        "- `group_by_length` makes training more efficient by grouping training samples of similar input length into one batch. This can significantly speed up training time by heavily reducing the overall number of useless padding tokens that are passed through the model\n",
        "- `learning_rate` and `weight_decay` were heuristically tuned until fine-tuning has become stable. Note that those parameters strongly depend on the Common Voice dataset and might be suboptimal for other speech datasets.\n",
        "\n",
        "For more explanations on other parameters, one can take a look at the [docs](https://huggingface.co/transformers/master/main_classes/trainer.html?highlight=trainer#trainingarguments).\n",
        "\n",
        "During training, a checkpoint will be uploaded asynchronously to the hub every 400 training steps. It allows you to also play around with the demo widget even while your model is still training.\n",
        "\n",
        "**Note**: If one does not want to upload the model checkpoints to the hub, simply set `push_to_hub=False`."
      ]
    },
    {
      "cell_type": "code",
      "metadata": {
        "id": "KbeKSV7uzGPP"
      },
      "source": [
        "from transformers import TrainingArguments\n",
        "\n",
        "training_args = TrainingArguments(\n",
        "  output_dir=repo_name,\n",
        "  group_by_length=True,\n",
        "  per_device_train_batch_size=8,\n",
        "  evaluation_strategy=\"steps\",\n",
        "  num_train_epochs=30,\n",
        "  fp16=True,\n",
        "  gradient_checkpointing=True,\n",
        "  save_steps=1000,\n",
        "  eval_steps=1000,\n",
        "  logging_steps=1000,\n",
        "  learning_rate=1e-4,\n",
        "  weight_decay=0.005,\n",
        "  warmup_steps=1000,\n",
        "  save_total_limit=2,\n",
        "  push_to_hub=True,\n",
        ")"
      ],
      "execution_count": 66,
      "outputs": []
    },
    {
      "cell_type": "markdown",
      "metadata": {
        "id": "OsW-WZcL1ZtN"
      },
      "source": [
        "Now, all instances can be passed to Trainer and we are ready to start training!"
      ]
    },
    {
      "cell_type": "code",
      "metadata": {
        "colab": {
          "base_uri": "https://localhost:8080/"
        },
        "id": "rY7vBmFCPFgC",
        "outputId": "fee4c6b5-a28b-44d7-e622-69d1e15028f8"
      },
      "source": [
        "from transformers import Trainer\n",
        "\n",
        "trainer = Trainer(\n",
        "    model=model,\n",
        "    data_collator=data_collator,\n",
        "    args=training_args,\n",
        "    compute_metrics=compute_metrics,\n",
        "    train_dataset=common_voice_train,\n",
        "    eval_dataset=common_voice_test,\n",
        "    tokenizer=processor.feature_extractor,\n",
        ")"
      ],
      "execution_count": 67,
      "outputs": [
        {
          "output_type": "stream",
          "name": "stderr",
          "text": [
            "/content/xls-r_cv_ur is already a clone of https://huggingface.co/BakhtUllah123/xls-r_cv_ur. Make sure you pull the latest changes with `repo.git_pull()`.\n",
            "WARNING:huggingface_hub.repository:/content/xls-r_cv_ur is already a clone of https://huggingface.co/BakhtUllah123/xls-r_cv_ur. Make sure you pull the latest changes with `repo.git_pull()`.\n",
            "Using cuda_amp half precision backend\n"
          ]
        }
      ]
    },
    {
      "cell_type": "markdown",
      "metadata": {
        "id": "UoXBx1JAA0DX"
      },
      "source": [
        "\n",
        "\n",
        "---\n",
        "\n",
        "${}^1$ To allow models to become independent of the speaker rate, in CTC, consecutive tokens that are identical are simply grouped as a single token. However, the encoded labels should not be grouped when decoding since they don't correspond to the predicted tokens of the model, which is why the `group_tokens=False` parameter has to be passed. If we wouldn't pass this parameter a word like `\"hello\"` would incorrectly be encoded, and decoded as `\"helo\"`.\n",
        "\n",
        "${}^2$ The blank token allows the model to predict a word, such as `\"hello\"` by forcing it to insert the blank token between the two l's. A CTC-conform prediction of `\"hello\"` of our model would be `[PAD] [PAD] \"h\" \"e\" \"e\" \"l\" \"l\" [PAD] \"l\" \"o\" \"o\" [PAD]`."
      ]
    },
    {
      "cell_type": "markdown",
      "metadata": {
        "id": "rpvZHM1xReIW"
      },
      "source": [
        "### Training"
      ]
    },
    {
      "cell_type": "markdown",
      "metadata": {
        "id": "j-3oKSzZ1hGq"
      },
      "source": [
        "Training will take multiple hours depending on the GPU allocated to this notebook. While the trained model yields somewhat satisfying results on *Common Voice*'s test data of Turkish, it is by no means an optimally fine-tuned model. The purpose of this notebook is just to demonstrate how to fine-tune XLS-R on an ASR dataset.\n",
        "\n",
        "In case you want to use this google colab to fine-tune your model, you should make sure that your training doesn't stop due to inactivity. A simple hack to prevent this is to paste the following code into the console of this tab (*right mouse click -> inspect -> Console tab and insert code*)."
      ]
    },
    {
      "cell_type": "markdown",
      "metadata": {
        "id": "VYYAvgkW4P0m"
      },
      "source": [
        "```javascript\n",
        "function ConnectButton(){\n",
        "    console.log(\"Connect pushed\"); \n",
        "    document.querySelector(\"#top-toolbar > colab-connect-button\").shadowRoot.querySelector(\"#connect\").click() \n",
        "}\n",
        "setInterval(ConnectButton,60000);\n",
        "```"
      ]
    },
    {
      "cell_type": "markdown",
      "metadata": {
        "id": "7bGgLV2r0yvZ"
      },
      "source": [
        "Depending on what GPU was allocated to your google colab it might be possible that you are seeing an `\"out-of-memory\"` error here. In this case, it's probably best to reduce `per_device_train_batch_size` to 8 or even less and increase [`gradient_accumulation`](https://huggingface.co/transformers/master/main_classes/trainer.html#trainingarguments)."
      ]
    },
    {
      "cell_type": "code",
      "metadata": {
        "colab": {
          "base_uri": "https://localhost:8080/",
          "height": 1000
        },
        "id": "9fRr9TG5pGBl",
        "outputId": "586dc76e-77e0-4522-92ca-1f9e53ce6a6e"
      },
      "source": [
        "trainer.train()"
      ],
      "execution_count": 68,
      "outputs": [
        {
          "output_type": "stream",
          "name": "stderr",
          "text": [
            "The following columns in the training set don't have a corresponding argument in `Wav2Vec2ForCTC.forward` and have been ignored: input_length. If input_length are not expected by `Wav2Vec2ForCTC.forward`,  you can safely ignore this message.\n",
            "/usr/local/lib/python3.7/dist-packages/transformers/optimization.py:310: FutureWarning: This implementation of AdamW is deprecated and will be removed in a future version. Use the PyTorch implementation torch.optim.AdamW instead, or set `no_deprecation_warning=True` to disable this warning\n",
            "  FutureWarning,\n",
            "***** Running training *****\n",
            "  Num examples = 2460\n",
            "  Num Epochs = 30\n",
            "  Instantaneous batch size per device = 8\n",
            "  Total train batch size (w. parallel, distributed & accumulation) = 8\n",
            "  Gradient Accumulation steps = 1\n",
            "  Total optimization steps = 9240\n"
          ]
        },
        {
          "output_type": "display_data",
          "data": {
            "text/plain": [
              "<IPython.core.display.HTML object>"
            ],
            "text/html": [
              "\n",
              "    <div>\n",
              "      \n",
              "      <progress value='9240' max='9240' style='width:300px; height:20px; vertical-align: middle;'></progress>\n",
              "      [9240/9240 2:19:58, Epoch 30/30]\n",
              "    </div>\n",
              "    <table border=\"1\" class=\"dataframe\">\n",
              "  <thead>\n",
              " <tr style=\"text-align: left;\">\n",
              "      <th>Step</th>\n",
              "      <th>Training Loss</th>\n",
              "      <th>Validation Loss</th>\n",
              "      <th>Wer</th>\n",
              "    </tr>\n",
              "  </thead>\n",
              "  <tbody>\n",
              "    <tr>\n",
              "      <td>1000</td>\n",
              "      <td>6.395200</td>\n",
              "      <td>3.006075</td>\n",
              "      <td>1.000000</td>\n",
              "    </tr>\n",
              "    <tr>\n",
              "      <td>2000</td>\n",
              "      <td>1.601800</td>\n",
              "      <td>0.870337</td>\n",
              "      <td>0.586232</td>\n",
              "    </tr>\n",
              "    <tr>\n",
              "      <td>3000</td>\n",
              "      <td>0.729500</td>\n",
              "      <td>0.743551</td>\n",
              "      <td>0.508882</td>\n",
              "    </tr>\n",
              "    <tr>\n",
              "      <td>4000</td>\n",
              "      <td>0.535300</td>\n",
              "      <td>0.717003</td>\n",
              "      <td>0.479275</td>\n",
              "    </tr>\n",
              "    <tr>\n",
              "      <td>5000</td>\n",
              "      <td>0.425500</td>\n",
              "      <td>0.763566</td>\n",
              "      <td>0.456699</td>\n",
              "    </tr>\n",
              "    <tr>\n",
              "      <td>6000</td>\n",
              "      <td>0.359800</td>\n",
              "      <td>0.780798</td>\n",
              "      <td>0.452258</td>\n",
              "    </tr>\n",
              "    <tr>\n",
              "      <td>7000</td>\n",
              "      <td>0.323100</td>\n",
              "      <td>0.766288</td>\n",
              "      <td>0.443745</td>\n",
              "    </tr>\n",
              "    <tr>\n",
              "      <td>8000</td>\n",
              "      <td>0.285100</td>\n",
              "      <td>0.769851</td>\n",
              "      <td>0.430792</td>\n",
              "    </tr>\n",
              "    <tr>\n",
              "      <td>9000</td>\n",
              "      <td>0.266900</td>\n",
              "      <td>0.781698</td>\n",
              "      <td>0.418579</td>\n",
              "    </tr>\n",
              "  </tbody>\n",
              "</table><p>"
            ]
          },
          "metadata": {}
        },
        {
          "output_type": "stream",
          "name": "stderr",
          "text": [
            "The following columns in the evaluation set don't have a corresponding argument in `Wav2Vec2ForCTC.forward` and have been ignored: input_length. If input_length are not expected by `Wav2Vec2ForCTC.forward`,  you can safely ignore this message.\n",
            "***** Running Evaluation *****\n",
            "  Num examples = 341\n",
            "  Batch size = 8\n",
            "Saving model checkpoint to xls-r_cv_ur/checkpoint-1000\n",
            "Configuration saved in xls-r_cv_ur/checkpoint-1000/config.json\n",
            "Model weights saved in xls-r_cv_ur/checkpoint-1000/pytorch_model.bin\n",
            "Feature extractor saved in xls-r_cv_ur/checkpoint-1000/preprocessor_config.json\n",
            "Feature extractor saved in xls-r_cv_ur/preprocessor_config.json\n",
            "The following columns in the evaluation set don't have a corresponding argument in `Wav2Vec2ForCTC.forward` and have been ignored: input_length. If input_length are not expected by `Wav2Vec2ForCTC.forward`,  you can safely ignore this message.\n",
            "***** Running Evaluation *****\n",
            "  Num examples = 341\n",
            "  Batch size = 8\n",
            "Saving model checkpoint to xls-r_cv_ur/checkpoint-2000\n",
            "Configuration saved in xls-r_cv_ur/checkpoint-2000/config.json\n",
            "Model weights saved in xls-r_cv_ur/checkpoint-2000/pytorch_model.bin\n",
            "Feature extractor saved in xls-r_cv_ur/checkpoint-2000/preprocessor_config.json\n",
            "The following columns in the evaluation set don't have a corresponding argument in `Wav2Vec2ForCTC.forward` and have been ignored: input_length. If input_length are not expected by `Wav2Vec2ForCTC.forward`,  you can safely ignore this message.\n",
            "***** Running Evaluation *****\n",
            "  Num examples = 341\n",
            "  Batch size = 8\n",
            "Saving model checkpoint to xls-r_cv_ur/checkpoint-3000\n",
            "Configuration saved in xls-r_cv_ur/checkpoint-3000/config.json\n",
            "Model weights saved in xls-r_cv_ur/checkpoint-3000/pytorch_model.bin\n",
            "Feature extractor saved in xls-r_cv_ur/checkpoint-3000/preprocessor_config.json\n",
            "Deleting older checkpoint [xls-r_cv_ur/checkpoint-1000] due to args.save_total_limit\n",
            "The following columns in the evaluation set don't have a corresponding argument in `Wav2Vec2ForCTC.forward` and have been ignored: input_length. If input_length are not expected by `Wav2Vec2ForCTC.forward`,  you can safely ignore this message.\n",
            "***** Running Evaluation *****\n",
            "  Num examples = 341\n",
            "  Batch size = 8\n",
            "Saving model checkpoint to xls-r_cv_ur/checkpoint-4000\n",
            "Configuration saved in xls-r_cv_ur/checkpoint-4000/config.json\n",
            "Model weights saved in xls-r_cv_ur/checkpoint-4000/pytorch_model.bin\n",
            "Feature extractor saved in xls-r_cv_ur/checkpoint-4000/preprocessor_config.json\n",
            "Deleting older checkpoint [xls-r_cv_ur/checkpoint-2000] due to args.save_total_limit\n",
            "The following columns in the evaluation set don't have a corresponding argument in `Wav2Vec2ForCTC.forward` and have been ignored: input_length. If input_length are not expected by `Wav2Vec2ForCTC.forward`,  you can safely ignore this message.\n",
            "***** Running Evaluation *****\n",
            "  Num examples = 341\n",
            "  Batch size = 8\n",
            "Saving model checkpoint to xls-r_cv_ur/checkpoint-5000\n",
            "Configuration saved in xls-r_cv_ur/checkpoint-5000/config.json\n",
            "Model weights saved in xls-r_cv_ur/checkpoint-5000/pytorch_model.bin\n",
            "Feature extractor saved in xls-r_cv_ur/checkpoint-5000/preprocessor_config.json\n",
            "Deleting older checkpoint [xls-r_cv_ur/checkpoint-3000] due to args.save_total_limit\n",
            "The following columns in the evaluation set don't have a corresponding argument in `Wav2Vec2ForCTC.forward` and have been ignored: input_length. If input_length are not expected by `Wav2Vec2ForCTC.forward`,  you can safely ignore this message.\n",
            "***** Running Evaluation *****\n",
            "  Num examples = 341\n",
            "  Batch size = 8\n",
            "Saving model checkpoint to xls-r_cv_ur/checkpoint-6000\n",
            "Configuration saved in xls-r_cv_ur/checkpoint-6000/config.json\n",
            "Model weights saved in xls-r_cv_ur/checkpoint-6000/pytorch_model.bin\n",
            "Feature extractor saved in xls-r_cv_ur/checkpoint-6000/preprocessor_config.json\n",
            "Deleting older checkpoint [xls-r_cv_ur/checkpoint-4000] due to args.save_total_limit\n",
            "The following columns in the evaluation set don't have a corresponding argument in `Wav2Vec2ForCTC.forward` and have been ignored: input_length. If input_length are not expected by `Wav2Vec2ForCTC.forward`,  you can safely ignore this message.\n",
            "***** Running Evaluation *****\n",
            "  Num examples = 341\n",
            "  Batch size = 8\n",
            "Saving model checkpoint to xls-r_cv_ur/checkpoint-7000\n",
            "Configuration saved in xls-r_cv_ur/checkpoint-7000/config.json\n",
            "Model weights saved in xls-r_cv_ur/checkpoint-7000/pytorch_model.bin\n",
            "Feature extractor saved in xls-r_cv_ur/checkpoint-7000/preprocessor_config.json\n",
            "Deleting older checkpoint [xls-r_cv_ur/checkpoint-5000] due to args.save_total_limit\n",
            "The following columns in the evaluation set don't have a corresponding argument in `Wav2Vec2ForCTC.forward` and have been ignored: input_length. If input_length are not expected by `Wav2Vec2ForCTC.forward`,  you can safely ignore this message.\n",
            "***** Running Evaluation *****\n",
            "  Num examples = 341\n",
            "  Batch size = 8\n",
            "Saving model checkpoint to xls-r_cv_ur/checkpoint-8000\n",
            "Configuration saved in xls-r_cv_ur/checkpoint-8000/config.json\n",
            "Model weights saved in xls-r_cv_ur/checkpoint-8000/pytorch_model.bin\n",
            "Feature extractor saved in xls-r_cv_ur/checkpoint-8000/preprocessor_config.json\n",
            "Deleting older checkpoint [xls-r_cv_ur/checkpoint-6000] due to args.save_total_limit\n",
            "The following columns in the evaluation set don't have a corresponding argument in `Wav2Vec2ForCTC.forward` and have been ignored: input_length. If input_length are not expected by `Wav2Vec2ForCTC.forward`,  you can safely ignore this message.\n",
            "***** Running Evaluation *****\n",
            "  Num examples = 341\n",
            "  Batch size = 8\n",
            "Saving model checkpoint to xls-r_cv_ur/checkpoint-9000\n",
            "Configuration saved in xls-r_cv_ur/checkpoint-9000/config.json\n",
            "Model weights saved in xls-r_cv_ur/checkpoint-9000/pytorch_model.bin\n",
            "Feature extractor saved in xls-r_cv_ur/checkpoint-9000/preprocessor_config.json\n",
            "Deleting older checkpoint [xls-r_cv_ur/checkpoint-7000] due to args.save_total_limit\n",
            "\n",
            "\n",
            "Training completed. Do not forget to share your model on huggingface.co/models =)\n",
            "\n",
            "\n"
          ]
        },
        {
          "output_type": "execute_result",
          "data": {
            "text/plain": [
              "TrainOutput(global_step=9240, training_loss=1.189064661661784, metrics={'train_runtime': 8400.8976, 'train_samples_per_second': 8.785, 'train_steps_per_second': 1.1, 'total_flos': 9.305921472808182e+18, 'train_loss': 1.189064661661784, 'epoch': 30.0})"
            ]
          },
          "metadata": {},
          "execution_count": 68
        }
      ]
    },
    {
      "cell_type": "markdown",
      "metadata": {
        "id": "a9q4mgMZplr_"
      },
      "source": [
        "The training loss and validation WER go down nicely."
      ]
    },
    {
      "cell_type": "markdown",
      "metadata": {
        "id": "4Ya7WEy0pd13"
      },
      "source": [
        "You can now upload the result of the training to the 🤗 Hub, just execute this instruction:"
      ]
    },
    {
      "cell_type": "code",
      "metadata": {
        "id": "ArG1Thf6NBWm"
      },
      "source": [
        "trainer.push_to_hub()"
      ],
      "execution_count": null,
      "outputs": []
    },
    {
      "cell_type": "markdown",
      "metadata": {
        "id": "RHIVc44_fY2N"
      },
      "source": [
        "You can now share this model with all your friends, family, favorite pets: they can all load it with the identifier \"your-username/the-name-you-picked\" so for instance:"
      ]
    },
    {
      "cell_type": "markdown",
      "metadata": {
        "id": "5lWWIKyBpx1h"
      },
      "source": [
        "```python\n",
        "from transformers import AutoModelForCTC, Wav2Vec2Processor\n",
        "\n",
        "model = AutoModelForCTC.from_pretrained(\"patrickvonplaten/wav2vec2-large-xls-r-300m-tr-colab\")\n",
        "processor = Wav2Vec2Processor.from_pretrained(\"patrickvonplaten/wav2vec2-large-xls-r-300m-tr-colab\")\n",
        "```"
      ]
    },
    {
      "cell_type": "markdown",
      "metadata": {
        "id": "pmi1cX0fRBit"
      },
      "source": [
        "For more examples of how XLS-R can be fine-tuned, please take a look at the [official speech recognition examples](https://github.com/huggingface/transformers/tree/master/examples/pytorch/speech-recognition#examples)."
      ]
    },
    {
      "cell_type": "markdown",
      "metadata": {
        "id": "L8b8Qkoy3KyS"
      },
      "source": [
        "### Evaluation\n",
        "\n",
        "As a final check, let's load the model and verify that it indeed has learned to transcribe Turkish speech.\n",
        "\n",
        "Let's first load the pretrained checkpoint."
      ]
    },
    {
      "cell_type": "code",
      "source": [
        "processor = Wav2Vec2Processor.from_pretrained(\"BakhtUllah123/xls-r_cv_ur\")"
      ],
      "metadata": {
        "id": "EOaVJQcsyrFD"
      },
      "execution_count": null,
      "outputs": []
    },
    {
      "cell_type": "code",
      "metadata": {
        "id": "R351I9IQp_9D"
      },
      "source": [
        "model = Wav2Vec2ForCTC.from_pretrained(\"BakhtUllah123/xls-r_cv_ur\").to(\"cuda\")\n"
      ],
      "execution_count": null,
      "outputs": []
    },
    {
      "cell_type": "code",
      "source": [
        "def map_to_result(batch):\n",
        "  with torch.no_grad():\n",
        "    input_values = torch.tensor(batch[\"input_values\"], device=\"cuda\").unsqueeze(0)\n",
        "    logits = model(input_values).logits\n",
        "\n",
        "  pred_ids = torch.argmax(logits, dim=-1)\n",
        "  batch[\"pred_str\"] = processor.batch_decode(pred_ids)[0]\n",
        "  \n",
        "  return batch"
      ],
      "metadata": {
        "id": "fDM9sSlSy2yE"
      },
      "execution_count": 72,
      "outputs": []
    },
    {
      "cell_type": "code",
      "source": [
        "results = common_voice_test.map(map_to_result, remove_columns=common_voice_test.column_names)"
      ],
      "metadata": {
        "colab": {
          "base_uri": "https://localhost:8080/",
          "height": 49,
          "referenced_widgets": [
            "9cebe0af0cd640f6b3987080a2769f4c",
            "b12f80162bc8438386181339bb188db2",
            "b5130032355941eabf8a7e81cb6cec7e",
            "bd479ca1d3ce4bf5968cb86987b45ff2",
            "696dbefc1f1449af82d5b71ee8267b18",
            "c071f808d2b74952b84816b5bff8789c",
            "0d7059ba926049bea9e32117d56dbb9b",
            "99823a01105842a89a263f2735d45c68",
            "b1e9fdf94ddb462abb7869c27176856e",
            "4c5d95d7ce6f457695081d1c96354753",
            "c058a2a4b96b4eb4aee5a95cbd80946c"
          ]
        },
        "id": "zW41hRJJy7jn",
        "outputId": "211d122f-9292-4c92-c9b4-4e2a7e0ec3d7"
      },
      "execution_count": 73,
      "outputs": [
        {
          "output_type": "display_data",
          "data": {
            "text/plain": [
              "  0%|          | 0/341 [00:00<?, ?ex/s]"
            ],
            "application/vnd.jupyter.widget-view+json": {
              "version_major": 2,
              "version_minor": 0,
              "model_id": "9cebe0af0cd640f6b3987080a2769f4c"
            }
          },
          "metadata": {}
        }
      ]
    },
    {
      "cell_type": "code",
      "source": [
        "results['pred_str'][0]"
      ],
      "metadata": {
        "colab": {
          "base_uri": "https://localhost:8080/",
          "height": 35
        },
        "id": "CEuMc9eazXhX",
        "outputId": "aad2d9f8-df8f-4745-ae7f-8d9a25ed0df6"
      },
      "execution_count": 74,
      "outputs": [
        {
          "output_type": "execute_result",
          "data": {
            "text/plain": [
              "'اب نیٹ پیس ان لیتے ہیں'"
            ],
            "application/vnd.google.colaboratory.intrinsic+json": {
              "type": "string"
            }
          },
          "metadata": {},
          "execution_count": 74
        }
      ]
    },
    {
      "cell_type": "code",
      "source": [
        "import pandas as pd\n",
        "result = {'Prediction':results['pred_str'],'Reference':new_common_voice_test['sentence']} \n",
        "df_predicted = pd.DataFrame(data=result)\n",
        "df_predicted.head(10)"
      ],
      "metadata": {
        "colab": {
          "base_uri": "https://localhost:8080/",
          "height": 363
        },
        "id": "V_uJ5Z2ZzR_Y",
        "outputId": "1cbd1b5e-c96c-4c3b-8cfd-782653dd8060"
      },
      "execution_count": 75,
      "outputs": [
        {
          "output_type": "execute_result",
          "data": {
            "text/plain": [
              "                                          Prediction  \\\n",
              "0                             اب نیٹ پیس ان لیتے ہیں   \n",
              "1  مزدور تفے کے علاوہ صرکاری اور کاروباری لوگ نود...   \n",
              "2                                 چنیل مشرف جاتے ہیں   \n",
              "3                                   دلچیس ب امریہ ہے   \n",
              "4  یہ نہیں کہا جایے گا کہ زید کی طرف سے دی گیی ای...   \n",
              "5                  وقت پر رقوم کبھی بھی واپس نہ کیںں   \n",
              "6  ایی سی سی رینکنگ محمد اباز کی کیری کی بہترین پ...   \n",
              "7                                       مغربی افریکہ   \n",
              "8                           جہاں دنیا کا سب سے اونچا   \n",
              "9                                         ایسا ہو گا   \n",
              "\n",
              "                                           Reference  \n",
              "0                              اب نیٹ پہ سن لیتے ہیں  \n",
              "1  مزدور طبقے کے علاوہ سرکاری اور کاروباری لوگ نو...  \n",
              "2                                 جنرل مشرف جاتے ہیں  \n",
              "3                                    دلچسپ امر یہ ہے  \n",
              "4  یہ نہیں کہا جایے گا کہ زید کی طرف سے دی گیی ای...  \n",
              "5                   وقت پر رقوم کبھی بھی واپس نہ کیں  \n",
              "6  ایی سی سی رینکنگ محمدعباس کی کرییر کی بہترین پ...  \n",
              "7                                       مغربی افریقہ  \n",
              "8                           جہاں دنیا کا سب سے اونچا  \n",
              "9                                         ایسا ہو گا  "
            ],
            "text/html": [
              "\n",
              "  <div id=\"df-1556ee3a-e08c-4a80-81a3-83e84861a2c2\">\n",
              "    <div class=\"colab-df-container\">\n",
              "      <div>\n",
              "<style scoped>\n",
              "    .dataframe tbody tr th:only-of-type {\n",
              "        vertical-align: middle;\n",
              "    }\n",
              "\n",
              "    .dataframe tbody tr th {\n",
              "        vertical-align: top;\n",
              "    }\n",
              "\n",
              "    .dataframe thead th {\n",
              "        text-align: right;\n",
              "    }\n",
              "</style>\n",
              "<table border=\"1\" class=\"dataframe\">\n",
              "  <thead>\n",
              "    <tr style=\"text-align: right;\">\n",
              "      <th></th>\n",
              "      <th>Prediction</th>\n",
              "      <th>Reference</th>\n",
              "    </tr>\n",
              "  </thead>\n",
              "  <tbody>\n",
              "    <tr>\n",
              "      <th>0</th>\n",
              "      <td>اب نیٹ پیس ان لیتے ہیں</td>\n",
              "      <td>اب نیٹ پہ سن لیتے ہیں</td>\n",
              "    </tr>\n",
              "    <tr>\n",
              "      <th>1</th>\n",
              "      <td>مزدور تفے کے علاوہ صرکاری اور کاروباری لوگ نود...</td>\n",
              "      <td>مزدور طبقے کے علاوہ سرکاری اور کاروباری لوگ نو...</td>\n",
              "    </tr>\n",
              "    <tr>\n",
              "      <th>2</th>\n",
              "      <td>چنیل مشرف جاتے ہیں</td>\n",
              "      <td>جنرل مشرف جاتے ہیں</td>\n",
              "    </tr>\n",
              "    <tr>\n",
              "      <th>3</th>\n",
              "      <td>دلچیس ب امریہ ہے</td>\n",
              "      <td>دلچسپ امر یہ ہے</td>\n",
              "    </tr>\n",
              "    <tr>\n",
              "      <th>4</th>\n",
              "      <td>یہ نہیں کہا جایے گا کہ زید کی طرف سے دی گیی ای...</td>\n",
              "      <td>یہ نہیں کہا جایے گا کہ زید کی طرف سے دی گیی ای...</td>\n",
              "    </tr>\n",
              "    <tr>\n",
              "      <th>5</th>\n",
              "      <td>وقت پر رقوم کبھی بھی واپس نہ کیںں</td>\n",
              "      <td>وقت پر رقوم کبھی بھی واپس نہ کیں</td>\n",
              "    </tr>\n",
              "    <tr>\n",
              "      <th>6</th>\n",
              "      <td>ایی سی سی رینکنگ محمد اباز کی کیری کی بہترین پ...</td>\n",
              "      <td>ایی سی سی رینکنگ محمدعباس کی کرییر کی بہترین پ...</td>\n",
              "    </tr>\n",
              "    <tr>\n",
              "      <th>7</th>\n",
              "      <td>مغربی افریکہ</td>\n",
              "      <td>مغربی افریقہ</td>\n",
              "    </tr>\n",
              "    <tr>\n",
              "      <th>8</th>\n",
              "      <td>جہاں دنیا کا سب سے اونچا</td>\n",
              "      <td>جہاں دنیا کا سب سے اونچا</td>\n",
              "    </tr>\n",
              "    <tr>\n",
              "      <th>9</th>\n",
              "      <td>ایسا ہو گا</td>\n",
              "      <td>ایسا ہو گا</td>\n",
              "    </tr>\n",
              "  </tbody>\n",
              "</table>\n",
              "</div>\n",
              "      <button class=\"colab-df-convert\" onclick=\"convertToInteractive('df-1556ee3a-e08c-4a80-81a3-83e84861a2c2')\"\n",
              "              title=\"Convert this dataframe to an interactive table.\"\n",
              "              style=\"display:none;\">\n",
              "        \n",
              "  <svg xmlns=\"http://www.w3.org/2000/svg\" height=\"24px\"viewBox=\"0 0 24 24\"\n",
              "       width=\"24px\">\n",
              "    <path d=\"M0 0h24v24H0V0z\" fill=\"none\"/>\n",
              "    <path d=\"M18.56 5.44l.94 2.06.94-2.06 2.06-.94-2.06-.94-.94-2.06-.94 2.06-2.06.94zm-11 1L8.5 8.5l.94-2.06 2.06-.94-2.06-.94L8.5 2.5l-.94 2.06-2.06.94zm10 10l.94 2.06.94-2.06 2.06-.94-2.06-.94-.94-2.06-.94 2.06-2.06.94z\"/><path d=\"M17.41 7.96l-1.37-1.37c-.4-.4-.92-.59-1.43-.59-.52 0-1.04.2-1.43.59L10.3 9.45l-7.72 7.72c-.78.78-.78 2.05 0 2.83L4 21.41c.39.39.9.59 1.41.59.51 0 1.02-.2 1.41-.59l7.78-7.78 2.81-2.81c.8-.78.8-2.07 0-2.86zM5.41 20L4 18.59l7.72-7.72 1.47 1.35L5.41 20z\"/>\n",
              "  </svg>\n",
              "      </button>\n",
              "      \n",
              "  <style>\n",
              "    .colab-df-container {\n",
              "      display:flex;\n",
              "      flex-wrap:wrap;\n",
              "      gap: 12px;\n",
              "    }\n",
              "\n",
              "    .colab-df-convert {\n",
              "      background-color: #E8F0FE;\n",
              "      border: none;\n",
              "      border-radius: 50%;\n",
              "      cursor: pointer;\n",
              "      display: none;\n",
              "      fill: #1967D2;\n",
              "      height: 32px;\n",
              "      padding: 0 0 0 0;\n",
              "      width: 32px;\n",
              "    }\n",
              "\n",
              "    .colab-df-convert:hover {\n",
              "      background-color: #E2EBFA;\n",
              "      box-shadow: 0px 1px 2px rgba(60, 64, 67, 0.3), 0px 1px 3px 1px rgba(60, 64, 67, 0.15);\n",
              "      fill: #174EA6;\n",
              "    }\n",
              "\n",
              "    [theme=dark] .colab-df-convert {\n",
              "      background-color: #3B4455;\n",
              "      fill: #D2E3FC;\n",
              "    }\n",
              "\n",
              "    [theme=dark] .colab-df-convert:hover {\n",
              "      background-color: #434B5C;\n",
              "      box-shadow: 0px 1px 3px 1px rgba(0, 0, 0, 0.15);\n",
              "      filter: drop-shadow(0px 1px 2px rgba(0, 0, 0, 0.3));\n",
              "      fill: #FFFFFF;\n",
              "    }\n",
              "  </style>\n",
              "\n",
              "      <script>\n",
              "        const buttonEl =\n",
              "          document.querySelector('#df-1556ee3a-e08c-4a80-81a3-83e84861a2c2 button.colab-df-convert');\n",
              "        buttonEl.style.display =\n",
              "          google.colab.kernel.accessAllowed ? 'block' : 'none';\n",
              "\n",
              "        async function convertToInteractive(key) {\n",
              "          const element = document.querySelector('#df-1556ee3a-e08c-4a80-81a3-83e84861a2c2');\n",
              "          const dataTable =\n",
              "            await google.colab.kernel.invokeFunction('convertToInteractive',\n",
              "                                                     [key], {});\n",
              "          if (!dataTable) return;\n",
              "\n",
              "          const docLinkHtml = 'Like what you see? Visit the ' +\n",
              "            '<a target=\"_blank\" href=https://colab.research.google.com/notebooks/data_table.ipynb>data table notebook</a>'\n",
              "            + ' to learn more about interactive tables.';\n",
              "          element.innerHTML = '';\n",
              "          dataTable['output_type'] = 'display_data';\n",
              "          await google.colab.output.renderOutput(dataTable, element);\n",
              "          const docLink = document.createElement('div');\n",
              "          docLink.innerHTML = docLinkHtml;\n",
              "          element.appendChild(docLink);\n",
              "        }\n",
              "      </script>\n",
              "    </div>\n",
              "  </div>\n",
              "  "
            ]
          },
          "metadata": {},
          "execution_count": 75
        }
      ]
    },
    {
      "cell_type": "code",
      "source": [
        "from jiwer import wer, cer\n",
        "\n",
        "word_Error_Rate = wer(result['Reference'], result['Prediction']) # computing WER by comparing refrence and prediction sentences\n",
        "Character_Error_Rate = cer(result['Reference'], result['Prediction'])   # computing CER by comparing refrence and prediction sentences\n",
        "\n",
        "print(\"Word error rate is = {}\".format(word_Error_Rate))\n",
        "print(\"Character error rate is = {}\".format(Character_Error_Rate))"
      ],
      "metadata": {
        "colab": {
          "base_uri": "https://localhost:8080/"
        },
        "id": "HAebmfeY1CVy",
        "outputId": "aed59b15-b3b7-492d-f270-e33619b5ae12"
      },
      "execution_count": 76,
      "outputs": [
        {
          "output_type": "stream",
          "name": "stdout",
          "text": [
            "Word error rate is = 0.4170984455958549\n",
            "Character error rate is = 0.15793444546902508\n"
          ]
        }
      ]
    },
    {
      "cell_type": "markdown",
      "metadata": {
        "id": "jD7TZ1YS3S_K"
      },
      "source": [
        "\n",
        "Now, we will just take the first example of the test set, run it through the model and take the `argmax(...)` of the logits to retrieve the predicted token ids."
      ]
    },
    {
      "cell_type": "code",
      "metadata": {
        "colab": {
          "background_save": true
        },
        "id": "pax07TnL3WZn",
        "outputId": "867787ff-0cb7-41e9-f926-96f7b53e7134"
      },
      "source": [
        "input_dict = processor(common_voice_test[0][\"input_values\"], return_tensors=\"pt\", padding=True)\n",
        "\n",
        "logits = model(input_dict.input_values.to(\"cuda\")).logits\n",
        "\n",
        "pred_ids = torch.argmax(logits, dim=-1)[0]"
      ],
      "execution_count": null,
      "outputs": [
        {
          "name": "stderr",
          "output_type": "stream",
          "text": [
            "It is strongly recommended to pass the ``sampling_rate`` argument to this function.Failing to do so can result in silent errors that might be hard to debug.\n"
          ]
        }
      ]
    },
    {
      "cell_type": "markdown",
      "metadata": {
        "id": "7nkzSQu53Zs2"
      },
      "source": [
        "We adapted `common_voice_test` quite a bit so that the dataset instance does not contain the original sentence label anymore. Thus, we re-use the original dataset to get the label of the first example."
      ]
    },
    {
      "cell_type": "code",
      "metadata": {
        "colab": {
          "background_save": true,
          "referenced_widgets": [
            "54097a6c744849128d7cc3da8aad6609",
            "b8827ecbec9e44f09216f62c1ee12840",
            "8728bb32478240b7abe576375b01e640",
            "19b8a530352a423794395979e6415bea",
            "5fc8ec04870e4bb7b63b20844c355ab6"
          ]
        },
        "id": "fe2AE-2xqKHx",
        "outputId": "1d8321b3-4f41-4d71-e74e-f33f32a7b261"
      },
      "source": [
        "common_voice_test_transcription = load_dataset(\"common_voice\", \"tr\", data_dir=\"./cv-corpus-6.1-2020-12-11\", split=\"test\")"
      ],
      "execution_count": null,
      "outputs": [
        {
          "name": "stderr",
          "output_type": "stream",
          "text": [
            "Using custom data configuration tr-ad9f7b76efa9f3a0\n"
          ]
        },
        {
          "name": "stdout",
          "output_type": "stream",
          "text": [
            "Downloading and preparing dataset common_voice/tr (download: 592.09 MiB, generated: 2.89 MiB, post-processed: Unknown size, total: 594.98 MiB) to /root/.cache/huggingface/datasets/common_voice/tr-ad9f7b76efa9f3a0/6.1.0/f7a9d973839b7706e9e281c19b7e512f31badf3c0fdbd21c671f3c4bf9acf3b9...\n"
          ]
        },
        {
          "data": {
            "application/vnd.jupyter.widget-view+json": {
              "model_id": "54097a6c744849128d7cc3da8aad6609",
              "version_major": 2,
              "version_minor": 0
            },
            "text/plain": [
              "0 examples [00:00, ? examples/s]"
            ]
          },
          "metadata": {},
          "output_type": "display_data"
        },
        {
          "data": {
            "application/vnd.jupyter.widget-view+json": {
              "model_id": "b8827ecbec9e44f09216f62c1ee12840",
              "version_major": 2,
              "version_minor": 0
            },
            "text/plain": [
              "0 examples [00:00, ? examples/s]"
            ]
          },
          "metadata": {},
          "output_type": "display_data"
        },
        {
          "data": {
            "application/vnd.jupyter.widget-view+json": {
              "model_id": "8728bb32478240b7abe576375b01e640",
              "version_major": 2,
              "version_minor": 0
            },
            "text/plain": [
              "0 examples [00:00, ? examples/s]"
            ]
          },
          "metadata": {},
          "output_type": "display_data"
        },
        {
          "data": {
            "application/vnd.jupyter.widget-view+json": {
              "model_id": "19b8a530352a423794395979e6415bea",
              "version_major": 2,
              "version_minor": 0
            },
            "text/plain": [
              "0 examples [00:00, ? examples/s]"
            ]
          },
          "metadata": {},
          "output_type": "display_data"
        },
        {
          "data": {
            "application/vnd.jupyter.widget-view+json": {
              "model_id": "5fc8ec04870e4bb7b63b20844c355ab6",
              "version_major": 2,
              "version_minor": 0
            },
            "text/plain": [
              "0 examples [00:00, ? examples/s]"
            ]
          },
          "metadata": {},
          "output_type": "display_data"
        },
        {
          "name": "stdout",
          "output_type": "stream",
          "text": [
            "Dataset common_voice downloaded and prepared to /root/.cache/huggingface/datasets/common_voice/tr-ad9f7b76efa9f3a0/6.1.0/f7a9d973839b7706e9e281c19b7e512f31badf3c0fdbd21c671f3c4bf9acf3b9. Subsequent calls will reuse this data.\n"
          ]
        }
      ]
    },
    {
      "cell_type": "markdown",
      "metadata": {
        "id": "epu8kCQZ3h70"
      },
      "source": [
        "\n",
        "Finally, we can decode the example."
      ]
    },
    {
      "cell_type": "code",
      "metadata": {
        "colab": {
          "background_save": true
        },
        "id": "K4xWqmk_qMn0",
        "outputId": "d9e40b3c-f02a-48a1-d081-6d7e8b37dcaf"
      },
      "source": [
        "print(\"Prediction:\")\n",
        "print(processor.decode(pred_ids))\n",
        "\n",
        "print(\"\\nReference:\")\n",
        "print(common_voice_test_transcription[0][\"sentence\"].lower())"
      ],
      "execution_count": null,
      "outputs": [
        {
          "name": "stdout",
          "output_type": "stream",
          "text": [
            "Prediction:\n",
            "ha ta küçük şeyleri için bir büyük biş şeylir koğoluyor ve yeneküçük şeyler için bir birmizi incilkiyoruz\n",
            "\n",
            "Reference:\n",
            "hayatta küçük şeyleri kovalıyor ve yine küçük şeyler için birbirimizi incitiyoruz.\n"
          ]
        }
      ]
    },
    {
      "cell_type": "markdown",
      "metadata": {
        "id": "HwhyoMml3oOT"
      },
      "source": [
        "Alright! The transcription can definitely be recognized from our prediction, but it is not perfect yet. Training the model a bit longer, spending more time on the data preprocessing, and especially using a language model for decoding would certainly improve the model's overall performance.\n",
        "\n",
        "For a demonstration model on a low-resource language, the results are quite acceptable however 🤗."
      ]
    }
  ]
}