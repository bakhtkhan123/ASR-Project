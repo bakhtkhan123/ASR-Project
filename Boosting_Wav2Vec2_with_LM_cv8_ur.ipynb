{
  "nbformat": 4,
  "nbformat_minor": 0,
  "metadata": {
    "colab": {
      "provenance": [],
      "collapsed_sections": []
    },
    "kernelspec": {
      "name": "python3",
      "display_name": "Python 3"
    },
    "language_info": {
      "name": "python"
    },
    "widgets": {
      "application/vnd.jupyter.widget-state+json": {
        "dd9cd1aee6524becb13acfd6a520c728": {
          "model_module": "@jupyter-widgets/controls",
          "model_name": "HBoxModel",
          "model_module_version": "1.5.0",
          "state": {
            "_dom_classes": [],
            "_model_module": "@jupyter-widgets/controls",
            "_model_module_version": "1.5.0",
            "_model_name": "HBoxModel",
            "_view_count": null,
            "_view_module": "@jupyter-widgets/controls",
            "_view_module_version": "1.5.0",
            "_view_name": "HBoxView",
            "box_style": "",
            "children": [
              "IPY_MODEL_e493e383e587479dafb7b6928b894874",
              "IPY_MODEL_24124069f42f4e6bbc35244585f49287",
              "IPY_MODEL_f8d62c8cc778412085d7a518d690a85d"
            ],
            "layout": "IPY_MODEL_b09817fc0d4649099aa87de2b3fa698f"
          }
        },
        "e493e383e587479dafb7b6928b894874": {
          "model_module": "@jupyter-widgets/controls",
          "model_name": "HTMLModel",
          "model_module_version": "1.5.0",
          "state": {
            "_dom_classes": [],
            "_model_module": "@jupyter-widgets/controls",
            "_model_module_version": "1.5.0",
            "_model_name": "HTMLModel",
            "_view_count": null,
            "_view_module": "@jupyter-widgets/controls",
            "_view_module_version": "1.5.0",
            "_view_name": "HTMLView",
            "description": "",
            "description_tooltip": null,
            "layout": "IPY_MODEL_4e413e8f43fb4a5c81ccb53fda045a9a",
            "placeholder": "​",
            "style": "IPY_MODEL_0affbc036f8f419c895571c7f5374740",
            "value": "100%"
          }
        },
        "24124069f42f4e6bbc35244585f49287": {
          "model_module": "@jupyter-widgets/controls",
          "model_name": "FloatProgressModel",
          "model_module_version": "1.5.0",
          "state": {
            "_dom_classes": [],
            "_model_module": "@jupyter-widgets/controls",
            "_model_module_version": "1.5.0",
            "_model_name": "FloatProgressModel",
            "_view_count": null,
            "_view_module": "@jupyter-widgets/controls",
            "_view_module_version": "1.5.0",
            "_view_name": "ProgressView",
            "bar_style": "success",
            "description": "",
            "description_tooltip": null,
            "layout": "IPY_MODEL_f5c042137a8c49cd9c4f18106ec45fd1",
            "max": 7431,
            "min": 0,
            "orientation": "horizontal",
            "style": "IPY_MODEL_77f79580a2ca4597a3ce1c79c523bd78",
            "value": 7431
          }
        },
        "f8d62c8cc778412085d7a518d690a85d": {
          "model_module": "@jupyter-widgets/controls",
          "model_name": "HTMLModel",
          "model_module_version": "1.5.0",
          "state": {
            "_dom_classes": [],
            "_model_module": "@jupyter-widgets/controls",
            "_model_module_version": "1.5.0",
            "_model_name": "HTMLModel",
            "_view_count": null,
            "_view_module": "@jupyter-widgets/controls",
            "_view_module_version": "1.5.0",
            "_view_name": "HTMLView",
            "description": "",
            "description_tooltip": null,
            "layout": "IPY_MODEL_e8862c0218bd4db0b6c15f7052cc334d",
            "placeholder": "​",
            "style": "IPY_MODEL_fe2118508f2840dd8d98d5aaac586e19",
            "value": " 7431/7431 [01:15&lt;00:00, 122.43ex/s]"
          }
        },
        "b09817fc0d4649099aa87de2b3fa698f": {
          "model_module": "@jupyter-widgets/base",
          "model_name": "LayoutModel",
          "model_module_version": "1.2.0",
          "state": {
            "_model_module": "@jupyter-widgets/base",
            "_model_module_version": "1.2.0",
            "_model_name": "LayoutModel",
            "_view_count": null,
            "_view_module": "@jupyter-widgets/base",
            "_view_module_version": "1.2.0",
            "_view_name": "LayoutView",
            "align_content": null,
            "align_items": null,
            "align_self": null,
            "border": null,
            "bottom": null,
            "display": null,
            "flex": null,
            "flex_flow": null,
            "grid_area": null,
            "grid_auto_columns": null,
            "grid_auto_flow": null,
            "grid_auto_rows": null,
            "grid_column": null,
            "grid_gap": null,
            "grid_row": null,
            "grid_template_areas": null,
            "grid_template_columns": null,
            "grid_template_rows": null,
            "height": null,
            "justify_content": null,
            "justify_items": null,
            "left": null,
            "margin": null,
            "max_height": null,
            "max_width": null,
            "min_height": null,
            "min_width": null,
            "object_fit": null,
            "object_position": null,
            "order": null,
            "overflow": null,
            "overflow_x": null,
            "overflow_y": null,
            "padding": null,
            "right": null,
            "top": null,
            "visibility": null,
            "width": null
          }
        },
        "4e413e8f43fb4a5c81ccb53fda045a9a": {
          "model_module": "@jupyter-widgets/base",
          "model_name": "LayoutModel",
          "model_module_version": "1.2.0",
          "state": {
            "_model_module": "@jupyter-widgets/base",
            "_model_module_version": "1.2.0",
            "_model_name": "LayoutModel",
            "_view_count": null,
            "_view_module": "@jupyter-widgets/base",
            "_view_module_version": "1.2.0",
            "_view_name": "LayoutView",
            "align_content": null,
            "align_items": null,
            "align_self": null,
            "border": null,
            "bottom": null,
            "display": null,
            "flex": null,
            "flex_flow": null,
            "grid_area": null,
            "grid_auto_columns": null,
            "grid_auto_flow": null,
            "grid_auto_rows": null,
            "grid_column": null,
            "grid_gap": null,
            "grid_row": null,
            "grid_template_areas": null,
            "grid_template_columns": null,
            "grid_template_rows": null,
            "height": null,
            "justify_content": null,
            "justify_items": null,
            "left": null,
            "margin": null,
            "max_height": null,
            "max_width": null,
            "min_height": null,
            "min_width": null,
            "object_fit": null,
            "object_position": null,
            "order": null,
            "overflow": null,
            "overflow_x": null,
            "overflow_y": null,
            "padding": null,
            "right": null,
            "top": null,
            "visibility": null,
            "width": null
          }
        },
        "0affbc036f8f419c895571c7f5374740": {
          "model_module": "@jupyter-widgets/controls",
          "model_name": "DescriptionStyleModel",
          "model_module_version": "1.5.0",
          "state": {
            "_model_module": "@jupyter-widgets/controls",
            "_model_module_version": "1.5.0",
            "_model_name": "DescriptionStyleModel",
            "_view_count": null,
            "_view_module": "@jupyter-widgets/base",
            "_view_module_version": "1.2.0",
            "_view_name": "StyleView",
            "description_width": ""
          }
        },
        "f5c042137a8c49cd9c4f18106ec45fd1": {
          "model_module": "@jupyter-widgets/base",
          "model_name": "LayoutModel",
          "model_module_version": "1.2.0",
          "state": {
            "_model_module": "@jupyter-widgets/base",
            "_model_module_version": "1.2.0",
            "_model_name": "LayoutModel",
            "_view_count": null,
            "_view_module": "@jupyter-widgets/base",
            "_view_module_version": "1.2.0",
            "_view_name": "LayoutView",
            "align_content": null,
            "align_items": null,
            "align_self": null,
            "border": null,
            "bottom": null,
            "display": null,
            "flex": null,
            "flex_flow": null,
            "grid_area": null,
            "grid_auto_columns": null,
            "grid_auto_flow": null,
            "grid_auto_rows": null,
            "grid_column": null,
            "grid_gap": null,
            "grid_row": null,
            "grid_template_areas": null,
            "grid_template_columns": null,
            "grid_template_rows": null,
            "height": null,
            "justify_content": null,
            "justify_items": null,
            "left": null,
            "margin": null,
            "max_height": null,
            "max_width": null,
            "min_height": null,
            "min_width": null,
            "object_fit": null,
            "object_position": null,
            "order": null,
            "overflow": null,
            "overflow_x": null,
            "overflow_y": null,
            "padding": null,
            "right": null,
            "top": null,
            "visibility": null,
            "width": null
          }
        },
        "77f79580a2ca4597a3ce1c79c523bd78": {
          "model_module": "@jupyter-widgets/controls",
          "model_name": "ProgressStyleModel",
          "model_module_version": "1.5.0",
          "state": {
            "_model_module": "@jupyter-widgets/controls",
            "_model_module_version": "1.5.0",
            "_model_name": "ProgressStyleModel",
            "_view_count": null,
            "_view_module": "@jupyter-widgets/base",
            "_view_module_version": "1.2.0",
            "_view_name": "StyleView",
            "bar_color": null,
            "description_width": ""
          }
        },
        "e8862c0218bd4db0b6c15f7052cc334d": {
          "model_module": "@jupyter-widgets/base",
          "model_name": "LayoutModel",
          "model_module_version": "1.2.0",
          "state": {
            "_model_module": "@jupyter-widgets/base",
            "_model_module_version": "1.2.0",
            "_model_name": "LayoutModel",
            "_view_count": null,
            "_view_module": "@jupyter-widgets/base",
            "_view_module_version": "1.2.0",
            "_view_name": "LayoutView",
            "align_content": null,
            "align_items": null,
            "align_self": null,
            "border": null,
            "bottom": null,
            "display": null,
            "flex": null,
            "flex_flow": null,
            "grid_area": null,
            "grid_auto_columns": null,
            "grid_auto_flow": null,
            "grid_auto_rows": null,
            "grid_column": null,
            "grid_gap": null,
            "grid_row": null,
            "grid_template_areas": null,
            "grid_template_columns": null,
            "grid_template_rows": null,
            "height": null,
            "justify_content": null,
            "justify_items": null,
            "left": null,
            "margin": null,
            "max_height": null,
            "max_width": null,
            "min_height": null,
            "min_width": null,
            "object_fit": null,
            "object_position": null,
            "order": null,
            "overflow": null,
            "overflow_x": null,
            "overflow_y": null,
            "padding": null,
            "right": null,
            "top": null,
            "visibility": null,
            "width": null
          }
        },
        "fe2118508f2840dd8d98d5aaac586e19": {
          "model_module": "@jupyter-widgets/controls",
          "model_name": "DescriptionStyleModel",
          "model_module_version": "1.5.0",
          "state": {
            "_model_module": "@jupyter-widgets/controls",
            "_model_module_version": "1.5.0",
            "_model_name": "DescriptionStyleModel",
            "_view_count": null,
            "_view_module": "@jupyter-widgets/base",
            "_view_module_version": "1.2.0",
            "_view_name": "StyleView",
            "description_width": ""
          }
        },
        "284948e07f1c4190b0afc27b7bad4437": {
          "model_module": "@jupyter-widgets/controls",
          "model_name": "HBoxModel",
          "model_module_version": "1.5.0",
          "state": {
            "_dom_classes": [],
            "_model_module": "@jupyter-widgets/controls",
            "_model_module_version": "1.5.0",
            "_model_name": "HBoxModel",
            "_view_count": null,
            "_view_module": "@jupyter-widgets/controls",
            "_view_module_version": "1.5.0",
            "_view_name": "HBoxView",
            "box_style": "",
            "children": [
              "IPY_MODEL_6e75e572c0f04f7090dc5e766698c671",
              "IPY_MODEL_9f46f723c2f64f6e80a669634b8e9d38",
              "IPY_MODEL_cab0d050597e4dcc9503e4fccb2b8232"
            ],
            "layout": "IPY_MODEL_177bd5a03ee14c9fb4fbd2e03caa9d8c"
          }
        },
        "6e75e572c0f04f7090dc5e766698c671": {
          "model_module": "@jupyter-widgets/controls",
          "model_name": "HTMLModel",
          "model_module_version": "1.5.0",
          "state": {
            "_dom_classes": [],
            "_model_module": "@jupyter-widgets/controls",
            "_model_module_version": "1.5.0",
            "_model_name": "HTMLModel",
            "_view_count": null,
            "_view_module": "@jupyter-widgets/controls",
            "_view_module_version": "1.5.0",
            "_view_name": "HTMLView",
            "description": "",
            "description_tooltip": null,
            "layout": "IPY_MODEL_4cdd7dbbb696498cbdc3ce1ac3bd78d8",
            "placeholder": "​",
            "style": "IPY_MODEL_752e5a9711e3415bac075eac364cbb21",
            "value": "100%"
          }
        },
        "9f46f723c2f64f6e80a669634b8e9d38": {
          "model_module": "@jupyter-widgets/controls",
          "model_name": "FloatProgressModel",
          "model_module_version": "1.5.0",
          "state": {
            "_dom_classes": [],
            "_model_module": "@jupyter-widgets/controls",
            "_model_module_version": "1.5.0",
            "_model_name": "FloatProgressModel",
            "_view_count": null,
            "_view_module": "@jupyter-widgets/controls",
            "_view_module_version": "1.5.0",
            "_view_name": "ProgressView",
            "bar_style": "success",
            "description": "",
            "description_tooltip": null,
            "layout": "IPY_MODEL_9819f8432d044e4da4277966c95a7ddc",
            "max": 8,
            "min": 0,
            "orientation": "horizontal",
            "style": "IPY_MODEL_72c89cc4f14442858d18a9f8ec202a8d",
            "value": 8
          }
        },
        "cab0d050597e4dcc9503e4fccb2b8232": {
          "model_module": "@jupyter-widgets/controls",
          "model_name": "HTMLModel",
          "model_module_version": "1.5.0",
          "state": {
            "_dom_classes": [],
            "_model_module": "@jupyter-widgets/controls",
            "_model_module_version": "1.5.0",
            "_model_name": "HTMLModel",
            "_view_count": null,
            "_view_module": "@jupyter-widgets/controls",
            "_view_module_version": "1.5.0",
            "_view_name": "HTMLView",
            "description": "",
            "description_tooltip": null,
            "layout": "IPY_MODEL_f0fa9ed3ffbc45e1bb047d310a0d1eeb",
            "placeholder": "​",
            "style": "IPY_MODEL_d926b67f74a14a89b8ea62364a4ea91b",
            "value": " 8/8 [00:01&lt;00:00,  4.56ba/s]"
          }
        },
        "177bd5a03ee14c9fb4fbd2e03caa9d8c": {
          "model_module": "@jupyter-widgets/base",
          "model_name": "LayoutModel",
          "model_module_version": "1.2.0",
          "state": {
            "_model_module": "@jupyter-widgets/base",
            "_model_module_version": "1.2.0",
            "_model_name": "LayoutModel",
            "_view_count": null,
            "_view_module": "@jupyter-widgets/base",
            "_view_module_version": "1.2.0",
            "_view_name": "LayoutView",
            "align_content": null,
            "align_items": null,
            "align_self": null,
            "border": null,
            "bottom": null,
            "display": null,
            "flex": null,
            "flex_flow": null,
            "grid_area": null,
            "grid_auto_columns": null,
            "grid_auto_flow": null,
            "grid_auto_rows": null,
            "grid_column": null,
            "grid_gap": null,
            "grid_row": null,
            "grid_template_areas": null,
            "grid_template_columns": null,
            "grid_template_rows": null,
            "height": null,
            "justify_content": null,
            "justify_items": null,
            "left": null,
            "margin": null,
            "max_height": null,
            "max_width": null,
            "min_height": null,
            "min_width": null,
            "object_fit": null,
            "object_position": null,
            "order": null,
            "overflow": null,
            "overflow_x": null,
            "overflow_y": null,
            "padding": null,
            "right": null,
            "top": null,
            "visibility": null,
            "width": null
          }
        },
        "4cdd7dbbb696498cbdc3ce1ac3bd78d8": {
          "model_module": "@jupyter-widgets/base",
          "model_name": "LayoutModel",
          "model_module_version": "1.2.0",
          "state": {
            "_model_module": "@jupyter-widgets/base",
            "_model_module_version": "1.2.0",
            "_model_name": "LayoutModel",
            "_view_count": null,
            "_view_module": "@jupyter-widgets/base",
            "_view_module_version": "1.2.0",
            "_view_name": "LayoutView",
            "align_content": null,
            "align_items": null,
            "align_self": null,
            "border": null,
            "bottom": null,
            "display": null,
            "flex": null,
            "flex_flow": null,
            "grid_area": null,
            "grid_auto_columns": null,
            "grid_auto_flow": null,
            "grid_auto_rows": null,
            "grid_column": null,
            "grid_gap": null,
            "grid_row": null,
            "grid_template_areas": null,
            "grid_template_columns": null,
            "grid_template_rows": null,
            "height": null,
            "justify_content": null,
            "justify_items": null,
            "left": null,
            "margin": null,
            "max_height": null,
            "max_width": null,
            "min_height": null,
            "min_width": null,
            "object_fit": null,
            "object_position": null,
            "order": null,
            "overflow": null,
            "overflow_x": null,
            "overflow_y": null,
            "padding": null,
            "right": null,
            "top": null,
            "visibility": null,
            "width": null
          }
        },
        "752e5a9711e3415bac075eac364cbb21": {
          "model_module": "@jupyter-widgets/controls",
          "model_name": "DescriptionStyleModel",
          "model_module_version": "1.5.0",
          "state": {
            "_model_module": "@jupyter-widgets/controls",
            "_model_module_version": "1.5.0",
            "_model_name": "DescriptionStyleModel",
            "_view_count": null,
            "_view_module": "@jupyter-widgets/base",
            "_view_module_version": "1.2.0",
            "_view_name": "StyleView",
            "description_width": ""
          }
        },
        "9819f8432d044e4da4277966c95a7ddc": {
          "model_module": "@jupyter-widgets/base",
          "model_name": "LayoutModel",
          "model_module_version": "1.2.0",
          "state": {
            "_model_module": "@jupyter-widgets/base",
            "_model_module_version": "1.2.0",
            "_model_name": "LayoutModel",
            "_view_count": null,
            "_view_module": "@jupyter-widgets/base",
            "_view_module_version": "1.2.0",
            "_view_name": "LayoutView",
            "align_content": null,
            "align_items": null,
            "align_self": null,
            "border": null,
            "bottom": null,
            "display": null,
            "flex": null,
            "flex_flow": null,
            "grid_area": null,
            "grid_auto_columns": null,
            "grid_auto_flow": null,
            "grid_auto_rows": null,
            "grid_column": null,
            "grid_gap": null,
            "grid_row": null,
            "grid_template_areas": null,
            "grid_template_columns": null,
            "grid_template_rows": null,
            "height": null,
            "justify_content": null,
            "justify_items": null,
            "left": null,
            "margin": null,
            "max_height": null,
            "max_width": null,
            "min_height": null,
            "min_width": null,
            "object_fit": null,
            "object_position": null,
            "order": null,
            "overflow": null,
            "overflow_x": null,
            "overflow_y": null,
            "padding": null,
            "right": null,
            "top": null,
            "visibility": null,
            "width": null
          }
        },
        "72c89cc4f14442858d18a9f8ec202a8d": {
          "model_module": "@jupyter-widgets/controls",
          "model_name": "ProgressStyleModel",
          "model_module_version": "1.5.0",
          "state": {
            "_model_module": "@jupyter-widgets/controls",
            "_model_module_version": "1.5.0",
            "_model_name": "ProgressStyleModel",
            "_view_count": null,
            "_view_module": "@jupyter-widgets/base",
            "_view_module_version": "1.2.0",
            "_view_name": "StyleView",
            "bar_color": null,
            "description_width": ""
          }
        },
        "f0fa9ed3ffbc45e1bb047d310a0d1eeb": {
          "model_module": "@jupyter-widgets/base",
          "model_name": "LayoutModel",
          "model_module_version": "1.2.0",
          "state": {
            "_model_module": "@jupyter-widgets/base",
            "_model_module_version": "1.2.0",
            "_model_name": "LayoutModel",
            "_view_count": null,
            "_view_module": "@jupyter-widgets/base",
            "_view_module_version": "1.2.0",
            "_view_name": "LayoutView",
            "align_content": null,
            "align_items": null,
            "align_self": null,
            "border": null,
            "bottom": null,
            "display": null,
            "flex": null,
            "flex_flow": null,
            "grid_area": null,
            "grid_auto_columns": null,
            "grid_auto_flow": null,
            "grid_auto_rows": null,
            "grid_column": null,
            "grid_gap": null,
            "grid_row": null,
            "grid_template_areas": null,
            "grid_template_columns": null,
            "grid_template_rows": null,
            "height": null,
            "justify_content": null,
            "justify_items": null,
            "left": null,
            "margin": null,
            "max_height": null,
            "max_width": null,
            "min_height": null,
            "min_width": null,
            "object_fit": null,
            "object_position": null,
            "order": null,
            "overflow": null,
            "overflow_x": null,
            "overflow_y": null,
            "padding": null,
            "right": null,
            "top": null,
            "visibility": null,
            "width": null
          }
        },
        "d926b67f74a14a89b8ea62364a4ea91b": {
          "model_module": "@jupyter-widgets/controls",
          "model_name": "DescriptionStyleModel",
          "model_module_version": "1.5.0",
          "state": {
            "_model_module": "@jupyter-widgets/controls",
            "_model_module_version": "1.5.0",
            "_model_name": "DescriptionStyleModel",
            "_view_count": null,
            "_view_module": "@jupyter-widgets/base",
            "_view_module_version": "1.2.0",
            "_view_name": "StyleView",
            "description_width": ""
          }
        },
        "f971e1d747f349d0adf549288849656e": {
          "model_module": "@jupyter-widgets/controls",
          "model_name": "HBoxModel",
          "model_module_version": "1.5.0",
          "state": {
            "_dom_classes": [],
            "_model_module": "@jupyter-widgets/controls",
            "_model_module_version": "1.5.0",
            "_model_name": "HBoxModel",
            "_view_count": null,
            "_view_module": "@jupyter-widgets/controls",
            "_view_module_version": "1.5.0",
            "_view_name": "HBoxView",
            "box_style": "",
            "children": [
              "IPY_MODEL_4fbcee2983e049969a9e2ee74145bd06",
              "IPY_MODEL_3fb7a0f3e6a7416cab884315e42f9d65",
              "IPY_MODEL_224c5ffa3e3145829d4057acc7e9c8dc"
            ],
            "layout": "IPY_MODEL_84c724c5a99d443f8824131d2f87fdba"
          }
        },
        "4fbcee2983e049969a9e2ee74145bd06": {
          "model_module": "@jupyter-widgets/controls",
          "model_name": "HTMLModel",
          "model_module_version": "1.5.0",
          "state": {
            "_dom_classes": [],
            "_model_module": "@jupyter-widgets/controls",
            "_model_module_version": "1.5.0",
            "_model_name": "HTMLModel",
            "_view_count": null,
            "_view_module": "@jupyter-widgets/controls",
            "_view_module_version": "1.5.0",
            "_view_name": "HTMLView",
            "description": "",
            "description_tooltip": null,
            "layout": "IPY_MODEL_e19fe2248de9442f95d88ef9e00b2ad6",
            "placeholder": "​",
            "style": "IPY_MODEL_4e193be69829422480cfe97fcd2daf79",
            "value": "Pushing dataset shards to the dataset hub: 100%"
          }
        },
        "3fb7a0f3e6a7416cab884315e42f9d65": {
          "model_module": "@jupyter-widgets/controls",
          "model_name": "FloatProgressModel",
          "model_module_version": "1.5.0",
          "state": {
            "_dom_classes": [],
            "_model_module": "@jupyter-widgets/controls",
            "_model_module_version": "1.5.0",
            "_model_name": "FloatProgressModel",
            "_view_count": null,
            "_view_module": "@jupyter-widgets/controls",
            "_view_module_version": "1.5.0",
            "_view_name": "ProgressView",
            "bar_style": "success",
            "description": "",
            "description_tooltip": null,
            "layout": "IPY_MODEL_9c9b98dfeff34f2e8b3d948f6676316a",
            "max": 1,
            "min": 0,
            "orientation": "horizontal",
            "style": "IPY_MODEL_0d3c627521d5483986d591228013dc11",
            "value": 1
          }
        },
        "224c5ffa3e3145829d4057acc7e9c8dc": {
          "model_module": "@jupyter-widgets/controls",
          "model_name": "HTMLModel",
          "model_module_version": "1.5.0",
          "state": {
            "_dom_classes": [],
            "_model_module": "@jupyter-widgets/controls",
            "_model_module_version": "1.5.0",
            "_model_name": "HTMLModel",
            "_view_count": null,
            "_view_module": "@jupyter-widgets/controls",
            "_view_module_version": "1.5.0",
            "_view_name": "HTMLView",
            "description": "",
            "description_tooltip": null,
            "layout": "IPY_MODEL_acc21058552c47f6b39d77ec7bdd7acd",
            "placeholder": "​",
            "style": "IPY_MODEL_230404b015454d508bc4c29e4c0fdb0b",
            "value": " 1/1 [00:06&lt;00:00,  6.44s/it]"
          }
        },
        "84c724c5a99d443f8824131d2f87fdba": {
          "model_module": "@jupyter-widgets/base",
          "model_name": "LayoutModel",
          "model_module_version": "1.2.0",
          "state": {
            "_model_module": "@jupyter-widgets/base",
            "_model_module_version": "1.2.0",
            "_model_name": "LayoutModel",
            "_view_count": null,
            "_view_module": "@jupyter-widgets/base",
            "_view_module_version": "1.2.0",
            "_view_name": "LayoutView",
            "align_content": null,
            "align_items": null,
            "align_self": null,
            "border": null,
            "bottom": null,
            "display": null,
            "flex": null,
            "flex_flow": null,
            "grid_area": null,
            "grid_auto_columns": null,
            "grid_auto_flow": null,
            "grid_auto_rows": null,
            "grid_column": null,
            "grid_gap": null,
            "grid_row": null,
            "grid_template_areas": null,
            "grid_template_columns": null,
            "grid_template_rows": null,
            "height": null,
            "justify_content": null,
            "justify_items": null,
            "left": null,
            "margin": null,
            "max_height": null,
            "max_width": null,
            "min_height": null,
            "min_width": null,
            "object_fit": null,
            "object_position": null,
            "order": null,
            "overflow": null,
            "overflow_x": null,
            "overflow_y": null,
            "padding": null,
            "right": null,
            "top": null,
            "visibility": null,
            "width": null
          }
        },
        "e19fe2248de9442f95d88ef9e00b2ad6": {
          "model_module": "@jupyter-widgets/base",
          "model_name": "LayoutModel",
          "model_module_version": "1.2.0",
          "state": {
            "_model_module": "@jupyter-widgets/base",
            "_model_module_version": "1.2.0",
            "_model_name": "LayoutModel",
            "_view_count": null,
            "_view_module": "@jupyter-widgets/base",
            "_view_module_version": "1.2.0",
            "_view_name": "LayoutView",
            "align_content": null,
            "align_items": null,
            "align_self": null,
            "border": null,
            "bottom": null,
            "display": null,
            "flex": null,
            "flex_flow": null,
            "grid_area": null,
            "grid_auto_columns": null,
            "grid_auto_flow": null,
            "grid_auto_rows": null,
            "grid_column": null,
            "grid_gap": null,
            "grid_row": null,
            "grid_template_areas": null,
            "grid_template_columns": null,
            "grid_template_rows": null,
            "height": null,
            "justify_content": null,
            "justify_items": null,
            "left": null,
            "margin": null,
            "max_height": null,
            "max_width": null,
            "min_height": null,
            "min_width": null,
            "object_fit": null,
            "object_position": null,
            "order": null,
            "overflow": null,
            "overflow_x": null,
            "overflow_y": null,
            "padding": null,
            "right": null,
            "top": null,
            "visibility": null,
            "width": null
          }
        },
        "4e193be69829422480cfe97fcd2daf79": {
          "model_module": "@jupyter-widgets/controls",
          "model_name": "DescriptionStyleModel",
          "model_module_version": "1.5.0",
          "state": {
            "_model_module": "@jupyter-widgets/controls",
            "_model_module_version": "1.5.0",
            "_model_name": "DescriptionStyleModel",
            "_view_count": null,
            "_view_module": "@jupyter-widgets/base",
            "_view_module_version": "1.2.0",
            "_view_name": "StyleView",
            "description_width": ""
          }
        },
        "9c9b98dfeff34f2e8b3d948f6676316a": {
          "model_module": "@jupyter-widgets/base",
          "model_name": "LayoutModel",
          "model_module_version": "1.2.0",
          "state": {
            "_model_module": "@jupyter-widgets/base",
            "_model_module_version": "1.2.0",
            "_model_name": "LayoutModel",
            "_view_count": null,
            "_view_module": "@jupyter-widgets/base",
            "_view_module_version": "1.2.0",
            "_view_name": "LayoutView",
            "align_content": null,
            "align_items": null,
            "align_self": null,
            "border": null,
            "bottom": null,
            "display": null,
            "flex": null,
            "flex_flow": null,
            "grid_area": null,
            "grid_auto_columns": null,
            "grid_auto_flow": null,
            "grid_auto_rows": null,
            "grid_column": null,
            "grid_gap": null,
            "grid_row": null,
            "grid_template_areas": null,
            "grid_template_columns": null,
            "grid_template_rows": null,
            "height": null,
            "justify_content": null,
            "justify_items": null,
            "left": null,
            "margin": null,
            "max_height": null,
            "max_width": null,
            "min_height": null,
            "min_width": null,
            "object_fit": null,
            "object_position": null,
            "order": null,
            "overflow": null,
            "overflow_x": null,
            "overflow_y": null,
            "padding": null,
            "right": null,
            "top": null,
            "visibility": null,
            "width": null
          }
        },
        "0d3c627521d5483986d591228013dc11": {
          "model_module": "@jupyter-widgets/controls",
          "model_name": "ProgressStyleModel",
          "model_module_version": "1.5.0",
          "state": {
            "_model_module": "@jupyter-widgets/controls",
            "_model_module_version": "1.5.0",
            "_model_name": "ProgressStyleModel",
            "_view_count": null,
            "_view_module": "@jupyter-widgets/base",
            "_view_module_version": "1.2.0",
            "_view_name": "StyleView",
            "bar_color": null,
            "description_width": ""
          }
        },
        "acc21058552c47f6b39d77ec7bdd7acd": {
          "model_module": "@jupyter-widgets/base",
          "model_name": "LayoutModel",
          "model_module_version": "1.2.0",
          "state": {
            "_model_module": "@jupyter-widgets/base",
            "_model_module_version": "1.2.0",
            "_model_name": "LayoutModel",
            "_view_count": null,
            "_view_module": "@jupyter-widgets/base",
            "_view_module_version": "1.2.0",
            "_view_name": "LayoutView",
            "align_content": null,
            "align_items": null,
            "align_self": null,
            "border": null,
            "bottom": null,
            "display": null,
            "flex": null,
            "flex_flow": null,
            "grid_area": null,
            "grid_auto_columns": null,
            "grid_auto_flow": null,
            "grid_auto_rows": null,
            "grid_column": null,
            "grid_gap": null,
            "grid_row": null,
            "grid_template_areas": null,
            "grid_template_columns": null,
            "grid_template_rows": null,
            "height": null,
            "justify_content": null,
            "justify_items": null,
            "left": null,
            "margin": null,
            "max_height": null,
            "max_width": null,
            "min_height": null,
            "min_width": null,
            "object_fit": null,
            "object_position": null,
            "order": null,
            "overflow": null,
            "overflow_x": null,
            "overflow_y": null,
            "padding": null,
            "right": null,
            "top": null,
            "visibility": null,
            "width": null
          }
        },
        "230404b015454d508bc4c29e4c0fdb0b": {
          "model_module": "@jupyter-widgets/controls",
          "model_name": "DescriptionStyleModel",
          "model_module_version": "1.5.0",
          "state": {
            "_model_module": "@jupyter-widgets/controls",
            "_model_module_version": "1.5.0",
            "_model_name": "DescriptionStyleModel",
            "_view_count": null,
            "_view_module": "@jupyter-widgets/base",
            "_view_module_version": "1.2.0",
            "_view_name": "StyleView",
            "description_width": ""
          }
        },
        "b281b93678ba4742bc093c6203d11d7d": {
          "model_module": "@jupyter-widgets/controls",
          "model_name": "HBoxModel",
          "model_module_version": "1.5.0",
          "state": {
            "_dom_classes": [],
            "_model_module": "@jupyter-widgets/controls",
            "_model_module_version": "1.5.0",
            "_model_name": "HBoxModel",
            "_view_count": null,
            "_view_module": "@jupyter-widgets/controls",
            "_view_module_version": "1.5.0",
            "_view_name": "HBoxView",
            "box_style": "",
            "children": [
              "IPY_MODEL_e6a9d94e72954190b4a983d2ce1f61bf",
              "IPY_MODEL_d20dc9e68c424432bd51b0cf60cfa10b",
              "IPY_MODEL_add6d220e7a2458684b267fd3c37202a"
            ],
            "layout": "IPY_MODEL_f361bb0b419a441497c6592a288a132a"
          }
        },
        "e6a9d94e72954190b4a983d2ce1f61bf": {
          "model_module": "@jupyter-widgets/controls",
          "model_name": "HTMLModel",
          "model_module_version": "1.5.0",
          "state": {
            "_dom_classes": [],
            "_model_module": "@jupyter-widgets/controls",
            "_model_module_version": "1.5.0",
            "_model_name": "HTMLModel",
            "_view_count": null,
            "_view_module": "@jupyter-widgets/controls",
            "_view_module_version": "1.5.0",
            "_view_name": "HTMLView",
            "description": "",
            "description_tooltip": null,
            "layout": "IPY_MODEL_5d1495263bf040f8bb48d0a4f6f49ef7",
            "placeholder": "​",
            "style": "IPY_MODEL_48b587e66d0d41e585b7ab574db56840",
            "value": "Downloading: 100%"
          }
        },
        "d20dc9e68c424432bd51b0cf60cfa10b": {
          "model_module": "@jupyter-widgets/controls",
          "model_name": "FloatProgressModel",
          "model_module_version": "1.5.0",
          "state": {
            "_dom_classes": [],
            "_model_module": "@jupyter-widgets/controls",
            "_model_module_version": "1.5.0",
            "_model_name": "FloatProgressModel",
            "_view_count": null,
            "_view_module": "@jupyter-widgets/controls",
            "_view_module_version": "1.5.0",
            "_view_name": "ProgressView",
            "bar_style": "success",
            "description": "",
            "description_tooltip": null,
            "layout": "IPY_MODEL_ea48ecf15ddf48fca30ce9f6f3eda071",
            "max": 528,
            "min": 0,
            "orientation": "horizontal",
            "style": "IPY_MODEL_22c36579b1a045a981213b874a4cee24",
            "value": 528
          }
        },
        "add6d220e7a2458684b267fd3c37202a": {
          "model_module": "@jupyter-widgets/controls",
          "model_name": "HTMLModel",
          "model_module_version": "1.5.0",
          "state": {
            "_dom_classes": [],
            "_model_module": "@jupyter-widgets/controls",
            "_model_module_version": "1.5.0",
            "_model_name": "HTMLModel",
            "_view_count": null,
            "_view_module": "@jupyter-widgets/controls",
            "_view_module_version": "1.5.0",
            "_view_name": "HTMLView",
            "description": "",
            "description_tooltip": null,
            "layout": "IPY_MODEL_65a8b18611654927ac3812e5f3857490",
            "placeholder": "​",
            "style": "IPY_MODEL_d63d4b37d38f44679b0a96a53f457966",
            "value": " 528/528 [00:00&lt;00:00, 9.67kB/s]"
          }
        },
        "f361bb0b419a441497c6592a288a132a": {
          "model_module": "@jupyter-widgets/base",
          "model_name": "LayoutModel",
          "model_module_version": "1.2.0",
          "state": {
            "_model_module": "@jupyter-widgets/base",
            "_model_module_version": "1.2.0",
            "_model_name": "LayoutModel",
            "_view_count": null,
            "_view_module": "@jupyter-widgets/base",
            "_view_module_version": "1.2.0",
            "_view_name": "LayoutView",
            "align_content": null,
            "align_items": null,
            "align_self": null,
            "border": null,
            "bottom": null,
            "display": null,
            "flex": null,
            "flex_flow": null,
            "grid_area": null,
            "grid_auto_columns": null,
            "grid_auto_flow": null,
            "grid_auto_rows": null,
            "grid_column": null,
            "grid_gap": null,
            "grid_row": null,
            "grid_template_areas": null,
            "grid_template_columns": null,
            "grid_template_rows": null,
            "height": null,
            "justify_content": null,
            "justify_items": null,
            "left": null,
            "margin": null,
            "max_height": null,
            "max_width": null,
            "min_height": null,
            "min_width": null,
            "object_fit": null,
            "object_position": null,
            "order": null,
            "overflow": null,
            "overflow_x": null,
            "overflow_y": null,
            "padding": null,
            "right": null,
            "top": null,
            "visibility": null,
            "width": null
          }
        },
        "5d1495263bf040f8bb48d0a4f6f49ef7": {
          "model_module": "@jupyter-widgets/base",
          "model_name": "LayoutModel",
          "model_module_version": "1.2.0",
          "state": {
            "_model_module": "@jupyter-widgets/base",
            "_model_module_version": "1.2.0",
            "_model_name": "LayoutModel",
            "_view_count": null,
            "_view_module": "@jupyter-widgets/base",
            "_view_module_version": "1.2.0",
            "_view_name": "LayoutView",
            "align_content": null,
            "align_items": null,
            "align_self": null,
            "border": null,
            "bottom": null,
            "display": null,
            "flex": null,
            "flex_flow": null,
            "grid_area": null,
            "grid_auto_columns": null,
            "grid_auto_flow": null,
            "grid_auto_rows": null,
            "grid_column": null,
            "grid_gap": null,
            "grid_row": null,
            "grid_template_areas": null,
            "grid_template_columns": null,
            "grid_template_rows": null,
            "height": null,
            "justify_content": null,
            "justify_items": null,
            "left": null,
            "margin": null,
            "max_height": null,
            "max_width": null,
            "min_height": null,
            "min_width": null,
            "object_fit": null,
            "object_position": null,
            "order": null,
            "overflow": null,
            "overflow_x": null,
            "overflow_y": null,
            "padding": null,
            "right": null,
            "top": null,
            "visibility": null,
            "width": null
          }
        },
        "48b587e66d0d41e585b7ab574db56840": {
          "model_module": "@jupyter-widgets/controls",
          "model_name": "DescriptionStyleModel",
          "model_module_version": "1.5.0",
          "state": {
            "_model_module": "@jupyter-widgets/controls",
            "_model_module_version": "1.5.0",
            "_model_name": "DescriptionStyleModel",
            "_view_count": null,
            "_view_module": "@jupyter-widgets/base",
            "_view_module_version": "1.2.0",
            "_view_name": "StyleView",
            "description_width": ""
          }
        },
        "ea48ecf15ddf48fca30ce9f6f3eda071": {
          "model_module": "@jupyter-widgets/base",
          "model_name": "LayoutModel",
          "model_module_version": "1.2.0",
          "state": {
            "_model_module": "@jupyter-widgets/base",
            "_model_module_version": "1.2.0",
            "_model_name": "LayoutModel",
            "_view_count": null,
            "_view_module": "@jupyter-widgets/base",
            "_view_module_version": "1.2.0",
            "_view_name": "LayoutView",
            "align_content": null,
            "align_items": null,
            "align_self": null,
            "border": null,
            "bottom": null,
            "display": null,
            "flex": null,
            "flex_flow": null,
            "grid_area": null,
            "grid_auto_columns": null,
            "grid_auto_flow": null,
            "grid_auto_rows": null,
            "grid_column": null,
            "grid_gap": null,
            "grid_row": null,
            "grid_template_areas": null,
            "grid_template_columns": null,
            "grid_template_rows": null,
            "height": null,
            "justify_content": null,
            "justify_items": null,
            "left": null,
            "margin": null,
            "max_height": null,
            "max_width": null,
            "min_height": null,
            "min_width": null,
            "object_fit": null,
            "object_position": null,
            "order": null,
            "overflow": null,
            "overflow_x": null,
            "overflow_y": null,
            "padding": null,
            "right": null,
            "top": null,
            "visibility": null,
            "width": null
          }
        },
        "22c36579b1a045a981213b874a4cee24": {
          "model_module": "@jupyter-widgets/controls",
          "model_name": "ProgressStyleModel",
          "model_module_version": "1.5.0",
          "state": {
            "_model_module": "@jupyter-widgets/controls",
            "_model_module_version": "1.5.0",
            "_model_name": "ProgressStyleModel",
            "_view_count": null,
            "_view_module": "@jupyter-widgets/base",
            "_view_module_version": "1.2.0",
            "_view_name": "StyleView",
            "bar_color": null,
            "description_width": ""
          }
        },
        "65a8b18611654927ac3812e5f3857490": {
          "model_module": "@jupyter-widgets/base",
          "model_name": "LayoutModel",
          "model_module_version": "1.2.0",
          "state": {
            "_model_module": "@jupyter-widgets/base",
            "_model_module_version": "1.2.0",
            "_model_name": "LayoutModel",
            "_view_count": null,
            "_view_module": "@jupyter-widgets/base",
            "_view_module_version": "1.2.0",
            "_view_name": "LayoutView",
            "align_content": null,
            "align_items": null,
            "align_self": null,
            "border": null,
            "bottom": null,
            "display": null,
            "flex": null,
            "flex_flow": null,
            "grid_area": null,
            "grid_auto_columns": null,
            "grid_auto_flow": null,
            "grid_auto_rows": null,
            "grid_column": null,
            "grid_gap": null,
            "grid_row": null,
            "grid_template_areas": null,
            "grid_template_columns": null,
            "grid_template_rows": null,
            "height": null,
            "justify_content": null,
            "justify_items": null,
            "left": null,
            "margin": null,
            "max_height": null,
            "max_width": null,
            "min_height": null,
            "min_width": null,
            "object_fit": null,
            "object_position": null,
            "order": null,
            "overflow": null,
            "overflow_x": null,
            "overflow_y": null,
            "padding": null,
            "right": null,
            "top": null,
            "visibility": null,
            "width": null
          }
        },
        "d63d4b37d38f44679b0a96a53f457966": {
          "model_module": "@jupyter-widgets/controls",
          "model_name": "DescriptionStyleModel",
          "model_module_version": "1.5.0",
          "state": {
            "_model_module": "@jupyter-widgets/controls",
            "_model_module_version": "1.5.0",
            "_model_name": "DescriptionStyleModel",
            "_view_count": null,
            "_view_module": "@jupyter-widgets/base",
            "_view_module_version": "1.2.0",
            "_view_name": "StyleView",
            "description_width": ""
          }
        },
        "be3d8914dcc34018aeb39ac8cd548434": {
          "model_module": "@jupyter-widgets/controls",
          "model_name": "HBoxModel",
          "model_module_version": "1.5.0",
          "state": {
            "_dom_classes": [],
            "_model_module": "@jupyter-widgets/controls",
            "_model_module_version": "1.5.0",
            "_model_name": "HBoxModel",
            "_view_count": null,
            "_view_module": "@jupyter-widgets/controls",
            "_view_module_version": "1.5.0",
            "_view_name": "HBoxView",
            "box_style": "",
            "children": [
              "IPY_MODEL_4260d67155a44f539444baf7fd98806f",
              "IPY_MODEL_1fd21621e50f4a8782741f62bccadeac",
              "IPY_MODEL_6805486628e740d5901b7e45456c9513"
            ],
            "layout": "IPY_MODEL_ac747f6641534211aeb8135e66ee5e8c"
          }
        },
        "4260d67155a44f539444baf7fd98806f": {
          "model_module": "@jupyter-widgets/controls",
          "model_name": "HTMLModel",
          "model_module_version": "1.5.0",
          "state": {
            "_dom_classes": [],
            "_model_module": "@jupyter-widgets/controls",
            "_model_module_version": "1.5.0",
            "_model_name": "HTMLModel",
            "_view_count": null,
            "_view_module": "@jupyter-widgets/controls",
            "_view_module_version": "1.5.0",
            "_view_name": "HTMLView",
            "description": "",
            "description_tooltip": null,
            "layout": "IPY_MODEL_a426592f70884e108a48f4ef2ad3faea",
            "placeholder": "​",
            "style": "IPY_MODEL_88d2c2a3cc504f5faa00861f725e2b38",
            "value": "Downloading: 100%"
          }
        },
        "1fd21621e50f4a8782741f62bccadeac": {
          "model_module": "@jupyter-widgets/controls",
          "model_name": "FloatProgressModel",
          "model_module_version": "1.5.0",
          "state": {
            "_dom_classes": [],
            "_model_module": "@jupyter-widgets/controls",
            "_model_module_version": "1.5.0",
            "_model_name": "FloatProgressModel",
            "_view_count": null,
            "_view_module": "@jupyter-widgets/controls",
            "_view_module_version": "1.5.0",
            "_view_name": "ProgressView",
            "bar_style": "success",
            "description": "",
            "description_tooltip": null,
            "layout": "IPY_MODEL_7994e449a0644467831c1d269c478528",
            "max": 5212246,
            "min": 0,
            "orientation": "horizontal",
            "style": "IPY_MODEL_3da5aa0d231f4d1dadaa1be92d4693e4",
            "value": 5212246
          }
        },
        "6805486628e740d5901b7e45456c9513": {
          "model_module": "@jupyter-widgets/controls",
          "model_name": "HTMLModel",
          "model_module_version": "1.5.0",
          "state": {
            "_dom_classes": [],
            "_model_module": "@jupyter-widgets/controls",
            "_model_module_version": "1.5.0",
            "_model_name": "HTMLModel",
            "_view_count": null,
            "_view_module": "@jupyter-widgets/controls",
            "_view_module_version": "1.5.0",
            "_view_name": "HTMLView",
            "description": "",
            "description_tooltip": null,
            "layout": "IPY_MODEL_e6b18cb1aa0a4023b4386ee05783892a",
            "placeholder": "​",
            "style": "IPY_MODEL_00d6975acee84661a60f22b76ab53bdd",
            "value": " 5.21M/5.21M [00:01&lt;00:00, 6.58MB/s]"
          }
        },
        "ac747f6641534211aeb8135e66ee5e8c": {
          "model_module": "@jupyter-widgets/base",
          "model_name": "LayoutModel",
          "model_module_version": "1.2.0",
          "state": {
            "_model_module": "@jupyter-widgets/base",
            "_model_module_version": "1.2.0",
            "_model_name": "LayoutModel",
            "_view_count": null,
            "_view_module": "@jupyter-widgets/base",
            "_view_module_version": "1.2.0",
            "_view_name": "LayoutView",
            "align_content": null,
            "align_items": null,
            "align_self": null,
            "border": null,
            "bottom": null,
            "display": null,
            "flex": null,
            "flex_flow": null,
            "grid_area": null,
            "grid_auto_columns": null,
            "grid_auto_flow": null,
            "grid_auto_rows": null,
            "grid_column": null,
            "grid_gap": null,
            "grid_row": null,
            "grid_template_areas": null,
            "grid_template_columns": null,
            "grid_template_rows": null,
            "height": null,
            "justify_content": null,
            "justify_items": null,
            "left": null,
            "margin": null,
            "max_height": null,
            "max_width": null,
            "min_height": null,
            "min_width": null,
            "object_fit": null,
            "object_position": null,
            "order": null,
            "overflow": null,
            "overflow_x": null,
            "overflow_y": null,
            "padding": null,
            "right": null,
            "top": null,
            "visibility": null,
            "width": null
          }
        },
        "a426592f70884e108a48f4ef2ad3faea": {
          "model_module": "@jupyter-widgets/base",
          "model_name": "LayoutModel",
          "model_module_version": "1.2.0",
          "state": {
            "_model_module": "@jupyter-widgets/base",
            "_model_module_version": "1.2.0",
            "_model_name": "LayoutModel",
            "_view_count": null,
            "_view_module": "@jupyter-widgets/base",
            "_view_module_version": "1.2.0",
            "_view_name": "LayoutView",
            "align_content": null,
            "align_items": null,
            "align_self": null,
            "border": null,
            "bottom": null,
            "display": null,
            "flex": null,
            "flex_flow": null,
            "grid_area": null,
            "grid_auto_columns": null,
            "grid_auto_flow": null,
            "grid_auto_rows": null,
            "grid_column": null,
            "grid_gap": null,
            "grid_row": null,
            "grid_template_areas": null,
            "grid_template_columns": null,
            "grid_template_rows": null,
            "height": null,
            "justify_content": null,
            "justify_items": null,
            "left": null,
            "margin": null,
            "max_height": null,
            "max_width": null,
            "min_height": null,
            "min_width": null,
            "object_fit": null,
            "object_position": null,
            "order": null,
            "overflow": null,
            "overflow_x": null,
            "overflow_y": null,
            "padding": null,
            "right": null,
            "top": null,
            "visibility": null,
            "width": null
          }
        },
        "88d2c2a3cc504f5faa00861f725e2b38": {
          "model_module": "@jupyter-widgets/controls",
          "model_name": "DescriptionStyleModel",
          "model_module_version": "1.5.0",
          "state": {
            "_model_module": "@jupyter-widgets/controls",
            "_model_module_version": "1.5.0",
            "_model_name": "DescriptionStyleModel",
            "_view_count": null,
            "_view_module": "@jupyter-widgets/base",
            "_view_module_version": "1.2.0",
            "_view_name": "StyleView",
            "description_width": ""
          }
        },
        "7994e449a0644467831c1d269c478528": {
          "model_module": "@jupyter-widgets/base",
          "model_name": "LayoutModel",
          "model_module_version": "1.2.0",
          "state": {
            "_model_module": "@jupyter-widgets/base",
            "_model_module_version": "1.2.0",
            "_model_name": "LayoutModel",
            "_view_count": null,
            "_view_module": "@jupyter-widgets/base",
            "_view_module_version": "1.2.0",
            "_view_name": "LayoutView",
            "align_content": null,
            "align_items": null,
            "align_self": null,
            "border": null,
            "bottom": null,
            "display": null,
            "flex": null,
            "flex_flow": null,
            "grid_area": null,
            "grid_auto_columns": null,
            "grid_auto_flow": null,
            "grid_auto_rows": null,
            "grid_column": null,
            "grid_gap": null,
            "grid_row": null,
            "grid_template_areas": null,
            "grid_template_columns": null,
            "grid_template_rows": null,
            "height": null,
            "justify_content": null,
            "justify_items": null,
            "left": null,
            "margin": null,
            "max_height": null,
            "max_width": null,
            "min_height": null,
            "min_width": null,
            "object_fit": null,
            "object_position": null,
            "order": null,
            "overflow": null,
            "overflow_x": null,
            "overflow_y": null,
            "padding": null,
            "right": null,
            "top": null,
            "visibility": null,
            "width": null
          }
        },
        "3da5aa0d231f4d1dadaa1be92d4693e4": {
          "model_module": "@jupyter-widgets/controls",
          "model_name": "ProgressStyleModel",
          "model_module_version": "1.5.0",
          "state": {
            "_model_module": "@jupyter-widgets/controls",
            "_model_module_version": "1.5.0",
            "_model_name": "ProgressStyleModel",
            "_view_count": null,
            "_view_module": "@jupyter-widgets/base",
            "_view_module_version": "1.2.0",
            "_view_name": "StyleView",
            "bar_color": null,
            "description_width": ""
          }
        },
        "e6b18cb1aa0a4023b4386ee05783892a": {
          "model_module": "@jupyter-widgets/base",
          "model_name": "LayoutModel",
          "model_module_version": "1.2.0",
          "state": {
            "_model_module": "@jupyter-widgets/base",
            "_model_module_version": "1.2.0",
            "_model_name": "LayoutModel",
            "_view_count": null,
            "_view_module": "@jupyter-widgets/base",
            "_view_module_version": "1.2.0",
            "_view_name": "LayoutView",
            "align_content": null,
            "align_items": null,
            "align_self": null,
            "border": null,
            "bottom": null,
            "display": null,
            "flex": null,
            "flex_flow": null,
            "grid_area": null,
            "grid_auto_columns": null,
            "grid_auto_flow": null,
            "grid_auto_rows": null,
            "grid_column": null,
            "grid_gap": null,
            "grid_row": null,
            "grid_template_areas": null,
            "grid_template_columns": null,
            "grid_template_rows": null,
            "height": null,
            "justify_content": null,
            "justify_items": null,
            "left": null,
            "margin": null,
            "max_height": null,
            "max_width": null,
            "min_height": null,
            "min_width": null,
            "object_fit": null,
            "object_position": null,
            "order": null,
            "overflow": null,
            "overflow_x": null,
            "overflow_y": null,
            "padding": null,
            "right": null,
            "top": null,
            "visibility": null,
            "width": null
          }
        },
        "00d6975acee84661a60f22b76ab53bdd": {
          "model_module": "@jupyter-widgets/controls",
          "model_name": "DescriptionStyleModel",
          "model_module_version": "1.5.0",
          "state": {
            "_model_module": "@jupyter-widgets/controls",
            "_model_module_version": "1.5.0",
            "_model_name": "DescriptionStyleModel",
            "_view_count": null,
            "_view_module": "@jupyter-widgets/base",
            "_view_module_version": "1.2.0",
            "_view_name": "StyleView",
            "description_width": ""
          }
        },
        "86087aef5d804dbeafc6c358ffa28341": {
          "model_module": "@jupyter-widgets/controls",
          "model_name": "HBoxModel",
          "model_module_version": "1.5.0",
          "state": {
            "_dom_classes": [],
            "_model_module": "@jupyter-widgets/controls",
            "_model_module_version": "1.5.0",
            "_model_name": "HBoxModel",
            "_view_count": null,
            "_view_module": "@jupyter-widgets/controls",
            "_view_module_version": "1.5.0",
            "_view_name": "HBoxView",
            "box_style": "",
            "children": [
              "IPY_MODEL_4c711964eb6f4e63a31777f5182d76c9",
              "IPY_MODEL_cbd61557cc6640e2a4afabe5a1162b0a",
              "IPY_MODEL_d3f6254d5a1f4fd081e42a40ff0b199f"
            ],
            "layout": "IPY_MODEL_8ea7d41f40aa42dc8f85c9a072e8ed04"
          }
        },
        "4c711964eb6f4e63a31777f5182d76c9": {
          "model_module": "@jupyter-widgets/controls",
          "model_name": "HTMLModel",
          "model_module_version": "1.5.0",
          "state": {
            "_dom_classes": [],
            "_model_module": "@jupyter-widgets/controls",
            "_model_module_version": "1.5.0",
            "_model_name": "HTMLModel",
            "_view_count": null,
            "_view_module": "@jupyter-widgets/controls",
            "_view_module_version": "1.5.0",
            "_view_name": "HTMLView",
            "description": "",
            "description_tooltip": null,
            "layout": "IPY_MODEL_f9ee0b43254248cca9a5760222b8a565",
            "placeholder": "​",
            "style": "IPY_MODEL_fd544babd6c341429cc308f907f120b5",
            "value": "Downloading: 100%"
          }
        },
        "cbd61557cc6640e2a4afabe5a1162b0a": {
          "model_module": "@jupyter-widgets/controls",
          "model_name": "FloatProgressModel",
          "model_module_version": "1.5.0",
          "state": {
            "_dom_classes": [],
            "_model_module": "@jupyter-widgets/controls",
            "_model_module_version": "1.5.0",
            "_model_name": "FloatProgressModel",
            "_view_count": null,
            "_view_module": "@jupyter-widgets/controls",
            "_view_module_version": "1.5.0",
            "_view_name": "ProgressView",
            "bar_style": "success",
            "description": "",
            "description_tooltip": null,
            "layout": "IPY_MODEL_fb21a6fcb3054c3d838e836f20fab868",
            "max": 78,
            "min": 0,
            "orientation": "horizontal",
            "style": "IPY_MODEL_f1382ad09c664fcaab06cd6fe392d30e",
            "value": 78
          }
        },
        "d3f6254d5a1f4fd081e42a40ff0b199f": {
          "model_module": "@jupyter-widgets/controls",
          "model_name": "HTMLModel",
          "model_module_version": "1.5.0",
          "state": {
            "_dom_classes": [],
            "_model_module": "@jupyter-widgets/controls",
            "_model_module_version": "1.5.0",
            "_model_name": "HTMLModel",
            "_view_count": null,
            "_view_module": "@jupyter-widgets/controls",
            "_view_module_version": "1.5.0",
            "_view_name": "HTMLView",
            "description": "",
            "description_tooltip": null,
            "layout": "IPY_MODEL_9a715445216e47b98ae36aab1153cea4",
            "placeholder": "​",
            "style": "IPY_MODEL_1c7adbbf08e94721a71500cae87a43a8",
            "value": " 78.0/78.0 [00:00&lt;00:00, 1.37kB/s]"
          }
        },
        "8ea7d41f40aa42dc8f85c9a072e8ed04": {
          "model_module": "@jupyter-widgets/base",
          "model_name": "LayoutModel",
          "model_module_version": "1.2.0",
          "state": {
            "_model_module": "@jupyter-widgets/base",
            "_model_module_version": "1.2.0",
            "_model_name": "LayoutModel",
            "_view_count": null,
            "_view_module": "@jupyter-widgets/base",
            "_view_module_version": "1.2.0",
            "_view_name": "LayoutView",
            "align_content": null,
            "align_items": null,
            "align_self": null,
            "border": null,
            "bottom": null,
            "display": null,
            "flex": null,
            "flex_flow": null,
            "grid_area": null,
            "grid_auto_columns": null,
            "grid_auto_flow": null,
            "grid_auto_rows": null,
            "grid_column": null,
            "grid_gap": null,
            "grid_row": null,
            "grid_template_areas": null,
            "grid_template_columns": null,
            "grid_template_rows": null,
            "height": null,
            "justify_content": null,
            "justify_items": null,
            "left": null,
            "margin": null,
            "max_height": null,
            "max_width": null,
            "min_height": null,
            "min_width": null,
            "object_fit": null,
            "object_position": null,
            "order": null,
            "overflow": null,
            "overflow_x": null,
            "overflow_y": null,
            "padding": null,
            "right": null,
            "top": null,
            "visibility": null,
            "width": null
          }
        },
        "f9ee0b43254248cca9a5760222b8a565": {
          "model_module": "@jupyter-widgets/base",
          "model_name": "LayoutModel",
          "model_module_version": "1.2.0",
          "state": {
            "_model_module": "@jupyter-widgets/base",
            "_model_module_version": "1.2.0",
            "_model_name": "LayoutModel",
            "_view_count": null,
            "_view_module": "@jupyter-widgets/base",
            "_view_module_version": "1.2.0",
            "_view_name": "LayoutView",
            "align_content": null,
            "align_items": null,
            "align_self": null,
            "border": null,
            "bottom": null,
            "display": null,
            "flex": null,
            "flex_flow": null,
            "grid_area": null,
            "grid_auto_columns": null,
            "grid_auto_flow": null,
            "grid_auto_rows": null,
            "grid_column": null,
            "grid_gap": null,
            "grid_row": null,
            "grid_template_areas": null,
            "grid_template_columns": null,
            "grid_template_rows": null,
            "height": null,
            "justify_content": null,
            "justify_items": null,
            "left": null,
            "margin": null,
            "max_height": null,
            "max_width": null,
            "min_height": null,
            "min_width": null,
            "object_fit": null,
            "object_position": null,
            "order": null,
            "overflow": null,
            "overflow_x": null,
            "overflow_y": null,
            "padding": null,
            "right": null,
            "top": null,
            "visibility": null,
            "width": null
          }
        },
        "fd544babd6c341429cc308f907f120b5": {
          "model_module": "@jupyter-widgets/controls",
          "model_name": "DescriptionStyleModel",
          "model_module_version": "1.5.0",
          "state": {
            "_model_module": "@jupyter-widgets/controls",
            "_model_module_version": "1.5.0",
            "_model_name": "DescriptionStyleModel",
            "_view_count": null,
            "_view_module": "@jupyter-widgets/base",
            "_view_module_version": "1.2.0",
            "_view_name": "StyleView",
            "description_width": ""
          }
        },
        "fb21a6fcb3054c3d838e836f20fab868": {
          "model_module": "@jupyter-widgets/base",
          "model_name": "LayoutModel",
          "model_module_version": "1.2.0",
          "state": {
            "_model_module": "@jupyter-widgets/base",
            "_model_module_version": "1.2.0",
            "_model_name": "LayoutModel",
            "_view_count": null,
            "_view_module": "@jupyter-widgets/base",
            "_view_module_version": "1.2.0",
            "_view_name": "LayoutView",
            "align_content": null,
            "align_items": null,
            "align_self": null,
            "border": null,
            "bottom": null,
            "display": null,
            "flex": null,
            "flex_flow": null,
            "grid_area": null,
            "grid_auto_columns": null,
            "grid_auto_flow": null,
            "grid_auto_rows": null,
            "grid_column": null,
            "grid_gap": null,
            "grid_row": null,
            "grid_template_areas": null,
            "grid_template_columns": null,
            "grid_template_rows": null,
            "height": null,
            "justify_content": null,
            "justify_items": null,
            "left": null,
            "margin": null,
            "max_height": null,
            "max_width": null,
            "min_height": null,
            "min_width": null,
            "object_fit": null,
            "object_position": null,
            "order": null,
            "overflow": null,
            "overflow_x": null,
            "overflow_y": null,
            "padding": null,
            "right": null,
            "top": null,
            "visibility": null,
            "width": null
          }
        },
        "f1382ad09c664fcaab06cd6fe392d30e": {
          "model_module": "@jupyter-widgets/controls",
          "model_name": "ProgressStyleModel",
          "model_module_version": "1.5.0",
          "state": {
            "_model_module": "@jupyter-widgets/controls",
            "_model_module_version": "1.5.0",
            "_model_name": "ProgressStyleModel",
            "_view_count": null,
            "_view_module": "@jupyter-widgets/base",
            "_view_module_version": "1.2.0",
            "_view_name": "StyleView",
            "bar_color": null,
            "description_width": ""
          }
        },
        "9a715445216e47b98ae36aab1153cea4": {
          "model_module": "@jupyter-widgets/base",
          "model_name": "LayoutModel",
          "model_module_version": "1.2.0",
          "state": {
            "_model_module": "@jupyter-widgets/base",
            "_model_module_version": "1.2.0",
            "_model_name": "LayoutModel",
            "_view_count": null,
            "_view_module": "@jupyter-widgets/base",
            "_view_module_version": "1.2.0",
            "_view_name": "LayoutView",
            "align_content": null,
            "align_items": null,
            "align_self": null,
            "border": null,
            "bottom": null,
            "display": null,
            "flex": null,
            "flex_flow": null,
            "grid_area": null,
            "grid_auto_columns": null,
            "grid_auto_flow": null,
            "grid_auto_rows": null,
            "grid_column": null,
            "grid_gap": null,
            "grid_row": null,
            "grid_template_areas": null,
            "grid_template_columns": null,
            "grid_template_rows": null,
            "height": null,
            "justify_content": null,
            "justify_items": null,
            "left": null,
            "margin": null,
            "max_height": null,
            "max_width": null,
            "min_height": null,
            "min_width": null,
            "object_fit": null,
            "object_position": null,
            "order": null,
            "overflow": null,
            "overflow_x": null,
            "overflow_y": null,
            "padding": null,
            "right": null,
            "top": null,
            "visibility": null,
            "width": null
          }
        },
        "1c7adbbf08e94721a71500cae87a43a8": {
          "model_module": "@jupyter-widgets/controls",
          "model_name": "DescriptionStyleModel",
          "model_module_version": "1.5.0",
          "state": {
            "_model_module": "@jupyter-widgets/controls",
            "_model_module_version": "1.5.0",
            "_model_name": "DescriptionStyleModel",
            "_view_count": null,
            "_view_module": "@jupyter-widgets/base",
            "_view_module_version": "1.2.0",
            "_view_name": "StyleView",
            "description_width": ""
          }
        },
        "038fcc6973604f4aaa87aac20100a664": {
          "model_module": "@jupyter-widgets/controls",
          "model_name": "HBoxModel",
          "model_module_version": "1.5.0",
          "state": {
            "_dom_classes": [],
            "_model_module": "@jupyter-widgets/controls",
            "_model_module_version": "1.5.0",
            "_model_name": "HBoxModel",
            "_view_count": null,
            "_view_module": "@jupyter-widgets/controls",
            "_view_module_version": "1.5.0",
            "_view_name": "HBoxView",
            "box_style": "",
            "children": [
              "IPY_MODEL_ee3181889ef548d6bc3147f0f99cb759",
              "IPY_MODEL_479c2e2d215045cb9050554492d4262d",
              "IPY_MODEL_f6479c7f7ebf4f0aa6495a0546e666f3"
            ],
            "layout": "IPY_MODEL_191e8657a3fc468686ed499f28f241ab"
          }
        },
        "ee3181889ef548d6bc3147f0f99cb759": {
          "model_module": "@jupyter-widgets/controls",
          "model_name": "HTMLModel",
          "model_module_version": "1.5.0",
          "state": {
            "_dom_classes": [],
            "_model_module": "@jupyter-widgets/controls",
            "_model_module_version": "1.5.0",
            "_model_name": "HTMLModel",
            "_view_count": null,
            "_view_module": "@jupyter-widgets/controls",
            "_view_module_version": "1.5.0",
            "_view_name": "HTMLView",
            "description": "",
            "description_tooltip": null,
            "layout": "IPY_MODEL_b0ba9f4c5b05457bb0c34c7dac44cee3",
            "placeholder": "​",
            "style": "IPY_MODEL_55be6c152ed84b54a68ec1d43ed947b4",
            "value": "Downloading: 100%"
          }
        },
        "479c2e2d215045cb9050554492d4262d": {
          "model_module": "@jupyter-widgets/controls",
          "model_name": "FloatProgressModel",
          "model_module_version": "1.5.0",
          "state": {
            "_dom_classes": [],
            "_model_module": "@jupyter-widgets/controls",
            "_model_module_version": "1.5.0",
            "_model_name": "FloatProgressModel",
            "_view_count": null,
            "_view_module": "@jupyter-widgets/controls",
            "_view_module_version": "1.5.0",
            "_view_name": "ProgressView",
            "bar_style": "success",
            "description": "",
            "description_tooltip": null,
            "layout": "IPY_MODEL_36077ece2ba04c18bbd445df4e2626db",
            "max": 101348,
            "min": 0,
            "orientation": "horizontal",
            "style": "IPY_MODEL_4f66271e0ed64090908bef0b39b07c6b",
            "value": 101348
          }
        },
        "f6479c7f7ebf4f0aa6495a0546e666f3": {
          "model_module": "@jupyter-widgets/controls",
          "model_name": "HTMLModel",
          "model_module_version": "1.5.0",
          "state": {
            "_dom_classes": [],
            "_model_module": "@jupyter-widgets/controls",
            "_model_module_version": "1.5.0",
            "_model_name": "HTMLModel",
            "_view_count": null,
            "_view_module": "@jupyter-widgets/controls",
            "_view_module_version": "1.5.0",
            "_view_name": "HTMLView",
            "description": "",
            "description_tooltip": null,
            "layout": "IPY_MODEL_c8147cc5672c447ea6667696b6320f3e",
            "placeholder": "​",
            "style": "IPY_MODEL_3f58533473384998a8605e902505e922",
            "value": " 101k/101k [00:00&lt;00:00, 154kB/s]"
          }
        },
        "191e8657a3fc468686ed499f28f241ab": {
          "model_module": "@jupyter-widgets/base",
          "model_name": "LayoutModel",
          "model_module_version": "1.2.0",
          "state": {
            "_model_module": "@jupyter-widgets/base",
            "_model_module_version": "1.2.0",
            "_model_name": "LayoutModel",
            "_view_count": null,
            "_view_module": "@jupyter-widgets/base",
            "_view_module_version": "1.2.0",
            "_view_name": "LayoutView",
            "align_content": null,
            "align_items": null,
            "align_self": null,
            "border": null,
            "bottom": null,
            "display": null,
            "flex": null,
            "flex_flow": null,
            "grid_area": null,
            "grid_auto_columns": null,
            "grid_auto_flow": null,
            "grid_auto_rows": null,
            "grid_column": null,
            "grid_gap": null,
            "grid_row": null,
            "grid_template_areas": null,
            "grid_template_columns": null,
            "grid_template_rows": null,
            "height": null,
            "justify_content": null,
            "justify_items": null,
            "left": null,
            "margin": null,
            "max_height": null,
            "max_width": null,
            "min_height": null,
            "min_width": null,
            "object_fit": null,
            "object_position": null,
            "order": null,
            "overflow": null,
            "overflow_x": null,
            "overflow_y": null,
            "padding": null,
            "right": null,
            "top": null,
            "visibility": null,
            "width": null
          }
        },
        "b0ba9f4c5b05457bb0c34c7dac44cee3": {
          "model_module": "@jupyter-widgets/base",
          "model_name": "LayoutModel",
          "model_module_version": "1.2.0",
          "state": {
            "_model_module": "@jupyter-widgets/base",
            "_model_module_version": "1.2.0",
            "_model_name": "LayoutModel",
            "_view_count": null,
            "_view_module": "@jupyter-widgets/base",
            "_view_module_version": "1.2.0",
            "_view_name": "LayoutView",
            "align_content": null,
            "align_items": null,
            "align_self": null,
            "border": null,
            "bottom": null,
            "display": null,
            "flex": null,
            "flex_flow": null,
            "grid_area": null,
            "grid_auto_columns": null,
            "grid_auto_flow": null,
            "grid_auto_rows": null,
            "grid_column": null,
            "grid_gap": null,
            "grid_row": null,
            "grid_template_areas": null,
            "grid_template_columns": null,
            "grid_template_rows": null,
            "height": null,
            "justify_content": null,
            "justify_items": null,
            "left": null,
            "margin": null,
            "max_height": null,
            "max_width": null,
            "min_height": null,
            "min_width": null,
            "object_fit": null,
            "object_position": null,
            "order": null,
            "overflow": null,
            "overflow_x": null,
            "overflow_y": null,
            "padding": null,
            "right": null,
            "top": null,
            "visibility": null,
            "width": null
          }
        },
        "55be6c152ed84b54a68ec1d43ed947b4": {
          "model_module": "@jupyter-widgets/controls",
          "model_name": "DescriptionStyleModel",
          "model_module_version": "1.5.0",
          "state": {
            "_model_module": "@jupyter-widgets/controls",
            "_model_module_version": "1.5.0",
            "_model_name": "DescriptionStyleModel",
            "_view_count": null,
            "_view_module": "@jupyter-widgets/base",
            "_view_module_version": "1.2.0",
            "_view_name": "StyleView",
            "description_width": ""
          }
        },
        "36077ece2ba04c18bbd445df4e2626db": {
          "model_module": "@jupyter-widgets/base",
          "model_name": "LayoutModel",
          "model_module_version": "1.2.0",
          "state": {
            "_model_module": "@jupyter-widgets/base",
            "_model_module_version": "1.2.0",
            "_model_name": "LayoutModel",
            "_view_count": null,
            "_view_module": "@jupyter-widgets/base",
            "_view_module_version": "1.2.0",
            "_view_name": "LayoutView",
            "align_content": null,
            "align_items": null,
            "align_self": null,
            "border": null,
            "bottom": null,
            "display": null,
            "flex": null,
            "flex_flow": null,
            "grid_area": null,
            "grid_auto_columns": null,
            "grid_auto_flow": null,
            "grid_auto_rows": null,
            "grid_column": null,
            "grid_gap": null,
            "grid_row": null,
            "grid_template_areas": null,
            "grid_template_columns": null,
            "grid_template_rows": null,
            "height": null,
            "justify_content": null,
            "justify_items": null,
            "left": null,
            "margin": null,
            "max_height": null,
            "max_width": null,
            "min_height": null,
            "min_width": null,
            "object_fit": null,
            "object_position": null,
            "order": null,
            "overflow": null,
            "overflow_x": null,
            "overflow_y": null,
            "padding": null,
            "right": null,
            "top": null,
            "visibility": null,
            "width": null
          }
        },
        "4f66271e0ed64090908bef0b39b07c6b": {
          "model_module": "@jupyter-widgets/controls",
          "model_name": "ProgressStyleModel",
          "model_module_version": "1.5.0",
          "state": {
            "_model_module": "@jupyter-widgets/controls",
            "_model_module_version": "1.5.0",
            "_model_name": "ProgressStyleModel",
            "_view_count": null,
            "_view_module": "@jupyter-widgets/base",
            "_view_module_version": "1.2.0",
            "_view_name": "StyleView",
            "bar_color": null,
            "description_width": ""
          }
        },
        "c8147cc5672c447ea6667696b6320f3e": {
          "model_module": "@jupyter-widgets/base",
          "model_name": "LayoutModel",
          "model_module_version": "1.2.0",
          "state": {
            "_model_module": "@jupyter-widgets/base",
            "_model_module_version": "1.2.0",
            "_model_name": "LayoutModel",
            "_view_count": null,
            "_view_module": "@jupyter-widgets/base",
            "_view_module_version": "1.2.0",
            "_view_name": "LayoutView",
            "align_content": null,
            "align_items": null,
            "align_self": null,
            "border": null,
            "bottom": null,
            "display": null,
            "flex": null,
            "flex_flow": null,
            "grid_area": null,
            "grid_auto_columns": null,
            "grid_auto_flow": null,
            "grid_auto_rows": null,
            "grid_column": null,
            "grid_gap": null,
            "grid_row": null,
            "grid_template_areas": null,
            "grid_template_columns": null,
            "grid_template_rows": null,
            "height": null,
            "justify_content": null,
            "justify_items": null,
            "left": null,
            "margin": null,
            "max_height": null,
            "max_width": null,
            "min_height": null,
            "min_width": null,
            "object_fit": null,
            "object_position": null,
            "order": null,
            "overflow": null,
            "overflow_x": null,
            "overflow_y": null,
            "padding": null,
            "right": null,
            "top": null,
            "visibility": null,
            "width": null
          }
        },
        "3f58533473384998a8605e902505e922": {
          "model_module": "@jupyter-widgets/controls",
          "model_name": "DescriptionStyleModel",
          "model_module_version": "1.5.0",
          "state": {
            "_model_module": "@jupyter-widgets/controls",
            "_model_module_version": "1.5.0",
            "_model_name": "DescriptionStyleModel",
            "_view_count": null,
            "_view_module": "@jupyter-widgets/base",
            "_view_module_version": "1.2.0",
            "_view_name": "StyleView",
            "description_width": ""
          }
        },
        "f7390893f7204966ba56efa02f2fe3ae": {
          "model_module": "@jupyter-widgets/controls",
          "model_name": "HBoxModel",
          "model_module_version": "1.5.0",
          "state": {
            "_dom_classes": [],
            "_model_module": "@jupyter-widgets/controls",
            "_model_module_version": "1.5.0",
            "_model_name": "HBoxModel",
            "_view_count": null,
            "_view_module": "@jupyter-widgets/controls",
            "_view_module_version": "1.5.0",
            "_view_name": "HBoxView",
            "box_style": "",
            "children": [
              "IPY_MODEL_f1897227328d4071858f023bd92bd586",
              "IPY_MODEL_804b8d63065a4dddaa5912b11074a6e6",
              "IPY_MODEL_c101a968e6784ff1a0687c1d84f65a0e"
            ],
            "layout": "IPY_MODEL_e7e0e77501ea4f23a883d0565d084c14"
          }
        },
        "f1897227328d4071858f023bd92bd586": {
          "model_module": "@jupyter-widgets/controls",
          "model_name": "HTMLModel",
          "model_module_version": "1.5.0",
          "state": {
            "_dom_classes": [],
            "_model_module": "@jupyter-widgets/controls",
            "_model_module_version": "1.5.0",
            "_model_name": "HTMLModel",
            "_view_count": null,
            "_view_module": "@jupyter-widgets/controls",
            "_view_module_version": "1.5.0",
            "_view_name": "HTMLView",
            "description": "",
            "description_tooltip": null,
            "layout": "IPY_MODEL_8589305b678141d89fcbc6e7e2fa5090",
            "placeholder": "​",
            "style": "IPY_MODEL_a7632e140b8a4aef98ccb1b213918b07",
            "value": "Download file pytorch_model.bin: 100%"
          }
        },
        "804b8d63065a4dddaa5912b11074a6e6": {
          "model_module": "@jupyter-widgets/controls",
          "model_name": "FloatProgressModel",
          "model_module_version": "1.5.0",
          "state": {
            "_dom_classes": [],
            "_model_module": "@jupyter-widgets/controls",
            "_model_module_version": "1.5.0",
            "_model_name": "FloatProgressModel",
            "_view_count": null,
            "_view_module": "@jupyter-widgets/controls",
            "_view_module_version": "1.5.0",
            "_view_name": "ProgressView",
            "bar_style": "success",
            "description": "",
            "description_tooltip": null,
            "layout": "IPY_MODEL_c27bd5df3fd849f2927737cf47920d07",
            "max": 1262111921,
            "min": 0,
            "orientation": "horizontal",
            "style": "IPY_MODEL_ffa796e29eea44219a6d6ae0a7824a0b",
            "value": 1262111921
          }
        },
        "c101a968e6784ff1a0687c1d84f65a0e": {
          "model_module": "@jupyter-widgets/controls",
          "model_name": "HTMLModel",
          "model_module_version": "1.5.0",
          "state": {
            "_dom_classes": [],
            "_model_module": "@jupyter-widgets/controls",
            "_model_module_version": "1.5.0",
            "_model_name": "HTMLModel",
            "_view_count": null,
            "_view_module": "@jupyter-widgets/controls",
            "_view_module_version": "1.5.0",
            "_view_name": "HTMLView",
            "description": "",
            "description_tooltip": null,
            "layout": "IPY_MODEL_4931c3d26aa24a79bda4be6a3f62f932",
            "placeholder": "​",
            "style": "IPY_MODEL_c373356474184369ab6065340321fea0",
            "value": " 1.18G/1.18G [08:32&lt;00:00, 54.2kB/s]"
          }
        },
        "e7e0e77501ea4f23a883d0565d084c14": {
          "model_module": "@jupyter-widgets/base",
          "model_name": "LayoutModel",
          "model_module_version": "1.2.0",
          "state": {
            "_model_module": "@jupyter-widgets/base",
            "_model_module_version": "1.2.0",
            "_model_name": "LayoutModel",
            "_view_count": null,
            "_view_module": "@jupyter-widgets/base",
            "_view_module_version": "1.2.0",
            "_view_name": "LayoutView",
            "align_content": null,
            "align_items": null,
            "align_self": null,
            "border": null,
            "bottom": null,
            "display": null,
            "flex": null,
            "flex_flow": null,
            "grid_area": null,
            "grid_auto_columns": null,
            "grid_auto_flow": null,
            "grid_auto_rows": null,
            "grid_column": null,
            "grid_gap": null,
            "grid_row": null,
            "grid_template_areas": null,
            "grid_template_columns": null,
            "grid_template_rows": null,
            "height": null,
            "justify_content": null,
            "justify_items": null,
            "left": null,
            "margin": null,
            "max_height": null,
            "max_width": null,
            "min_height": null,
            "min_width": null,
            "object_fit": null,
            "object_position": null,
            "order": null,
            "overflow": null,
            "overflow_x": null,
            "overflow_y": null,
            "padding": null,
            "right": null,
            "top": null,
            "visibility": null,
            "width": null
          }
        },
        "8589305b678141d89fcbc6e7e2fa5090": {
          "model_module": "@jupyter-widgets/base",
          "model_name": "LayoutModel",
          "model_module_version": "1.2.0",
          "state": {
            "_model_module": "@jupyter-widgets/base",
            "_model_module_version": "1.2.0",
            "_model_name": "LayoutModel",
            "_view_count": null,
            "_view_module": "@jupyter-widgets/base",
            "_view_module_version": "1.2.0",
            "_view_name": "LayoutView",
            "align_content": null,
            "align_items": null,
            "align_self": null,
            "border": null,
            "bottom": null,
            "display": null,
            "flex": null,
            "flex_flow": null,
            "grid_area": null,
            "grid_auto_columns": null,
            "grid_auto_flow": null,
            "grid_auto_rows": null,
            "grid_column": null,
            "grid_gap": null,
            "grid_row": null,
            "grid_template_areas": null,
            "grid_template_columns": null,
            "grid_template_rows": null,
            "height": null,
            "justify_content": null,
            "justify_items": null,
            "left": null,
            "margin": null,
            "max_height": null,
            "max_width": null,
            "min_height": null,
            "min_width": null,
            "object_fit": null,
            "object_position": null,
            "order": null,
            "overflow": null,
            "overflow_x": null,
            "overflow_y": null,
            "padding": null,
            "right": null,
            "top": null,
            "visibility": null,
            "width": null
          }
        },
        "a7632e140b8a4aef98ccb1b213918b07": {
          "model_module": "@jupyter-widgets/controls",
          "model_name": "DescriptionStyleModel",
          "model_module_version": "1.5.0",
          "state": {
            "_model_module": "@jupyter-widgets/controls",
            "_model_module_version": "1.5.0",
            "_model_name": "DescriptionStyleModel",
            "_view_count": null,
            "_view_module": "@jupyter-widgets/base",
            "_view_module_version": "1.2.0",
            "_view_name": "StyleView",
            "description_width": ""
          }
        },
        "c27bd5df3fd849f2927737cf47920d07": {
          "model_module": "@jupyter-widgets/base",
          "model_name": "LayoutModel",
          "model_module_version": "1.2.0",
          "state": {
            "_model_module": "@jupyter-widgets/base",
            "_model_module_version": "1.2.0",
            "_model_name": "LayoutModel",
            "_view_count": null,
            "_view_module": "@jupyter-widgets/base",
            "_view_module_version": "1.2.0",
            "_view_name": "LayoutView",
            "align_content": null,
            "align_items": null,
            "align_self": null,
            "border": null,
            "bottom": null,
            "display": null,
            "flex": null,
            "flex_flow": null,
            "grid_area": null,
            "grid_auto_columns": null,
            "grid_auto_flow": null,
            "grid_auto_rows": null,
            "grid_column": null,
            "grid_gap": null,
            "grid_row": null,
            "grid_template_areas": null,
            "grid_template_columns": null,
            "grid_template_rows": null,
            "height": null,
            "justify_content": null,
            "justify_items": null,
            "left": null,
            "margin": null,
            "max_height": null,
            "max_width": null,
            "min_height": null,
            "min_width": null,
            "object_fit": null,
            "object_position": null,
            "order": null,
            "overflow": null,
            "overflow_x": null,
            "overflow_y": null,
            "padding": null,
            "right": null,
            "top": null,
            "visibility": null,
            "width": null
          }
        },
        "ffa796e29eea44219a6d6ae0a7824a0b": {
          "model_module": "@jupyter-widgets/controls",
          "model_name": "ProgressStyleModel",
          "model_module_version": "1.5.0",
          "state": {
            "_model_module": "@jupyter-widgets/controls",
            "_model_module_version": "1.5.0",
            "_model_name": "ProgressStyleModel",
            "_view_count": null,
            "_view_module": "@jupyter-widgets/base",
            "_view_module_version": "1.2.0",
            "_view_name": "StyleView",
            "bar_color": null,
            "description_width": ""
          }
        },
        "4931c3d26aa24a79bda4be6a3f62f932": {
          "model_module": "@jupyter-widgets/base",
          "model_name": "LayoutModel",
          "model_module_version": "1.2.0",
          "state": {
            "_model_module": "@jupyter-widgets/base",
            "_model_module_version": "1.2.0",
            "_model_name": "LayoutModel",
            "_view_count": null,
            "_view_module": "@jupyter-widgets/base",
            "_view_module_version": "1.2.0",
            "_view_name": "LayoutView",
            "align_content": null,
            "align_items": null,
            "align_self": null,
            "border": null,
            "bottom": null,
            "display": null,
            "flex": null,
            "flex_flow": null,
            "grid_area": null,
            "grid_auto_columns": null,
            "grid_auto_flow": null,
            "grid_auto_rows": null,
            "grid_column": null,
            "grid_gap": null,
            "grid_row": null,
            "grid_template_areas": null,
            "grid_template_columns": null,
            "grid_template_rows": null,
            "height": null,
            "justify_content": null,
            "justify_items": null,
            "left": null,
            "margin": null,
            "max_height": null,
            "max_width": null,
            "min_height": null,
            "min_width": null,
            "object_fit": null,
            "object_position": null,
            "order": null,
            "overflow": null,
            "overflow_x": null,
            "overflow_y": null,
            "padding": null,
            "right": null,
            "top": null,
            "visibility": null,
            "width": null
          }
        },
        "c373356474184369ab6065340321fea0": {
          "model_module": "@jupyter-widgets/controls",
          "model_name": "DescriptionStyleModel",
          "model_module_version": "1.5.0",
          "state": {
            "_model_module": "@jupyter-widgets/controls",
            "_model_module_version": "1.5.0",
            "_model_name": "DescriptionStyleModel",
            "_view_count": null,
            "_view_module": "@jupyter-widgets/base",
            "_view_module_version": "1.2.0",
            "_view_name": "StyleView",
            "description_width": ""
          }
        },
        "30fa24cec4264b1ab68a69e4bc7a42b0": {
          "model_module": "@jupyter-widgets/controls",
          "model_name": "HBoxModel",
          "model_module_version": "1.5.0",
          "state": {
            "_dom_classes": [],
            "_model_module": "@jupyter-widgets/controls",
            "_model_module_version": "1.5.0",
            "_model_name": "HBoxModel",
            "_view_count": null,
            "_view_module": "@jupyter-widgets/controls",
            "_view_module_version": "1.5.0",
            "_view_name": "HBoxView",
            "box_style": "",
            "children": [
              "IPY_MODEL_8bdb8c75376b4999b80a3bbc0630c915",
              "IPY_MODEL_13a0cd8cdd114e3396f9eafcbaf0ba40",
              "IPY_MODEL_ce94041d63d8412ead6c1b7cd7965c0f"
            ],
            "layout": "IPY_MODEL_5b8b2eadaf9c4792a1e6688d79481fa7"
          }
        },
        "8bdb8c75376b4999b80a3bbc0630c915": {
          "model_module": "@jupyter-widgets/controls",
          "model_name": "HTMLModel",
          "model_module_version": "1.5.0",
          "state": {
            "_dom_classes": [],
            "_model_module": "@jupyter-widgets/controls",
            "_model_module_version": "1.5.0",
            "_model_name": "HTMLModel",
            "_view_count": null,
            "_view_module": "@jupyter-widgets/controls",
            "_view_module_version": "1.5.0",
            "_view_name": "HTMLView",
            "description": "",
            "description_tooltip": null,
            "layout": "IPY_MODEL_094dd0bd1bfb45d6af15a60150d5e084",
            "placeholder": "​",
            "style": "IPY_MODEL_9a1ec7b52f1940cfb15ca65b28afaaf7",
            "value": "Download file runs/Aug07_11-52-33_13eca4db5f87/1659873280.2154987/events.out.tfevents.1659873280.13eca4db5f87.71.1: 100%"
          }
        },
        "13a0cd8cdd114e3396f9eafcbaf0ba40": {
          "model_module": "@jupyter-widgets/controls",
          "model_name": "FloatProgressModel",
          "model_module_version": "1.5.0",
          "state": {
            "_dom_classes": [],
            "_model_module": "@jupyter-widgets/controls",
            "_model_module_version": "1.5.0",
            "_model_name": "FloatProgressModel",
            "_view_count": null,
            "_view_module": "@jupyter-widgets/controls",
            "_view_module_version": "1.5.0",
            "_view_name": "ProgressView",
            "bar_style": "success",
            "description": "",
            "description_tooltip": null,
            "layout": "IPY_MODEL_f02cd1d7d3544174a541a3bb75eabc0f",
            "max": 5473,
            "min": 0,
            "orientation": "horizontal",
            "style": "IPY_MODEL_99b19a9a9fb1486a97bcafd947ea0f2a",
            "value": 5473
          }
        },
        "ce94041d63d8412ead6c1b7cd7965c0f": {
          "model_module": "@jupyter-widgets/controls",
          "model_name": "HTMLModel",
          "model_module_version": "1.5.0",
          "state": {
            "_dom_classes": [],
            "_model_module": "@jupyter-widgets/controls",
            "_model_module_version": "1.5.0",
            "_model_name": "HTMLModel",
            "_view_count": null,
            "_view_module": "@jupyter-widgets/controls",
            "_view_module_version": "1.5.0",
            "_view_name": "HTMLView",
            "description": "",
            "description_tooltip": null,
            "layout": "IPY_MODEL_4c0069f974bf4647a08ee8f81a195247",
            "placeholder": "​",
            "style": "IPY_MODEL_2ac6b5c64cad466380f133685fde80c0",
            "value": " 5.34k/5.34k [08:31&lt;00:00, 9.55B/s]"
          }
        },
        "5b8b2eadaf9c4792a1e6688d79481fa7": {
          "model_module": "@jupyter-widgets/base",
          "model_name": "LayoutModel",
          "model_module_version": "1.2.0",
          "state": {
            "_model_module": "@jupyter-widgets/base",
            "_model_module_version": "1.2.0",
            "_model_name": "LayoutModel",
            "_view_count": null,
            "_view_module": "@jupyter-widgets/base",
            "_view_module_version": "1.2.0",
            "_view_name": "LayoutView",
            "align_content": null,
            "align_items": null,
            "align_self": null,
            "border": null,
            "bottom": null,
            "display": null,
            "flex": null,
            "flex_flow": null,
            "grid_area": null,
            "grid_auto_columns": null,
            "grid_auto_flow": null,
            "grid_auto_rows": null,
            "grid_column": null,
            "grid_gap": null,
            "grid_row": null,
            "grid_template_areas": null,
            "grid_template_columns": null,
            "grid_template_rows": null,
            "height": null,
            "justify_content": null,
            "justify_items": null,
            "left": null,
            "margin": null,
            "max_height": null,
            "max_width": null,
            "min_height": null,
            "min_width": null,
            "object_fit": null,
            "object_position": null,
            "order": null,
            "overflow": null,
            "overflow_x": null,
            "overflow_y": null,
            "padding": null,
            "right": null,
            "top": null,
            "visibility": null,
            "width": null
          }
        },
        "094dd0bd1bfb45d6af15a60150d5e084": {
          "model_module": "@jupyter-widgets/base",
          "model_name": "LayoutModel",
          "model_module_version": "1.2.0",
          "state": {
            "_model_module": "@jupyter-widgets/base",
            "_model_module_version": "1.2.0",
            "_model_name": "LayoutModel",
            "_view_count": null,
            "_view_module": "@jupyter-widgets/base",
            "_view_module_version": "1.2.0",
            "_view_name": "LayoutView",
            "align_content": null,
            "align_items": null,
            "align_self": null,
            "border": null,
            "bottom": null,
            "display": null,
            "flex": null,
            "flex_flow": null,
            "grid_area": null,
            "grid_auto_columns": null,
            "grid_auto_flow": null,
            "grid_auto_rows": null,
            "grid_column": null,
            "grid_gap": null,
            "grid_row": null,
            "grid_template_areas": null,
            "grid_template_columns": null,
            "grid_template_rows": null,
            "height": null,
            "justify_content": null,
            "justify_items": null,
            "left": null,
            "margin": null,
            "max_height": null,
            "max_width": null,
            "min_height": null,
            "min_width": null,
            "object_fit": null,
            "object_position": null,
            "order": null,
            "overflow": null,
            "overflow_x": null,
            "overflow_y": null,
            "padding": null,
            "right": null,
            "top": null,
            "visibility": null,
            "width": null
          }
        },
        "9a1ec7b52f1940cfb15ca65b28afaaf7": {
          "model_module": "@jupyter-widgets/controls",
          "model_name": "DescriptionStyleModel",
          "model_module_version": "1.5.0",
          "state": {
            "_model_module": "@jupyter-widgets/controls",
            "_model_module_version": "1.5.0",
            "_model_name": "DescriptionStyleModel",
            "_view_count": null,
            "_view_module": "@jupyter-widgets/base",
            "_view_module_version": "1.2.0",
            "_view_name": "StyleView",
            "description_width": ""
          }
        },
        "f02cd1d7d3544174a541a3bb75eabc0f": {
          "model_module": "@jupyter-widgets/base",
          "model_name": "LayoutModel",
          "model_module_version": "1.2.0",
          "state": {
            "_model_module": "@jupyter-widgets/base",
            "_model_module_version": "1.2.0",
            "_model_name": "LayoutModel",
            "_view_count": null,
            "_view_module": "@jupyter-widgets/base",
            "_view_module_version": "1.2.0",
            "_view_name": "LayoutView",
            "align_content": null,
            "align_items": null,
            "align_self": null,
            "border": null,
            "bottom": null,
            "display": null,
            "flex": null,
            "flex_flow": null,
            "grid_area": null,
            "grid_auto_columns": null,
            "grid_auto_flow": null,
            "grid_auto_rows": null,
            "grid_column": null,
            "grid_gap": null,
            "grid_row": null,
            "grid_template_areas": null,
            "grid_template_columns": null,
            "grid_template_rows": null,
            "height": null,
            "justify_content": null,
            "justify_items": null,
            "left": null,
            "margin": null,
            "max_height": null,
            "max_width": null,
            "min_height": null,
            "min_width": null,
            "object_fit": null,
            "object_position": null,
            "order": null,
            "overflow": null,
            "overflow_x": null,
            "overflow_y": null,
            "padding": null,
            "right": null,
            "top": null,
            "visibility": null,
            "width": null
          }
        },
        "99b19a9a9fb1486a97bcafd947ea0f2a": {
          "model_module": "@jupyter-widgets/controls",
          "model_name": "ProgressStyleModel",
          "model_module_version": "1.5.0",
          "state": {
            "_model_module": "@jupyter-widgets/controls",
            "_model_module_version": "1.5.0",
            "_model_name": "ProgressStyleModel",
            "_view_count": null,
            "_view_module": "@jupyter-widgets/base",
            "_view_module_version": "1.2.0",
            "_view_name": "StyleView",
            "bar_color": null,
            "description_width": ""
          }
        },
        "4c0069f974bf4647a08ee8f81a195247": {
          "model_module": "@jupyter-widgets/base",
          "model_name": "LayoutModel",
          "model_module_version": "1.2.0",
          "state": {
            "_model_module": "@jupyter-widgets/base",
            "_model_module_version": "1.2.0",
            "_model_name": "LayoutModel",
            "_view_count": null,
            "_view_module": "@jupyter-widgets/base",
            "_view_module_version": "1.2.0",
            "_view_name": "LayoutView",
            "align_content": null,
            "align_items": null,
            "align_self": null,
            "border": null,
            "bottom": null,
            "display": null,
            "flex": null,
            "flex_flow": null,
            "grid_area": null,
            "grid_auto_columns": null,
            "grid_auto_flow": null,
            "grid_auto_rows": null,
            "grid_column": null,
            "grid_gap": null,
            "grid_row": null,
            "grid_template_areas": null,
            "grid_template_columns": null,
            "grid_template_rows": null,
            "height": null,
            "justify_content": null,
            "justify_items": null,
            "left": null,
            "margin": null,
            "max_height": null,
            "max_width": null,
            "min_height": null,
            "min_width": null,
            "object_fit": null,
            "object_position": null,
            "order": null,
            "overflow": null,
            "overflow_x": null,
            "overflow_y": null,
            "padding": null,
            "right": null,
            "top": null,
            "visibility": null,
            "width": null
          }
        },
        "2ac6b5c64cad466380f133685fde80c0": {
          "model_module": "@jupyter-widgets/controls",
          "model_name": "DescriptionStyleModel",
          "model_module_version": "1.5.0",
          "state": {
            "_model_module": "@jupyter-widgets/controls",
            "_model_module_version": "1.5.0",
            "_model_name": "DescriptionStyleModel",
            "_view_count": null,
            "_view_module": "@jupyter-widgets/base",
            "_view_module_version": "1.2.0",
            "_view_name": "StyleView",
            "description_width": ""
          }
        },
        "86734b197dd545c28b74e74c7826cfef": {
          "model_module": "@jupyter-widgets/controls",
          "model_name": "HBoxModel",
          "model_module_version": "1.5.0",
          "state": {
            "_dom_classes": [],
            "_model_module": "@jupyter-widgets/controls",
            "_model_module_version": "1.5.0",
            "_model_name": "HBoxModel",
            "_view_count": null,
            "_view_module": "@jupyter-widgets/controls",
            "_view_module_version": "1.5.0",
            "_view_name": "HBoxView",
            "box_style": "",
            "children": [
              "IPY_MODEL_591ce24e81f34291b0cd595b81faac45",
              "IPY_MODEL_fa2c2a6f04284bc493013a43066cf2cf",
              "IPY_MODEL_044b8f19ecc44c16a6598c428ef9cb32"
            ],
            "layout": "IPY_MODEL_b39ca8686502485f917b0aa966859edf"
          }
        },
        "591ce24e81f34291b0cd595b81faac45": {
          "model_module": "@jupyter-widgets/controls",
          "model_name": "HTMLModel",
          "model_module_version": "1.5.0",
          "state": {
            "_dom_classes": [],
            "_model_module": "@jupyter-widgets/controls",
            "_model_module_version": "1.5.0",
            "_model_name": "HTMLModel",
            "_view_count": null,
            "_view_module": "@jupyter-widgets/controls",
            "_view_module_version": "1.5.0",
            "_view_name": "HTMLView",
            "description": "",
            "description_tooltip": null,
            "layout": "IPY_MODEL_5d031a72e9ba4d8fb7a74f8ed40d4eaa",
            "placeholder": "​",
            "style": "IPY_MODEL_221dbb61eb4f4645980b224f4dbc2ba7",
            "value": "Download file runs/Aug07_11-52-33_13eca4db5f87/events.out.tfevents.1659873280.13eca4db5f87.71.0: 100%"
          }
        },
        "fa2c2a6f04284bc493013a43066cf2cf": {
          "model_module": "@jupyter-widgets/controls",
          "model_name": "FloatProgressModel",
          "model_module_version": "1.5.0",
          "state": {
            "_dom_classes": [],
            "_model_module": "@jupyter-widgets/controls",
            "_model_module_version": "1.5.0",
            "_model_name": "FloatProgressModel",
            "_view_count": null,
            "_view_module": "@jupyter-widgets/controls",
            "_view_module_version": "1.5.0",
            "_view_name": "ProgressView",
            "bar_style": "success",
            "description": "",
            "description_tooltip": null,
            "layout": "IPY_MODEL_967c117ffafc4cfead529eb1d9cfa415",
            "max": 33958,
            "min": 0,
            "orientation": "horizontal",
            "style": "IPY_MODEL_05ca23eb0780488c912877075990c8c6",
            "value": 33958
          }
        },
        "044b8f19ecc44c16a6598c428ef9cb32": {
          "model_module": "@jupyter-widgets/controls",
          "model_name": "HTMLModel",
          "model_module_version": "1.5.0",
          "state": {
            "_dom_classes": [],
            "_model_module": "@jupyter-widgets/controls",
            "_model_module_version": "1.5.0",
            "_model_name": "HTMLModel",
            "_view_count": null,
            "_view_module": "@jupyter-widgets/controls",
            "_view_module_version": "1.5.0",
            "_view_name": "HTMLView",
            "description": "",
            "description_tooltip": null,
            "layout": "IPY_MODEL_f84e3f972f8b4d009996f1e3a1a37bd3",
            "placeholder": "​",
            "style": "IPY_MODEL_19760c0b88a84663946a64668542a054",
            "value": " 33.2k/33.2k [08:31&lt;00:00, 44.7B/s]"
          }
        },
        "b39ca8686502485f917b0aa966859edf": {
          "model_module": "@jupyter-widgets/base",
          "model_name": "LayoutModel",
          "model_module_version": "1.2.0",
          "state": {
            "_model_module": "@jupyter-widgets/base",
            "_model_module_version": "1.2.0",
            "_model_name": "LayoutModel",
            "_view_count": null,
            "_view_module": "@jupyter-widgets/base",
            "_view_module_version": "1.2.0",
            "_view_name": "LayoutView",
            "align_content": null,
            "align_items": null,
            "align_self": null,
            "border": null,
            "bottom": null,
            "display": null,
            "flex": null,
            "flex_flow": null,
            "grid_area": null,
            "grid_auto_columns": null,
            "grid_auto_flow": null,
            "grid_auto_rows": null,
            "grid_column": null,
            "grid_gap": null,
            "grid_row": null,
            "grid_template_areas": null,
            "grid_template_columns": null,
            "grid_template_rows": null,
            "height": null,
            "justify_content": null,
            "justify_items": null,
            "left": null,
            "margin": null,
            "max_height": null,
            "max_width": null,
            "min_height": null,
            "min_width": null,
            "object_fit": null,
            "object_position": null,
            "order": null,
            "overflow": null,
            "overflow_x": null,
            "overflow_y": null,
            "padding": null,
            "right": null,
            "top": null,
            "visibility": null,
            "width": null
          }
        },
        "5d031a72e9ba4d8fb7a74f8ed40d4eaa": {
          "model_module": "@jupyter-widgets/base",
          "model_name": "LayoutModel",
          "model_module_version": "1.2.0",
          "state": {
            "_model_module": "@jupyter-widgets/base",
            "_model_module_version": "1.2.0",
            "_model_name": "LayoutModel",
            "_view_count": null,
            "_view_module": "@jupyter-widgets/base",
            "_view_module_version": "1.2.0",
            "_view_name": "LayoutView",
            "align_content": null,
            "align_items": null,
            "align_self": null,
            "border": null,
            "bottom": null,
            "display": null,
            "flex": null,
            "flex_flow": null,
            "grid_area": null,
            "grid_auto_columns": null,
            "grid_auto_flow": null,
            "grid_auto_rows": null,
            "grid_column": null,
            "grid_gap": null,
            "grid_row": null,
            "grid_template_areas": null,
            "grid_template_columns": null,
            "grid_template_rows": null,
            "height": null,
            "justify_content": null,
            "justify_items": null,
            "left": null,
            "margin": null,
            "max_height": null,
            "max_width": null,
            "min_height": null,
            "min_width": null,
            "object_fit": null,
            "object_position": null,
            "order": null,
            "overflow": null,
            "overflow_x": null,
            "overflow_y": null,
            "padding": null,
            "right": null,
            "top": null,
            "visibility": null,
            "width": null
          }
        },
        "221dbb61eb4f4645980b224f4dbc2ba7": {
          "model_module": "@jupyter-widgets/controls",
          "model_name": "DescriptionStyleModel",
          "model_module_version": "1.5.0",
          "state": {
            "_model_module": "@jupyter-widgets/controls",
            "_model_module_version": "1.5.0",
            "_model_name": "DescriptionStyleModel",
            "_view_count": null,
            "_view_module": "@jupyter-widgets/base",
            "_view_module_version": "1.2.0",
            "_view_name": "StyleView",
            "description_width": ""
          }
        },
        "967c117ffafc4cfead529eb1d9cfa415": {
          "model_module": "@jupyter-widgets/base",
          "model_name": "LayoutModel",
          "model_module_version": "1.2.0",
          "state": {
            "_model_module": "@jupyter-widgets/base",
            "_model_module_version": "1.2.0",
            "_model_name": "LayoutModel",
            "_view_count": null,
            "_view_module": "@jupyter-widgets/base",
            "_view_module_version": "1.2.0",
            "_view_name": "LayoutView",
            "align_content": null,
            "align_items": null,
            "align_self": null,
            "border": null,
            "bottom": null,
            "display": null,
            "flex": null,
            "flex_flow": null,
            "grid_area": null,
            "grid_auto_columns": null,
            "grid_auto_flow": null,
            "grid_auto_rows": null,
            "grid_column": null,
            "grid_gap": null,
            "grid_row": null,
            "grid_template_areas": null,
            "grid_template_columns": null,
            "grid_template_rows": null,
            "height": null,
            "justify_content": null,
            "justify_items": null,
            "left": null,
            "margin": null,
            "max_height": null,
            "max_width": null,
            "min_height": null,
            "min_width": null,
            "object_fit": null,
            "object_position": null,
            "order": null,
            "overflow": null,
            "overflow_x": null,
            "overflow_y": null,
            "padding": null,
            "right": null,
            "top": null,
            "visibility": null,
            "width": null
          }
        },
        "05ca23eb0780488c912877075990c8c6": {
          "model_module": "@jupyter-widgets/controls",
          "model_name": "ProgressStyleModel",
          "model_module_version": "1.5.0",
          "state": {
            "_model_module": "@jupyter-widgets/controls",
            "_model_module_version": "1.5.0",
            "_model_name": "ProgressStyleModel",
            "_view_count": null,
            "_view_module": "@jupyter-widgets/base",
            "_view_module_version": "1.2.0",
            "_view_name": "StyleView",
            "bar_color": null,
            "description_width": ""
          }
        },
        "f84e3f972f8b4d009996f1e3a1a37bd3": {
          "model_module": "@jupyter-widgets/base",
          "model_name": "LayoutModel",
          "model_module_version": "1.2.0",
          "state": {
            "_model_module": "@jupyter-widgets/base",
            "_model_module_version": "1.2.0",
            "_model_name": "LayoutModel",
            "_view_count": null,
            "_view_module": "@jupyter-widgets/base",
            "_view_module_version": "1.2.0",
            "_view_name": "LayoutView",
            "align_content": null,
            "align_items": null,
            "align_self": null,
            "border": null,
            "bottom": null,
            "display": null,
            "flex": null,
            "flex_flow": null,
            "grid_area": null,
            "grid_auto_columns": null,
            "grid_auto_flow": null,
            "grid_auto_rows": null,
            "grid_column": null,
            "grid_gap": null,
            "grid_row": null,
            "grid_template_areas": null,
            "grid_template_columns": null,
            "grid_template_rows": null,
            "height": null,
            "justify_content": null,
            "justify_items": null,
            "left": null,
            "margin": null,
            "max_height": null,
            "max_width": null,
            "min_height": null,
            "min_width": null,
            "object_fit": null,
            "object_position": null,
            "order": null,
            "overflow": null,
            "overflow_x": null,
            "overflow_y": null,
            "padding": null,
            "right": null,
            "top": null,
            "visibility": null,
            "width": null
          }
        },
        "19760c0b88a84663946a64668542a054": {
          "model_module": "@jupyter-widgets/controls",
          "model_name": "DescriptionStyleModel",
          "model_module_version": "1.5.0",
          "state": {
            "_model_module": "@jupyter-widgets/controls",
            "_model_module_version": "1.5.0",
            "_model_name": "DescriptionStyleModel",
            "_view_count": null,
            "_view_module": "@jupyter-widgets/base",
            "_view_module_version": "1.2.0",
            "_view_name": "StyleView",
            "description_width": ""
          }
        },
        "7502cc5b04964f5fbfa5c53e6c4a3f72": {
          "model_module": "@jupyter-widgets/controls",
          "model_name": "HBoxModel",
          "model_module_version": "1.5.0",
          "state": {
            "_dom_classes": [],
            "_model_module": "@jupyter-widgets/controls",
            "_model_module_version": "1.5.0",
            "_model_name": "HBoxModel",
            "_view_count": null,
            "_view_module": "@jupyter-widgets/controls",
            "_view_module_version": "1.5.0",
            "_view_name": "HBoxView",
            "box_style": "",
            "children": [
              "IPY_MODEL_77ded7c07059415a9ea5b120ae67638c",
              "IPY_MODEL_f19c1f31a59045a7a9d99b7cadc30e49",
              "IPY_MODEL_5b0a835d71dd4d7aa2fcda2922ddde0b"
            ],
            "layout": "IPY_MODEL_eeb383f64b404106aa394156ebc11c05"
          }
        },
        "77ded7c07059415a9ea5b120ae67638c": {
          "model_module": "@jupyter-widgets/controls",
          "model_name": "HTMLModel",
          "model_module_version": "1.5.0",
          "state": {
            "_dom_classes": [],
            "_model_module": "@jupyter-widgets/controls",
            "_model_module_version": "1.5.0",
            "_model_name": "HTMLModel",
            "_view_count": null,
            "_view_module": "@jupyter-widgets/controls",
            "_view_module_version": "1.5.0",
            "_view_name": "HTMLView",
            "description": "",
            "description_tooltip": null,
            "layout": "IPY_MODEL_9780ca74eee943eb9e86c6b66940b3e0",
            "placeholder": "​",
            "style": "IPY_MODEL_45a761a0cf274ffbac1c5edbfcf8045b",
            "value": "Download file training_args.bin: 100%"
          }
        },
        "f19c1f31a59045a7a9d99b7cadc30e49": {
          "model_module": "@jupyter-widgets/controls",
          "model_name": "FloatProgressModel",
          "model_module_version": "1.5.0",
          "state": {
            "_dom_classes": [],
            "_model_module": "@jupyter-widgets/controls",
            "_model_module_version": "1.5.0",
            "_model_name": "FloatProgressModel",
            "_view_count": null,
            "_view_module": "@jupyter-widgets/controls",
            "_view_module_version": "1.5.0",
            "_view_name": "ProgressView",
            "bar_style": "success",
            "description": "",
            "description_tooltip": null,
            "layout": "IPY_MODEL_891e1b325f8d4739bb4c6355815ac8af",
            "max": 3375,
            "min": 0,
            "orientation": "horizontal",
            "style": "IPY_MODEL_aa24d4b2828e436dad76d95a60edcd00",
            "value": 3375
          }
        },
        "5b0a835d71dd4d7aa2fcda2922ddde0b": {
          "model_module": "@jupyter-widgets/controls",
          "model_name": "HTMLModel",
          "model_module_version": "1.5.0",
          "state": {
            "_dom_classes": [],
            "_model_module": "@jupyter-widgets/controls",
            "_model_module_version": "1.5.0",
            "_model_name": "HTMLModel",
            "_view_count": null,
            "_view_module": "@jupyter-widgets/controls",
            "_view_module_version": "1.5.0",
            "_view_name": "HTMLView",
            "description": "",
            "description_tooltip": null,
            "layout": "IPY_MODEL_60b13129d0ca436b9d6a3852336f82b6",
            "placeholder": "​",
            "style": "IPY_MODEL_1def76f106824390825fca48228354c8",
            "value": " 3.30k/3.30k [08:31&lt;?, ?B/s]"
          }
        },
        "eeb383f64b404106aa394156ebc11c05": {
          "model_module": "@jupyter-widgets/base",
          "model_name": "LayoutModel",
          "model_module_version": "1.2.0",
          "state": {
            "_model_module": "@jupyter-widgets/base",
            "_model_module_version": "1.2.0",
            "_model_name": "LayoutModel",
            "_view_count": null,
            "_view_module": "@jupyter-widgets/base",
            "_view_module_version": "1.2.0",
            "_view_name": "LayoutView",
            "align_content": null,
            "align_items": null,
            "align_self": null,
            "border": null,
            "bottom": null,
            "display": null,
            "flex": null,
            "flex_flow": null,
            "grid_area": null,
            "grid_auto_columns": null,
            "grid_auto_flow": null,
            "grid_auto_rows": null,
            "grid_column": null,
            "grid_gap": null,
            "grid_row": null,
            "grid_template_areas": null,
            "grid_template_columns": null,
            "grid_template_rows": null,
            "height": null,
            "justify_content": null,
            "justify_items": null,
            "left": null,
            "margin": null,
            "max_height": null,
            "max_width": null,
            "min_height": null,
            "min_width": null,
            "object_fit": null,
            "object_position": null,
            "order": null,
            "overflow": null,
            "overflow_x": null,
            "overflow_y": null,
            "padding": null,
            "right": null,
            "top": null,
            "visibility": null,
            "width": null
          }
        },
        "9780ca74eee943eb9e86c6b66940b3e0": {
          "model_module": "@jupyter-widgets/base",
          "model_name": "LayoutModel",
          "model_module_version": "1.2.0",
          "state": {
            "_model_module": "@jupyter-widgets/base",
            "_model_module_version": "1.2.0",
            "_model_name": "LayoutModel",
            "_view_count": null,
            "_view_module": "@jupyter-widgets/base",
            "_view_module_version": "1.2.0",
            "_view_name": "LayoutView",
            "align_content": null,
            "align_items": null,
            "align_self": null,
            "border": null,
            "bottom": null,
            "display": null,
            "flex": null,
            "flex_flow": null,
            "grid_area": null,
            "grid_auto_columns": null,
            "grid_auto_flow": null,
            "grid_auto_rows": null,
            "grid_column": null,
            "grid_gap": null,
            "grid_row": null,
            "grid_template_areas": null,
            "grid_template_columns": null,
            "grid_template_rows": null,
            "height": null,
            "justify_content": null,
            "justify_items": null,
            "left": null,
            "margin": null,
            "max_height": null,
            "max_width": null,
            "min_height": null,
            "min_width": null,
            "object_fit": null,
            "object_position": null,
            "order": null,
            "overflow": null,
            "overflow_x": null,
            "overflow_y": null,
            "padding": null,
            "right": null,
            "top": null,
            "visibility": null,
            "width": null
          }
        },
        "45a761a0cf274ffbac1c5edbfcf8045b": {
          "model_module": "@jupyter-widgets/controls",
          "model_name": "DescriptionStyleModel",
          "model_module_version": "1.5.0",
          "state": {
            "_model_module": "@jupyter-widgets/controls",
            "_model_module_version": "1.5.0",
            "_model_name": "DescriptionStyleModel",
            "_view_count": null,
            "_view_module": "@jupyter-widgets/base",
            "_view_module_version": "1.2.0",
            "_view_name": "StyleView",
            "description_width": ""
          }
        },
        "891e1b325f8d4739bb4c6355815ac8af": {
          "model_module": "@jupyter-widgets/base",
          "model_name": "LayoutModel",
          "model_module_version": "1.2.0",
          "state": {
            "_model_module": "@jupyter-widgets/base",
            "_model_module_version": "1.2.0",
            "_model_name": "LayoutModel",
            "_view_count": null,
            "_view_module": "@jupyter-widgets/base",
            "_view_module_version": "1.2.0",
            "_view_name": "LayoutView",
            "align_content": null,
            "align_items": null,
            "align_self": null,
            "border": null,
            "bottom": null,
            "display": null,
            "flex": null,
            "flex_flow": null,
            "grid_area": null,
            "grid_auto_columns": null,
            "grid_auto_flow": null,
            "grid_auto_rows": null,
            "grid_column": null,
            "grid_gap": null,
            "grid_row": null,
            "grid_template_areas": null,
            "grid_template_columns": null,
            "grid_template_rows": null,
            "height": null,
            "justify_content": null,
            "justify_items": null,
            "left": null,
            "margin": null,
            "max_height": null,
            "max_width": null,
            "min_height": null,
            "min_width": null,
            "object_fit": null,
            "object_position": null,
            "order": null,
            "overflow": null,
            "overflow_x": null,
            "overflow_y": null,
            "padding": null,
            "right": null,
            "top": null,
            "visibility": null,
            "width": null
          }
        },
        "aa24d4b2828e436dad76d95a60edcd00": {
          "model_module": "@jupyter-widgets/controls",
          "model_name": "ProgressStyleModel",
          "model_module_version": "1.5.0",
          "state": {
            "_model_module": "@jupyter-widgets/controls",
            "_model_module_version": "1.5.0",
            "_model_name": "ProgressStyleModel",
            "_view_count": null,
            "_view_module": "@jupyter-widgets/base",
            "_view_module_version": "1.2.0",
            "_view_name": "StyleView",
            "bar_color": null,
            "description_width": ""
          }
        },
        "60b13129d0ca436b9d6a3852336f82b6": {
          "model_module": "@jupyter-widgets/base",
          "model_name": "LayoutModel",
          "model_module_version": "1.2.0",
          "state": {
            "_model_module": "@jupyter-widgets/base",
            "_model_module_version": "1.2.0",
            "_model_name": "LayoutModel",
            "_view_count": null,
            "_view_module": "@jupyter-widgets/base",
            "_view_module_version": "1.2.0",
            "_view_name": "LayoutView",
            "align_content": null,
            "align_items": null,
            "align_self": null,
            "border": null,
            "bottom": null,
            "display": null,
            "flex": null,
            "flex_flow": null,
            "grid_area": null,
            "grid_auto_columns": null,
            "grid_auto_flow": null,
            "grid_auto_rows": null,
            "grid_column": null,
            "grid_gap": null,
            "grid_row": null,
            "grid_template_areas": null,
            "grid_template_columns": null,
            "grid_template_rows": null,
            "height": null,
            "justify_content": null,
            "justify_items": null,
            "left": null,
            "margin": null,
            "max_height": null,
            "max_width": null,
            "min_height": null,
            "min_width": null,
            "object_fit": null,
            "object_position": null,
            "order": null,
            "overflow": null,
            "overflow_x": null,
            "overflow_y": null,
            "padding": null,
            "right": null,
            "top": null,
            "visibility": null,
            "width": null
          }
        },
        "1def76f106824390825fca48228354c8": {
          "model_module": "@jupyter-widgets/controls",
          "model_name": "DescriptionStyleModel",
          "model_module_version": "1.5.0",
          "state": {
            "_model_module": "@jupyter-widgets/controls",
            "_model_module_version": "1.5.0",
            "_model_name": "DescriptionStyleModel",
            "_view_count": null,
            "_view_module": "@jupyter-widgets/base",
            "_view_module_version": "1.2.0",
            "_view_name": "StyleView",
            "description_width": ""
          }
        },
        "edb46c8c5c1a4b2aa07d4fdce0051447": {
          "model_module": "@jupyter-widgets/controls",
          "model_name": "HBoxModel",
          "model_module_version": "1.5.0",
          "state": {
            "_dom_classes": [],
            "_model_module": "@jupyter-widgets/controls",
            "_model_module_version": "1.5.0",
            "_model_name": "HBoxModel",
            "_view_count": null,
            "_view_module": "@jupyter-widgets/controls",
            "_view_module_version": "1.5.0",
            "_view_name": "HBoxView",
            "box_style": "",
            "children": [
              "IPY_MODEL_d8728b03e2e7499691c40ef4b8a20296",
              "IPY_MODEL_3c3773fc82a0403ba81e554048c1d15b",
              "IPY_MODEL_3d1055181784418189fcc3f5ae8f07dc"
            ],
            "layout": "IPY_MODEL_5ddbaa6b531b435982d1c52a96bce726"
          }
        },
        "d8728b03e2e7499691c40ef4b8a20296": {
          "model_module": "@jupyter-widgets/controls",
          "model_name": "HTMLModel",
          "model_module_version": "1.5.0",
          "state": {
            "_dom_classes": [],
            "_model_module": "@jupyter-widgets/controls",
            "_model_module_version": "1.5.0",
            "_model_name": "HTMLModel",
            "_view_count": null,
            "_view_module": "@jupyter-widgets/controls",
            "_view_module_version": "1.5.0",
            "_view_name": "HTMLView",
            "description": "",
            "description_tooltip": null,
            "layout": "IPY_MODEL_d05268650d8b449faa75b4899970905d",
            "placeholder": "​",
            "style": "IPY_MODEL_2ff5bc61618f4c3fba4f82abe27fc30e",
            "value": "Download file language_model/5gram.bin: 100%"
          }
        },
        "3c3773fc82a0403ba81e554048c1d15b": {
          "model_module": "@jupyter-widgets/controls",
          "model_name": "FloatProgressModel",
          "model_module_version": "1.5.0",
          "state": {
            "_dom_classes": [],
            "_model_module": "@jupyter-widgets/controls",
            "_model_module_version": "1.5.0",
            "_model_name": "FloatProgressModel",
            "_view_count": null,
            "_view_module": "@jupyter-widgets/controls",
            "_view_module_version": "1.5.0",
            "_view_name": "ProgressView",
            "bar_style": "success",
            "description": "",
            "description_tooltip": null,
            "layout": "IPY_MODEL_b14f0069712f4f3f9b2ae8b5d19fdc31",
            "max": 5212246,
            "min": 0,
            "orientation": "horizontal",
            "style": "IPY_MODEL_49b847b879ef44f7ab3eb8e018b6a360",
            "value": 5212246
          }
        },
        "3d1055181784418189fcc3f5ae8f07dc": {
          "model_module": "@jupyter-widgets/controls",
          "model_name": "HTMLModel",
          "model_module_version": "1.5.0",
          "state": {
            "_dom_classes": [],
            "_model_module": "@jupyter-widgets/controls",
            "_model_module_version": "1.5.0",
            "_model_name": "HTMLModel",
            "_view_count": null,
            "_view_module": "@jupyter-widgets/controls",
            "_view_module_version": "1.5.0",
            "_view_name": "HTMLView",
            "description": "",
            "description_tooltip": null,
            "layout": "IPY_MODEL_147f03b7c93447f09d4ef89e73f0c05a",
            "placeholder": "​",
            "style": "IPY_MODEL_87a95b22099d4214af833b7f424ae4fb",
            "value": " 4.97M/4.97M [08:31&lt;00:00, 6.42kB/s]"
          }
        },
        "5ddbaa6b531b435982d1c52a96bce726": {
          "model_module": "@jupyter-widgets/base",
          "model_name": "LayoutModel",
          "model_module_version": "1.2.0",
          "state": {
            "_model_module": "@jupyter-widgets/base",
            "_model_module_version": "1.2.0",
            "_model_name": "LayoutModel",
            "_view_count": null,
            "_view_module": "@jupyter-widgets/base",
            "_view_module_version": "1.2.0",
            "_view_name": "LayoutView",
            "align_content": null,
            "align_items": null,
            "align_self": null,
            "border": null,
            "bottom": null,
            "display": null,
            "flex": null,
            "flex_flow": null,
            "grid_area": null,
            "grid_auto_columns": null,
            "grid_auto_flow": null,
            "grid_auto_rows": null,
            "grid_column": null,
            "grid_gap": null,
            "grid_row": null,
            "grid_template_areas": null,
            "grid_template_columns": null,
            "grid_template_rows": null,
            "height": null,
            "justify_content": null,
            "justify_items": null,
            "left": null,
            "margin": null,
            "max_height": null,
            "max_width": null,
            "min_height": null,
            "min_width": null,
            "object_fit": null,
            "object_position": null,
            "order": null,
            "overflow": null,
            "overflow_x": null,
            "overflow_y": null,
            "padding": null,
            "right": null,
            "top": null,
            "visibility": null,
            "width": null
          }
        },
        "d05268650d8b449faa75b4899970905d": {
          "model_module": "@jupyter-widgets/base",
          "model_name": "LayoutModel",
          "model_module_version": "1.2.0",
          "state": {
            "_model_module": "@jupyter-widgets/base",
            "_model_module_version": "1.2.0",
            "_model_name": "LayoutModel",
            "_view_count": null,
            "_view_module": "@jupyter-widgets/base",
            "_view_module_version": "1.2.0",
            "_view_name": "LayoutView",
            "align_content": null,
            "align_items": null,
            "align_self": null,
            "border": null,
            "bottom": null,
            "display": null,
            "flex": null,
            "flex_flow": null,
            "grid_area": null,
            "grid_auto_columns": null,
            "grid_auto_flow": null,
            "grid_auto_rows": null,
            "grid_column": null,
            "grid_gap": null,
            "grid_row": null,
            "grid_template_areas": null,
            "grid_template_columns": null,
            "grid_template_rows": null,
            "height": null,
            "justify_content": null,
            "justify_items": null,
            "left": null,
            "margin": null,
            "max_height": null,
            "max_width": null,
            "min_height": null,
            "min_width": null,
            "object_fit": null,
            "object_position": null,
            "order": null,
            "overflow": null,
            "overflow_x": null,
            "overflow_y": null,
            "padding": null,
            "right": null,
            "top": null,
            "visibility": null,
            "width": null
          }
        },
        "2ff5bc61618f4c3fba4f82abe27fc30e": {
          "model_module": "@jupyter-widgets/controls",
          "model_name": "DescriptionStyleModel",
          "model_module_version": "1.5.0",
          "state": {
            "_model_module": "@jupyter-widgets/controls",
            "_model_module_version": "1.5.0",
            "_model_name": "DescriptionStyleModel",
            "_view_count": null,
            "_view_module": "@jupyter-widgets/base",
            "_view_module_version": "1.2.0",
            "_view_name": "StyleView",
            "description_width": ""
          }
        },
        "b14f0069712f4f3f9b2ae8b5d19fdc31": {
          "model_module": "@jupyter-widgets/base",
          "model_name": "LayoutModel",
          "model_module_version": "1.2.0",
          "state": {
            "_model_module": "@jupyter-widgets/base",
            "_model_module_version": "1.2.0",
            "_model_name": "LayoutModel",
            "_view_count": null,
            "_view_module": "@jupyter-widgets/base",
            "_view_module_version": "1.2.0",
            "_view_name": "LayoutView",
            "align_content": null,
            "align_items": null,
            "align_self": null,
            "border": null,
            "bottom": null,
            "display": null,
            "flex": null,
            "flex_flow": null,
            "grid_area": null,
            "grid_auto_columns": null,
            "grid_auto_flow": null,
            "grid_auto_rows": null,
            "grid_column": null,
            "grid_gap": null,
            "grid_row": null,
            "grid_template_areas": null,
            "grid_template_columns": null,
            "grid_template_rows": null,
            "height": null,
            "justify_content": null,
            "justify_items": null,
            "left": null,
            "margin": null,
            "max_height": null,
            "max_width": null,
            "min_height": null,
            "min_width": null,
            "object_fit": null,
            "object_position": null,
            "order": null,
            "overflow": null,
            "overflow_x": null,
            "overflow_y": null,
            "padding": null,
            "right": null,
            "top": null,
            "visibility": null,
            "width": null
          }
        },
        "49b847b879ef44f7ab3eb8e018b6a360": {
          "model_module": "@jupyter-widgets/controls",
          "model_name": "ProgressStyleModel",
          "model_module_version": "1.5.0",
          "state": {
            "_model_module": "@jupyter-widgets/controls",
            "_model_module_version": "1.5.0",
            "_model_name": "ProgressStyleModel",
            "_view_count": null,
            "_view_module": "@jupyter-widgets/base",
            "_view_module_version": "1.2.0",
            "_view_name": "StyleView",
            "bar_color": null,
            "description_width": ""
          }
        },
        "147f03b7c93447f09d4ef89e73f0c05a": {
          "model_module": "@jupyter-widgets/base",
          "model_name": "LayoutModel",
          "model_module_version": "1.2.0",
          "state": {
            "_model_module": "@jupyter-widgets/base",
            "_model_module_version": "1.2.0",
            "_model_name": "LayoutModel",
            "_view_count": null,
            "_view_module": "@jupyter-widgets/base",
            "_view_module_version": "1.2.0",
            "_view_name": "LayoutView",
            "align_content": null,
            "align_items": null,
            "align_self": null,
            "border": null,
            "bottom": null,
            "display": null,
            "flex": null,
            "flex_flow": null,
            "grid_area": null,
            "grid_auto_columns": null,
            "grid_auto_flow": null,
            "grid_auto_rows": null,
            "grid_column": null,
            "grid_gap": null,
            "grid_row": null,
            "grid_template_areas": null,
            "grid_template_columns": null,
            "grid_template_rows": null,
            "height": null,
            "justify_content": null,
            "justify_items": null,
            "left": null,
            "margin": null,
            "max_height": null,
            "max_width": null,
            "min_height": null,
            "min_width": null,
            "object_fit": null,
            "object_position": null,
            "order": null,
            "overflow": null,
            "overflow_x": null,
            "overflow_y": null,
            "padding": null,
            "right": null,
            "top": null,
            "visibility": null,
            "width": null
          }
        },
        "87a95b22099d4214af833b7f424ae4fb": {
          "model_module": "@jupyter-widgets/controls",
          "model_name": "DescriptionStyleModel",
          "model_module_version": "1.5.0",
          "state": {
            "_model_module": "@jupyter-widgets/controls",
            "_model_module_version": "1.5.0",
            "_model_name": "DescriptionStyleModel",
            "_view_count": null,
            "_view_module": "@jupyter-widgets/base",
            "_view_module_version": "1.2.0",
            "_view_name": "StyleView",
            "description_width": ""
          }
        },
        "82ad2f51b97340d5af6c0370ef6ed7dc": {
          "model_module": "@jupyter-widgets/controls",
          "model_name": "HBoxModel",
          "model_module_version": "1.5.0",
          "state": {
            "_dom_classes": [],
            "_model_module": "@jupyter-widgets/controls",
            "_model_module_version": "1.5.0",
            "_model_name": "HBoxModel",
            "_view_count": null,
            "_view_module": "@jupyter-widgets/controls",
            "_view_module_version": "1.5.0",
            "_view_name": "HBoxView",
            "box_style": "",
            "children": [
              "IPY_MODEL_7a53bc9abcb846a483fd623037e9e769",
              "IPY_MODEL_d2b25064eaef49cd870d15df241c2474",
              "IPY_MODEL_a7622036ae44471d94726ea0ed0a8634"
            ],
            "layout": "IPY_MODEL_f6d49065d1044c1ea5632d454e7fa72c"
          }
        },
        "7a53bc9abcb846a483fd623037e9e769": {
          "model_module": "@jupyter-widgets/controls",
          "model_name": "HTMLModel",
          "model_module_version": "1.5.0",
          "state": {
            "_dom_classes": [],
            "_model_module": "@jupyter-widgets/controls",
            "_model_module_version": "1.5.0",
            "_model_name": "HTMLModel",
            "_view_count": null,
            "_view_module": "@jupyter-widgets/controls",
            "_view_module_version": "1.5.0",
            "_view_name": "HTMLView",
            "description": "",
            "description_tooltip": null,
            "layout": "IPY_MODEL_99e322973af245378537fbcad0931141",
            "placeholder": "​",
            "style": "IPY_MODEL_d4d882c587e34310a38f6df9c866c9f6",
            "value": "Clean file runs/Aug07_11-52-33_13eca4db5f87/1659873280.2154987/events.out.tfevents.1659873280.13eca4db5f87.71.1: 100%"
          }
        },
        "d2b25064eaef49cd870d15df241c2474": {
          "model_module": "@jupyter-widgets/controls",
          "model_name": "FloatProgressModel",
          "model_module_version": "1.5.0",
          "state": {
            "_dom_classes": [],
            "_model_module": "@jupyter-widgets/controls",
            "_model_module_version": "1.5.0",
            "_model_name": "FloatProgressModel",
            "_view_count": null,
            "_view_module": "@jupyter-widgets/controls",
            "_view_module_version": "1.5.0",
            "_view_name": "ProgressView",
            "bar_style": "success",
            "description": "",
            "description_tooltip": null,
            "layout": "IPY_MODEL_bf37aee30e3f41ce90589def075349a3",
            "max": 5473,
            "min": 0,
            "orientation": "horizontal",
            "style": "IPY_MODEL_09ae96abffa74a3ba9c956218cafb7d4",
            "value": 5473
          }
        },
        "a7622036ae44471d94726ea0ed0a8634": {
          "model_module": "@jupyter-widgets/controls",
          "model_name": "HTMLModel",
          "model_module_version": "1.5.0",
          "state": {
            "_dom_classes": [],
            "_model_module": "@jupyter-widgets/controls",
            "_model_module_version": "1.5.0",
            "_model_name": "HTMLModel",
            "_view_count": null,
            "_view_module": "@jupyter-widgets/controls",
            "_view_module_version": "1.5.0",
            "_view_name": "HTMLView",
            "description": "",
            "description_tooltip": null,
            "layout": "IPY_MODEL_9564ae9a84a94592ae99fe674011144d",
            "placeholder": "​",
            "style": "IPY_MODEL_1e02c930a6f14fef912ef233d7ebd5d3",
            "value": " 5.34k/5.34k [08:31&lt;00:00, 8.70B/s]"
          }
        },
        "f6d49065d1044c1ea5632d454e7fa72c": {
          "model_module": "@jupyter-widgets/base",
          "model_name": "LayoutModel",
          "model_module_version": "1.2.0",
          "state": {
            "_model_module": "@jupyter-widgets/base",
            "_model_module_version": "1.2.0",
            "_model_name": "LayoutModel",
            "_view_count": null,
            "_view_module": "@jupyter-widgets/base",
            "_view_module_version": "1.2.0",
            "_view_name": "LayoutView",
            "align_content": null,
            "align_items": null,
            "align_self": null,
            "border": null,
            "bottom": null,
            "display": null,
            "flex": null,
            "flex_flow": null,
            "grid_area": null,
            "grid_auto_columns": null,
            "grid_auto_flow": null,
            "grid_auto_rows": null,
            "grid_column": null,
            "grid_gap": null,
            "grid_row": null,
            "grid_template_areas": null,
            "grid_template_columns": null,
            "grid_template_rows": null,
            "height": null,
            "justify_content": null,
            "justify_items": null,
            "left": null,
            "margin": null,
            "max_height": null,
            "max_width": null,
            "min_height": null,
            "min_width": null,
            "object_fit": null,
            "object_position": null,
            "order": null,
            "overflow": null,
            "overflow_x": null,
            "overflow_y": null,
            "padding": null,
            "right": null,
            "top": null,
            "visibility": null,
            "width": null
          }
        },
        "99e322973af245378537fbcad0931141": {
          "model_module": "@jupyter-widgets/base",
          "model_name": "LayoutModel",
          "model_module_version": "1.2.0",
          "state": {
            "_model_module": "@jupyter-widgets/base",
            "_model_module_version": "1.2.0",
            "_model_name": "LayoutModel",
            "_view_count": null,
            "_view_module": "@jupyter-widgets/base",
            "_view_module_version": "1.2.0",
            "_view_name": "LayoutView",
            "align_content": null,
            "align_items": null,
            "align_self": null,
            "border": null,
            "bottom": null,
            "display": null,
            "flex": null,
            "flex_flow": null,
            "grid_area": null,
            "grid_auto_columns": null,
            "grid_auto_flow": null,
            "grid_auto_rows": null,
            "grid_column": null,
            "grid_gap": null,
            "grid_row": null,
            "grid_template_areas": null,
            "grid_template_columns": null,
            "grid_template_rows": null,
            "height": null,
            "justify_content": null,
            "justify_items": null,
            "left": null,
            "margin": null,
            "max_height": null,
            "max_width": null,
            "min_height": null,
            "min_width": null,
            "object_fit": null,
            "object_position": null,
            "order": null,
            "overflow": null,
            "overflow_x": null,
            "overflow_y": null,
            "padding": null,
            "right": null,
            "top": null,
            "visibility": null,
            "width": null
          }
        },
        "d4d882c587e34310a38f6df9c866c9f6": {
          "model_module": "@jupyter-widgets/controls",
          "model_name": "DescriptionStyleModel",
          "model_module_version": "1.5.0",
          "state": {
            "_model_module": "@jupyter-widgets/controls",
            "_model_module_version": "1.5.0",
            "_model_name": "DescriptionStyleModel",
            "_view_count": null,
            "_view_module": "@jupyter-widgets/base",
            "_view_module_version": "1.2.0",
            "_view_name": "StyleView",
            "description_width": ""
          }
        },
        "bf37aee30e3f41ce90589def075349a3": {
          "model_module": "@jupyter-widgets/base",
          "model_name": "LayoutModel",
          "model_module_version": "1.2.0",
          "state": {
            "_model_module": "@jupyter-widgets/base",
            "_model_module_version": "1.2.0",
            "_model_name": "LayoutModel",
            "_view_count": null,
            "_view_module": "@jupyter-widgets/base",
            "_view_module_version": "1.2.0",
            "_view_name": "LayoutView",
            "align_content": null,
            "align_items": null,
            "align_self": null,
            "border": null,
            "bottom": null,
            "display": null,
            "flex": null,
            "flex_flow": null,
            "grid_area": null,
            "grid_auto_columns": null,
            "grid_auto_flow": null,
            "grid_auto_rows": null,
            "grid_column": null,
            "grid_gap": null,
            "grid_row": null,
            "grid_template_areas": null,
            "grid_template_columns": null,
            "grid_template_rows": null,
            "height": null,
            "justify_content": null,
            "justify_items": null,
            "left": null,
            "margin": null,
            "max_height": null,
            "max_width": null,
            "min_height": null,
            "min_width": null,
            "object_fit": null,
            "object_position": null,
            "order": null,
            "overflow": null,
            "overflow_x": null,
            "overflow_y": null,
            "padding": null,
            "right": null,
            "top": null,
            "visibility": null,
            "width": null
          }
        },
        "09ae96abffa74a3ba9c956218cafb7d4": {
          "model_module": "@jupyter-widgets/controls",
          "model_name": "ProgressStyleModel",
          "model_module_version": "1.5.0",
          "state": {
            "_model_module": "@jupyter-widgets/controls",
            "_model_module_version": "1.5.0",
            "_model_name": "ProgressStyleModel",
            "_view_count": null,
            "_view_module": "@jupyter-widgets/base",
            "_view_module_version": "1.2.0",
            "_view_name": "StyleView",
            "bar_color": null,
            "description_width": ""
          }
        },
        "9564ae9a84a94592ae99fe674011144d": {
          "model_module": "@jupyter-widgets/base",
          "model_name": "LayoutModel",
          "model_module_version": "1.2.0",
          "state": {
            "_model_module": "@jupyter-widgets/base",
            "_model_module_version": "1.2.0",
            "_model_name": "LayoutModel",
            "_view_count": null,
            "_view_module": "@jupyter-widgets/base",
            "_view_module_version": "1.2.0",
            "_view_name": "LayoutView",
            "align_content": null,
            "align_items": null,
            "align_self": null,
            "border": null,
            "bottom": null,
            "display": null,
            "flex": null,
            "flex_flow": null,
            "grid_area": null,
            "grid_auto_columns": null,
            "grid_auto_flow": null,
            "grid_auto_rows": null,
            "grid_column": null,
            "grid_gap": null,
            "grid_row": null,
            "grid_template_areas": null,
            "grid_template_columns": null,
            "grid_template_rows": null,
            "height": null,
            "justify_content": null,
            "justify_items": null,
            "left": null,
            "margin": null,
            "max_height": null,
            "max_width": null,
            "min_height": null,
            "min_width": null,
            "object_fit": null,
            "object_position": null,
            "order": null,
            "overflow": null,
            "overflow_x": null,
            "overflow_y": null,
            "padding": null,
            "right": null,
            "top": null,
            "visibility": null,
            "width": null
          }
        },
        "1e02c930a6f14fef912ef233d7ebd5d3": {
          "model_module": "@jupyter-widgets/controls",
          "model_name": "DescriptionStyleModel",
          "model_module_version": "1.5.0",
          "state": {
            "_model_module": "@jupyter-widgets/controls",
            "_model_module_version": "1.5.0",
            "_model_name": "DescriptionStyleModel",
            "_view_count": null,
            "_view_module": "@jupyter-widgets/base",
            "_view_module_version": "1.2.0",
            "_view_name": "StyleView",
            "description_width": ""
          }
        },
        "f65ad726c27b4383add82a4516e6fe3a": {
          "model_module": "@jupyter-widgets/controls",
          "model_name": "HBoxModel",
          "model_module_version": "1.5.0",
          "state": {
            "_dom_classes": [],
            "_model_module": "@jupyter-widgets/controls",
            "_model_module_version": "1.5.0",
            "_model_name": "HBoxModel",
            "_view_count": null,
            "_view_module": "@jupyter-widgets/controls",
            "_view_module_version": "1.5.0",
            "_view_name": "HBoxView",
            "box_style": "",
            "children": [
              "IPY_MODEL_7378e6edf990448e80e6e4479441b16d",
              "IPY_MODEL_6443541447f84d2d86cdfaa8875bd602",
              "IPY_MODEL_8cbf9becf9254a559cffe6ab3adf739e"
            ],
            "layout": "IPY_MODEL_eb53448ebc98401a9e578c960e70e635"
          }
        },
        "7378e6edf990448e80e6e4479441b16d": {
          "model_module": "@jupyter-widgets/controls",
          "model_name": "HTMLModel",
          "model_module_version": "1.5.0",
          "state": {
            "_dom_classes": [],
            "_model_module": "@jupyter-widgets/controls",
            "_model_module_version": "1.5.0",
            "_model_name": "HTMLModel",
            "_view_count": null,
            "_view_module": "@jupyter-widgets/controls",
            "_view_module_version": "1.5.0",
            "_view_name": "HTMLView",
            "description": "",
            "description_tooltip": null,
            "layout": "IPY_MODEL_a3d9457300a1451dbb4017ab602f7c2c",
            "placeholder": "​",
            "style": "IPY_MODEL_98c49ba098e642ee9c8271a4987f826f",
            "value": "Clean file training_args.bin: 100%"
          }
        },
        "6443541447f84d2d86cdfaa8875bd602": {
          "model_module": "@jupyter-widgets/controls",
          "model_name": "FloatProgressModel",
          "model_module_version": "1.5.0",
          "state": {
            "_dom_classes": [],
            "_model_module": "@jupyter-widgets/controls",
            "_model_module_version": "1.5.0",
            "_model_name": "FloatProgressModel",
            "_view_count": null,
            "_view_module": "@jupyter-widgets/controls",
            "_view_module_version": "1.5.0",
            "_view_name": "ProgressView",
            "bar_style": "success",
            "description": "",
            "description_tooltip": null,
            "layout": "IPY_MODEL_3cc62e71452f4a5d8f00279a2bed171d",
            "max": 3375,
            "min": 0,
            "orientation": "horizontal",
            "style": "IPY_MODEL_61e904ae6d35452dabf543e2e467eb21",
            "value": 3375
          }
        },
        "8cbf9becf9254a559cffe6ab3adf739e": {
          "model_module": "@jupyter-widgets/controls",
          "model_name": "HTMLModel",
          "model_module_version": "1.5.0",
          "state": {
            "_dom_classes": [],
            "_model_module": "@jupyter-widgets/controls",
            "_model_module_version": "1.5.0",
            "_model_name": "HTMLModel",
            "_view_count": null,
            "_view_module": "@jupyter-widgets/controls",
            "_view_module_version": "1.5.0",
            "_view_name": "HTMLView",
            "description": "",
            "description_tooltip": null,
            "layout": "IPY_MODEL_ebf080d79b534211903416b95cbfac4c",
            "placeholder": "​",
            "style": "IPY_MODEL_cbb8f89e776043c3b3435dbe6bceccd0",
            "value": " 3.30k/3.30k [08:31&lt;00:00, 4.60B/s]"
          }
        },
        "eb53448ebc98401a9e578c960e70e635": {
          "model_module": "@jupyter-widgets/base",
          "model_name": "LayoutModel",
          "model_module_version": "1.2.0",
          "state": {
            "_model_module": "@jupyter-widgets/base",
            "_model_module_version": "1.2.0",
            "_model_name": "LayoutModel",
            "_view_count": null,
            "_view_module": "@jupyter-widgets/base",
            "_view_module_version": "1.2.0",
            "_view_name": "LayoutView",
            "align_content": null,
            "align_items": null,
            "align_self": null,
            "border": null,
            "bottom": null,
            "display": null,
            "flex": null,
            "flex_flow": null,
            "grid_area": null,
            "grid_auto_columns": null,
            "grid_auto_flow": null,
            "grid_auto_rows": null,
            "grid_column": null,
            "grid_gap": null,
            "grid_row": null,
            "grid_template_areas": null,
            "grid_template_columns": null,
            "grid_template_rows": null,
            "height": null,
            "justify_content": null,
            "justify_items": null,
            "left": null,
            "margin": null,
            "max_height": null,
            "max_width": null,
            "min_height": null,
            "min_width": null,
            "object_fit": null,
            "object_position": null,
            "order": null,
            "overflow": null,
            "overflow_x": null,
            "overflow_y": null,
            "padding": null,
            "right": null,
            "top": null,
            "visibility": null,
            "width": null
          }
        },
        "a3d9457300a1451dbb4017ab602f7c2c": {
          "model_module": "@jupyter-widgets/base",
          "model_name": "LayoutModel",
          "model_module_version": "1.2.0",
          "state": {
            "_model_module": "@jupyter-widgets/base",
            "_model_module_version": "1.2.0",
            "_model_name": "LayoutModel",
            "_view_count": null,
            "_view_module": "@jupyter-widgets/base",
            "_view_module_version": "1.2.0",
            "_view_name": "LayoutView",
            "align_content": null,
            "align_items": null,
            "align_self": null,
            "border": null,
            "bottom": null,
            "display": null,
            "flex": null,
            "flex_flow": null,
            "grid_area": null,
            "grid_auto_columns": null,
            "grid_auto_flow": null,
            "grid_auto_rows": null,
            "grid_column": null,
            "grid_gap": null,
            "grid_row": null,
            "grid_template_areas": null,
            "grid_template_columns": null,
            "grid_template_rows": null,
            "height": null,
            "justify_content": null,
            "justify_items": null,
            "left": null,
            "margin": null,
            "max_height": null,
            "max_width": null,
            "min_height": null,
            "min_width": null,
            "object_fit": null,
            "object_position": null,
            "order": null,
            "overflow": null,
            "overflow_x": null,
            "overflow_y": null,
            "padding": null,
            "right": null,
            "top": null,
            "visibility": null,
            "width": null
          }
        },
        "98c49ba098e642ee9c8271a4987f826f": {
          "model_module": "@jupyter-widgets/controls",
          "model_name": "DescriptionStyleModel",
          "model_module_version": "1.5.0",
          "state": {
            "_model_module": "@jupyter-widgets/controls",
            "_model_module_version": "1.5.0",
            "_model_name": "DescriptionStyleModel",
            "_view_count": null,
            "_view_module": "@jupyter-widgets/base",
            "_view_module_version": "1.2.0",
            "_view_name": "StyleView",
            "description_width": ""
          }
        },
        "3cc62e71452f4a5d8f00279a2bed171d": {
          "model_module": "@jupyter-widgets/base",
          "model_name": "LayoutModel",
          "model_module_version": "1.2.0",
          "state": {
            "_model_module": "@jupyter-widgets/base",
            "_model_module_version": "1.2.0",
            "_model_name": "LayoutModel",
            "_view_count": null,
            "_view_module": "@jupyter-widgets/base",
            "_view_module_version": "1.2.0",
            "_view_name": "LayoutView",
            "align_content": null,
            "align_items": null,
            "align_self": null,
            "border": null,
            "bottom": null,
            "display": null,
            "flex": null,
            "flex_flow": null,
            "grid_area": null,
            "grid_auto_columns": null,
            "grid_auto_flow": null,
            "grid_auto_rows": null,
            "grid_column": null,
            "grid_gap": null,
            "grid_row": null,
            "grid_template_areas": null,
            "grid_template_columns": null,
            "grid_template_rows": null,
            "height": null,
            "justify_content": null,
            "justify_items": null,
            "left": null,
            "margin": null,
            "max_height": null,
            "max_width": null,
            "min_height": null,
            "min_width": null,
            "object_fit": null,
            "object_position": null,
            "order": null,
            "overflow": null,
            "overflow_x": null,
            "overflow_y": null,
            "padding": null,
            "right": null,
            "top": null,
            "visibility": null,
            "width": null
          }
        },
        "61e904ae6d35452dabf543e2e467eb21": {
          "model_module": "@jupyter-widgets/controls",
          "model_name": "ProgressStyleModel",
          "model_module_version": "1.5.0",
          "state": {
            "_model_module": "@jupyter-widgets/controls",
            "_model_module_version": "1.5.0",
            "_model_name": "ProgressStyleModel",
            "_view_count": null,
            "_view_module": "@jupyter-widgets/base",
            "_view_module_version": "1.2.0",
            "_view_name": "StyleView",
            "bar_color": null,
            "description_width": ""
          }
        },
        "ebf080d79b534211903416b95cbfac4c": {
          "model_module": "@jupyter-widgets/base",
          "model_name": "LayoutModel",
          "model_module_version": "1.2.0",
          "state": {
            "_model_module": "@jupyter-widgets/base",
            "_model_module_version": "1.2.0",
            "_model_name": "LayoutModel",
            "_view_count": null,
            "_view_module": "@jupyter-widgets/base",
            "_view_module_version": "1.2.0",
            "_view_name": "LayoutView",
            "align_content": null,
            "align_items": null,
            "align_self": null,
            "border": null,
            "bottom": null,
            "display": null,
            "flex": null,
            "flex_flow": null,
            "grid_area": null,
            "grid_auto_columns": null,
            "grid_auto_flow": null,
            "grid_auto_rows": null,
            "grid_column": null,
            "grid_gap": null,
            "grid_row": null,
            "grid_template_areas": null,
            "grid_template_columns": null,
            "grid_template_rows": null,
            "height": null,
            "justify_content": null,
            "justify_items": null,
            "left": null,
            "margin": null,
            "max_height": null,
            "max_width": null,
            "min_height": null,
            "min_width": null,
            "object_fit": null,
            "object_position": null,
            "order": null,
            "overflow": null,
            "overflow_x": null,
            "overflow_y": null,
            "padding": null,
            "right": null,
            "top": null,
            "visibility": null,
            "width": null
          }
        },
        "cbb8f89e776043c3b3435dbe6bceccd0": {
          "model_module": "@jupyter-widgets/controls",
          "model_name": "DescriptionStyleModel",
          "model_module_version": "1.5.0",
          "state": {
            "_model_module": "@jupyter-widgets/controls",
            "_model_module_version": "1.5.0",
            "_model_name": "DescriptionStyleModel",
            "_view_count": null,
            "_view_module": "@jupyter-widgets/base",
            "_view_module_version": "1.2.0",
            "_view_name": "StyleView",
            "description_width": ""
          }
        },
        "1425b75b678646099c87ab569e0493df": {
          "model_module": "@jupyter-widgets/controls",
          "model_name": "HBoxModel",
          "model_module_version": "1.5.0",
          "state": {
            "_dom_classes": [],
            "_model_module": "@jupyter-widgets/controls",
            "_model_module_version": "1.5.0",
            "_model_name": "HBoxModel",
            "_view_count": null,
            "_view_module": "@jupyter-widgets/controls",
            "_view_module_version": "1.5.0",
            "_view_name": "HBoxView",
            "box_style": "",
            "children": [
              "IPY_MODEL_5fba3adebd0343cb98bd1565113c58c5",
              "IPY_MODEL_cfaeec6ddf92491e9932d24afe8bb65f",
              "IPY_MODEL_215fdfb384c247ee9f5f3d63a25d0176"
            ],
            "layout": "IPY_MODEL_dfdb28affa094bd0b0c44fb4bf98db21"
          }
        },
        "5fba3adebd0343cb98bd1565113c58c5": {
          "model_module": "@jupyter-widgets/controls",
          "model_name": "HTMLModel",
          "model_module_version": "1.5.0",
          "state": {
            "_dom_classes": [],
            "_model_module": "@jupyter-widgets/controls",
            "_model_module_version": "1.5.0",
            "_model_name": "HTMLModel",
            "_view_count": null,
            "_view_module": "@jupyter-widgets/controls",
            "_view_module_version": "1.5.0",
            "_view_name": "HTMLView",
            "description": "",
            "description_tooltip": null,
            "layout": "IPY_MODEL_f8b49415867b420d9bae81cac7f64d69",
            "placeholder": "​",
            "style": "IPY_MODEL_2693855de5b04cd0acf47822f6df3e5d",
            "value": "Clean file runs/Aug07_11-52-33_13eca4db5f87/events.out.tfevents.1659873280.13eca4db5f87.71.0: 100%"
          }
        },
        "cfaeec6ddf92491e9932d24afe8bb65f": {
          "model_module": "@jupyter-widgets/controls",
          "model_name": "FloatProgressModel",
          "model_module_version": "1.5.0",
          "state": {
            "_dom_classes": [],
            "_model_module": "@jupyter-widgets/controls",
            "_model_module_version": "1.5.0",
            "_model_name": "FloatProgressModel",
            "_view_count": null,
            "_view_module": "@jupyter-widgets/controls",
            "_view_module_version": "1.5.0",
            "_view_name": "ProgressView",
            "bar_style": "success",
            "description": "",
            "description_tooltip": null,
            "layout": "IPY_MODEL_afd5e594598549588da20653c292d3a8",
            "max": 33958,
            "min": 0,
            "orientation": "horizontal",
            "style": "IPY_MODEL_d5960e9ed8c548068e4ada03f8624c85",
            "value": 33958
          }
        },
        "215fdfb384c247ee9f5f3d63a25d0176": {
          "model_module": "@jupyter-widgets/controls",
          "model_name": "HTMLModel",
          "model_module_version": "1.5.0",
          "state": {
            "_dom_classes": [],
            "_model_module": "@jupyter-widgets/controls",
            "_model_module_version": "1.5.0",
            "_model_name": "HTMLModel",
            "_view_count": null,
            "_view_module": "@jupyter-widgets/controls",
            "_view_module_version": "1.5.0",
            "_view_name": "HTMLView",
            "description": "",
            "description_tooltip": null,
            "layout": "IPY_MODEL_746e734aa7ea45d081e041e1b4b7e057",
            "placeholder": "​",
            "style": "IPY_MODEL_be67e4ca797541ea9f9887ad2a1d88ac",
            "value": " 33.2k/33.2k [08:31&lt;00:00, 64.4B/s]"
          }
        },
        "dfdb28affa094bd0b0c44fb4bf98db21": {
          "model_module": "@jupyter-widgets/base",
          "model_name": "LayoutModel",
          "model_module_version": "1.2.0",
          "state": {
            "_model_module": "@jupyter-widgets/base",
            "_model_module_version": "1.2.0",
            "_model_name": "LayoutModel",
            "_view_count": null,
            "_view_module": "@jupyter-widgets/base",
            "_view_module_version": "1.2.0",
            "_view_name": "LayoutView",
            "align_content": null,
            "align_items": null,
            "align_self": null,
            "border": null,
            "bottom": null,
            "display": null,
            "flex": null,
            "flex_flow": null,
            "grid_area": null,
            "grid_auto_columns": null,
            "grid_auto_flow": null,
            "grid_auto_rows": null,
            "grid_column": null,
            "grid_gap": null,
            "grid_row": null,
            "grid_template_areas": null,
            "grid_template_columns": null,
            "grid_template_rows": null,
            "height": null,
            "justify_content": null,
            "justify_items": null,
            "left": null,
            "margin": null,
            "max_height": null,
            "max_width": null,
            "min_height": null,
            "min_width": null,
            "object_fit": null,
            "object_position": null,
            "order": null,
            "overflow": null,
            "overflow_x": null,
            "overflow_y": null,
            "padding": null,
            "right": null,
            "top": null,
            "visibility": null,
            "width": null
          }
        },
        "f8b49415867b420d9bae81cac7f64d69": {
          "model_module": "@jupyter-widgets/base",
          "model_name": "LayoutModel",
          "model_module_version": "1.2.0",
          "state": {
            "_model_module": "@jupyter-widgets/base",
            "_model_module_version": "1.2.0",
            "_model_name": "LayoutModel",
            "_view_count": null,
            "_view_module": "@jupyter-widgets/base",
            "_view_module_version": "1.2.0",
            "_view_name": "LayoutView",
            "align_content": null,
            "align_items": null,
            "align_self": null,
            "border": null,
            "bottom": null,
            "display": null,
            "flex": null,
            "flex_flow": null,
            "grid_area": null,
            "grid_auto_columns": null,
            "grid_auto_flow": null,
            "grid_auto_rows": null,
            "grid_column": null,
            "grid_gap": null,
            "grid_row": null,
            "grid_template_areas": null,
            "grid_template_columns": null,
            "grid_template_rows": null,
            "height": null,
            "justify_content": null,
            "justify_items": null,
            "left": null,
            "margin": null,
            "max_height": null,
            "max_width": null,
            "min_height": null,
            "min_width": null,
            "object_fit": null,
            "object_position": null,
            "order": null,
            "overflow": null,
            "overflow_x": null,
            "overflow_y": null,
            "padding": null,
            "right": null,
            "top": null,
            "visibility": null,
            "width": null
          }
        },
        "2693855de5b04cd0acf47822f6df3e5d": {
          "model_module": "@jupyter-widgets/controls",
          "model_name": "DescriptionStyleModel",
          "model_module_version": "1.5.0",
          "state": {
            "_model_module": "@jupyter-widgets/controls",
            "_model_module_version": "1.5.0",
            "_model_name": "DescriptionStyleModel",
            "_view_count": null,
            "_view_module": "@jupyter-widgets/base",
            "_view_module_version": "1.2.0",
            "_view_name": "StyleView",
            "description_width": ""
          }
        },
        "afd5e594598549588da20653c292d3a8": {
          "model_module": "@jupyter-widgets/base",
          "model_name": "LayoutModel",
          "model_module_version": "1.2.0",
          "state": {
            "_model_module": "@jupyter-widgets/base",
            "_model_module_version": "1.2.0",
            "_model_name": "LayoutModel",
            "_view_count": null,
            "_view_module": "@jupyter-widgets/base",
            "_view_module_version": "1.2.0",
            "_view_name": "LayoutView",
            "align_content": null,
            "align_items": null,
            "align_self": null,
            "border": null,
            "bottom": null,
            "display": null,
            "flex": null,
            "flex_flow": null,
            "grid_area": null,
            "grid_auto_columns": null,
            "grid_auto_flow": null,
            "grid_auto_rows": null,
            "grid_column": null,
            "grid_gap": null,
            "grid_row": null,
            "grid_template_areas": null,
            "grid_template_columns": null,
            "grid_template_rows": null,
            "height": null,
            "justify_content": null,
            "justify_items": null,
            "left": null,
            "margin": null,
            "max_height": null,
            "max_width": null,
            "min_height": null,
            "min_width": null,
            "object_fit": null,
            "object_position": null,
            "order": null,
            "overflow": null,
            "overflow_x": null,
            "overflow_y": null,
            "padding": null,
            "right": null,
            "top": null,
            "visibility": null,
            "width": null
          }
        },
        "d5960e9ed8c548068e4ada03f8624c85": {
          "model_module": "@jupyter-widgets/controls",
          "model_name": "ProgressStyleModel",
          "model_module_version": "1.5.0",
          "state": {
            "_model_module": "@jupyter-widgets/controls",
            "_model_module_version": "1.5.0",
            "_model_name": "ProgressStyleModel",
            "_view_count": null,
            "_view_module": "@jupyter-widgets/base",
            "_view_module_version": "1.2.0",
            "_view_name": "StyleView",
            "bar_color": null,
            "description_width": ""
          }
        },
        "746e734aa7ea45d081e041e1b4b7e057": {
          "model_module": "@jupyter-widgets/base",
          "model_name": "LayoutModel",
          "model_module_version": "1.2.0",
          "state": {
            "_model_module": "@jupyter-widgets/base",
            "_model_module_version": "1.2.0",
            "_model_name": "LayoutModel",
            "_view_count": null,
            "_view_module": "@jupyter-widgets/base",
            "_view_module_version": "1.2.0",
            "_view_name": "LayoutView",
            "align_content": null,
            "align_items": null,
            "align_self": null,
            "border": null,
            "bottom": null,
            "display": null,
            "flex": null,
            "flex_flow": null,
            "grid_area": null,
            "grid_auto_columns": null,
            "grid_auto_flow": null,
            "grid_auto_rows": null,
            "grid_column": null,
            "grid_gap": null,
            "grid_row": null,
            "grid_template_areas": null,
            "grid_template_columns": null,
            "grid_template_rows": null,
            "height": null,
            "justify_content": null,
            "justify_items": null,
            "left": null,
            "margin": null,
            "max_height": null,
            "max_width": null,
            "min_height": null,
            "min_width": null,
            "object_fit": null,
            "object_position": null,
            "order": null,
            "overflow": null,
            "overflow_x": null,
            "overflow_y": null,
            "padding": null,
            "right": null,
            "top": null,
            "visibility": null,
            "width": null
          }
        },
        "be67e4ca797541ea9f9887ad2a1d88ac": {
          "model_module": "@jupyter-widgets/controls",
          "model_name": "DescriptionStyleModel",
          "model_module_version": "1.5.0",
          "state": {
            "_model_module": "@jupyter-widgets/controls",
            "_model_module_version": "1.5.0",
            "_model_name": "DescriptionStyleModel",
            "_view_count": null,
            "_view_module": "@jupyter-widgets/base",
            "_view_module_version": "1.2.0",
            "_view_name": "StyleView",
            "description_width": ""
          }
        },
        "1f91b10ac42044fca5790980c53dd215": {
          "model_module": "@jupyter-widgets/controls",
          "model_name": "HBoxModel",
          "model_module_version": "1.5.0",
          "state": {
            "_dom_classes": [],
            "_model_module": "@jupyter-widgets/controls",
            "_model_module_version": "1.5.0",
            "_model_name": "HBoxModel",
            "_view_count": null,
            "_view_module": "@jupyter-widgets/controls",
            "_view_module_version": "1.5.0",
            "_view_name": "HBoxView",
            "box_style": "",
            "children": [
              "IPY_MODEL_b3d073f7e5ee45a68a39bb9f33d628f2",
              "IPY_MODEL_61c9d7e99f4741589ddd7deab2f227cb",
              "IPY_MODEL_7e49b8abf7234367a5de86c3fb2db593"
            ],
            "layout": "IPY_MODEL_55c399353c79435185b3ea971ec63a12"
          }
        },
        "b3d073f7e5ee45a68a39bb9f33d628f2": {
          "model_module": "@jupyter-widgets/controls",
          "model_name": "HTMLModel",
          "model_module_version": "1.5.0",
          "state": {
            "_dom_classes": [],
            "_model_module": "@jupyter-widgets/controls",
            "_model_module_version": "1.5.0",
            "_model_name": "HTMLModel",
            "_view_count": null,
            "_view_module": "@jupyter-widgets/controls",
            "_view_module_version": "1.5.0",
            "_view_name": "HTMLView",
            "description": "",
            "description_tooltip": null,
            "layout": "IPY_MODEL_9bab08418ae84d3a959585d4fd8d5bab",
            "placeholder": "​",
            "style": "IPY_MODEL_c3a37220e2bf441bb9493f52cc6c627e",
            "value": "Clean file language_model/5gram.bin: 100%"
          }
        },
        "61c9d7e99f4741589ddd7deab2f227cb": {
          "model_module": "@jupyter-widgets/controls",
          "model_name": "FloatProgressModel",
          "model_module_version": "1.5.0",
          "state": {
            "_dom_classes": [],
            "_model_module": "@jupyter-widgets/controls",
            "_model_module_version": "1.5.0",
            "_model_name": "FloatProgressModel",
            "_view_count": null,
            "_view_module": "@jupyter-widgets/controls",
            "_view_module_version": "1.5.0",
            "_view_name": "ProgressView",
            "bar_style": "success",
            "description": "",
            "description_tooltip": null,
            "layout": "IPY_MODEL_b448e9ccd8e14d4f82f228cc573f1b01",
            "max": 5212246,
            "min": 0,
            "orientation": "horizontal",
            "style": "IPY_MODEL_7edd5c16ee5948ee99b013c13784d173",
            "value": 5212246
          }
        },
        "7e49b8abf7234367a5de86c3fb2db593": {
          "model_module": "@jupyter-widgets/controls",
          "model_name": "HTMLModel",
          "model_module_version": "1.5.0",
          "state": {
            "_dom_classes": [],
            "_model_module": "@jupyter-widgets/controls",
            "_model_module_version": "1.5.0",
            "_model_name": "HTMLModel",
            "_view_count": null,
            "_view_module": "@jupyter-widgets/controls",
            "_view_module_version": "1.5.0",
            "_view_name": "HTMLView",
            "description": "",
            "description_tooltip": null,
            "layout": "IPY_MODEL_3e567da5dcc94185879f1ebde2aefbef",
            "placeholder": "​",
            "style": "IPY_MODEL_9c5e37d470e94b29ae8f5df6d5aa6802",
            "value": " 4.97M/4.97M [08:29&lt;00:00, 10.2kB/s]"
          }
        },
        "55c399353c79435185b3ea971ec63a12": {
          "model_module": "@jupyter-widgets/base",
          "model_name": "LayoutModel",
          "model_module_version": "1.2.0",
          "state": {
            "_model_module": "@jupyter-widgets/base",
            "_model_module_version": "1.2.0",
            "_model_name": "LayoutModel",
            "_view_count": null,
            "_view_module": "@jupyter-widgets/base",
            "_view_module_version": "1.2.0",
            "_view_name": "LayoutView",
            "align_content": null,
            "align_items": null,
            "align_self": null,
            "border": null,
            "bottom": null,
            "display": null,
            "flex": null,
            "flex_flow": null,
            "grid_area": null,
            "grid_auto_columns": null,
            "grid_auto_flow": null,
            "grid_auto_rows": null,
            "grid_column": null,
            "grid_gap": null,
            "grid_row": null,
            "grid_template_areas": null,
            "grid_template_columns": null,
            "grid_template_rows": null,
            "height": null,
            "justify_content": null,
            "justify_items": null,
            "left": null,
            "margin": null,
            "max_height": null,
            "max_width": null,
            "min_height": null,
            "min_width": null,
            "object_fit": null,
            "object_position": null,
            "order": null,
            "overflow": null,
            "overflow_x": null,
            "overflow_y": null,
            "padding": null,
            "right": null,
            "top": null,
            "visibility": null,
            "width": null
          }
        },
        "9bab08418ae84d3a959585d4fd8d5bab": {
          "model_module": "@jupyter-widgets/base",
          "model_name": "LayoutModel",
          "model_module_version": "1.2.0",
          "state": {
            "_model_module": "@jupyter-widgets/base",
            "_model_module_version": "1.2.0",
            "_model_name": "LayoutModel",
            "_view_count": null,
            "_view_module": "@jupyter-widgets/base",
            "_view_module_version": "1.2.0",
            "_view_name": "LayoutView",
            "align_content": null,
            "align_items": null,
            "align_self": null,
            "border": null,
            "bottom": null,
            "display": null,
            "flex": null,
            "flex_flow": null,
            "grid_area": null,
            "grid_auto_columns": null,
            "grid_auto_flow": null,
            "grid_auto_rows": null,
            "grid_column": null,
            "grid_gap": null,
            "grid_row": null,
            "grid_template_areas": null,
            "grid_template_columns": null,
            "grid_template_rows": null,
            "height": null,
            "justify_content": null,
            "justify_items": null,
            "left": null,
            "margin": null,
            "max_height": null,
            "max_width": null,
            "min_height": null,
            "min_width": null,
            "object_fit": null,
            "object_position": null,
            "order": null,
            "overflow": null,
            "overflow_x": null,
            "overflow_y": null,
            "padding": null,
            "right": null,
            "top": null,
            "visibility": null,
            "width": null
          }
        },
        "c3a37220e2bf441bb9493f52cc6c627e": {
          "model_module": "@jupyter-widgets/controls",
          "model_name": "DescriptionStyleModel",
          "model_module_version": "1.5.0",
          "state": {
            "_model_module": "@jupyter-widgets/controls",
            "_model_module_version": "1.5.0",
            "_model_name": "DescriptionStyleModel",
            "_view_count": null,
            "_view_module": "@jupyter-widgets/base",
            "_view_module_version": "1.2.0",
            "_view_name": "StyleView",
            "description_width": ""
          }
        },
        "b448e9ccd8e14d4f82f228cc573f1b01": {
          "model_module": "@jupyter-widgets/base",
          "model_name": "LayoutModel",
          "model_module_version": "1.2.0",
          "state": {
            "_model_module": "@jupyter-widgets/base",
            "_model_module_version": "1.2.0",
            "_model_name": "LayoutModel",
            "_view_count": null,
            "_view_module": "@jupyter-widgets/base",
            "_view_module_version": "1.2.0",
            "_view_name": "LayoutView",
            "align_content": null,
            "align_items": null,
            "align_self": null,
            "border": null,
            "bottom": null,
            "display": null,
            "flex": null,
            "flex_flow": null,
            "grid_area": null,
            "grid_auto_columns": null,
            "grid_auto_flow": null,
            "grid_auto_rows": null,
            "grid_column": null,
            "grid_gap": null,
            "grid_row": null,
            "grid_template_areas": null,
            "grid_template_columns": null,
            "grid_template_rows": null,
            "height": null,
            "justify_content": null,
            "justify_items": null,
            "left": null,
            "margin": null,
            "max_height": null,
            "max_width": null,
            "min_height": null,
            "min_width": null,
            "object_fit": null,
            "object_position": null,
            "order": null,
            "overflow": null,
            "overflow_x": null,
            "overflow_y": null,
            "padding": null,
            "right": null,
            "top": null,
            "visibility": null,
            "width": null
          }
        },
        "7edd5c16ee5948ee99b013c13784d173": {
          "model_module": "@jupyter-widgets/controls",
          "model_name": "ProgressStyleModel",
          "model_module_version": "1.5.0",
          "state": {
            "_model_module": "@jupyter-widgets/controls",
            "_model_module_version": "1.5.0",
            "_model_name": "ProgressStyleModel",
            "_view_count": null,
            "_view_module": "@jupyter-widgets/base",
            "_view_module_version": "1.2.0",
            "_view_name": "StyleView",
            "bar_color": null,
            "description_width": ""
          }
        },
        "3e567da5dcc94185879f1ebde2aefbef": {
          "model_module": "@jupyter-widgets/base",
          "model_name": "LayoutModel",
          "model_module_version": "1.2.0",
          "state": {
            "_model_module": "@jupyter-widgets/base",
            "_model_module_version": "1.2.0",
            "_model_name": "LayoutModel",
            "_view_count": null,
            "_view_module": "@jupyter-widgets/base",
            "_view_module_version": "1.2.0",
            "_view_name": "LayoutView",
            "align_content": null,
            "align_items": null,
            "align_self": null,
            "border": null,
            "bottom": null,
            "display": null,
            "flex": null,
            "flex_flow": null,
            "grid_area": null,
            "grid_auto_columns": null,
            "grid_auto_flow": null,
            "grid_auto_rows": null,
            "grid_column": null,
            "grid_gap": null,
            "grid_row": null,
            "grid_template_areas": null,
            "grid_template_columns": null,
            "grid_template_rows": null,
            "height": null,
            "justify_content": null,
            "justify_items": null,
            "left": null,
            "margin": null,
            "max_height": null,
            "max_width": null,
            "min_height": null,
            "min_width": null,
            "object_fit": null,
            "object_position": null,
            "order": null,
            "overflow": null,
            "overflow_x": null,
            "overflow_y": null,
            "padding": null,
            "right": null,
            "top": null,
            "visibility": null,
            "width": null
          }
        },
        "9c5e37d470e94b29ae8f5df6d5aa6802": {
          "model_module": "@jupyter-widgets/controls",
          "model_name": "DescriptionStyleModel",
          "model_module_version": "1.5.0",
          "state": {
            "_model_module": "@jupyter-widgets/controls",
            "_model_module_version": "1.5.0",
            "_model_name": "DescriptionStyleModel",
            "_view_count": null,
            "_view_module": "@jupyter-widgets/base",
            "_view_module_version": "1.2.0",
            "_view_name": "StyleView",
            "description_width": ""
          }
        },
        "147b0c5c88344bfaa1b5dd458d62d0e7": {
          "model_module": "@jupyter-widgets/controls",
          "model_name": "HBoxModel",
          "model_module_version": "1.5.0",
          "state": {
            "_dom_classes": [],
            "_model_module": "@jupyter-widgets/controls",
            "_model_module_version": "1.5.0",
            "_model_name": "HBoxModel",
            "_view_count": null,
            "_view_module": "@jupyter-widgets/controls",
            "_view_module_version": "1.5.0",
            "_view_name": "HBoxView",
            "box_style": "",
            "children": [
              "IPY_MODEL_d84814c8d044455cb6b92a5b5aca9325",
              "IPY_MODEL_9c1e2fed508b435782444c17b9e0554a",
              "IPY_MODEL_8a2425dcf1204b86af56c46277139dc9"
            ],
            "layout": "IPY_MODEL_76498f0aacbd4efb98c2dd4da508ad37"
          }
        },
        "d84814c8d044455cb6b92a5b5aca9325": {
          "model_module": "@jupyter-widgets/controls",
          "model_name": "HTMLModel",
          "model_module_version": "1.5.0",
          "state": {
            "_dom_classes": [],
            "_model_module": "@jupyter-widgets/controls",
            "_model_module_version": "1.5.0",
            "_model_name": "HTMLModel",
            "_view_count": null,
            "_view_module": "@jupyter-widgets/controls",
            "_view_module_version": "1.5.0",
            "_view_name": "HTMLView",
            "description": "",
            "description_tooltip": null,
            "layout": "IPY_MODEL_f9945079bf724ebb88996c894e79f3bb",
            "placeholder": "​",
            "style": "IPY_MODEL_55cd07f695f04ffd951d01b937899155",
            "value": "Clean file pytorch_model.bin: 100%"
          }
        },
        "9c1e2fed508b435782444c17b9e0554a": {
          "model_module": "@jupyter-widgets/controls",
          "model_name": "FloatProgressModel",
          "model_module_version": "1.5.0",
          "state": {
            "_dom_classes": [],
            "_model_module": "@jupyter-widgets/controls",
            "_model_module_version": "1.5.0",
            "_model_name": "FloatProgressModel",
            "_view_count": null,
            "_view_module": "@jupyter-widgets/controls",
            "_view_module_version": "1.5.0",
            "_view_name": "ProgressView",
            "bar_style": "success",
            "description": "",
            "description_tooltip": null,
            "layout": "IPY_MODEL_33775621bcee444b99530acda3c79b2b",
            "max": 1262111921,
            "min": 0,
            "orientation": "horizontal",
            "style": "IPY_MODEL_e426c2ee432a47858a8b4c458254c5a7",
            "value": 1262111921
          }
        },
        "8a2425dcf1204b86af56c46277139dc9": {
          "model_module": "@jupyter-widgets/controls",
          "model_name": "HTMLModel",
          "model_module_version": "1.5.0",
          "state": {
            "_dom_classes": [],
            "_model_module": "@jupyter-widgets/controls",
            "_model_module_version": "1.5.0",
            "_model_name": "HTMLModel",
            "_view_count": null,
            "_view_module": "@jupyter-widgets/controls",
            "_view_module_version": "1.5.0",
            "_view_name": "HTMLView",
            "description": "",
            "description_tooltip": null,
            "layout": "IPY_MODEL_e26939af31a540f18ad6e3181e0ea435",
            "placeholder": "​",
            "style": "IPY_MODEL_6d1d0d3b1c534b5a94640a1a30071615",
            "value": " 1.18G/1.18G [02:43&lt;00:00, 9.20MB/s]"
          }
        },
        "76498f0aacbd4efb98c2dd4da508ad37": {
          "model_module": "@jupyter-widgets/base",
          "model_name": "LayoutModel",
          "model_module_version": "1.2.0",
          "state": {
            "_model_module": "@jupyter-widgets/base",
            "_model_module_version": "1.2.0",
            "_model_name": "LayoutModel",
            "_view_count": null,
            "_view_module": "@jupyter-widgets/base",
            "_view_module_version": "1.2.0",
            "_view_name": "LayoutView",
            "align_content": null,
            "align_items": null,
            "align_self": null,
            "border": null,
            "bottom": null,
            "display": null,
            "flex": null,
            "flex_flow": null,
            "grid_area": null,
            "grid_auto_columns": null,
            "grid_auto_flow": null,
            "grid_auto_rows": null,
            "grid_column": null,
            "grid_gap": null,
            "grid_row": null,
            "grid_template_areas": null,
            "grid_template_columns": null,
            "grid_template_rows": null,
            "height": null,
            "justify_content": null,
            "justify_items": null,
            "left": null,
            "margin": null,
            "max_height": null,
            "max_width": null,
            "min_height": null,
            "min_width": null,
            "object_fit": null,
            "object_position": null,
            "order": null,
            "overflow": null,
            "overflow_x": null,
            "overflow_y": null,
            "padding": null,
            "right": null,
            "top": null,
            "visibility": null,
            "width": null
          }
        },
        "f9945079bf724ebb88996c894e79f3bb": {
          "model_module": "@jupyter-widgets/base",
          "model_name": "LayoutModel",
          "model_module_version": "1.2.0",
          "state": {
            "_model_module": "@jupyter-widgets/base",
            "_model_module_version": "1.2.0",
            "_model_name": "LayoutModel",
            "_view_count": null,
            "_view_module": "@jupyter-widgets/base",
            "_view_module_version": "1.2.0",
            "_view_name": "LayoutView",
            "align_content": null,
            "align_items": null,
            "align_self": null,
            "border": null,
            "bottom": null,
            "display": null,
            "flex": null,
            "flex_flow": null,
            "grid_area": null,
            "grid_auto_columns": null,
            "grid_auto_flow": null,
            "grid_auto_rows": null,
            "grid_column": null,
            "grid_gap": null,
            "grid_row": null,
            "grid_template_areas": null,
            "grid_template_columns": null,
            "grid_template_rows": null,
            "height": null,
            "justify_content": null,
            "justify_items": null,
            "left": null,
            "margin": null,
            "max_height": null,
            "max_width": null,
            "min_height": null,
            "min_width": null,
            "object_fit": null,
            "object_position": null,
            "order": null,
            "overflow": null,
            "overflow_x": null,
            "overflow_y": null,
            "padding": null,
            "right": null,
            "top": null,
            "visibility": null,
            "width": null
          }
        },
        "55cd07f695f04ffd951d01b937899155": {
          "model_module": "@jupyter-widgets/controls",
          "model_name": "DescriptionStyleModel",
          "model_module_version": "1.5.0",
          "state": {
            "_model_module": "@jupyter-widgets/controls",
            "_model_module_version": "1.5.0",
            "_model_name": "DescriptionStyleModel",
            "_view_count": null,
            "_view_module": "@jupyter-widgets/base",
            "_view_module_version": "1.2.0",
            "_view_name": "StyleView",
            "description_width": ""
          }
        },
        "33775621bcee444b99530acda3c79b2b": {
          "model_module": "@jupyter-widgets/base",
          "model_name": "LayoutModel",
          "model_module_version": "1.2.0",
          "state": {
            "_model_module": "@jupyter-widgets/base",
            "_model_module_version": "1.2.0",
            "_model_name": "LayoutModel",
            "_view_count": null,
            "_view_module": "@jupyter-widgets/base",
            "_view_module_version": "1.2.0",
            "_view_name": "LayoutView",
            "align_content": null,
            "align_items": null,
            "align_self": null,
            "border": null,
            "bottom": null,
            "display": null,
            "flex": null,
            "flex_flow": null,
            "grid_area": null,
            "grid_auto_columns": null,
            "grid_auto_flow": null,
            "grid_auto_rows": null,
            "grid_column": null,
            "grid_gap": null,
            "grid_row": null,
            "grid_template_areas": null,
            "grid_template_columns": null,
            "grid_template_rows": null,
            "height": null,
            "justify_content": null,
            "justify_items": null,
            "left": null,
            "margin": null,
            "max_height": null,
            "max_width": null,
            "min_height": null,
            "min_width": null,
            "object_fit": null,
            "object_position": null,
            "order": null,
            "overflow": null,
            "overflow_x": null,
            "overflow_y": null,
            "padding": null,
            "right": null,
            "top": null,
            "visibility": null,
            "width": null
          }
        },
        "e426c2ee432a47858a8b4c458254c5a7": {
          "model_module": "@jupyter-widgets/controls",
          "model_name": "ProgressStyleModel",
          "model_module_version": "1.5.0",
          "state": {
            "_model_module": "@jupyter-widgets/controls",
            "_model_module_version": "1.5.0",
            "_model_name": "ProgressStyleModel",
            "_view_count": null,
            "_view_module": "@jupyter-widgets/base",
            "_view_module_version": "1.2.0",
            "_view_name": "StyleView",
            "bar_color": null,
            "description_width": ""
          }
        },
        "e26939af31a540f18ad6e3181e0ea435": {
          "model_module": "@jupyter-widgets/base",
          "model_name": "LayoutModel",
          "model_module_version": "1.2.0",
          "state": {
            "_model_module": "@jupyter-widgets/base",
            "_model_module_version": "1.2.0",
            "_model_name": "LayoutModel",
            "_view_count": null,
            "_view_module": "@jupyter-widgets/base",
            "_view_module_version": "1.2.0",
            "_view_name": "LayoutView",
            "align_content": null,
            "align_items": null,
            "align_self": null,
            "border": null,
            "bottom": null,
            "display": null,
            "flex": null,
            "flex_flow": null,
            "grid_area": null,
            "grid_auto_columns": null,
            "grid_auto_flow": null,
            "grid_auto_rows": null,
            "grid_column": null,
            "grid_gap": null,
            "grid_row": null,
            "grid_template_areas": null,
            "grid_template_columns": null,
            "grid_template_rows": null,
            "height": null,
            "justify_content": null,
            "justify_items": null,
            "left": null,
            "margin": null,
            "max_height": null,
            "max_width": null,
            "min_height": null,
            "min_width": null,
            "object_fit": null,
            "object_position": null,
            "order": null,
            "overflow": null,
            "overflow_x": null,
            "overflow_y": null,
            "padding": null,
            "right": null,
            "top": null,
            "visibility": null,
            "width": null
          }
        },
        "6d1d0d3b1c534b5a94640a1a30071615": {
          "model_module": "@jupyter-widgets/controls",
          "model_name": "DescriptionStyleModel",
          "model_module_version": "1.5.0",
          "state": {
            "_model_module": "@jupyter-widgets/controls",
            "_model_module_version": "1.5.0",
            "_model_name": "DescriptionStyleModel",
            "_view_count": null,
            "_view_module": "@jupyter-widgets/base",
            "_view_module_version": "1.2.0",
            "_view_name": "StyleView",
            "description_width": ""
          }
        },
        "0b6231636ac449fc81f34b34cfba541a": {
          "model_module": "@jupyter-widgets/controls",
          "model_name": "VBoxModel",
          "model_module_version": "1.5.0",
          "state": {
            "_dom_classes": [],
            "_model_module": "@jupyter-widgets/controls",
            "_model_module_version": "1.5.0",
            "_model_name": "VBoxModel",
            "_view_count": null,
            "_view_module": "@jupyter-widgets/controls",
            "_view_module_version": "1.5.0",
            "_view_name": "VBoxView",
            "box_style": "",
            "children": [
              "IPY_MODEL_137730c6bc7544a4ab064e3a4db19b3d",
              "IPY_MODEL_7e18814c33b44d6ba38dddc929d70c24",
              "IPY_MODEL_3f2e254af3c3475f9125fcb31732c242",
              "IPY_MODEL_5f78215c9e7d42dba36643e65b613853"
            ],
            "layout": "IPY_MODEL_6006becdd120427ea0d3a2b4b3751541"
          }
        },
        "137730c6bc7544a4ab064e3a4db19b3d": {
          "model_module": "@jupyter-widgets/controls",
          "model_name": "HTMLModel",
          "model_module_version": "1.5.0",
          "state": {
            "_dom_classes": [],
            "_model_module": "@jupyter-widgets/controls",
            "_model_module_version": "1.5.0",
            "_model_name": "HTMLModel",
            "_view_count": null,
            "_view_module": "@jupyter-widgets/controls",
            "_view_module_version": "1.5.0",
            "_view_name": "HTMLView",
            "description": "",
            "description_tooltip": null,
            "layout": "IPY_MODEL_3ea6cb4be7b2421d8eeb5a33350a300f",
            "placeholder": "​",
            "style": "IPY_MODEL_43b2607abb4d4e0fa618581758ce3f4f",
            "value": "<center> <img\nsrc=https://huggingface.co/front/assets/huggingface_logo-noborder.svg\nalt='Hugging Face'> <br> Copy a token from <a\nhref=\"https://huggingface.co/settings/tokens\" target=\"_blank\">your Hugging Face\ntokens page</a> and paste it below. <br> Immediately click login after copying\nyour token or it might be stored in plain text in this notebook file. </center>"
          }
        },
        "7e18814c33b44d6ba38dddc929d70c24": {
          "model_module": "@jupyter-widgets/controls",
          "model_name": "PasswordModel",
          "model_module_version": "1.5.0",
          "state": {
            "_dom_classes": [],
            "_model_module": "@jupyter-widgets/controls",
            "_model_module_version": "1.5.0",
            "_model_name": "PasswordModel",
            "_view_count": null,
            "_view_module": "@jupyter-widgets/controls",
            "_view_module_version": "1.5.0",
            "_view_name": "PasswordView",
            "continuous_update": true,
            "description": "Token:",
            "description_tooltip": null,
            "disabled": false,
            "layout": "IPY_MODEL_b10a51cf77e74494b3a3a124d0e72a1e",
            "placeholder": "​",
            "style": "IPY_MODEL_7a982977c5554c32886f888e300d8533",
            "value": ""
          }
        },
        "3f2e254af3c3475f9125fcb31732c242": {
          "model_module": "@jupyter-widgets/controls",
          "model_name": "ButtonModel",
          "model_module_version": "1.5.0",
          "state": {
            "_dom_classes": [],
            "_model_module": "@jupyter-widgets/controls",
            "_model_module_version": "1.5.0",
            "_model_name": "ButtonModel",
            "_view_count": null,
            "_view_module": "@jupyter-widgets/controls",
            "_view_module_version": "1.5.0",
            "_view_name": "ButtonView",
            "button_style": "",
            "description": "Login",
            "disabled": false,
            "icon": "",
            "layout": "IPY_MODEL_09538a5e06704307a6059dcfecc3ce9a",
            "style": "IPY_MODEL_f4abdac1157d4ae1a2ce5f9777a1ee26",
            "tooltip": ""
          }
        },
        "5f78215c9e7d42dba36643e65b613853": {
          "model_module": "@jupyter-widgets/controls",
          "model_name": "HTMLModel",
          "model_module_version": "1.5.0",
          "state": {
            "_dom_classes": [],
            "_model_module": "@jupyter-widgets/controls",
            "_model_module_version": "1.5.0",
            "_model_name": "HTMLModel",
            "_view_count": null,
            "_view_module": "@jupyter-widgets/controls",
            "_view_module_version": "1.5.0",
            "_view_name": "HTMLView",
            "description": "",
            "description_tooltip": null,
            "layout": "IPY_MODEL_76042ca235454966b40ab7f54ca8fffa",
            "placeholder": "​",
            "style": "IPY_MODEL_eb39108b6bab468e9977051e6cb7dc2d",
            "value": "\n<b>Pro Tip:</b> If you don't already have one, you can create a dedicated\n'notebooks' token with 'write' access, that you can then easily reuse for all\nnotebooks. </center>"
          }
        },
        "6006becdd120427ea0d3a2b4b3751541": {
          "model_module": "@jupyter-widgets/base",
          "model_name": "LayoutModel",
          "model_module_version": "1.2.0",
          "state": {
            "_model_module": "@jupyter-widgets/base",
            "_model_module_version": "1.2.0",
            "_model_name": "LayoutModel",
            "_view_count": null,
            "_view_module": "@jupyter-widgets/base",
            "_view_module_version": "1.2.0",
            "_view_name": "LayoutView",
            "align_content": null,
            "align_items": "center",
            "align_self": null,
            "border": null,
            "bottom": null,
            "display": "flex",
            "flex": null,
            "flex_flow": "column",
            "grid_area": null,
            "grid_auto_columns": null,
            "grid_auto_flow": null,
            "grid_auto_rows": null,
            "grid_column": null,
            "grid_gap": null,
            "grid_row": null,
            "grid_template_areas": null,
            "grid_template_columns": null,
            "grid_template_rows": null,
            "height": null,
            "justify_content": null,
            "justify_items": null,
            "left": null,
            "margin": null,
            "max_height": null,
            "max_width": null,
            "min_height": null,
            "min_width": null,
            "object_fit": null,
            "object_position": null,
            "order": null,
            "overflow": null,
            "overflow_x": null,
            "overflow_y": null,
            "padding": null,
            "right": null,
            "top": null,
            "visibility": null,
            "width": "50%"
          }
        },
        "3ea6cb4be7b2421d8eeb5a33350a300f": {
          "model_module": "@jupyter-widgets/base",
          "model_name": "LayoutModel",
          "model_module_version": "1.2.0",
          "state": {
            "_model_module": "@jupyter-widgets/base",
            "_model_module_version": "1.2.0",
            "_model_name": "LayoutModel",
            "_view_count": null,
            "_view_module": "@jupyter-widgets/base",
            "_view_module_version": "1.2.0",
            "_view_name": "LayoutView",
            "align_content": null,
            "align_items": null,
            "align_self": null,
            "border": null,
            "bottom": null,
            "display": null,
            "flex": null,
            "flex_flow": null,
            "grid_area": null,
            "grid_auto_columns": null,
            "grid_auto_flow": null,
            "grid_auto_rows": null,
            "grid_column": null,
            "grid_gap": null,
            "grid_row": null,
            "grid_template_areas": null,
            "grid_template_columns": null,
            "grid_template_rows": null,
            "height": null,
            "justify_content": null,
            "justify_items": null,
            "left": null,
            "margin": null,
            "max_height": null,
            "max_width": null,
            "min_height": null,
            "min_width": null,
            "object_fit": null,
            "object_position": null,
            "order": null,
            "overflow": null,
            "overflow_x": null,
            "overflow_y": null,
            "padding": null,
            "right": null,
            "top": null,
            "visibility": null,
            "width": null
          }
        },
        "43b2607abb4d4e0fa618581758ce3f4f": {
          "model_module": "@jupyter-widgets/controls",
          "model_name": "DescriptionStyleModel",
          "model_module_version": "1.5.0",
          "state": {
            "_model_module": "@jupyter-widgets/controls",
            "_model_module_version": "1.5.0",
            "_model_name": "DescriptionStyleModel",
            "_view_count": null,
            "_view_module": "@jupyter-widgets/base",
            "_view_module_version": "1.2.0",
            "_view_name": "StyleView",
            "description_width": ""
          }
        },
        "b10a51cf77e74494b3a3a124d0e72a1e": {
          "model_module": "@jupyter-widgets/base",
          "model_name": "LayoutModel",
          "model_module_version": "1.2.0",
          "state": {
            "_model_module": "@jupyter-widgets/base",
            "_model_module_version": "1.2.0",
            "_model_name": "LayoutModel",
            "_view_count": null,
            "_view_module": "@jupyter-widgets/base",
            "_view_module_version": "1.2.0",
            "_view_name": "LayoutView",
            "align_content": null,
            "align_items": null,
            "align_self": null,
            "border": null,
            "bottom": null,
            "display": null,
            "flex": null,
            "flex_flow": null,
            "grid_area": null,
            "grid_auto_columns": null,
            "grid_auto_flow": null,
            "grid_auto_rows": null,
            "grid_column": null,
            "grid_gap": null,
            "grid_row": null,
            "grid_template_areas": null,
            "grid_template_columns": null,
            "grid_template_rows": null,
            "height": null,
            "justify_content": null,
            "justify_items": null,
            "left": null,
            "margin": null,
            "max_height": null,
            "max_width": null,
            "min_height": null,
            "min_width": null,
            "object_fit": null,
            "object_position": null,
            "order": null,
            "overflow": null,
            "overflow_x": null,
            "overflow_y": null,
            "padding": null,
            "right": null,
            "top": null,
            "visibility": null,
            "width": null
          }
        },
        "7a982977c5554c32886f888e300d8533": {
          "model_module": "@jupyter-widgets/controls",
          "model_name": "DescriptionStyleModel",
          "model_module_version": "1.5.0",
          "state": {
            "_model_module": "@jupyter-widgets/controls",
            "_model_module_version": "1.5.0",
            "_model_name": "DescriptionStyleModel",
            "_view_count": null,
            "_view_module": "@jupyter-widgets/base",
            "_view_module_version": "1.2.0",
            "_view_name": "StyleView",
            "description_width": ""
          }
        },
        "09538a5e06704307a6059dcfecc3ce9a": {
          "model_module": "@jupyter-widgets/base",
          "model_name": "LayoutModel",
          "model_module_version": "1.2.0",
          "state": {
            "_model_module": "@jupyter-widgets/base",
            "_model_module_version": "1.2.0",
            "_model_name": "LayoutModel",
            "_view_count": null,
            "_view_module": "@jupyter-widgets/base",
            "_view_module_version": "1.2.0",
            "_view_name": "LayoutView",
            "align_content": null,
            "align_items": null,
            "align_self": null,
            "border": null,
            "bottom": null,
            "display": null,
            "flex": null,
            "flex_flow": null,
            "grid_area": null,
            "grid_auto_columns": null,
            "grid_auto_flow": null,
            "grid_auto_rows": null,
            "grid_column": null,
            "grid_gap": null,
            "grid_row": null,
            "grid_template_areas": null,
            "grid_template_columns": null,
            "grid_template_rows": null,
            "height": null,
            "justify_content": null,
            "justify_items": null,
            "left": null,
            "margin": null,
            "max_height": null,
            "max_width": null,
            "min_height": null,
            "min_width": null,
            "object_fit": null,
            "object_position": null,
            "order": null,
            "overflow": null,
            "overflow_x": null,
            "overflow_y": null,
            "padding": null,
            "right": null,
            "top": null,
            "visibility": null,
            "width": null
          }
        },
        "f4abdac1157d4ae1a2ce5f9777a1ee26": {
          "model_module": "@jupyter-widgets/controls",
          "model_name": "ButtonStyleModel",
          "model_module_version": "1.5.0",
          "state": {
            "_model_module": "@jupyter-widgets/controls",
            "_model_module_version": "1.5.0",
            "_model_name": "ButtonStyleModel",
            "_view_count": null,
            "_view_module": "@jupyter-widgets/base",
            "_view_module_version": "1.2.0",
            "_view_name": "StyleView",
            "button_color": null,
            "font_weight": ""
          }
        },
        "76042ca235454966b40ab7f54ca8fffa": {
          "model_module": "@jupyter-widgets/base",
          "model_name": "LayoutModel",
          "model_module_version": "1.2.0",
          "state": {
            "_model_module": "@jupyter-widgets/base",
            "_model_module_version": "1.2.0",
            "_model_name": "LayoutModel",
            "_view_count": null,
            "_view_module": "@jupyter-widgets/base",
            "_view_module_version": "1.2.0",
            "_view_name": "LayoutView",
            "align_content": null,
            "align_items": null,
            "align_self": null,
            "border": null,
            "bottom": null,
            "display": null,
            "flex": null,
            "flex_flow": null,
            "grid_area": null,
            "grid_auto_columns": null,
            "grid_auto_flow": null,
            "grid_auto_rows": null,
            "grid_column": null,
            "grid_gap": null,
            "grid_row": null,
            "grid_template_areas": null,
            "grid_template_columns": null,
            "grid_template_rows": null,
            "height": null,
            "justify_content": null,
            "justify_items": null,
            "left": null,
            "margin": null,
            "max_height": null,
            "max_width": null,
            "min_height": null,
            "min_width": null,
            "object_fit": null,
            "object_position": null,
            "order": null,
            "overflow": null,
            "overflow_x": null,
            "overflow_y": null,
            "padding": null,
            "right": null,
            "top": null,
            "visibility": null,
            "width": null
          }
        },
        "eb39108b6bab468e9977051e6cb7dc2d": {
          "model_module": "@jupyter-widgets/controls",
          "model_name": "DescriptionStyleModel",
          "model_module_version": "1.5.0",
          "state": {
            "_model_module": "@jupyter-widgets/controls",
            "_model_module_version": "1.5.0",
            "_model_name": "DescriptionStyleModel",
            "_view_count": null,
            "_view_module": "@jupyter-widgets/base",
            "_view_module_version": "1.2.0",
            "_view_name": "StyleView",
            "description_width": ""
          }
        }
      }
    },
    "gpuClass": "standard"
  },
  "cells": [
    {
      "cell_type": "markdown",
      "source": [
        "# **Boosting Wav2Vec2 with n-grams in 🤗 Transformers**\n",
        "\n",
        "**Wav2Vec2** is a popular pre-trained model for speech recognition. Released in [September 2020](https://ai.facebook.com/blog/wav2vec-20-learning-the-structure-of-speech-from-raw-audio/) by Meta AI Research, the novel architecture catalyzed progress in self-supervised pretraining for speech recognition, *e.g.* [*G. Ng et al.*, 2021](https://arxiv.org/pdf/2104.03416.pdf), [*Chen et al*, 2021](https://arxiv.org/abs/2110.13900), [*Hsu et al.*, 2021](https://arxiv.org/abs/2106.07447) and [*Babu et al.*, 2021](https://arxiv.org/abs/2111.09296). On the Hugging Face Hub, Wav2Vec2's most popular pre-trained checkpoint currently amounts to over [**250,000** monthly downloads](https://huggingface.co/facebook/wav2vec2-base-960h).\n",
        "\n",
        "Using Connectionist Temporal Classification (CTC), pre-trained Wav2Vec2-like checkpoints are extremely easy to fine-tune on downstream speech recognition tasks.\n",
        "In a nutshell, fine-tuning pre-trained Wav2Vec2 checkpoints works as follows: \n",
        "\n",
        "A single randomly initialized linear layer is stacked on top of the pre-trained checkpoint and trained to classify raw audio input to a sequence of letters. It does so by:\n",
        "\n",
        "1.  extracting audio representations from the raw audio (using CNN layers),\n",
        "2. processing the sequence of audio representations with a stack of transformer layers, and,\n",
        "3. classifying the processed audio representations into a sequence of output letters.\n",
        "\n",
        "Previously audio classification models required an additional language model (LM) and a dictionary to transform the sequence of classified audio frames to a coherent transcription.\n",
        "Wav2Vec2's architecture is based on transformer layers, thus giving each processed audio representation context \n",
        "from all other audio representations. In addition, \n",
        "Wav2Vec2 leverages the [CTC algorithm](https://distill.pub/2017/ctc/) for fine-tuning, which solves the problem of alignment between a varying \"input audio length\"-to-\"output text length\" ratio.\n",
        "\n",
        "Having contextualized audio classifications and no alignment problems, Wav2Vec2 does not require \n",
        "an external language model or dictionary to yield acceptable audio transcriptions.\n",
        "\n",
        "As can be seen in Appendix C of the [official paper](https://arxiv.org/abs/2006.11477), Wav2Vec2 gives impressive downstream performances on [LibriSpeech]((https://huggingface.co/datasets/librispeech_asr)) without using a language model at all. However, from the appendix, it also becomes clear that using Wav2Vec2 in combination with a language model can yield a significant improvement, especially when the model was trained on only 10 minutes of transcribed audio.\n",
        "\n",
        "Until recently, the 🤗 Transformers library did not offer a simple user interface to decode audio files with a fine-tuned Wav2Vec2 **and** a language model. This has thankfully changed. 🤗 Transformers now offers an easy-to-use integration with *Kensho Technologies'* [pyctcdecode library](https://github.com/kensho-technologies/pyctcdecode). This blog post is a step-by-step **technical** guide to explain how one can create an **n-gram** language model and combine it with an existing fine-tuned Wav2Vec2 checkpoint using 🤗 Datasets and 🤗 Transformers.\n",
        "\n",
        "We start by:\n",
        "\n",
        "1. How does decoding audio with an LM differ from decoding audio without an LM?\n",
        "2. How to get suitable data for a language model?\n",
        "3. How to build an *n-gram* with KenLM?\n",
        "4. How to combine the *n-gram* with a fine-tuned Wav2Vec2 checkpoint?\n",
        "\n",
        "For a deep dive into how Wav2Vec2 functions - which is not necessary for this blog post - the reader is advised to consult the following material:\n",
        "\n",
        "- [wav2vec 2.0: A Framework for Self-Supervised Learning of Speech Representations](https://arxiv.org/abs/2006.11477)\n",
        "- [Fine-Tune Wav2Vec2 for English ASR with 🤗 Transformers](https://huggingface.co/blog/fine-tune-wav2vec2-english)\n",
        "- [An Illustrated Tour of Wav2vec 2.0](https://jonathanbgn.com/2021/09/30/illustrated-wav2vec-2.html)"
      ],
      "metadata": {
        "id": "1LrJXl6HY3xO"
      }
    },
    {
      "cell_type": "markdown",
      "source": [
        "## **1. Decoding audio data with Wav2Vec2 and a language model**\n",
        "\n",
        "As shown in 🤗 Transformers [exemple docs of Wav2Vec2](https://huggingface.co/docs/transformers/master/en/model_doc/wav2vec2#transformers.Wav2Vec2ForCTC), audio can be transcribed as follows.\n",
        "\n",
        "We install `datasets` and `transformers` as well as `pyctcdecode` and `kenLM`'s Python bindings to be able to run the language model integration.\n",
        "\n"
      ],
      "metadata": {
        "id": "nu5oeVSvprSp"
      }
    },
    {
      "cell_type": "code",
      "source": [
        "!pip install jiwer"
      ],
      "metadata": {
        "colab": {
          "base_uri": "https://localhost:8080/"
        },
        "id": "RyzOKz3SK6_6",
        "outputId": "38429a9b-5131-4fe5-a630-e9af77975e6c"
      },
      "execution_count": 2,
      "outputs": [
        {
          "output_type": "stream",
          "name": "stdout",
          "text": [
            "Looking in indexes: https://pypi.org/simple, https://us-python.pkg.dev/colab-wheels/public/simple/\n",
            "Requirement already satisfied: jiwer in /usr/local/lib/python3.7/dist-packages (2.5.1)\n",
            "Requirement already satisfied: levenshtein==0.20.2 in /usr/local/lib/python3.7/dist-packages (from jiwer) (0.20.2)\n",
            "Requirement already satisfied: rapidfuzz<3.0.0,>=2.3.0 in /usr/local/lib/python3.7/dist-packages (from levenshtein==0.20.2->jiwer) (2.10.0)\n",
            "Requirement already satisfied: jarowinkler<2.0.0,>=1.2.0 in /usr/local/lib/python3.7/dist-packages (from rapidfuzz<3.0.0,>=2.3.0->levenshtein==0.20.2->jiwer) (1.2.1)\n"
          ]
        }
      ]
    },
    {
      "cell_type": "code",
      "source": [
        "!pip install https://github.com/kpu/kenlm/archive/master.zip \n",
        "!pip install pyctcdecode==0.3.0\n",
        "!pip install datasets #==2.0.0\n",
        "!pip install transformers==4.20.0\n",
        "!pip install urduhack\n",
        "!pip install huggingface_hub\n",
        "!pip install audioread\n",
        "!pip install librosa"
      ],
      "metadata": {
        "id": "OWGc_zfyq5_T"
      },
      "execution_count": null,
      "outputs": []
    },
    {
      "cell_type": "code",
      "source": [
        "!pip install torch==1.11.0 torchaudio==0.11.0 -f https://download.pytorch.org/whl/cu113/torch_stable.html"
      ],
      "metadata": {
        "colab": {
          "base_uri": "https://localhost:8080/"
        },
        "id": "eV42h8Qk_Nqc",
        "outputId": "042cc6aa-b629-4302-d19d-b0c776ff5a21"
      },
      "execution_count": 3,
      "outputs": [
        {
          "output_type": "stream",
          "name": "stdout",
          "text": [
            "Looking in indexes: https://pypi.org/simple, https://us-python.pkg.dev/colab-wheels/public/simple/\n",
            "Looking in links: https://download.pytorch.org/whl/cu113/torch_stable.html\n",
            "Requirement already satisfied: torch==1.11.0 in /usr/local/lib/python3.7/dist-packages (1.11.0+cu113)\n",
            "Requirement already satisfied: torchaudio==0.11.0 in /usr/local/lib/python3.7/dist-packages (0.11.0+cu113)\n",
            "Requirement already satisfied: typing-extensions in /usr/local/lib/python3.7/dist-packages (from torch==1.11.0) (4.1.1)\n"
          ]
        }
      ]
    },
    {
      "cell_type": "code",
      "source": [
        "from huggingface_hub import notebook_login\n",
        "\n",
        "notebook_login()"
      ],
      "metadata": {
        "colab": {
          "base_uri": "https://localhost:8080/",
          "height": 299,
          "referenced_widgets": [
            "0b6231636ac449fc81f34b34cfba541a",
            "137730c6bc7544a4ab064e3a4db19b3d",
            "7e18814c33b44d6ba38dddc929d70c24",
            "3f2e254af3c3475f9125fcb31732c242",
            "5f78215c9e7d42dba36643e65b613853",
            "6006becdd120427ea0d3a2b4b3751541",
            "3ea6cb4be7b2421d8eeb5a33350a300f",
            "43b2607abb4d4e0fa618581758ce3f4f",
            "b10a51cf77e74494b3a3a124d0e72a1e",
            "7a982977c5554c32886f888e300d8533",
            "09538a5e06704307a6059dcfecc3ce9a",
            "f4abdac1157d4ae1a2ce5f9777a1ee26",
            "76042ca235454966b40ab7f54ca8fffa",
            "eb39108b6bab468e9977051e6cb7dc2d"
          ]
        },
        "id": "EnwmooOJ9EZH",
        "outputId": "3448da0e-2c54-41a2-adb9-114f165fb9db"
      },
      "execution_count": 5,
      "outputs": [
        {
          "output_type": "stream",
          "name": "stdout",
          "text": [
            "Login successful\n",
            "Your token has been saved to /root/.huggingface/token\n"
          ]
        }
      ]
    },
    {
      "cell_type": "markdown",
      "source": [
        "Let's load a small excerpt of the [Librispeech dataset](https://huggingface.co/datasets/librispeech_asr) to demonstrate Wav2Vec2's speech transcription capabilities."
      ],
      "metadata": {
        "id": "ZzcM5yC5rICZ"
      }
    },
    {
      "cell_type": "code",
      "source": [
        "!git config --global credential.helper store\n",
        "!apt install git-lfs"
      ],
      "metadata": {
        "colab": {
          "base_uri": "https://localhost:8080/"
        },
        "id": "lj-8mfdDu8BC",
        "outputId": "b54c233e-eae2-4ddb-ba0e-d14a12de3e37"
      },
      "execution_count": 6,
      "outputs": [
        {
          "output_type": "stream",
          "name": "stdout",
          "text": [
            "Reading package lists... Done\n",
            "Building dependency tree       \n",
            "Reading state information... Done\n",
            "git-lfs is already the newest version (2.3.4-1).\n",
            "The following package was automatically installed and is no longer required:\n",
            "  libnvidia-common-460\n",
            "Use 'apt autoremove' to remove it.\n",
            "0 upgraded, 0 newly installed, 0 to remove and 20 not upgraded.\n"
          ]
        }
      ]
    },
    {
      "cell_type": "code",
      "source": [
        "from datasets import load_dataset\n",
        "\n",
        "dataset = load_dataset(\"mozilla-foundation/common_voice_8_0\", \"ur\", split=\"train+validation\", use_auth_token=True)\n",
        "dataset"
      ],
      "metadata": {
        "colab": {
          "base_uri": "https://localhost:8080/"
        },
        "id": "dAerOhydrNFR",
        "outputId": "73795cf6-b7aa-44c6-8459-2a9bcf863cb7"
      },
      "execution_count": 60,
      "outputs": [
        {
          "output_type": "stream",
          "name": "stderr",
          "text": [
            "WARNING:datasets.builder:Found cached dataset common_voice_8_0 (/root/.cache/huggingface/datasets/mozilla-foundation___common_voice_8_0/ur/8.0.0/b2f8b72f8f30b2e98c41ccf855954d9e35a5fa498c43332df198534ff9797a4a)\n"
          ]
        },
        {
          "output_type": "execute_result",
          "data": {
            "text/plain": [
              "Dataset({\n",
              "    features: ['client_id', 'path', 'audio', 'sentence', 'up_votes', 'down_votes', 'age', 'gender', 'accent', 'locale', 'segment'],\n",
              "    num_rows: 810\n",
              "})"
            ]
          },
          "metadata": {},
          "execution_count": 60
        }
      ]
    },
    {
      "cell_type": "code",
      "source": [
        "from datasets import Audio\n",
        "dataset = dataset.cast_column(\"audio\", Audio(sampling_rate=16_000))"
      ],
      "metadata": {
        "id": "Rwc2o7fLvg9N"
      },
      "execution_count": 61,
      "outputs": []
    },
    {
      "cell_type": "code",
      "source": [
        "dataset[0]"
      ],
      "metadata": {
        "colab": {
          "base_uri": "https://localhost:8080/"
        },
        "id": "0Ukcj5dn_JUY",
        "outputId": "7ed8ee22-3ddd-426a-ab1e-84367534e1ed"
      },
      "execution_count": 62,
      "outputs": [
        {
          "output_type": "execute_result",
          "data": {
            "text/plain": [
              "{'client_id': '9b429f257f586530550730449045b59f09cf6f278e7e170f4b93de7114c708d938d51214275a8be24c9f6459e65e792b3a6be8c4fcb6332f2c1a768ed3c5af40',\n",
              " 'path': '/root/.cache/huggingface/datasets/downloads/extracted/a06a0d310e758fb842573373d89f6cf9b011859e285bd5ea4bdb4f4518b9a760/cv-corpus-8.0-2022-01-19/ur/clips/common_voice_ur_26630004.mp3',\n",
              " 'audio': {'path': '/root/.cache/huggingface/datasets/downloads/extracted/a06a0d310e758fb842573373d89f6cf9b011859e285bd5ea4bdb4f4518b9a760/cv-corpus-8.0-2022-01-19/ur/clips/common_voice_ur_26630004.mp3',\n",
              "  'array': array([ 0.000000e+00,  0.000000e+00,  0.000000e+00, ...,  9.434595e-06,\n",
              "         -3.136347e-04, -3.876609e-04], dtype=float32),\n",
              "  'sampling_rate': 16000},\n",
              " 'sentence': 'پر اپنی محنت سے حاصل کیا ہے',\n",
              " 'up_votes': 2,\n",
              " 'down_votes': 0,\n",
              " 'age': 'thirties',\n",
              " 'gender': 'female',\n",
              " 'accent': '',\n",
              " 'locale': 'ur',\n",
              " 'segment': ''}"
            ]
          },
          "metadata": {},
          "execution_count": 62
        }
      ]
    },
    {
      "cell_type": "code",
      "source": [
        "import IPython.display as ipd\n",
        "import numpy as np\n",
        "import random\n",
        "\n",
        "rand_int = random.randint(0, len(dataset)-1)\n",
        "\n",
        "print(dataset[rand_int][\"sentence\"])\n",
        "ipd.Audio(data=dataset[rand_int][\"audio\"][\"array\"], autoplay=True, rate=16000)"
      ],
      "metadata": {
        "colab": {
          "base_uri": "https://localhost:8080/",
          "height": 93
        },
        "id": "ARnRus2Kvq5i",
        "outputId": "c75cd8c0-3535-4d33-c6ff-89e3dab35bb1"
      },
      "execution_count": 63,
      "outputs": [
        {
          "output_type": "stream",
          "name": "stdout",
          "text": [
            "ہر چیز میں ملاوٹ ہے۔\n"
          ]
        },
        {
          "output_type": "execute_result",
          "data": {
            "text/plain": [
              "<IPython.lib.display.Audio object>"
            ],
            "text/html": [
              "\n",
              "                <audio  controls=\"controls\" autoplay=\"autoplay\">\n",
              "                    <source src=\"data:audio/wav;base64,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\" type=\"audio/wav\" />\n",
              "                    Your browser does not support the audio element.\n",
              "                </audio>\n",
              "              "
            ]
          },
          "metadata": {},
          "execution_count": 63
        }
      ]
    },
    {
      "cell_type": "markdown",
      "source": [
        "We can pick one of the 73 audio samples and listen to it."
      ],
      "metadata": {
        "id": "-AkdbAlyrszm"
      }
    },
    {
      "cell_type": "code",
      "source": [
        "list=[]\n",
        "for i in range(0,len(dataset)-1):\n",
        "  x= dataset[i]\n",
        "  y=(x[\"sentence\"])\n",
        "  list.append(x)\n",
        "  "
      ],
      "metadata": {
        "id": "_aCQTfRQ9F_1"
      },
      "execution_count": 64,
      "outputs": []
    },
    {
      "cell_type": "code",
      "source": [
        "import numpy as np\n",
        "Array=np.array(list)\n",
        "Array[1]"
      ],
      "metadata": {
        "colab": {
          "base_uri": "https://localhost:8080/"
        },
        "id": "CkPba0eGBcfb",
        "outputId": "b01439f8-af92-4ed7-c854-aa0cf2102351"
      },
      "execution_count": 65,
      "outputs": [
        {
          "output_type": "execute_result",
          "data": {
            "text/plain": [
              "{'client_id': '9b429f257f586530550730449045b59f09cf6f278e7e170f4b93de7114c708d938d51214275a8be24c9f6459e65e792b3a6be8c4fcb6332f2c1a768ed3c5af40',\n",
              " 'path': '/root/.cache/huggingface/datasets/downloads/extracted/a06a0d310e758fb842573373d89f6cf9b011859e285bd5ea4bdb4f4518b9a760/cv-corpus-8.0-2022-01-19/ur/clips/common_voice_ur_26630005.mp3',\n",
              " 'audio': {'path': '/root/.cache/huggingface/datasets/downloads/extracted/a06a0d310e758fb842573373d89f6cf9b011859e285bd5ea4bdb4f4518b9a760/cv-corpus-8.0-2022-01-19/ur/clips/common_voice_ur_26630005.mp3',\n",
              "  'array': array([0.        , 0.        , 0.        , ..., 0.00018168, 0.00053833,\n",
              "         0.00115278], dtype=float32),\n",
              "  'sampling_rate': 16000},\n",
              " 'sentence': 'جبکہ مصباح الحق اور یونس خان جیسے سینئرز صرف اس لیے اب تک کھیل رہے ہیں',\n",
              " 'up_votes': 2,\n",
              " 'down_votes': 0,\n",
              " 'age': 'thirties',\n",
              " 'gender': 'female',\n",
              " 'accent': '',\n",
              " 'locale': 'ur',\n",
              " 'segment': ''}"
            ]
          },
          "metadata": {},
          "execution_count": 65
        }
      ]
    },
    {
      "cell_type": "code",
      "source": [
        "# import IPython.display as ipd\n",
        "\n",
        "# audio_sample = dataset[6]\n",
        "# print(audio_sample[\"sentence\"])\n",
        "# ipd.Audio(data=audio_sample[\"audio\"][\"array\"], autoplay=True, rate=audio_sample[\"audio\"][\"sampling_rate\"])"
      ],
      "metadata": {
        "id": "pSomT7k_r1QX"
      },
      "execution_count": 249,
      "outputs": []
    },
    {
      "cell_type": "markdown",
      "source": [
        "Having chosen a data sample, we now load the fine-tuned model and processor."
      ],
      "metadata": {
        "id": "ZbBGOqQusdO6"
      }
    },
    {
      "cell_type": "code",
      "source": [
        "from transformers import Wav2Vec2Processor, Wav2Vec2ForCTC\n",
        "\n",
        "processor = Wav2Vec2Processor.from_pretrained(\"BakhtUllah123/xls-r_cv_ur\")\n",
        "model = Wav2Vec2ForCTC.from_pretrained(\"BakhtUllah123/xls-r_cv_ur\")"
      ],
      "metadata": {
        "id": "5FUPvu0crmsY"
      },
      "execution_count": 66,
      "outputs": []
    },
    {
      "cell_type": "markdown",
      "source": [
        "Next, we process the data"
      ],
      "metadata": {
        "id": "7L8Th_yTslta"
      }
    },
    {
      "cell_type": "code",
      "source": [
        "inputs=[]\n",
        "for i in Array:\n",
        "  input=processor(i[\"audio\"][\"array\"], sampling_rate=16_000, return_tensors=\"pt\")\n",
        "  inputs.append(input)"
      ],
      "metadata": {
        "id": "XQVzoQ03CBOk"
      },
      "execution_count": 67,
      "outputs": []
    },
    {
      "cell_type": "code",
      "source": [
        "# inputs = processor(audio_sample[\"audio\"][\"array\"], sampling_rate=16_000, return_tensors=\"pt\")\n",
        "# inputs"
      ],
      "metadata": {
        "id": "6NoMX8qfssuw"
      },
      "execution_count": 252,
      "outputs": []
    },
    {
      "cell_type": "markdown",
      "source": [
        "forward it to the model"
      ],
      "metadata": {
        "id": "xyM2MqwEs1p7"
      }
    },
    {
      "cell_type": "code",
      "source": [
        "import torch\n",
        "logits=[]\n",
        "for i in range(len(inputs)):\n",
        "  with torch.no_grad():\n",
        "    logit = model(**inputs[0]).logits\n",
        "  logits.append(logit)\n",
        "  inputs.remove(inputs[0])"
      ],
      "metadata": {
        "id": "ZOcippx-Cyi-"
      },
      "execution_count": 68,
      "outputs": []
    },
    {
      "cell_type": "code",
      "source": [
        "# import torch\n",
        "\n",
        "# with torch.no_grad():\n",
        "#   logits = model(**inputs).logits"
      ],
      "metadata": {
        "id": "4KWDRrG0s27p"
      },
      "execution_count": null,
      "outputs": []
    },
    {
      "cell_type": "markdown",
      "source": [
        "and decode it"
      ],
      "metadata": {
        "id": "pEHhf_1os4rZ"
      }
    },
    {
      "cell_type": "code",
      "source": [
        "transcriptionsWithoutLM=[]\n",
        "used_logits = logits\n",
        "for i in range(len(logits)):\n",
        "  pred_ids=torch.argmax(logits[0],dim=-1)\n",
        "  transcription=processor.batch_decode(pred_ids)\n",
        "  transcriptionsWithoutLM.append(transcription)\n",
        "  logits.remove(logits[0])\n"
      ],
      "metadata": {
        "id": "RpXtHuLmH_10"
      },
      "execution_count": 69,
      "outputs": []
    },
    {
      "cell_type": "code",
      "source": [
        "WithoutLM=[]\n",
        "for i in range(len(transcriptionsWithoutLM)):\n",
        "  WithoutLM.append(transcriptionsWithoutLM[i][0])"
      ],
      "metadata": {
        "id": "KnR7Amdtoh-Z"
      },
      "execution_count": 70,
      "outputs": []
    },
    {
      "cell_type": "code",
      "source": [
        "# predicted_ids = torch.argmax(logits, dim=-1)\n",
        "# transcription = processor.batch_decode(predicted_ids)\n",
        "\n",
        "# transcription[0].lower()"
      ],
      "metadata": {
        "id": "aJREUIdqs5ak"
      },
      "execution_count": 256,
      "outputs": []
    },
    {
      "cell_type": "markdown",
      "source": [
        "Comparing the transcription to the target transcription above, we can see that some words *sound* correct, but are not *spelled* correctly, *e.g.*:\n",
        "\n",
        "- *christmaus* vs. *christmas*\n",
        "- *rose* vs. *roast*\n",
        "- *simalyis* vs. *similes*\n",
        "\n",
        "Let's see whether combining Wav2Vec2 with an ***n-gram*** lnguage model can help here."
      ],
      "metadata": {
        "id": "ifBW-tM0yWhS"
      }
    },
    {
      "cell_type": "markdown",
      "source": [
        "For demonstration purposes, we have prepared a new model repository [patrickvonplaten/wav2vec2-base-100h-with-lm](https://huggingface.co/patrickvonplaten/wav2vec2-base-100h-with-lm) which contains the same Wav2Vec2 checkpoint but has an additional **4-gram** language model for English.\n",
        "\n",
        "Instead of using `Wav2Vec2Processor`, this time we use `Wav2Vec2ProcessorWithLM` to load the **4-gram** model in addition to the feature extractor and tokenizer."
      ],
      "metadata": {
        "id": "ak_X8SHqzjOY"
      }
    },
    {
      "cell_type": "code",
      "source": [
        "from transformers import Wav2Vec2ProcessorWithLM\n",
        "\n",
        "processor = Wav2Vec2ProcessorWithLM.from_pretrained(\"BakhtUllah123/xls-r_cv_ur\")"
      ],
      "metadata": {
        "id": "UydQ00uI0OEG",
        "outputId": "649559bc-7bba-4666-a100-9046ff1fe093",
        "colab": {
          "base_uri": "https://localhost:8080/"
        }
      },
      "execution_count": 71,
      "outputs": [
        {
          "output_type": "stream",
          "name": "stderr",
          "text": [
            "/usr/local/lib/python3.7/dist-packages/huggingface_hub/utils/_deprecation.py:92: FutureWarning: Deprecated argument(s) used in 'snapshot_download': allow_regex. Will not be supported from version '0.12'.\n",
            "\n",
            "Please use `allow_patterns` and `ignore_patterns` instead.\n",
            "  warnings.warn(message, FutureWarning)\n"
          ]
        }
      ]
    },
    {
      "cell_type": "markdown",
      "source": [
        "In constrast to decoding the audio without language model, the processor now directly receives the model's output `logits` instead of the `argmax(logits)` (called `predicted_ids`) above. The reason is that when decoding with a language model, at each time step, the processor takes the probabilities of all possible output characters into account. Let's take a look at the dimension of the `logits` output."
      ],
      "metadata": {
        "id": "cYZrzLQ02U4y"
      }
    },
    {
      "cell_type": "code",
      "source": [
        "inputs=[]\n",
        "for i in Array:\n",
        "  input=processor(i[\"audio\"][\"array\"], sampling_rate=16_000, return_tensors=\"pt\")\n",
        "  inputs.append(input)\n"
      ],
      "metadata": {
        "id": "9ZuR4QIPr5E8"
      },
      "execution_count": 72,
      "outputs": []
    },
    {
      "cell_type": "code",
      "source": [
        "import torch\n",
        "logits=[]\n",
        "for i in range(len(inputs)):\n",
        "  with torch.no_grad():\n",
        "    logit = model(**inputs[0]).logits\n",
        "  logits.append(logit)\n",
        "  inputs.remove(inputs[0])"
      ],
      "metadata": {
        "id": "ycN-Mu1UrvfL"
      },
      "execution_count": 73,
      "outputs": []
    },
    {
      "cell_type": "code",
      "source": [
        "#logits.shape"
      ],
      "metadata": {
        "id": "WJvldi0C5OaW"
      },
      "execution_count": null,
      "outputs": []
    },
    {
      "cell_type": "markdown",
      "source": [
        "We can see that the `logits` correspond to a sequence of 624 vectors each having 32 entries. Each of the 32 entries thereby stands for the logit probability of one of the 32 possible output characters of the model:"
      ],
      "metadata": {
        "id": "ySU0i3oZ5Vdm"
      }
    },
    {
      "cell_type": "code",
      "source": [
        "\" \".join(sorted(processor.tokenizer.get_vocab()))"
      ],
      "metadata": {
        "colab": {
          "base_uri": "https://localhost:8080/",
          "height": 35
        },
        "id": "rRz0_vm95i6E",
        "outputId": "e4797ac3-dac1-4c4a-c973-537a0c319e73"
      },
      "execution_count": 74,
      "outputs": [
        {
          "output_type": "execute_result",
          "data": {
            "text/plain": [
              "'</s> <s> [PAD] [UNK] | ء ا ب ت ث ج ح خ د ذ ر ز س ش ص ض ط ظ ع غ ف ق ل م ن و ى ي ً ٓ ٹ پ چ ڈ ڑ ژ ک گ ں ھ ہ ی ے'"
            ],
            "application/vnd.google.colaboratory.intrinsic+json": {
              "type": "string"
            }
          },
          "metadata": {},
          "execution_count": 74
        }
      ]
    },
    {
      "cell_type": "markdown",
      "source": [
        "Intuitively, one can understand the decoding process of `Wav2Vec2ProcessorWithLM` as applying beam search through a matrix of size 624 $\\times$ 32 probabilities while leveraging the probabilities of the next letters as given by the *n-gram* language model.\n",
        "\n",
        "OK, let's run the decoding step again. `pyctcdecode` language model decoder does not automatically convert `torch` tensors to `numpy` so we'll have to convert them ourselves before."
      ],
      "metadata": {
        "id": "u60UcdWL5ub-"
      }
    },
    {
      "cell_type": "code",
      "source": [
        "transcriptionWithLM=[]\n",
        "for i in range(len(logits)):\n",
        "  transcription = processor.batch_decode(logits[0].numpy()).text\n",
        "  transcriptionWithLM.append(transcription)\n",
        "  logits.remove(logits[0])\n"
      ],
      "metadata": {
        "id": "STBTD2lpSYBH"
      },
      "execution_count": 75,
      "outputs": []
    },
    {
      "cell_type": "code",
      "source": [
        "transcriptionWithLM[0]"
      ],
      "metadata": {
        "colab": {
          "base_uri": "https://localhost:8080/"
        },
        "id": "WVYT-3eAv0Yk",
        "outputId": "a5488f02-e1df-403c-901b-e2e1174f7826"
      },
      "execution_count": 76,
      "outputs": [
        {
          "output_type": "execute_result",
          "data": {
            "text/plain": [
              "['پر اپنی محنت سے حاصل کیا ہے']"
            ]
          },
          "metadata": {},
          "execution_count": 76
        }
      ]
    },
    {
      "cell_type": "code",
      "source": [
        "WithLM=[]\n",
        "for i in range(len(transcriptionWithLM)):\n",
        "  WithLM.append(transcriptionWithLM[i][0])"
      ],
      "metadata": {
        "id": "YjhvYnT4wG7h"
      },
      "execution_count": 77,
      "outputs": []
    },
    {
      "cell_type": "code",
      "source": [
        "# transcription = processor.batch_decode(logits.numpy()).text\n",
        "# transcription[0].lower()"
      ],
      "metadata": {
        "id": "DFRgWyuUAZI4"
      },
      "execution_count": 261,
      "outputs": []
    },
    {
      "cell_type": "code",
      "source": [
        "from jiwer import wer, cer\n",
        "\n",
        "word_Error_Rate = wer(WithoutLM , WithLM) # computing WER by comparing refrence and prediction sentences\n",
        "Character_Error_Rate = cer(WithoutLM , WithLM)   # computing CER by comparing refrence and prediction sentences\n",
        "\n",
        "print(\"Word error rate is = {}\".format(word_Error_Rate))\n",
        "print(\"Character error rate is = {}\".format(Character_Error_Rate))"
      ],
      "metadata": {
        "colab": {
          "base_uri": "https://localhost:8080/"
        },
        "id": "s4FSl9PgunPJ",
        "outputId": "b19dd985-b1a2-4faf-d5a8-7494e3c955d7"
      },
      "execution_count": 78,
      "outputs": [
        {
          "output_type": "stream",
          "name": "stdout",
          "text": [
            "Word error rate is = 0.03312863606981254\n",
            "Character error rate is = 0.006522774744402507\n"
          ]
        }
      ]
    },
    {
      "cell_type": "markdown",
      "source": [
        "Cool! Recalling the words `facebook/wav2vec2-base-100h` without a language model transcribed incorrectly previously, *e.g.*,\n",
        "\n",
        "> - *christmaus* vs. *christmas*\n",
        "- *rose* vs. *roast*\n",
        "- *simalyis* vs. *similes*\n",
        "\n",
        "we can take another look at the transcription of `facebook/wav2vec2-base-100h` **with** a 4-gram language model. 2 out of 3 errors are corrected; *christmas* and *similes* have been correctly transcribed.\n",
        "\n",
        "Interestingly, the incorrect transcription of *rose* persists. However, this should not surprise us very much. Decoding audio without a language model is much more prone to yield spelling mistakes, such as *christmaus* or *similes* (those words don't exist in the English language as far as I know). This is because the speech recognition system almost solely bases its prediction on the acoustic input it was given and not really on the language modeling context of previous and successive predicted letters ${}^1$. \n",
        "If on the other hand, we add a language model, we can be fairly sure that the speech recognition system will heavily reduce spelling errors since a well-trained *n-gram* model will surely not predict a word that has spelling errors. But the word *rose* is a valid English word and therefore the 4-gram will predict this word with a probability that is not insignificant. \n",
        "\n",
        "The language model on its own most likely does favor the correct word *roast* since the word sequence *roast beef* is much more common in English than *rose beef*. Because the final transcription is derived from a weighted combination of `facebook/wav2vec2-base-100h` output probabilities and those of the *n-gram* language model, it is quite common to see incorrectly transcribed words such as *rose*.\n",
        "\n",
        "For more information on how you can tweak different parameters when decoding with `Wav2Vec2ProcessorWithLM`, please take a look at the official documentation [here](https://huggingface.co/docs/transformers/master/en/model_doc/wav2vec2#transformers.Wav2Vec2ProcessorWithLM.batch_decode).\n",
        "\n",
        "---\n",
        "${}^1$ Some research shows that a model such as `facebook/wav2vec2-base-100h` - when sufficiently large and trained on enough data - can learn language modeling dependencies between intermediate audio representations similar to a language model.\n"
      ],
      "metadata": {
        "id": "E4CiVIftDEMd"
      }
    },
    {
      "cell_type": "markdown",
      "source": [
        "Great, now that you have seen the advantages adding an *n-gram* language model can bring, let's dive into how to create an *n-gram* and `Wav2Vec2ProcessorWithLM` from scratch."
      ],
      "metadata": {
        "id": "9FKW9cqzKMMo"
      }
    },
    {
      "cell_type": "markdown",
      "source": [
        "## **2. Getting data for your language model**\n",
        "\n",
        "A language model that is useful for a speech recognition system should support the acoustic model, *e.g.* Wav2Vec2, in predicting the next word (or token, letter) and therefore model the following distribution:\n",
        "\n",
        "$\\mathbf{P}(w_n | \\mathbf{w}_0^{t-1})$ with $w_n$ being the next word and $\\mathbf{w}_0^{t-1}$ being the sequence of all previous words since the beginning of the utterance. Simply said, the language model should be good at predicting the next word given all previously transcribed words regardless of the audio input given to the speech recognition system.\n",
        "\n",
        "As always a language model is only as good as the data it is trained on. In the case of speech recognition, we should therefore ask ourselves for what kind of data, the speech recognition will be used for: *conversations*, *audiobooks*, *movies*, *speeches*, *, etc*, ...?\n",
        "\n",
        "The language model should be good at modeling language that corresponds to the \n",
        "target transcriptions of the speech recognition system. \n",
        "For demonstration purposes, we assume here that we have fine-tuned a pre-trained [`facebook/wav2vec2-xls-r-300m`](https://huggingface.co/facebook/wav2vec2-xls-r-300m) on [Common Voice 7](https://huggingface.co/datasets/mozilla-foundation/common_voice_7_0) in Swedish. The fine-tuned checkpoint can \n",
        "be found [here](https://huggingface.co/hf-test/xls-r-300m-sv).\n",
        "Common Voice 7 is a relatively crowd-sourced read-out audio dataset and we will evaluate the model on its test data.\n",
        "\n",
        "Let's now look for suitable text data on the Hugging Face Hub. We search all datasets for those [that contain Swedish data](https://huggingface.co/datasets?languages=languages:sv&sort=downloads). \n",
        "Browsing a bit through the datasets, we are looking for a dataset that is similar to Common Voice's read-out audio data. The obvious choices of [oscar](https://huggingface.co/datasets/oscar) and [mc4](https://huggingface.co/datasets/mc4) might not be the most suitable here because they:\n",
        "\n",
        "- are generated from crawling the web, which might not be very clean and correspond well to spoken language\n",
        "- require a lot of pre-processing\n",
        "- are very large which is not ideal for demonstration purposes here 😉\n",
        "\n",
        "A dataset that seems sensible here and which is relatively clean and easy to pre-process is [europarl_bilingual](https://huggingface.co/datasets/europarl_bilingual) as it's a dataset that is based on discussions and talks of the European parliament. It should therefore be relatively clean and correspond well to read-out audio data. The dataset is originally designed for machine translation and can therefore only be accessed in translation pairs. We will only extract the text of the target language, Swedish (`sv`), from the *English-to-Swedish* translations."
      ],
      "metadata": {
        "id": "QEz599PfmPeG"
      }
    },
    {
      "cell_type": "code",
      "source": [
        "from datasets import load_dataset\n",
        "\n",
        "dataset = load_dataset(\"mozilla-foundation/common_voice_8_0\", \"ur\", split=\"train+validation\", use_auth_token=True)\n",
        "dataset"
      ],
      "metadata": {
        "colab": {
          "base_uri": "https://localhost:8080/"
        },
        "id": "XqrK6F72GEJr",
        "outputId": "ebb17712-44a9-4549-b44b-f365ac497ced"
      },
      "execution_count": 28,
      "outputs": [
        {
          "output_type": "stream",
          "name": "stderr",
          "text": [
            "WARNING:datasets.builder:Found cached dataset common_voice_8_0 (/root/.cache/huggingface/datasets/mozilla-foundation___common_voice_8_0/ur/8.0.0/b2f8b72f8f30b2e98c41ccf855954d9e35a5fa498c43332df198534ff9797a4a)\n"
          ]
        }
      ]
    },
    {
      "cell_type": "code",
      "source": [
        "dataset = dataset.remove_columns([\"accent\", \"age\", \"client_id\", \"down_votes\", \"gender\", \"locale\", \"segment\", \"up_votes\",'path', 'audio'])"
      ],
      "metadata": {
        "id": "PnKaHn2a1Z1X"
      },
      "execution_count": 29,
      "outputs": []
    },
    {
      "cell_type": "code",
      "source": [
        "# target_lang=\"sv\"  # change to your target lang"
      ],
      "metadata": {
        "id": "chZw03lUVAnr"
      },
      "execution_count": null,
      "outputs": []
    },
    {
      "cell_type": "code",
      "source": [
        "chars_to_ignore_regex = '[\\۔\\!\\,\\؟\\:\\-\\“\\%\\‘\\’\\”\\،\\\"\\…\\ﷺ\\`\\%\\‘\\’\\”\\'َ\\'ُ\\'ِ\\'ّ\\'ٔ\\'ٰ|]'  # change to the ignored characters of your fine-tuned model"
      ],
      "metadata": {
        "id": "8QwVPMHB1mV0"
      },
      "execution_count": 30,
      "outputs": []
    },
    {
      "cell_type": "code",
      "source": [
        "import re\n",
        "\n",
        "def extract_text(batch):\n",
        "  text = batch[\"sentence\"]\n",
        "  batch[\"text\"] = re.sub(chars_to_ignore_regex, \"\", text.lower())\n",
        "  return batch"
      ],
      "metadata": {
        "id": "UejSrTNv1pT5",
        "colab": {
          "base_uri": "https://localhost:8080/",
          "height": 363
        },
        "outputId": "059bd55e-8256-4752-964f-214d0d28c9e1"
      },
      "execution_count": 31,
      "outputs": [
        {
          "output_type": "display_data",
          "data": {
            "text/plain": [
              "<IPython.core.display.HTML object>"
            ],
            "text/html": [
              "<table border=\"1\" class=\"dataframe\">\n",
              "  <thead>\n",
              "    <tr style=\"text-align: right;\">\n",
              "      <th></th>\n",
              "      <th>sentence</th>\n",
              "    </tr>\n",
              "  </thead>\n",
              "  <tbody>\n",
              "    <tr>\n",
              "      <th>0</th>\n",
              "      <td>پچھلے ہفتے ڈرائیور بیمار تھا۔</td>\n",
              "    </tr>\n",
              "    <tr>\n",
              "      <th>1</th>\n",
              "      <td>وہ اپنی عمر سے چھوٹا لگتا ہے</td>\n",
              "    </tr>\n",
              "    <tr>\n",
              "      <th>2</th>\n",
              "      <td>پڑھے لکھے تو ہیں۔</td>\n",
              "    </tr>\n",
              "    <tr>\n",
              "      <th>3</th>\n",
              "      <td>زندگی سے محبت کرتا ہوں</td>\n",
              "    </tr>\n",
              "    <tr>\n",
              "      <th>4</th>\n",
              "      <td>منٹوں میں آرام مگر آزمائش شرط ہے ۔</td>\n",
              "    </tr>\n",
              "    <tr>\n",
              "      <th>5</th>\n",
              "      <td>آپ یہاں سے یہ کتابچہ مفت حاصل کرسکتے ہیں</td>\n",
              "    </tr>\n",
              "    <tr>\n",
              "      <th>6</th>\n",
              "      <td>ایف بی ار میں چھٹیوں پر پابندی عائد</td>\n",
              "    </tr>\n",
              "    <tr>\n",
              "      <th>7</th>\n",
              "      <td>چوک کراس کیجئے</td>\n",
              "    </tr>\n",
              "    <tr>\n",
              "      <th>8</th>\n",
              "      <td>ان چھ کے ہی آٹھ آملیٹ تیار کر لیں گے</td>\n",
              "    </tr>\n",
              "    <tr>\n",
              "      <th>9</th>\n",
              "      <td>ہاؤس افیکٹ کو نبات خانہ کا اثر</td>\n",
              "    </tr>\n",
              "  </tbody>\n",
              "</table>"
            ]
          },
          "metadata": {}
        }
      ]
    },
    {
      "cell_type": "code",
      "source": [
        "dataset = dataset.map(extract_text)\n",
        "dataset"
      ],
      "metadata": {
        "id": "e6GDWuE81zWu"
      },
      "execution_count": 32,
      "outputs": []
    },
    {
      "cell_type": "code",
      "source": [
        "dataset[4]"
      ],
      "metadata": {
        "id": "KFiSvlbh14_g"
      },
      "execution_count": 33,
      "outputs": []
    },
    {
      "cell_type": "code",
      "source": [
        "from huggingface_hub import notebook_login\n",
        "\n",
        "notebook_login()"
      ],
      "metadata": {
        "id": "Jhjx8azB17zE",
        "colab": {
          "base_uri": "https://localhost:8080/",
          "height": 363
        },
        "outputId": "3b7a9256-badc-46b9-cd5f-768f38f30bb1"
      },
      "execution_count": 34,
      "outputs": [
        {
          "output_type": "display_data",
          "data": {
            "text/plain": [
              "<IPython.core.display.HTML object>"
            ],
            "text/html": [
              "<table border=\"1\" class=\"dataframe\">\n",
              "  <thead>\n",
              "    <tr style=\"text-align: right;\">\n",
              "      <th></th>\n",
              "      <th>sentence</th>\n",
              "    </tr>\n",
              "  </thead>\n",
              "  <tbody>\n",
              "    <tr>\n",
              "      <th>0</th>\n",
              "      <td>کا چیف جسٹس صاحب نے کہا ہے۔</td>\n",
              "    </tr>\n",
              "    <tr>\n",
              "      <th>1</th>\n",
              "      <td>\"کی چینلوں پر براجمان \"\"ماہرین\"\" قومی ٹیم کے پوسٹ مارٹم کا عمل بھی مکمل کر چکے ہیں ۔\"</td>\n",
              "    </tr>\n",
              "    <tr>\n",
              "      <th>2</th>\n",
              "      <td>ان کے لیے ہمدردی رکھتا ہوں جو مچھ سے زیادہ برے حال میں ہیں</td>\n",
              "    </tr>\n",
              "    <tr>\n",
              "      <th>3</th>\n",
              "      <td>لاہور دل کرتا ہے۔</td>\n",
              "    </tr>\n",
              "    <tr>\n",
              "      <th>4</th>\n",
              "      <td>گالیشیائی</td>\n",
              "    </tr>\n",
              "    <tr>\n",
              "      <th>5</th>\n",
              "      <td>سوئس ہائی جرمن</td>\n",
              "    </tr>\n",
              "    <tr>\n",
              "      <th>6</th>\n",
              "      <td>اروبا</td>\n",
              "    </tr>\n",
              "    <tr>\n",
              "      <th>7</th>\n",
              "      <td>اس طرح کی افواہیں پھیلانے</td>\n",
              "    </tr>\n",
              "    <tr>\n",
              "      <th>8</th>\n",
              "      <td>یقینا وہ ہوں۔</td>\n",
              "    </tr>\n",
              "    <tr>\n",
              "      <th>9</th>\n",
              "      <td>وہ جس کو چاہتا ملازمت پر رکھتا</td>\n",
              "    </tr>\n",
              "  </tbody>\n",
              "</table>"
            ]
          },
          "metadata": {}
        }
      ]
    },
    {
      "cell_type": "code",
      "source": [
        "dataset.push_to_hub(f\"Cv_8_processed\", split=\"train\")"
      ],
      "metadata": {
        "id": "FRkXQ9II2Bx1"
      },
      "execution_count": 35,
      "outputs": []
    },
    {
      "cell_type": "markdown",
      "source": [
        "Let's download the data."
      ],
      "metadata": {
        "id": "cOLruPJsVS98"
      }
    },
    {
      "cell_type": "code",
      "source": [
        "# from datasets import load_dataset\n",
        "\n",
        "# dataset = load_dataset(\"europarl_bilingual\", lang1=\"en\", lang2=target_lang, split=\"train\")\n",
        "# dataset"
      ],
      "metadata": {
        "id": "IrAzjWc3Ok2l"
      },
      "execution_count": null,
      "outputs": []
    },
    {
      "cell_type": "markdown",
      "source": [
        "We see that the data is quite large - it has over a million translations. Since it's only text data, it should be relatively easy to process though.\n",
        "\n",
        "Next, let's look at how the data was preprocessed when training the fine-tuned *XLS-R* checkpoint in Swedish. Looking at the [`run.sh` file](https://huggingface.co/hf-test/xls-r-300m-sv/blob/main/run.sh), we can see that the following characters were removed from the official transcriptions:"
      ],
      "metadata": {
        "id": "9eNZuRBxqpo4"
      }
    },
    {
      "cell_type": "code",
      "source": [
        "# chars_to_ignore_regex = '[,?.!\\-\\;\\:\\\"“%‘”�—’…–]'  # change to the ignored characters of your fine-tuned model"
      ],
      "metadata": {
        "id": "xu_ijSi7X4C4"
      },
      "execution_count": null,
      "outputs": []
    },
    {
      "cell_type": "markdown",
      "source": [
        "Let's do the same here so that the alphabet of our language model matches the one of the fine-tuned acoustic checkpoints.\n",
        "\n",
        "We can write a single map function to extract the Swedish text and process it right away."
      ],
      "metadata": {
        "id": "pqSMaIG-rLKG"
      }
    },
    {
      "cell_type": "code",
      "source": [
        "# import re\n",
        "\n",
        "# def extract_text(batch):\n",
        "#     text = batch['sentence']\n",
        "#     audio_array = batch['audio']['array']\n",
        "#     audio_SR = batch['audio']['sampling_rate']\n",
        "#     audio_path = batch['audio']['path']\n",
        "#     path = batch['path']\n",
        "\n",
        "#     batch['text'] = text\n",
        "    \n",
        "#     batch['audio']['array'] = audio_array\n",
        "#     batch['audio']['sampling_rate'] = audio_SR\n",
        "#     batch['audio']['path'] = audio_path\n",
        "\n",
        "#     batch['path'] = path\n",
        "#     return batch\n",
        "#   text = batch[\"translation\"][target_lang]\n",
        "#   batch[\"text\"] = re.sub(chars_to_ignore_regex, \"\", text.lower())\n",
        "#   return batch"
      ],
      "metadata": {
        "id": "WFIU8e8AR3tW"
      },
      "execution_count": null,
      "outputs": []
    },
    {
      "cell_type": "markdown",
      "source": [
        "Let's apply the `.map()` function. This should take roughly 5 minutes."
      ],
      "metadata": {
        "id": "pJ1HrbGBrdUT"
      }
    },
    {
      "cell_type": "code",
      "source": [
        "# dataset = dataset.map(extract_text, remove_columns=dataset.column_names)\n",
        "# dataset"
      ],
      "metadata": {
        "colab": {
          "base_uri": "https://localhost:8080/",
          "height": 118,
          "referenced_widgets": [
            "dd9cd1aee6524becb13acfd6a520c728",
            "e493e383e587479dafb7b6928b894874",
            "24124069f42f4e6bbc35244585f49287",
            "f8d62c8cc778412085d7a518d690a85d",
            "b09817fc0d4649099aa87de2b3fa698f",
            "4e413e8f43fb4a5c81ccb53fda045a9a",
            "0affbc036f8f419c895571c7f5374740",
            "f5c042137a8c49cd9c4f18106ec45fd1",
            "77f79580a2ca4597a3ce1c79c523bd78",
            "e8862c0218bd4db0b6c15f7052cc334d",
            "fe2118508f2840dd8d98d5aaac586e19"
          ]
        },
        "id": "fniFT4aARiBf",
        "outputId": "82529ce9-0da8-4519-f589-da7719056da2"
      },
      "execution_count": null,
      "outputs": [
        {
          "output_type": "display_data",
          "data": {
            "text/plain": [
              "  0%|          | 0/7431 [00:00<?, ?ex/s]"
            ],
            "application/vnd.jupyter.widget-view+json": {
              "version_major": 2,
              "version_minor": 0,
              "model_id": "dd9cd1aee6524becb13acfd6a520c728"
            }
          },
          "metadata": {}
        },
        {
          "output_type": "execute_result",
          "data": {
            "text/plain": [
              "Dataset({\n",
              "    features: ['text'],\n",
              "    num_rows: 7431\n",
              "})"
            ]
          },
          "metadata": {},
          "execution_count": 127
        }
      ]
    },
    {
      "cell_type": "markdown",
      "source": [
        "Great. Our dataset is already finished. Let's upload it to the Hub so that we can inspect and reuse it better.\n",
        "\n",
        "You can log in by executing the following cell."
      ],
      "metadata": {
        "id": "a-S979j9rh43"
      }
    },
    {
      "cell_type": "markdown",
      "source": [
        "Next, we call 🤗 Hugging Face's [`push_to_hub`](https://huggingface.co/docs/datasets/package_reference/main_classes.html?highlight=push#datasets.Dataset.push_to_hub) method to upload the dataset to the repo `\"swedish_corpora_parliament_processed\"`."
      ],
      "metadata": {
        "id": "_93BHiJyrtKa"
      }
    },
    {
      "cell_type": "code",
      "source": [
        "dataset.push_to_hub(f\"Cv_8_processed\", split=\"train\")"
      ],
      "metadata": {
        "colab": {
          "base_uri": "https://localhost:8080/",
          "height": 116,
          "referenced_widgets": [
            "284948e07f1c4190b0afc27b7bad4437",
            "6e75e572c0f04f7090dc5e766698c671",
            "9f46f723c2f64f6e80a669634b8e9d38",
            "cab0d050597e4dcc9503e4fccb2b8232",
            "177bd5a03ee14c9fb4fbd2e03caa9d8c",
            "4cdd7dbbb696498cbdc3ce1ac3bd78d8",
            "752e5a9711e3415bac075eac364cbb21",
            "9819f8432d044e4da4277966c95a7ddc",
            "72c89cc4f14442858d18a9f8ec202a8d",
            "f0fa9ed3ffbc45e1bb047d310a0d1eeb",
            "d926b67f74a14a89b8ea62364a4ea91b",
            "f971e1d747f349d0adf549288849656e",
            "4fbcee2983e049969a9e2ee74145bd06",
            "3fb7a0f3e6a7416cab884315e42f9d65",
            "224c5ffa3e3145829d4057acc7e9c8dc",
            "84c724c5a99d443f8824131d2f87fdba",
            "e19fe2248de9442f95d88ef9e00b2ad6",
            "4e193be69829422480cfe97fcd2daf79",
            "9c9b98dfeff34f2e8b3d948f6676316a",
            "0d3c627521d5483986d591228013dc11",
            "acc21058552c47f6b39d77ec7bdd7acd",
            "230404b015454d508bc4c29e4c0fdb0b"
          ]
        },
        "id": "Lv9qvqXob-HS",
        "outputId": "a4ba12ae-8f4f-419f-d517-0a87befff739"
      },
      "execution_count": null,
      "outputs": [
        {
          "output_type": "display_data",
          "data": {
            "text/plain": [
              "  0%|          | 0/8 [00:00<?, ?ba/s]"
            ],
            "application/vnd.jupyter.widget-view+json": {
              "version_major": 2,
              "version_minor": 0,
              "model_id": "284948e07f1c4190b0afc27b7bad4437"
            }
          },
          "metadata": {}
        },
        {
          "output_type": "display_data",
          "data": {
            "text/plain": [
              "Pushing dataset shards to the dataset hub:   0%|          | 0/1 [00:00<?, ?it/s]"
            ],
            "application/vnd.jupyter.widget-view+json": {
              "version_major": 2,
              "version_minor": 0,
              "model_id": "f971e1d747f349d0adf549288849656e"
            }
          },
          "metadata": {}
        },
        {
          "output_type": "stream",
          "name": "stderr",
          "text": [
            "/usr/local/lib/python3.7/dist-packages/huggingface_hub/hf_api.py:2168: FutureWarning: `identical_ok` has no effect and is deprecated. It will be removed in 0.11.0.\n",
            "  FutureWarning,\n"
          ]
        }
      ]
    },
    {
      "cell_type": "markdown",
      "source": [
        "That was easy! The dataset viewer is automatically enabled when uploading a new dataset, which is very convenient. You can now directly inspect the dataset online. \n",
        "\n",
        "Feel free to look through our preprocessed dataset directly on [`hf-test/sv_corpora_parliament_processed`](https://huggingface.co/datasets/hf-test/sv_corpora_parliament_processed). Even if we are not a native speaker in Swedish, we can see that the data is well processed and seems clean.\n",
        "\n",
        "Next, let's use the data to build a language model."
      ],
      "metadata": {
        "id": "A_lrje4kr6u6"
      }
    },
    {
      "cell_type": "markdown",
      "source": [
        "## **3. Build an *n-gram* with KenLM**\n",
        "\n",
        "While large language models based on the [Transformer architecture](https://jalammar.github.io/illustrated-transformer/) have become the standard in NLP, it is still very common to use an ***n-gram*** LM to boost speech recognition systems - as shown in Section 1.\n",
        "\n",
        "Looking again at Table 9 of Appendix C of the [official Wav2Vec2 paper](https://arxiv.org/abs/2006.11477), it can be noticed that using a *Transformer*-based LM for decoding clearly yields better results than using an *n-gram* model, but the difference between *n-gram* and *Transformer*-based LM is much less significant than the difference between *n-gram* and no LM. \n",
        "\n",
        "*E.g.*, for the large Wav2Vec2 checkpoint that was fine-tuned on 10min only, an *n-gram* reduces the word error rate (WER) compared to no LM by *ca.* 80% while a *Transformer*-based LM *only* reduces the WER by another 23% compared to the *n-gram*. This relative WER reduction becomes less, the more data the acoustic model has been trained on. *E.g.*, for the large checkpoint a *Transformer*-based LM reduces the WER by merely 8% compared to an *n-gram* LM whereas the *n-gram* still yields a 21% WER reduction compared to no language model.\n",
        "\n",
        "The reason why an *n-gram* is preferred over a *Transformer*-based LM is that *n-grams* come at a significantly smaller computational cost. For an *n-gram*, retrieving the probability of a word given previous words is almost only as computationally expensive as querying a look-up table or tree-like data storage - *i.e.* it's very fast compared to modern *Transformer*-based language models that would require a full forward pass to retrieve the next word probabilities.\n",
        "\n",
        "For more information on how *n-grams* function and why they are (still) so useful for speech recognition, the reader is advised to take a look at [this excellent summary](https://web.stanford.edu/~jurafsky/slp3/3.pdf) from Stanford."
      ],
      "metadata": {
        "id": "OHQXHWZIFN6_"
      }
    },
    {
      "cell_type": "markdown",
      "source": [
        "Great, let's see step-by-step how to build an *n-gram*. We will use the popular [KenLM library](https://github.com/kpu/kenlm) to do so. Let's start by installing the Ubuntu library prerequisites:"
      ],
      "metadata": {
        "id": "B4pX7mEXOH_7"
      }
    },
    {
      "cell_type": "code",
      "source": [
        "!sudo apt install build-essential cmake libboost-system-dev libboost-thread-dev libboost-program-options-dev libboost-test-dev libeigen3-dev zlib1g-dev libbz2-dev liblzma-dev"
      ],
      "metadata": {
        "id": "FKMMWfVQp_gP",
        "colab": {
          "base_uri": "https://localhost:8080/"
        },
        "outputId": "c66cb541-09bb-4946-c8a2-498588469262"
      },
      "execution_count": null,
      "outputs": [
        {
          "output_type": "stream",
          "name": "stdout",
          "text": [
            "Reading package lists... Done\n",
            "Building dependency tree       \n",
            "Reading state information... Done\n",
            "build-essential is already the newest version (12.4ubuntu1).\n",
            "libboost-program-options-dev is already the newest version (1.65.1.0ubuntu1).\n",
            "libboost-program-options-dev set to manually installed.\n",
            "libboost-system-dev is already the newest version (1.65.1.0ubuntu1).\n",
            "libboost-system-dev set to manually installed.\n",
            "libboost-thread-dev is already the newest version (1.65.1.0ubuntu1).\n",
            "libboost-thread-dev set to manually installed.\n",
            "libboost-test-dev is already the newest version (1.65.1.0ubuntu1).\n",
            "libboost-test-dev set to manually installed.\n",
            "cmake is already the newest version (3.10.2-1ubuntu2.18.04.2).\n",
            "libbz2-dev is already the newest version (1.0.6-8.1ubuntu0.2).\n",
            "libbz2-dev set to manually installed.\n",
            "liblzma-dev is already the newest version (5.2.2-1.3ubuntu0.1).\n",
            "liblzma-dev set to manually installed.\n",
            "zlib1g-dev is already the newest version (1:1.2.11.dfsg-0ubuntu2.2).\n",
            "zlib1g-dev set to manually installed.\n",
            "The following package was automatically installed and is no longer required:\n",
            "  libnvidia-common-460\n",
            "Use 'sudo apt autoremove' to remove it.\n",
            "Suggested packages:\n",
            "  libeigen3-doc libmrpt-dev\n",
            "The following NEW packages will be installed:\n",
            "  libeigen3-dev\n",
            "0 upgraded, 1 newly installed, 0 to remove and 20 not upgraded.\n",
            "Need to get 810 kB of archives.\n",
            "After this operation, 7,128 kB of additional disk space will be used.\n",
            "Get:1 http://archive.ubuntu.com/ubuntu bionic/universe amd64 libeigen3-dev all 3.3.4-4 [810 kB]\n",
            "Fetched 810 kB in 2s (399 kB/s)\n",
            "debconf: unable to initialize frontend: Dialog\n",
            "debconf: (No usable dialog-like program is installed, so the dialog based frontend cannot be used. at /usr/share/perl5/Debconf/FrontEnd/Dialog.pm line 76, <> line 1.)\n",
            "debconf: falling back to frontend: Readline\n",
            "debconf: unable to initialize frontend: Readline\n",
            "debconf: (This frontend requires a controlling tty.)\n",
            "debconf: falling back to frontend: Teletype\n",
            "dpkg-preconfigure: unable to re-open stdin: \n",
            "Selecting previously unselected package libeigen3-dev.\n",
            "(Reading database ... 155685 files and directories currently installed.)\n",
            "Preparing to unpack .../libeigen3-dev_3.3.4-4_all.deb ...\n",
            "Unpacking libeigen3-dev (3.3.4-4) ...\n",
            "Setting up libeigen3-dev (3.3.4-4) ...\n"
          ]
        }
      ]
    },
    {
      "cell_type": "markdown",
      "source": [
        "before downloading and unpacking the KenLM repo."
      ],
      "metadata": {
        "id": "JzHiJPg6OqvA"
      }
    },
    {
      "cell_type": "code",
      "source": [
        "!wget -O - https://kheafield.com/code/kenlm.tar.gz | tar xz"
      ],
      "metadata": {
        "id": "J8mm4ExzqIaZ",
        "colab": {
          "base_uri": "https://localhost:8080/"
        },
        "outputId": "2b202976-6184-4fdd-8530-fc3d9a7a7c24"
      },
      "execution_count": null,
      "outputs": [
        {
          "output_type": "stream",
          "name": "stdout",
          "text": [
            "--2022-09-11 19:53:28--  https://kheafield.com/code/kenlm.tar.gz\n",
            "Resolving kheafield.com (kheafield.com)... 35.196.63.85\n",
            "Connecting to kheafield.com (kheafield.com)|35.196.63.85|:443... connected.\n",
            "HTTP request sent, awaiting response... 200 OK\n",
            "Length: 491888 (480K) [application/x-gzip]\n",
            "Saving to: ‘STDOUT’\n",
            "\n",
            "-                   100%[===================>] 480.36K   511KB/s    in 0.9s    \n",
            "\n",
            "2022-09-11 19:53:29 (511 KB/s) - written to stdout [491888/491888]\n",
            "\n"
          ]
        }
      ]
    },
    {
      "cell_type": "markdown",
      "source": [
        "KenLM is written in C++, so we'll make use of `cmake` to build the binaries."
      ],
      "metadata": {
        "id": "TKpjSxiDPKK-"
      }
    },
    {
      "cell_type": "code",
      "source": [
        "!mkdir kenlm/build && cd kenlm/build && cmake .. && make -j2\n",
        "!ls kenlm/build/bin"
      ],
      "metadata": {
        "id": "MS4mqMyZqVAI"
      },
      "execution_count": null,
      "outputs": []
    },
    {
      "cell_type": "markdown",
      "source": [
        "Great, as we can see, the executable functions have successfully been built under `kenlm/build/bin/`.\n",
        "\n",
        "KenLM by default computes an *n-gram* with [Kneser-Ney smooting](https://en.wikipedia.org/wiki/Kneser%E2%80%93Ney_smoothing). All text data used to create the *n-gram* is expected to be stored in a text file.\n",
        "We download our dataset and save it as a `.txt` file."
      ],
      "metadata": {
        "id": "N9D7JvVuPTOz"
      }
    },
    {
      "cell_type": "code",
      "source": [
        "from datasets import load_dataset\n",
        "\n",
        "username = \"BakhtUllah123\"  # change to your username\n",
        "\n",
        "dataset = load_dataset(f\"{username}/Cv_8_processed\", split=\"train\")\n",
        "\n",
        "with open(\"text.txt\", \"w\") as file:\n",
        "  file.write(\" \".join(dataset[\"text\"]))"
      ],
      "metadata": {
        "id": "VIgErMqApENm"
      },
      "execution_count": null,
      "outputs": []
    },
    {
      "cell_type": "markdown",
      "source": [
        "Now, we just have to run KenLM's `lmplz` command to build our *n-gram*, called `\"5gram.arpa\"`. As it's relatively common in speech recognition, we build a *5-gram* by passing the `-o 5` parameter.\n",
        "For more information on the different *n-gram* LM that can be built \n",
        "with KenLM, one can take a look at the [official website of KenLM](https://kheafield.com/code/kenlm/).\n",
        "\n",
        "Executing the command below might take a minute or so."
      ],
      "metadata": {
        "id": "5SAQ0NszQyFC"
      }
    },
    {
      "cell_type": "code",
      "source": [
        "\n",
        "!kenlm/build/bin/lmplz -o 2 <\"text.txt\" > \"2gram.arpa\""
      ],
      "metadata": {
        "colab": {
          "base_uri": "https://localhost:8080/"
        },
        "id": "_MdDNBlZrPOm",
        "outputId": "498d315b-d978-4e88-89e8-6d4bc2a309d1"
      },
      "execution_count": null,
      "outputs": [
        {
          "output_type": "stream",
          "name": "stdout",
          "text": [
            "=== 1/5 Counting and sorting n-grams ===\n",
            "Reading /content/text.txt\n",
            "----5---10---15---20---25---30---35---40---45---50---55---60---65---70---75---80---85---90---95--100\n",
            "tcmalloc: large alloc 1917870080 bytes == 0x557861b1c000 @  0x7f7d6f1301e7 0x5578602ea7e2 0x5578602854fe 0x5578602642eb 0x557860250066 0x7f7d6d2c9c87 0x557860251baa\n",
            "tcmalloc: large alloc 8950054912 bytes == 0x5578d4022000 @  0x7f7d6f1301e7 0x5578602ea7e2 0x5578602d980a 0x5578602da248 0x557860264308 0x557860250066 0x7f7d6d2c9c87 0x557860251baa\n",
            "****************************************************************************************************\n",
            "Unigram tokens 61314 types 9307\n",
            "=== 2/5 Calculating and sorting adjusted counts ===\n",
            "Chain sizes: 1:111684 2:1062729408 3:1992617856 4:3188188416 5:4649441792\n",
            "tcmalloc: large alloc 4649443328 bytes == 0x557861b1c000 @  0x7f7d6f1301e7 0x5578602ea7e2 0x5578602d980a 0x5578602da248 0x5578602648d7 0x557860250066 0x7f7d6d2c9c87 0x557860251baa\n",
            "tcmalloc: large alloc 1992622080 bytes == 0x5579b62ce000 @  0x7f7d6f1301e7 0x5578602ea7e2 0x5578602d980a 0x5578602da248 0x557860264cdd 0x557860250066 0x7f7d6d2c9c87 0x557860251baa\n",
            "tcmalloc: large alloc 3188195328 bytes == 0x557aea03e000 @  0x7f7d6f1301e7 0x5578602ea7e2 0x5578602d980a 0x5578602da248 0x557860264cdd 0x557860250066 0x7f7d6d2c9c87 0x557860251baa\n",
            "Statistics:\n",
            "1 9306 D1=0.64923 D2=1.06755 D3+=1.45772\n",
            "2 41626 D1=0.839646 D2=1.20618 D3+=1.45205\n",
            "3 56650 D1=0.949991 D2=1.45809 D3+=1.84892\n",
            "4 59488 D1=0.98229 D2=1.76691 D3+=2.25159\n",
            "5 60134 D1=0.967654 D2=1.73529 D3+=2.91399\n",
            "Memory estimate for binary LM:\n",
            "type      kB\n",
            "probing 4990 assuming -p 1.5\n",
            "probing 5951 assuming -r models -p 1.5\n",
            "trie    2339 without quantization\n",
            "trie    1272 assuming -q 8 -b 8 quantization \n",
            "trie    2168 assuming -a 22 array pointer compression\n",
            "trie    1101 assuming -a 22 -q 8 -b 8 array pointer compression and quantization\n",
            "=== 3/5 Calculating and sorting initial probabilities ===\n",
            "Chain sizes: 1:111672 2:666016 3:1133000 4:1427712 5:1683752\n",
            "----5---10---15---20---25---30---35---40---45---50---55---60---65---70---75---80---85---90---95--100\n",
            "####################################################################################################\n",
            "=== 4/5 Calculating and writing order-interpolated probabilities ===\n",
            "Chain sizes: 1:111672 2:666016 3:1133000 4:1427712 5:1683752\n",
            "----5---10---15---20---25---30---35---40---45---50---55---60---65---70---75---80---85---90---95--100\n",
            "####################################################################################################\n",
            "=== 5/5 Writing ARPA model ===\n",
            "----5---10---15---20---25---30---35---40---45---50---55---60---65---70---75---80---85---90---95--100\n",
            "****************************************************************************************************\n",
            "Name:lmplz\tVmPeak:14176856 kB\tVmRSS:1904964 kB\tRSSMax:1911524 kB\tuser:0.354485\tsys:1.21165\tCPU:1.56618\treal:1.54339\n"
          ]
        }
      ]
    },
    {
      "cell_type": "markdown",
      "source": [
        "Great, we have built a *5-gram* LM! Let's inspect the first couple of lines."
      ],
      "metadata": {
        "id": "1_58ktqcTBYi"
      }
    },
    {
      "cell_type": "code",
      "source": [
        "!head -20 2gram.arpa"
      ],
      "metadata": {
        "colab": {
          "base_uri": "https://localhost:8080/"
        },
        "id": "TRnV8Miusl--",
        "outputId": "3b9191fc-e185-4279-e170-ca2d201ed629"
      },
      "execution_count": null,
      "outputs": [
        {
          "output_type": "stream",
          "name": "stdout",
          "text": [
            "\\data\\\n",
            "ngram 1=9306\n",
            "ngram 2=41626\n",
            "ngram 3=56650\n",
            "ngram 4=59488\n",
            "ngram 5=60134\n",
            "\n",
            "\\1-grams:\n",
            "-4.6481605\t<unk>\t0\n",
            "0\t<s>\t-0.07590369\n",
            "-4.3479195\tکروڑوں\t-0.07590369\n",
            "-3.4586525\tبچے\t-0.10982248\n",
            "-2.796686\tہر\t-0.21666135\n",
            "-4.509916\tروزسکول\t-0.07590369\n",
            "-2.859862\tجا\t-0.4558612\n",
            "-4.225242\tتے\t-0.07590369\n",
            "-2.3087177\tہیں۔\t-0.23515454\n",
            "-1.7079524\tمیں\t-0.25884476\n",
            "-2.7358274\tاپنی\t-0.11986762\n",
            "-4.07802\tخواہشات\t-0.16625261\n"
          ]
        }
      ]
    },
    {
      "cell_type": "markdown",
      "source": [
        "There is a small problem that 🤗 Transformers will not be happy about later on.\n",
        "The *5-gram* correctly includes a \"Unknown\" or `<unk>`, as well as a *begin-of-sentence*, `<s>` token, but no *end-of-sentence*, `</s>` token.\n",
        "This sadly has to be corrected currently after the build.\n",
        "\n",
        "We can simply add the *end-of-sentence* token by adding the line `0 </s>  -0.11831701` below the *begin-of-sentence* token and increasing the `ngram 1` count by 1. Because the file has roughly 100 million lines, this command will take *ca.* 2 minutes."
      ],
      "metadata": {
        "id": "l3jfwr2RTKPn"
      }
    },
    {
      "cell_type": "code",
      "source": [
        "with open(\"2gram.arpa\", \"r\") as read_file, open(\"2gram_correct.arpa\", \"w\") as write_file:\n",
        "  has_added_eos = False\n",
        "  for line in read_file:\n",
        "    if not has_added_eos and \"ngram 1=\" in line:\n",
        "      count=line.strip().split(\"=\")[-1]\n",
        "      write_file.write(line.replace(f\"{count}\", f\"{int(count)+1}\"))\n",
        "    elif not has_added_eos and \"<s>\" in line:\n",
        "      write_file.write(line)\n",
        "      write_file.write(line.replace(\"<s>\", \"</s>\"))\n",
        "      has_added_eos = True\n",
        "    else:\n",
        "      write_file.write(line)"
      ],
      "metadata": {
        "id": "_7u7dVPkvyRZ"
      },
      "execution_count": null,
      "outputs": []
    },
    {
      "cell_type": "markdown",
      "source": [
        "Let's now inspect the corrected *5-gram*."
      ],
      "metadata": {
        "id": "u9Y8uC3VW5vc"
      }
    },
    {
      "cell_type": "code",
      "source": [
        "!head -20 2gram_correct.arpa"
      ],
      "metadata": {
        "colab": {
          "base_uri": "https://localhost:8080/"
        },
        "id": "YF1RSm-Pxst5",
        "outputId": "4ddce4e6-0756-4c9d-8927-3160fe8e7b00"
      },
      "execution_count": null,
      "outputs": [
        {
          "output_type": "stream",
          "name": "stdout",
          "text": [
            "\\data\\\n",
            "ngram 1=9307\n",
            "ngram 2=41626\n",
            "ngram 3=56650\n",
            "ngram 4=59488\n",
            "ngram 5=60134\n",
            "\n",
            "\\1-grams:\n",
            "-4.6481605\t<unk>\t0\n",
            "0\t<s>\t-0.07590369\n",
            "0\t</s>\t-0.07590369\n",
            "-4.3479195\tکروڑوں\t-0.07590369\n",
            "-3.4586525\tبچے\t-0.10982248\n",
            "-2.796686\tہر\t-0.21666135\n",
            "-4.509916\tروزسکول\t-0.07590369\n",
            "-2.859862\tجا\t-0.4558612\n",
            "-4.225242\tتے\t-0.07590369\n",
            "-2.3087177\tہیں۔\t-0.23515454\n",
            "-1.7079524\tمیں\t-0.25884476\n",
            "-2.7358274\tاپنی\t-0.11986762\n"
          ]
        }
      ]
    },
    {
      "cell_type": "markdown",
      "source": [
        "Great, this looks better! We're done at this point and all that is left to do is to correctly integrate the `\"ngram\"` with [`pyctcdecode`](https://github.com/kensho-technologies/pyctcdecode) and 🤗 Transformers."
      ],
      "metadata": {
        "id": "m7NfKtyjXCiE"
      }
    },
    {
      "cell_type": "markdown",
      "source": [
        "## **4. Combine an *n-gram* with Wav2Vec2**"
      ],
      "metadata": {
        "id": "kPImHXzDG8aH"
      }
    },
    {
      "cell_type": "markdown",
      "source": [
        "In a final step, we want to wrap the *5-gram* into a `Wav2Vec2ProcessorWithLM` object to make the *5-gram* boosted decoding as seamless as shown in Section 1.\n",
        "We start by downloading the currently \"LM-less\" processor of [`xls-r-300m-sv`](https://huggingface.co/hf-test/xls-r-300m-sv)."
      ],
      "metadata": {
        "id": "kfZ7qYvMXfSV"
      }
    },
    {
      "cell_type": "code",
      "source": [
        "from transformers import AutoProcessor\n",
        "\n",
        "processor = AutoProcessor.from_pretrained(\"BakhtUllah123/xls-r_cv_ur\")"
      ],
      "metadata": {
        "id": "paV71gdAtkDC",
        "colab": {
          "base_uri": "https://localhost:8080/",
          "height": 234,
          "referenced_widgets": [
            "b281b93678ba4742bc093c6203d11d7d",
            "e6a9d94e72954190b4a983d2ce1f61bf",
            "d20dc9e68c424432bd51b0cf60cfa10b",
            "add6d220e7a2458684b267fd3c37202a",
            "f361bb0b419a441497c6592a288a132a",
            "5d1495263bf040f8bb48d0a4f6f49ef7",
            "48b587e66d0d41e585b7ab574db56840",
            "ea48ecf15ddf48fca30ce9f6f3eda071",
            "22c36579b1a045a981213b874a4cee24",
            "65a8b18611654927ac3812e5f3857490",
            "d63d4b37d38f44679b0a96a53f457966",
            "be3d8914dcc34018aeb39ac8cd548434",
            "4260d67155a44f539444baf7fd98806f",
            "1fd21621e50f4a8782741f62bccadeac",
            "6805486628e740d5901b7e45456c9513",
            "ac747f6641534211aeb8135e66ee5e8c",
            "a426592f70884e108a48f4ef2ad3faea",
            "88d2c2a3cc504f5faa00861f725e2b38",
            "7994e449a0644467831c1d269c478528",
            "3da5aa0d231f4d1dadaa1be92d4693e4",
            "e6b18cb1aa0a4023b4386ee05783892a",
            "00d6975acee84661a60f22b76ab53bdd",
            "86087aef5d804dbeafc6c358ffa28341",
            "4c711964eb6f4e63a31777f5182d76c9",
            "cbd61557cc6640e2a4afabe5a1162b0a",
            "d3f6254d5a1f4fd081e42a40ff0b199f",
            "8ea7d41f40aa42dc8f85c9a072e8ed04",
            "f9ee0b43254248cca9a5760222b8a565",
            "fd544babd6c341429cc308f907f120b5",
            "fb21a6fcb3054c3d838e836f20fab868",
            "f1382ad09c664fcaab06cd6fe392d30e",
            "9a715445216e47b98ae36aab1153cea4",
            "1c7adbbf08e94721a71500cae87a43a8",
            "038fcc6973604f4aaa87aac20100a664",
            "ee3181889ef548d6bc3147f0f99cb759",
            "479c2e2d215045cb9050554492d4262d",
            "f6479c7f7ebf4f0aa6495a0546e666f3",
            "191e8657a3fc468686ed499f28f241ab",
            "b0ba9f4c5b05457bb0c34c7dac44cee3",
            "55be6c152ed84b54a68ec1d43ed947b4",
            "36077ece2ba04c18bbd445df4e2626db",
            "4f66271e0ed64090908bef0b39b07c6b",
            "c8147cc5672c447ea6667696b6320f3e",
            "3f58533473384998a8605e902505e922"
          ]
        },
        "outputId": "6fffdfb9-f6d2-4b6d-e3bf-1bc8bea896ca"
      },
      "execution_count": null,
      "outputs": [
        {
          "output_type": "stream",
          "name": "stderr",
          "text": [
            "/usr/local/lib/python3.7/dist-packages/huggingface_hub/utils/_deprecation.py:92: FutureWarning: Deprecated argument(s) used in 'snapshot_download': allow_regex. Will not be supported from version '0.12'.\n",
            "\n",
            "Please use `allow_patterns` and `ignore_patterns` instead.\n",
            "  warnings.warn(message, FutureWarning)\n"
          ]
        },
        {
          "output_type": "display_data",
          "data": {
            "text/plain": [
              "Downloading:   0%|          | 0.00/528 [00:00<?, ?B/s]"
            ],
            "application/vnd.jupyter.widget-view+json": {
              "version_major": 2,
              "version_minor": 0,
              "model_id": "b281b93678ba4742bc093c6203d11d7d"
            }
          },
          "metadata": {}
        },
        {
          "output_type": "display_data",
          "data": {
            "text/plain": [
              "Downloading:   0%|          | 0.00/5.21M [00:00<?, ?B/s]"
            ],
            "application/vnd.jupyter.widget-view+json": {
              "version_major": 2,
              "version_minor": 0,
              "model_id": "be3d8914dcc34018aeb39ac8cd548434"
            }
          },
          "metadata": {}
        },
        {
          "output_type": "display_data",
          "data": {
            "text/plain": [
              "Downloading:   0%|          | 0.00/78.0 [00:00<?, ?B/s]"
            ],
            "application/vnd.jupyter.widget-view+json": {
              "version_major": 2,
              "version_minor": 0,
              "model_id": "86087aef5d804dbeafc6c358ffa28341"
            }
          },
          "metadata": {}
        },
        {
          "output_type": "display_data",
          "data": {
            "text/plain": [
              "Downloading:   0%|          | 0.00/101k [00:00<?, ?B/s]"
            ],
            "application/vnd.jupyter.widget-view+json": {
              "version_major": 2,
              "version_minor": 0,
              "model_id": "038fcc6973604f4aaa87aac20100a664"
            }
          },
          "metadata": {}
        }
      ]
    },
    {
      "cell_type": "markdown",
      "source": [
        "Next, we extract the vocabulary of its tokenizer as it represents the `\"labels\"` of `pyctcdecode`'s `BeamSearchDecoder` class."
      ],
      "metadata": {
        "id": "sT0pDUmdYOx6"
      }
    },
    {
      "cell_type": "code",
      "source": [
        "vocab_dict = processor.tokenizer.get_vocab()\n",
        "sorted_vocab_dict = {k.lower(): v for k, v in sorted(vocab_dict.items(), key=lambda item: item[1])}"
      ],
      "metadata": {
        "id": "ZKwKxMoitoGS"
      },
      "execution_count": null,
      "outputs": []
    },
    {
      "cell_type": "markdown",
      "source": [
        "The `\"labels\"` and the previously built `5gram_correct.arpa` file is all that's needed to build the decoder. "
      ],
      "metadata": {
        "id": "o-jUBzFXYyCZ"
      }
    },
    {
      "cell_type": "code",
      "source": [
        "from pyctcdecode import build_ctcdecoder\n",
        "\n",
        "decoder = build_ctcdecoder(\n",
        "    labels=list(sorted_vocab_dict.keys()),\n",
        "    kenlm_model_path=\"2gram_correct.arpa\",\n",
        ")"
      ],
      "metadata": {
        "colab": {
          "base_uri": "https://localhost:8080/"
        },
        "id": "zTLzCLB2tQP7",
        "outputId": "42f8695f-4939-413f-8bfe-2a482fb653bf"
      },
      "execution_count": null,
      "outputs": [
        {
          "output_type": "stream",
          "name": "stderr",
          "text": [
            "WARNING:pyctcdecode.alphabet:Found entries of length > 1 in alphabet. This is unusual unless style is BPE, but the alphabet was not recognized as BPE type. Is this correct?\n",
            "WARNING:pyctcdecode.alphabet:Unigrams and labels don't seem to agree.\n"
          ]
        }
      ]
    },
    {
      "cell_type": "markdown",
      "source": [
        "We can safely ignore the warning and all that is left to do now is to wrap the just created `decoder`, together with the processor's `tokenizer` and `feature_extractor` into a `Wav2Vec2ProcessorWithLM` class."
      ],
      "metadata": {
        "id": "IzJYQsSdZQ4-"
      }
    },
    {
      "cell_type": "code",
      "source": [
        "from transformers import Wav2Vec2ProcessorWithLM\n",
        "\n",
        "processor_with_lm = Wav2Vec2ProcessorWithLM(\n",
        "    feature_extractor=processor.feature_extractor,\n",
        "    tokenizer=processor.tokenizer,\n",
        "    decoder=decoder\n",
        ")"
      ],
      "metadata": {
        "id": "VBVf50EzZgAQ"
      },
      "execution_count": null,
      "outputs": []
    },
    {
      "cell_type": "markdown",
      "source": [
        "We want to directly upload the LM-boosted processor into \n",
        "the model folder of [`xls-r-300m-sv`](https://huggingface.co/hf-test/xls-r-300m-sv) to have all relevant files in one place.\n",
        "\n",
        "Let's clone the repo, add the new decoder files and upload them afterward.\n",
        "First, we need to install `git-lfs`."
      ],
      "metadata": {
        "id": "enhS2VRNZ79c"
      }
    },
    {
      "cell_type": "code",
      "source": [
        "!sudo apt-get install git-lfs tree"
      ],
      "metadata": {
        "id": "BZZm3ECc5TMP",
        "colab": {
          "base_uri": "https://localhost:8080/"
        },
        "outputId": "0cad2742-eaf9-41bc-a778-5279f1f786fe"
      },
      "execution_count": null,
      "outputs": [
        {
          "output_type": "stream",
          "name": "stdout",
          "text": [
            "Reading package lists... Done\n",
            "Building dependency tree       \n",
            "Reading state information... Done\n",
            "git-lfs is already the newest version (2.3.4-1).\n",
            "The following package was automatically installed and is no longer required:\n",
            "  libnvidia-common-460\n",
            "Use 'sudo apt autoremove' to remove it.\n",
            "The following NEW packages will be installed:\n",
            "  tree\n",
            "0 upgraded, 1 newly installed, 0 to remove and 20 not upgraded.\n",
            "Need to get 40.7 kB of archives.\n",
            "After this operation, 105 kB of additional disk space will be used.\n",
            "Get:1 http://archive.ubuntu.com/ubuntu bionic/universe amd64 tree amd64 1.7.0-5 [40.7 kB]\n",
            "Fetched 40.7 kB in 1s (46.1 kB/s)\n",
            "debconf: unable to initialize frontend: Dialog\n",
            "debconf: (No usable dialog-like program is installed, so the dialog based frontend cannot be used. at /usr/share/perl5/Debconf/FrontEnd/Dialog.pm line 76, <> line 1.)\n",
            "debconf: falling back to frontend: Readline\n",
            "debconf: unable to initialize frontend: Readline\n",
            "debconf: (This frontend requires a controlling tty.)\n",
            "debconf: falling back to frontend: Teletype\n",
            "dpkg-preconfigure: unable to re-open stdin: \n",
            "Selecting previously unselected package tree.\n",
            "(Reading database ... 156244 files and directories currently installed.)\n",
            "Preparing to unpack .../tree_1.7.0-5_amd64.deb ...\n",
            "Unpacking tree (1.7.0-5) ...\n",
            "Setting up tree (1.7.0-5) ...\n",
            "Processing triggers for man-db (2.8.3-2ubuntu0.1) ...\n"
          ]
        }
      ]
    },
    {
      "cell_type": "markdown",
      "source": [
        "Cloning and uploading of modeling files can be done conveniently with the `huggingface_hub`'s `Repository` class. \n",
        "\n",
        "More information on how to use the `huggingface_hub` to upload any files, please take a look at the [official docs](https://huggingface.co/docs/hub/how-to-upstream)."
      ],
      "metadata": {
        "id": "bvo2rUbfa367"
      }
    },
    {
      "cell_type": "code",
      "source": [
        "from huggingface_hub import Repository\n",
        "\n",
        "repo = Repository(local_dir=\"xls-r-53_ur\", clone_from=\"BakhtUllah123/xls-r_cv_ur\")"
      ],
      "metadata": {
        "colab": {
          "base_uri": "https://localhost:8080/",
          "height": 372,
          "referenced_widgets": [
            "f7390893f7204966ba56efa02f2fe3ae",
            "f1897227328d4071858f023bd92bd586",
            "804b8d63065a4dddaa5912b11074a6e6",
            "c101a968e6784ff1a0687c1d84f65a0e",
            "e7e0e77501ea4f23a883d0565d084c14",
            "8589305b678141d89fcbc6e7e2fa5090",
            "a7632e140b8a4aef98ccb1b213918b07",
            "c27bd5df3fd849f2927737cf47920d07",
            "ffa796e29eea44219a6d6ae0a7824a0b",
            "4931c3d26aa24a79bda4be6a3f62f932",
            "c373356474184369ab6065340321fea0",
            "30fa24cec4264b1ab68a69e4bc7a42b0",
            "8bdb8c75376b4999b80a3bbc0630c915",
            "13a0cd8cdd114e3396f9eafcbaf0ba40",
            "ce94041d63d8412ead6c1b7cd7965c0f",
            "5b8b2eadaf9c4792a1e6688d79481fa7",
            "094dd0bd1bfb45d6af15a60150d5e084",
            "9a1ec7b52f1940cfb15ca65b28afaaf7",
            "f02cd1d7d3544174a541a3bb75eabc0f",
            "99b19a9a9fb1486a97bcafd947ea0f2a",
            "4c0069f974bf4647a08ee8f81a195247",
            "2ac6b5c64cad466380f133685fde80c0",
            "86734b197dd545c28b74e74c7826cfef",
            "591ce24e81f34291b0cd595b81faac45",
            "fa2c2a6f04284bc493013a43066cf2cf",
            "044b8f19ecc44c16a6598c428ef9cb32",
            "b39ca8686502485f917b0aa966859edf",
            "5d031a72e9ba4d8fb7a74f8ed40d4eaa",
            "221dbb61eb4f4645980b224f4dbc2ba7",
            "967c117ffafc4cfead529eb1d9cfa415",
            "05ca23eb0780488c912877075990c8c6",
            "f84e3f972f8b4d009996f1e3a1a37bd3",
            "19760c0b88a84663946a64668542a054",
            "7502cc5b04964f5fbfa5c53e6c4a3f72",
            "77ded7c07059415a9ea5b120ae67638c",
            "f19c1f31a59045a7a9d99b7cadc30e49",
            "5b0a835d71dd4d7aa2fcda2922ddde0b",
            "eeb383f64b404106aa394156ebc11c05",
            "9780ca74eee943eb9e86c6b66940b3e0",
            "45a761a0cf274ffbac1c5edbfcf8045b",
            "891e1b325f8d4739bb4c6355815ac8af",
            "aa24d4b2828e436dad76d95a60edcd00",
            "60b13129d0ca436b9d6a3852336f82b6",
            "1def76f106824390825fca48228354c8",
            "edb46c8c5c1a4b2aa07d4fdce0051447",
            "d8728b03e2e7499691c40ef4b8a20296",
            "3c3773fc82a0403ba81e554048c1d15b",
            "3d1055181784418189fcc3f5ae8f07dc",
            "5ddbaa6b531b435982d1c52a96bce726",
            "d05268650d8b449faa75b4899970905d",
            "2ff5bc61618f4c3fba4f82abe27fc30e",
            "b14f0069712f4f3f9b2ae8b5d19fdc31",
            "49b847b879ef44f7ab3eb8e018b6a360",
            "147f03b7c93447f09d4ef89e73f0c05a",
            "87a95b22099d4214af833b7f424ae4fb",
            "82ad2f51b97340d5af6c0370ef6ed7dc",
            "7a53bc9abcb846a483fd623037e9e769",
            "d2b25064eaef49cd870d15df241c2474",
            "a7622036ae44471d94726ea0ed0a8634",
            "f6d49065d1044c1ea5632d454e7fa72c",
            "99e322973af245378537fbcad0931141",
            "d4d882c587e34310a38f6df9c866c9f6",
            "bf37aee30e3f41ce90589def075349a3",
            "09ae96abffa74a3ba9c956218cafb7d4",
            "9564ae9a84a94592ae99fe674011144d",
            "1e02c930a6f14fef912ef233d7ebd5d3",
            "f65ad726c27b4383add82a4516e6fe3a",
            "7378e6edf990448e80e6e4479441b16d",
            "6443541447f84d2d86cdfaa8875bd602",
            "8cbf9becf9254a559cffe6ab3adf739e",
            "eb53448ebc98401a9e578c960e70e635",
            "a3d9457300a1451dbb4017ab602f7c2c",
            "98c49ba098e642ee9c8271a4987f826f",
            "3cc62e71452f4a5d8f00279a2bed171d",
            "61e904ae6d35452dabf543e2e467eb21",
            "ebf080d79b534211903416b95cbfac4c",
            "cbb8f89e776043c3b3435dbe6bceccd0",
            "1425b75b678646099c87ab569e0493df",
            "5fba3adebd0343cb98bd1565113c58c5",
            "cfaeec6ddf92491e9932d24afe8bb65f",
            "215fdfb384c247ee9f5f3d63a25d0176",
            "dfdb28affa094bd0b0c44fb4bf98db21",
            "f8b49415867b420d9bae81cac7f64d69",
            "2693855de5b04cd0acf47822f6df3e5d",
            "afd5e594598549588da20653c292d3a8",
            "d5960e9ed8c548068e4ada03f8624c85",
            "746e734aa7ea45d081e041e1b4b7e057",
            "be67e4ca797541ea9f9887ad2a1d88ac",
            "1f91b10ac42044fca5790980c53dd215",
            "b3d073f7e5ee45a68a39bb9f33d628f2",
            "61c9d7e99f4741589ddd7deab2f227cb",
            "7e49b8abf7234367a5de86c3fb2db593",
            "55c399353c79435185b3ea971ec63a12",
            "9bab08418ae84d3a959585d4fd8d5bab",
            "c3a37220e2bf441bb9493f52cc6c627e",
            "b448e9ccd8e14d4f82f228cc573f1b01",
            "7edd5c16ee5948ee99b013c13784d173",
            "3e567da5dcc94185879f1ebde2aefbef",
            "9c5e37d470e94b29ae8f5df6d5aa6802",
            "147b0c5c88344bfaa1b5dd458d62d0e7",
            "d84814c8d044455cb6b92a5b5aca9325",
            "9c1e2fed508b435782444c17b9e0554a",
            "8a2425dcf1204b86af56c46277139dc9",
            "76498f0aacbd4efb98c2dd4da508ad37",
            "f9945079bf724ebb88996c894e79f3bb",
            "55cd07f695f04ffd951d01b937899155",
            "33775621bcee444b99530acda3c79b2b",
            "e426c2ee432a47858a8b4c458254c5a7",
            "e26939af31a540f18ad6e3181e0ea435",
            "6d1d0d3b1c534b5a94640a1a30071615"
          ]
        },
        "id": "fIfcunhF4YM6",
        "outputId": "b8015f30-e24d-4f88-ea89-c7de83c9b5c2"
      },
      "execution_count": null,
      "outputs": [
        {
          "output_type": "stream",
          "name": "stderr",
          "text": [
            "Cloning https://huggingface.co/omar47/wav2vec2-large-xls-r-300m-urdu-cv-10 into local empty directory.\n",
            "WARNING:huggingface_hub.repository:Cloning https://huggingface.co/omar47/wav2vec2-large-xls-r-300m-urdu-cv-10 into local empty directory.\n"
          ]
        },
        {
          "output_type": "display_data",
          "data": {
            "text/plain": [
              "Download file pytorch_model.bin:   0%|          | 1.51k/1.18G [00:00<?, ?B/s]"
            ],
            "application/vnd.jupyter.widget-view+json": {
              "version_major": 2,
              "version_minor": 0,
              "model_id": "f7390893f7204966ba56efa02f2fe3ae"
            }
          },
          "metadata": {}
        },
        {
          "output_type": "display_data",
          "data": {
            "text/plain": [
              "Download file runs/Aug07_11-52-33_13eca4db5f87/1659873280.2154987/events.out.tfevents.1659873280.13eca4db5f87.…"
            ],
            "application/vnd.jupyter.widget-view+json": {
              "version_major": 2,
              "version_minor": 0,
              "model_id": "30fa24cec4264b1ab68a69e4bc7a42b0"
            }
          },
          "metadata": {}
        },
        {
          "output_type": "display_data",
          "data": {
            "text/plain": [
              "Download file runs/Aug07_11-52-33_13eca4db5f87/events.out.tfevents.1659873280.13eca4db5f87.71.0:   6%|5       …"
            ],
            "application/vnd.jupyter.widget-view+json": {
              "version_major": 2,
              "version_minor": 0,
              "model_id": "86734b197dd545c28b74e74c7826cfef"
            }
          },
          "metadata": {}
        },
        {
          "output_type": "display_data",
          "data": {
            "text/plain": [
              "Download file training_args.bin: 100%|##########| 3.30k/3.30k [00:00<?, ?B/s]"
            ],
            "application/vnd.jupyter.widget-view+json": {
              "version_major": 2,
              "version_minor": 0,
              "model_id": "7502cc5b04964f5fbfa5c53e6c4a3f72"
            }
          },
          "metadata": {}
        },
        {
          "output_type": "display_data",
          "data": {
            "text/plain": [
              "Download file language_model/5gram.bin:   0%|          | 15.5k/4.97M [00:00<?, ?B/s]"
            ],
            "application/vnd.jupyter.widget-view+json": {
              "version_major": 2,
              "version_minor": 0,
              "model_id": "edb46c8c5c1a4b2aa07d4fdce0051447"
            }
          },
          "metadata": {}
        },
        {
          "output_type": "display_data",
          "data": {
            "text/plain": [
              "Clean file runs/Aug07_11-52-33_13eca4db5f87/1659873280.2154987/events.out.tfevents.1659873280.13eca4db5f87.71.…"
            ],
            "application/vnd.jupyter.widget-view+json": {
              "version_major": 2,
              "version_minor": 0,
              "model_id": "82ad2f51b97340d5af6c0370ef6ed7dc"
            }
          },
          "metadata": {}
        },
        {
          "output_type": "display_data",
          "data": {
            "text/plain": [
              "Clean file training_args.bin:  30%|###       | 1.00k/3.30k [00:00<?, ?B/s]"
            ],
            "application/vnd.jupyter.widget-view+json": {
              "version_major": 2,
              "version_minor": 0,
              "model_id": "f65ad726c27b4383add82a4516e6fe3a"
            }
          },
          "metadata": {}
        },
        {
          "output_type": "display_data",
          "data": {
            "text/plain": [
              "Clean file runs/Aug07_11-52-33_13eca4db5f87/events.out.tfevents.1659873280.13eca4db5f87.71.0:   3%|3         |…"
            ],
            "application/vnd.jupyter.widget-view+json": {
              "version_major": 2,
              "version_minor": 0,
              "model_id": "1425b75b678646099c87ab569e0493df"
            }
          },
          "metadata": {}
        },
        {
          "output_type": "display_data",
          "data": {
            "text/plain": [
              "Clean file language_model/5gram.bin:   0%|          | 1.00k/4.97M [00:00<?, ?B/s]"
            ],
            "application/vnd.jupyter.widget-view+json": {
              "version_major": 2,
              "version_minor": 0,
              "model_id": "1f91b10ac42044fca5790980c53dd215"
            }
          },
          "metadata": {}
        },
        {
          "output_type": "display_data",
          "data": {
            "text/plain": [
              "Clean file pytorch_model.bin:   0%|          | 1.00k/1.18G [00:00<?, ?B/s]"
            ],
            "application/vnd.jupyter.widget-view+json": {
              "version_major": 2,
              "version_minor": 0,
              "model_id": "147b0c5c88344bfaa1b5dd458d62d0e7"
            }
          },
          "metadata": {}
        }
      ]
    },
    {
      "cell_type": "markdown",
      "source": [
        "Having cloned `xls-r-300m-sv`, let's save the new processor with LM into it."
      ],
      "metadata": {
        "id": "OaD20PvHbakc"
      }
    },
    {
      "cell_type": "code",
      "source": [
        "processor_with_lm.save_pretrained(\"xls-r-53_ur\")"
      ],
      "metadata": {
        "id": "UZ1sWfPH2oce"
      },
      "execution_count": null,
      "outputs": []
    },
    {
      "cell_type": "markdown",
      "source": [
        "Let's inspect the local repository. The `tree` command conveniently can also show the size of the different files."
      ],
      "metadata": {
        "id": "TnkJ0iXvcITB"
      }
    },
    {
      "cell_type": "code",
      "source": [
        "!tree -h xls-r-53_ur/"
      ],
      "metadata": {
        "colab": {
          "base_uri": "https://localhost:8080/"
        },
        "id": "ClyENOYFcC_C",
        "outputId": "09616057-f64b-4e94-bcfd-6ba8aad2682e"
      },
      "execution_count": null,
      "outputs": [
        {
          "output_type": "stream",
          "name": "stdout",
          "text": [
            "xls-r-300m-ur/\n",
            "├── [  30]  added_tokens.json\n",
            "├── [ 528]  alphabet.json\n",
            "├── [2.0K]  config.json\n",
            "├── [4.0K]  language_model\n",
            "│   ├── [ 11M]  5gram_correct.arpa\n",
            "│   ├── [  78]  attrs.json\n",
            "│   └── [ 99K]  unigrams.txt\n",
            "├── [ 262]  preprocessor_config.json\n",
            "├── [1.2G]  pytorch_model.bin\n",
            "├── [5.0K]  README.md\n",
            "├── [4.0K]  runs\n",
            "│   └── [4.0K]  Aug07_11-52-33_13eca4db5f87\n",
            "│       ├── [4.0K]  1659873280.2154987\n",
            "│       │   └── [5.3K]  events.out.tfevents.1659873280.13eca4db5f87.71.1\n",
            "│       └── [ 33K]  events.out.tfevents.1659873280.13eca4db5f87.71.0\n",
            "├── [ 952]  special_tokens_map.json\n",
            "├── [ 414]  tokenizer_config.json\n",
            "├── [3.3K]  training_args.bin\n",
            "└── [ 597]  vocab.json\n",
            "\n",
            "4 directories, 15 files\n"
          ]
        }
      ]
    },
    {
      "cell_type": "markdown",
      "source": [
        "As can be seen the *5-gram* LM is quite large - it amounts to more than 4 GB.\n",
        "To reduce the size of the *n-gram* and make loading faster, `kenLM` allows converting `.arpa` files to binary ones using the `build_binary` executable.\n",
        "\n",
        "Let's make use of it here."
      ],
      "metadata": {
        "id": "kIRC6UcOcRMP"
      }
    },
    {
      "cell_type": "code",
      "source": [
        "!kenlm/build/bin/build_binary xls-r-53_ur/language_model/2gram_correct.arpa xls-r-53_ur/language_model/2gram.bin"
      ],
      "metadata": {
        "colab": {
          "base_uri": "https://localhost:8080/"
        },
        "id": "X9qg4FPt2zi8",
        "outputId": "c53dd352-a550-41ea-e986-5b20f2b7487f"
      },
      "execution_count": null,
      "outputs": [
        {
          "output_type": "stream",
          "name": "stdout",
          "text": [
            "Reading xls-r-300m-ur/language_model/5gram_correct.arpa\n",
            "----5---10---15---20---25---30---35---40---45---50---55---60---65---70---75---80---85---90---95--100\n",
            "****************************************************************************************************\n",
            "SUCCESS\n"
          ]
        }
      ]
    },
    {
      "cell_type": "markdown",
      "source": [
        "Great, it worked! Let's remove the `.arpa` file and check the size of the binary *5-gram* LM."
      ],
      "metadata": {
        "id": "fY2M8k2KdCNM"
      }
    },
    {
      "cell_type": "code",
      "source": [
        "!rm xls-r-53_ur/language_model/2gram_correct.arpa && tree -h xls-r-53_ur/"
      ],
      "metadata": {
        "colab": {
          "base_uri": "https://localhost:8080/"
        },
        "id": "Zn4J-4OZdMPc",
        "outputId": "55511665-ec1c-480b-b3e2-083bb5c1cca5"
      },
      "execution_count": null,
      "outputs": [
        {
          "output_type": "stream",
          "name": "stdout",
          "text": [
            "xls-r-300m-ur/\n",
            "├── [  30]  added_tokens.json\n",
            "├── [ 528]  alphabet.json\n",
            "├── [2.0K]  config.json\n",
            "├── [4.0K]  language_model\n",
            "│   ├── [5.0M]  5gram.bin\n",
            "│   ├── [  78]  attrs.json\n",
            "│   └── [ 99K]  unigrams.txt\n",
            "├── [ 262]  preprocessor_config.json\n",
            "├── [1.2G]  pytorch_model.bin\n",
            "├── [5.0K]  README.md\n",
            "├── [4.0K]  runs\n",
            "│   └── [4.0K]  Aug07_11-52-33_13eca4db5f87\n",
            "│       ├── [4.0K]  1659873280.2154987\n",
            "│       │   └── [5.3K]  events.out.tfevents.1659873280.13eca4db5f87.71.1\n",
            "│       └── [ 33K]  events.out.tfevents.1659873280.13eca4db5f87.71.0\n",
            "├── [ 952]  special_tokens_map.json\n",
            "├── [ 414]  tokenizer_config.json\n",
            "├── [3.3K]  training_args.bin\n",
            "└── [ 597]  vocab.json\n",
            "\n",
            "4 directories, 15 files\n"
          ]
        }
      ]
    },
    {
      "cell_type": "markdown",
      "source": [
        "Nice, we reduced the *n-gram* by more than half to less than 2GB now. In the final step, let's upload all files."
      ],
      "metadata": {
        "id": "4g112tF_dgIc"
      }
    },
    {
      "cell_type": "code",
      "source": [
        "repo.push_to_hub(commit_message=\"Upload lm- decoder\")"
      ],
      "metadata": {
        "id": "WEV1sx6ee3aT"
      },
      "execution_count": null,
      "outputs": []
    },
    {
      "cell_type": "markdown",
      "source": [
        "That's it. Now you should be able to use the *5gram* for LM-boosted decoding as shown in Section 1.\n",
        "\n",
        "As can be seen on [`xls-r-300m-sv`'s model card](https://huggingface.co/hf-test/xls-r-300m-sv#inference-with-lm) our *5gram* LM-boosted decoder yields a WER of 18.85% on Common Voice's 7 test set which is a relative performance of *ca.* 30% 🔥."
      ],
      "metadata": {
        "id": "gUPAx3_MdyQv"
      }
    }
  ]
}